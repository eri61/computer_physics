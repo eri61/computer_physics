{
 "cells": [
  {
   "cell_type": "code",
   "execution_count": 3,
   "metadata": {},
   "outputs": [],
   "source": [
    "import numpy as np\n",
    "import scipy\n",
    "import importlib\n",
    "\n",
    "import differential_module\n",
    "importlib.reload(differential_module)\n",
    "from differential_module import make_differential_ops"
   ]
  },
  {
   "cell_type": "code",
   "execution_count": 8,
   "metadata": {},
   "outputs": [],
   "source": [
    "import numpy as np\n",
    "from scipy.sparse import csr_matrix as sparse_matrix\n",
    "\n",
    "# scipy.sparse.csr_matrix\n",
    "# https://docs.scipy.org/doc/scipy/reference/generated/scipy.sparse.csr_matrix.html\n",
    "\n",
    "# make differential operator with accuracy=4\n",
    "dv1 = make_differential_ops(1, 4, 1000, 0.01)\n",
    "dv3 = make_differential_ops(3, 4, 1000, 0.01)"
   ]
  }
 ],
 "metadata": {
  "kernelspec": {
   "display_name": "Python 3.10.6 ('.ve3.10')",
   "language": "python",
   "name": "python3"
  },
  "language_info": {
   "codemirror_mode": {
    "name": "ipython",
    "version": 3
   },
   "file_extension": ".py",
   "mimetype": "text/x-python",
   "name": "python",
   "nbconvert_exporter": "python",
   "pygments_lexer": "ipython3",
   "version": "3.10.8"
  },
  "orig_nbformat": 4,
  "vscode": {
   "interpreter": {
    "hash": "f49dad2fa96a98eccf6aeb277d0ccdc3aa9f7d175af33d60f3b372ee310fb90d"
   }
  }
 },
 "nbformat": 4,
 "nbformat_minor": 2
}
