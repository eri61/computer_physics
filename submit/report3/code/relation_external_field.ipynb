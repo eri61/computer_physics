{
 "cells": [
  {
   "cell_type": "code",
   "execution_count": 3,
   "metadata": {},
   "outputs": [],
   "source": [
    "import numpy as np\n",
    "from importlib import reload\n",
    "\n",
    "import monte_carlo\n",
    "import main\n",
    "import mesurement\n",
    "reload(monte_carlo)\n",
    "reload(main)\n",
    "reload(mesurement)\n",
    "from monte_carlo import *\n",
    "from main import main, mc_plot_m"
   ]
  },
  {
   "attachments": {},
   "cell_type": "markdown",
   "metadata": {},
   "source": [
    "## テスト"
   ]
  },
  {
   "cell_type": "code",
   "execution_count": 15,
   "metadata": {},
   "outputs": [
    {
     "name": "stdout",
     "output_type": "stream",
     "text": [
      "\n",
      "================\n",
      "T = 0.5\n",
      "Initializing MC...\n",
      "Warming up...\n",
      "  obtained data shape: (10, 1)\n",
      "\n",
      "================\n",
      "T = 1.0\n",
      "Initializing MC...\n",
      "Warming up...\n",
      "  obtained data shape: (10, 1)\n",
      "\n",
      "================\n",
      "T = 1.5\n",
      "Initializing MC...\n",
      "Warming up...\n",
      "  obtained data shape: (10, 1)\n",
      "\n",
      "================\n",
      "T = 2.0\n",
      "Initializing MC...\n",
      "Warming up...\n",
      "  obtained data shape: (10, 1)\n",
      "\n",
      "================\n",
      "T = 2.5\n",
      "Initializing MC...\n",
      "Warming up...\n",
      "  obtained data shape: (10, 1)\n",
      "\n",
      "================\n",
      "T = 3.0\n",
      "Initializing MC...\n",
      "Warming up...\n",
      "  obtained data shape: (10, 1)\n",
      "\n",
      "================\n",
      "T = 3.5\n",
      "Initializing MC...\n",
      "Warming up...\n",
      "  obtained data shape: (10, 1)\n",
      "\n",
      "================\n",
      "T = 4.0\n",
      "Initializing MC...\n",
      "Warming up...\n",
      "  obtained data shape: (10, 1)\n",
      "\n",
      "================\n",
      "T = 4.5\n",
      "Initializing MC...\n",
      "Warming up...\n",
      "  obtained data shape: (10, 1)\n",
      "\n",
      "================\n",
      "T = 5.0\n",
      "Initializing MC...\n",
      "Warming up...\n",
      "  obtained data shape: (10, 1)\n",
      "\n",
      "================\n",
      "finish\n",
      "Output results into './data/external_field/test.dat'\n",
      "(10, 5)\n"
     ]
    },
    {
     "data": {
      "image/png": "[encoded data removed]",
      "text/plain": [
       "<Figure size 432x288 with 1 Axes>"
      ]
     },
     "metadata": {
      "needs_background": "light"
     },
     "output_type": "display_data"
    }
   ],
   "source": [
    "param = {\"system\": (5, 5, 5), \"filename\": \"./data/external_field/test.dat\", \"nt\": 100, \"tmax\": 5, \"h\": -3.}\n",
    "main(**param)\n",
    "mc_plot_m(param[\"filename\"])"
   ]
  },
  {
   "cell_type": "code",
   "execution_count": 15,
   "metadata": {},
   "outputs": [
    {
     "name": "stdout",
     "output_type": "stream",
     "text": [
      "\n",
      "================\n",
      "T = 0.5\n",
      "Initializing MC...\n",
      "Warming up...\n",
      "  obtained data shape: (10, 1)\n",
      "mean: [1.]\n",
      "std : [0.]\n",
      "data shape:((1, 4), (0, 4))\n",
      "\n",
      "================\n",
      "T = 1.0\n",
      "Initializing MC...\n",
      "Warming up...\n",
      "  obtained data shape: (10, 1)\n",
      "mean: [0.9999952]\n",
      "std : [7.33212111e-06]\n",
      "data shape:((1, 4), (1, 4))\n",
      "\n",
      "================\n",
      "T = 1.5\n",
      "Initializing MC...\n",
      "Warming up...\n",
      "  obtained data shape: (10, 1)\n",
      "mean: [0.9993472]\n",
      "std : [7.18398218e-05]\n",
      "data shape:((1, 4), (2, 4))\n",
      "\n",
      "================\n",
      "T = 2.0\n",
      "Initializing MC...\n",
      "Warming up...\n",
      "  obtained data shape: (10, 1)\n",
      "mean: [0.9944928]\n",
      "std : [0.00028395]\n",
      "data shape:((1, 4), (3, 4))\n",
      "\n",
      "================\n",
      "T = 2.5\n",
      "Initializing MC...\n",
      "Warming up...\n",
      "  obtained data shape: (10, 1)\n",
      "mean: [0.9794304]\n",
      "std : [0.00085785]\n",
      "data shape:((1, 4), (4, 4))\n",
      "\n",
      "================\n",
      "T = 3.0\n",
      "Initializing MC...\n",
      "Warming up...\n",
      "  obtained data shape: (10, 1)\n",
      "mean: [0.9456896]\n",
      "std : [0.00099605]\n",
      "data shape:((1, 4), (5, 4))\n",
      "\n",
      "================\n",
      "T = 3.5\n",
      "Initializing MC...\n",
      "Warming up...\n",
      "  obtained data shape: (10, 1)\n",
      "mean: [0.8798176]\n",
      "std : [0.00242218]\n",
      "data shape:((1, 4), (6, 4))\n",
      "\n",
      "================\n",
      "T = 4.0\n",
      "Initializing MC...\n",
      "Warming up...\n",
      "  obtained data shape: (10, 1)\n",
      "mean: [0.2425856]\n",
      "std : [0.46460984]\n",
      "data shape:((1, 4), (7, 4))\n",
      "\n",
      "================\n",
      "T = 4.5\n",
      "Initializing MC...\n",
      "Warming up...\n",
      "  obtained data shape: (10, 1)\n",
      "mean: [0.0404784]\n",
      "std : [0.10520643]\n",
      "data shape:((1, 4), (8, 4))\n",
      "\n",
      "================\n",
      "T = 5.0\n",
      "Initializing MC...\n",
      "Warming up...\n",
      "  obtained data shape: (10, 1)\n",
      "mean: [0.0142544]\n",
      "std : [0.03499281]\n",
      "data shape:((1, 4), (9, 4))\n",
      "\n",
      "================\n",
      "finish\n",
      "shape qs: (10, 4)\n",
      "(10, 4)\n",
      "Output results into './data/external_field/test.dat'\n",
      "(10, 5)\n"
     ]
    },
    {
     "data": {
      "image/png": "[encoded data removed]",
      "text/plain": [
       "<Figure size 432x288 with 1 Axes>"
      ]
     },
     "metadata": {
      "needs_background": "light"
     },
     "output_type": "display_data"
    }
   ],
   "source": [
    "param = {\"system\": (5, 5, 5), \"filename\": \"./data/external_field/test.dat\", \"nt\": 10, \"tmax\": 5.}\n",
    "main(**param)\n",
    "mc_plot_m(param[\"filename\"])"
   ]
  },
  {
   "cell_type": "code",
   "execution_count": null,
   "metadata": {},
   "outputs": [],
   "source": []
  }
 ],
 "metadata": {
  "kernelspec": {
   "display_name": "Python 3",
   "language": "python",
   "name": "python3"
  },
  "language_info": {
   "codemirror_mode": {
    "name": "ipython",
    "version": 3
   },
   "file_extension": ".py",
   "mimetype": "text/x-python",
   "name": "python",
   "nbconvert_exporter": "python",
   "pygments_lexer": "ipython3",
   "version": "3.10.8"
  },
  "orig_nbformat": 4,
  "vscode": {
   "interpreter": {
    "hash": "e7370f93d1d0cde622a1f8e1c04877d8463912d04d973331ad4851f04de6915a"
   }
  }
 },
 "nbformat": 4,
 "nbformat_minor": 2
}
