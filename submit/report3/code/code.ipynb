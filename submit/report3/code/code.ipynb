{
 "cells": [
  {
   "cell_type": "code",
   "execution_count": 9,
   "metadata": {},
   "outputs": [],
   "source": [
    "import numpy as np\n",
    "from importlib import reload\n",
    "from pathlib import Path\n",
    "import os\n",
    "import matplotlib.pyplot as plt\n",
    "\n",
    "import tool\n",
    "reload(tool)\n",
    "from tool import *"
   ]
  },
  {
   "cell_type": "code",
   "execution_count": 21,
   "metadata": {},
   "outputs": [
    {
     "name": "stderr",
     "output_type": "stream",
     "text": [
      "\n",
      "================\n",
      "h = 10.0\n",
      "Initializing MC...\n",
      "Warming up...\n",
      "  obtained data shape: (10, 1)\n"
     ]
    },
    {
     "name": "stdout",
     "output_type": "stream",
     "text": [
      "..............................\n",
      "================\n",
      "finish\n",
      "Output results into 'data/magnetism2/t0.0001_J1.0/data.dat'\n"
     ]
    },
    {
     "name": "stderr",
     "output_type": "stream",
     "text": [
      "\n",
      "================\n",
      "h = 10.0\n",
      "Initializing MC...\n",
      "Warming up...\n",
      "/home/yakkuru/computer_physics/report/submit/report3/code/tool/measurement.py:46: RuntimeWarning: overflow encountered in exp\n",
      "  prob_field = np.exp(beta * h * measure(_mc))\n",
      "  obtained data shape: (10, 1)\n"
     ]
    },
    {
     "name": "stdout",
     "output_type": "stream",
     "text": [
      "............................."
     ]
    },
    {
     "name": "stderr",
     "output_type": "stream",
     "text": [
      "\n",
      "================\n",
      "h = 10.0\n",
      "Initializing MC...\n",
      "Warming up...\n"
     ]
    },
    {
     "name": "stdout",
     "output_type": "stream",
     "text": [
      ".\n",
      "================\n",
      "finish\n",
      "Output results into 'data/magnetism2/t0.25009750000000003_J1.0/data.dat'\n"
     ]
    },
    {
     "name": "stderr",
     "output_type": "stream",
     "text": [
      "  obtained data shape: (10, 1)\n"
     ]
    },
    {
     "name": "stdout",
     "output_type": "stream",
     "text": [
      "............................."
     ]
    },
    {
     "name": "stderr",
     "output_type": "stream",
     "text": [
      "\n",
      "================\n",
      "h = 10.0\n",
      "Initializing MC...\n",
      "Warming up...\n"
     ]
    },
    {
     "name": "stdout",
     "output_type": "stream",
     "text": [
      ".\n",
      "================\n",
      "finish\n",
      "Output results into 'data/magnetism2/t0.5000950000000001_J1.0/data.dat'\n"
     ]
    },
    {
     "name": "stderr",
     "output_type": "stream",
     "text": [
      "  obtained data shape: (10, 1)\n"
     ]
    },
    {
     "name": "stdout",
     "output_type": "stream",
     "text": [
      "............................."
     ]
    },
    {
     "name": "stderr",
     "output_type": "stream",
     "text": [
      "\n",
      "================\n",
      "h = 10.0\n",
      "Initializing MC...\n",
      "Warming up...\n"
     ]
    },
    {
     "name": "stdout",
     "output_type": "stream",
     "text": [
      ".\n",
      "================\n",
      "finish\n",
      "Output results into 'data/magnetism2/t0.7500925_J1.0/data.dat'\n"
     ]
    },
    {
     "name": "stderr",
     "output_type": "stream",
     "text": [
      "  obtained data shape: (10, 1)\n"
     ]
    },
    {
     "name": "stdout",
     "output_type": "stream",
     "text": [
      "............................."
     ]
    },
    {
     "name": "stderr",
     "output_type": "stream",
     "text": [
      "\n",
      "================\n",
      "h = 10.0\n",
      "Initializing MC...\n",
      "Warming up...\n"
     ]
    },
    {
     "name": "stdout",
     "output_type": "stream",
     "text": [
      ".\n",
      "================\n",
      "finish\n",
      "Output results into 'data/magnetism2/t1.0000900000000001_J1.0/data.dat'\n"
     ]
    },
    {
     "name": "stderr",
     "output_type": "stream",
     "text": [
      "  obtained data shape: (10, 1)\n"
     ]
    },
    {
     "name": "stdout",
     "output_type": "stream",
     "text": [
      "............................."
     ]
    },
    {
     "name": "stderr",
     "output_type": "stream",
     "text": [
      "\n",
      "================\n",
      "h = 10.0\n",
      "Initializing MC...\n",
      "Warming up...\n"
     ]
    },
    {
     "name": "stdout",
     "output_type": "stream",
     "text": [
      ".\n",
      "================\n",
      "finish\n",
      "Output results into 'data/magnetism2/t1.2500875_J1.0/data.dat'\n"
     ]
    },
    {
     "name": "stderr",
     "output_type": "stream",
     "text": [
      "  obtained data shape: (10, 1)\n"
     ]
    },
    {
     "name": "stdout",
     "output_type": "stream",
     "text": [
      "............................."
     ]
    },
    {
     "name": "stderr",
     "output_type": "stream",
     "text": [
      "\n",
      "================\n",
      "h = 10.0\n",
      "Initializing MC...\n",
      "Warming up...\n"
     ]
    },
    {
     "name": "stdout",
     "output_type": "stream",
     "text": [
      ".\n",
      "================\n",
      "finish\n",
      "Output results into 'data/magnetism2/t1.5000850000000001_J1.0/data.dat'\n"
     ]
    },
    {
     "name": "stderr",
     "output_type": "stream",
     "text": [
      "  obtained data shape: (10, 1)\n"
     ]
    },
    {
     "name": "stdout",
     "output_type": "stream",
     "text": [
      "............................."
     ]
    },
    {
     "name": "stderr",
     "output_type": "stream",
     "text": [
      "\n",
      "================\n",
      "h = 10.0\n",
      "Initializing MC...\n",
      "Warming up...\n"
     ]
    },
    {
     "name": "stdout",
     "output_type": "stream",
     "text": [
      ".\n",
      "================\n",
      "finish\n",
      "Output results into 'data/magnetism2/t1.7500825_J1.0/data.dat'\n"
     ]
    },
    {
     "name": "stderr",
     "output_type": "stream",
     "text": [
      "  obtained data shape: (10, 1)\n"
     ]
    },
    {
     "name": "stdout",
     "output_type": "stream",
     "text": [
      "............................."
     ]
    },
    {
     "name": "stderr",
     "output_type": "stream",
     "text": [
      "\n",
      "================\n",
      "h = 10.0\n",
      "Initializing MC...\n",
      "Warming up...\n"
     ]
    },
    {
     "name": "stdout",
     "output_type": "stream",
     "text": [
      ".\n",
      "================\n",
      "finish\n",
      "Output results into 'data/magnetism2/t2.00008_J1.0/data.dat'\n"
     ]
    },
    {
     "name": "stderr",
     "output_type": "stream",
     "text": [
      "  obtained data shape: (10, 1)\n"
     ]
    },
    {
     "name": "stdout",
     "output_type": "stream",
     "text": [
      "............................."
     ]
    },
    {
     "name": "stderr",
     "output_type": "stream",
     "text": [
      "\n",
      "================\n",
      "h = 10.0\n",
      "Initializing MC...\n",
      "Warming up...\n"
     ]
    },
    {
     "name": "stdout",
     "output_type": "stream",
     "text": [
      ".\n",
      "================\n",
      "finish\n",
      "Output results into 'data/magnetism2/t2.2500775_J1.0/data.dat'\n"
     ]
    },
    {
     "name": "stderr",
     "output_type": "stream",
     "text": [
      "  obtained data shape: (10, 1)\n"
     ]
    },
    {
     "name": "stdout",
     "output_type": "stream",
     "text": [
      "............................."
     ]
    },
    {
     "name": "stderr",
     "output_type": "stream",
     "text": [
      "\n",
      "================\n",
      "h = 10.0\n",
      "Initializing MC...\n",
      "Warming up...\n"
     ]
    },
    {
     "name": "stdout",
     "output_type": "stream",
     "text": [
      ".\n",
      "================\n",
      "finish\n",
      "Output results into 'data/magnetism2/t2.5000750000000003_J1.0/data.dat'\n"
     ]
    },
    {
     "name": "stderr",
     "output_type": "stream",
     "text": [
      "  obtained data shape: (10, 1)\n"
     ]
    },
    {
     "name": "stdout",
     "output_type": "stream",
     "text": [
      "............................."
     ]
    },
    {
     "name": "stderr",
     "output_type": "stream",
     "text": [
      "\n",
      "================\n",
      "h = 10.0\n",
      "Initializing MC...\n",
      "Warming up...\n"
     ]
    },
    {
     "name": "stdout",
     "output_type": "stream",
     "text": [
      ".\n",
      "================\n",
      "finish\n",
      "Output results into 'data/magnetism2/t2.7500725000000004_J1.0/data.dat'\n"
     ]
    },
    {
     "name": "stderr",
     "output_type": "stream",
     "text": [
      "  obtained data shape: (10, 1)\n"
     ]
    },
    {
     "name": "stdout",
     "output_type": "stream",
     "text": [
      "............................."
     ]
    },
    {
     "name": "stderr",
     "output_type": "stream",
     "text": [
      "\n",
      "================\n",
      "h = 10.0\n",
      "Initializing MC...\n",
      "Warming up...\n"
     ]
    },
    {
     "name": "stdout",
     "output_type": "stream",
     "text": [
      ".\n",
      "================\n",
      "finish\n",
      "Output results into 'data/magnetism2/t3.0000700000000005_J1.0/data.dat'\n"
     ]
    },
    {
     "name": "stderr",
     "output_type": "stream",
     "text": [
      "  obtained data shape: (10, 1)\n"
     ]
    },
    {
     "name": "stdout",
     "output_type": "stream",
     "text": [
      "............................."
     ]
    },
    {
     "name": "stderr",
     "output_type": "stream",
     "text": [
      "\n",
      "================\n",
      "h = 10.0\n",
      "Initializing MC...\n",
      "Warming up...\n"
     ]
    },
    {
     "name": "stdout",
     "output_type": "stream",
     "text": [
      ".\n",
      "================\n",
      "finish\n",
      "Output results into 'data/magnetism2/t3.2500675000000006_J1.0/data.dat'\n"
     ]
    },
    {
     "name": "stderr",
     "output_type": "stream",
     "text": [
      "  obtained data shape: (10, 1)\n"
     ]
    },
    {
     "name": "stdout",
     "output_type": "stream",
     "text": [
      "............................."
     ]
    },
    {
     "name": "stderr",
     "output_type": "stream",
     "text": [
      "\n",
      "================\n",
      "h = 10.0\n",
      "Initializing MC...\n",
      "Warming up...\n"
     ]
    },
    {
     "name": "stdout",
     "output_type": "stream",
     "text": [
      ".\n",
      "================\n",
      "finish\n",
      "Output results into 'data/magnetism2/t3.500065_J1.0/data.dat'\n"
     ]
    },
    {
     "name": "stderr",
     "output_type": "stream",
     "text": [
      "  obtained data shape: (10, 1)\n"
     ]
    },
    {
     "name": "stdout",
     "output_type": "stream",
     "text": [
      "............................."
     ]
    },
    {
     "name": "stderr",
     "output_type": "stream",
     "text": [
      "\n",
      "================\n",
      "h = 10.0\n",
      "Initializing MC...\n",
      "Warming up...\n"
     ]
    },
    {
     "name": "stdout",
     "output_type": "stream",
     "text": [
      ".\n",
      "================\n",
      "finish\n",
      "Output results into 'data/magnetism2/t3.7500625000000003_J1.0/data.dat'\n"
     ]
    },
    {
     "name": "stderr",
     "output_type": "stream",
     "text": [
      "  obtained data shape: (10, 1)\n"
     ]
    },
    {
     "name": "stdout",
     "output_type": "stream",
     "text": [
      "............................."
     ]
    },
    {
     "name": "stderr",
     "output_type": "stream",
     "text": [
      "\n",
      "================\n",
      "h = 10.0\n",
      "Initializing MC...\n",
      "Warming up...\n"
     ]
    },
    {
     "name": "stdout",
     "output_type": "stream",
     "text": [
      ".\n",
      "================\n",
      "finish\n",
      "Output results into 'data/magnetism2/t4.00006_J1.0/data.dat'\n"
     ]
    },
    {
     "name": "stderr",
     "output_type": "stream",
     "text": [
      "  obtained data shape: (10, 1)\n"
     ]
    },
    {
     "name": "stdout",
     "output_type": "stream",
     "text": [
      "............................."
     ]
    },
    {
     "name": "stderr",
     "output_type": "stream",
     "text": [
      "\n",
      "================\n",
      "h = 10.0\n",
      "Initializing MC...\n",
      "Warming up...\n"
     ]
    },
    {
     "name": "stdout",
     "output_type": "stream",
     "text": [
      ".\n",
      "================\n",
      "finish\n",
      "Output results into 'data/magnetism2/t4.2500575_J1.0/data.dat'\n"
     ]
    },
    {
     "name": "stderr",
     "output_type": "stream",
     "text": [
      "  obtained data shape: (10, 1)\n"
     ]
    },
    {
     "name": "stdout",
     "output_type": "stream",
     "text": [
      "............................."
     ]
    },
    {
     "name": "stderr",
     "output_type": "stream",
     "text": [
      "\n",
      "================\n",
      "h = 10.0\n",
      "Initializing MC...\n",
      "Warming up...\n"
     ]
    },
    {
     "name": "stdout",
     "output_type": "stream",
     "text": [
      ".\n",
      "================\n",
      "finish\n",
      "Output results into 'data/magnetism2/t4.500055_J1.0/data.dat'\n"
     ]
    },
    {
     "name": "stderr",
     "output_type": "stream",
     "text": [
      "  obtained data shape: (10, 1)\n"
     ]
    },
    {
     "name": "stdout",
     "output_type": "stream",
     "text": [
      "............................."
     ]
    },
    {
     "name": "stderr",
     "output_type": "stream",
     "text": [
      "\n",
      "================\n",
      "h = 10.0\n",
      "Initializing MC...\n",
      "Warming up...\n"
     ]
    },
    {
     "name": "stdout",
     "output_type": "stream",
     "text": [
      ".\n",
      "================\n",
      "finish\n",
      "Output results into 'data/magnetism2/t4.7500525_J1.0/data.dat'\n"
     ]
    },
    {
     "name": "stderr",
     "output_type": "stream",
     "text": [
      "  obtained data shape: (10, 1)\n"
     ]
    },
    {
     "name": "stdout",
     "output_type": "stream",
     "text": [
      "............................."
     ]
    },
    {
     "name": "stderr",
     "output_type": "stream",
     "text": [
      "\n",
      "================\n",
      "h = 10.0\n",
      "Initializing MC...\n",
      "Warming up...\n"
     ]
    },
    {
     "name": "stdout",
     "output_type": "stream",
     "text": [
      ".\n",
      "================\n",
      "finish\n",
      "Output results into 'data/magnetism2/t5.00005_J1.0/data.dat'\n"
     ]
    },
    {
     "name": "stderr",
     "output_type": "stream",
     "text": [
      "  obtained data shape: (10, 1)\n"
     ]
    },
    {
     "name": "stdout",
     "output_type": "stream",
     "text": [
      "............................."
     ]
    },
    {
     "name": "stderr",
     "output_type": "stream",
     "text": [
      "\n",
      "================\n",
      "h = 10.0\n",
      "Initializing MC...\n",
      "Warming up...\n"
     ]
    },
    {
     "name": "stdout",
     "output_type": "stream",
     "text": [
      ".\n",
      "================\n",
      "finish\n",
      "Output results into 'data/magnetism2/t5.2500475_J1.0/data.dat'\n"
     ]
    },
    {
     "name": "stderr",
     "output_type": "stream",
     "text": [
      "  obtained data shape: (10, 1)\n"
     ]
    },
    {
     "name": "stdout",
     "output_type": "stream",
     "text": [
      "............................."
     ]
    },
    {
     "name": "stderr",
     "output_type": "stream",
     "text": [
      "\n",
      "================\n",
      "h = 10.0\n",
      "Initializing MC...\n",
      "Warming up...\n"
     ]
    },
    {
     "name": "stdout",
     "output_type": "stream",
     "text": [
      ".\n",
      "================\n",
      "finish\n",
      "Output results into 'data/magnetism2/t5.500045_J1.0/data.dat'\n"
     ]
    },
    {
     "name": "stderr",
     "output_type": "stream",
     "text": [
      "  obtained data shape: (10, 1)\n"
     ]
    },
    {
     "name": "stdout",
     "output_type": "stream",
     "text": [
      "............................."
     ]
    },
    {
     "name": "stderr",
     "output_type": "stream",
     "text": [
      "\n",
      "================\n",
      "h = 10.0\n",
      "Initializing MC...\n",
      "Warming up...\n"
     ]
    },
    {
     "name": "stdout",
     "output_type": "stream",
     "text": [
      ".\n",
      "================\n",
      "finish\n",
      "Output results into 'data/magnetism2/t5.7500425_J1.0/data.dat'\n"
     ]
    },
    {
     "name": "stderr",
     "output_type": "stream",
     "text": [
      "  obtained data shape: (10, 1)\n"
     ]
    },
    {
     "name": "stdout",
     "output_type": "stream",
     "text": [
      "............................."
     ]
    },
    {
     "name": "stderr",
     "output_type": "stream",
     "text": [
      "\n",
      "================\n",
      "h = 10.0\n",
      "Initializing MC...\n",
      "Warming up...\n"
     ]
    },
    {
     "name": "stdout",
     "output_type": "stream",
     "text": [
      ".\n",
      "================\n",
      "finish\n",
      "Output results into 'data/magnetism2/t6.00004_J1.0/data.dat'\n"
     ]
    },
    {
     "name": "stderr",
     "output_type": "stream",
     "text": [
      "  obtained data shape: (10, 1)\n"
     ]
    },
    {
     "name": "stdout",
     "output_type": "stream",
     "text": [
      "............................."
     ]
    },
    {
     "name": "stderr",
     "output_type": "stream",
     "text": [
      "\n",
      "================\n",
      "h = 10.0\n",
      "Initializing MC...\n",
      "Warming up...\n"
     ]
    },
    {
     "name": "stdout",
     "output_type": "stream",
     "text": [
      ".\n",
      "================\n",
      "finish\n",
      "Output results into 'data/magnetism2/t6.2500375_J1.0/data.dat'\n"
     ]
    },
    {
     "name": "stderr",
     "output_type": "stream",
     "text": [
      "  obtained data shape: (10, 1)\n"
     ]
    },
    {
     "name": "stdout",
     "output_type": "stream",
     "text": [
      "............................."
     ]
    },
    {
     "name": "stderr",
     "output_type": "stream",
     "text": [
      "\n",
      "================\n",
      "h = 10.0\n",
      "Initializing MC...\n",
      "Warming up...\n"
     ]
    },
    {
     "name": "stdout",
     "output_type": "stream",
     "text": [
      ".\n",
      "================\n",
      "finish\n",
      "Output results into 'data/magnetism2/t6.5000350000000005_J1.0/data.dat'\n"
     ]
    },
    {
     "name": "stderr",
     "output_type": "stream",
     "text": [
      "  obtained data shape: (10, 1)\n"
     ]
    },
    {
     "name": "stdout",
     "output_type": "stream",
     "text": [
      "............................."
     ]
    },
    {
     "name": "stderr",
     "output_type": "stream",
     "text": [
      "\n",
      "================\n",
      "h = 10.0\n",
      "Initializing MC...\n",
      "Warming up...\n"
     ]
    },
    {
     "name": "stdout",
     "output_type": "stream",
     "text": [
      ".\n",
      "================\n",
      "finish\n",
      "Output results into 'data/magnetism2/t6.7500325_J1.0/data.dat'\n"
     ]
    },
    {
     "name": "stderr",
     "output_type": "stream",
     "text": [
      "  obtained data shape: (10, 1)\n"
     ]
    },
    {
     "name": "stdout",
     "output_type": "stream",
     "text": [
      "............................."
     ]
    },
    {
     "name": "stderr",
     "output_type": "stream",
     "text": [
      "\n",
      "================\n",
      "h = 10.0\n",
      "Initializing MC...\n",
      "Warming up...\n"
     ]
    },
    {
     "name": "stdout",
     "output_type": "stream",
     "text": [
      ".\n",
      "================\n",
      "finish\n",
      "Output results into 'data/magnetism2/t7.00003_J1.0/data.dat'\n"
     ]
    },
    {
     "name": "stderr",
     "output_type": "stream",
     "text": [
      "  obtained data shape: (10, 1)\n"
     ]
    },
    {
     "name": "stdout",
     "output_type": "stream",
     "text": [
      "............................."
     ]
    },
    {
     "name": "stderr",
     "output_type": "stream",
     "text": [
      "\n",
      "================\n",
      "h = 10.0\n",
      "Initializing MC...\n",
      "Warming up...\n"
     ]
    },
    {
     "name": "stdout",
     "output_type": "stream",
     "text": [
      ".\n",
      "================\n",
      "finish\n",
      "Output results into 'data/magnetism2/t7.2500275_J1.0/data.dat'\n"
     ]
    },
    {
     "name": "stderr",
     "output_type": "stream",
     "text": [
      "  obtained data shape: (10, 1)\n"
     ]
    },
    {
     "name": "stdout",
     "output_type": "stream",
     "text": [
      "............................."
     ]
    },
    {
     "name": "stderr",
     "output_type": "stream",
     "text": [
      "\n",
      "================\n",
      "h = 10.0\n",
      "Initializing MC...\n",
      "Warming up...\n"
     ]
    },
    {
     "name": "stdout",
     "output_type": "stream",
     "text": [
      ".\n",
      "================\n",
      "finish\n",
      "Output results into 'data/magnetism2/t7.500025_J1.0/data.dat'\n"
     ]
    },
    {
     "name": "stderr",
     "output_type": "stream",
     "text": [
      "  obtained data shape: (10, 1)\n"
     ]
    },
    {
     "name": "stdout",
     "output_type": "stream",
     "text": [
      "............................."
     ]
    },
    {
     "name": "stderr",
     "output_type": "stream",
     "text": [
      "\n",
      "================\n",
      "h = 10.0\n",
      "Initializing MC...\n",
      "Warming up...\n"
     ]
    },
    {
     "name": "stdout",
     "output_type": "stream",
     "text": [
      ".\n",
      "================\n",
      "finish\n",
      "Output results into 'data/magnetism2/t7.7500225_J1.0/data.dat'\n"
     ]
    },
    {
     "name": "stderr",
     "output_type": "stream",
     "text": [
      "  obtained data shape: (10, 1)\n"
     ]
    },
    {
     "name": "stdout",
     "output_type": "stream",
     "text": [
      "............................."
     ]
    },
    {
     "name": "stderr",
     "output_type": "stream",
     "text": [
      "\n",
      "================\n",
      "h = 10.0\n",
      "Initializing MC...\n",
      "Warming up...\n"
     ]
    },
    {
     "name": "stdout",
     "output_type": "stream",
     "text": [
      ".\n",
      "================\n",
      "finish\n",
      "Output results into 'data/magnetism2/t8.000020000000001_J1.0/data.dat'\n"
     ]
    },
    {
     "name": "stderr",
     "output_type": "stream",
     "text": [
      "  obtained data shape: (10, 1)\n"
     ]
    },
    {
     "name": "stdout",
     "output_type": "stream",
     "text": [
      "............................."
     ]
    },
    {
     "name": "stderr",
     "output_type": "stream",
     "text": [
      "\n",
      "================\n",
      "h = 10.0\n",
      "Initializing MC...\n",
      "Warming up...\n"
     ]
    },
    {
     "name": "stdout",
     "output_type": "stream",
     "text": [
      ".\n",
      "================\n",
      "finish\n",
      "Output results into 'data/magnetism2/t8.2500175_J1.0/data.dat'\n"
     ]
    },
    {
     "name": "stderr",
     "output_type": "stream",
     "text": [
      "  obtained data shape: (10, 1)\n"
     ]
    },
    {
     "name": "stdout",
     "output_type": "stream",
     "text": [
      "............................."
     ]
    },
    {
     "name": "stderr",
     "output_type": "stream",
     "text": [
      "\n",
      "================\n",
      "h = 10.0\n",
      "Initializing MC...\n",
      "Warming up...\n"
     ]
    },
    {
     "name": "stdout",
     "output_type": "stream",
     "text": [
      ".\n",
      "================\n",
      "finish\n",
      "Output results into 'data/magnetism2/t8.500015_J1.0/data.dat'\n"
     ]
    },
    {
     "name": "stderr",
     "output_type": "stream",
     "text": [
      "  obtained data shape: (10, 1)\n"
     ]
    },
    {
     "name": "stdout",
     "output_type": "stream",
     "text": [
      "............................."
     ]
    },
    {
     "name": "stderr",
     "output_type": "stream",
     "text": [
      "\n",
      "================\n",
      "h = 10.0\n",
      "Initializing MC...\n",
      "Warming up...\n"
     ]
    },
    {
     "name": "stdout",
     "output_type": "stream",
     "text": [
      ".\n",
      "================\n",
      "finish\n",
      "Output results into 'data/magnetism2/t8.7500125_J1.0/data.dat'\n"
     ]
    },
    {
     "name": "stderr",
     "output_type": "stream",
     "text": [
      "  obtained data shape: (10, 1)\n"
     ]
    },
    {
     "name": "stdout",
     "output_type": "stream",
     "text": [
      "............................."
     ]
    },
    {
     "name": "stderr",
     "output_type": "stream",
     "text": [
      "\n",
      "================\n",
      "h = 10.0\n",
      "Initializing MC...\n",
      "Warming up...\n"
     ]
    },
    {
     "name": "stdout",
     "output_type": "stream",
     "text": [
      ".\n",
      "================\n",
      "finish\n",
      "Output results into 'data/magnetism2/t9.00001_J1.0/data.dat'\n"
     ]
    },
    {
     "name": "stderr",
     "output_type": "stream",
     "text": [
      "  obtained data shape: (10, 1)\n"
     ]
    },
    {
     "name": "stdout",
     "output_type": "stream",
     "text": [
      "............................."
     ]
    },
    {
     "name": "stderr",
     "output_type": "stream",
     "text": [
      "\n",
      "================\n",
      "h = 10.0\n",
      "Initializing MC...\n",
      "Warming up...\n"
     ]
    },
    {
     "name": "stdout",
     "output_type": "stream",
     "text": [
      ".\n",
      "================\n",
      "finish\n",
      "Output results into 'data/magnetism2/t9.2500075_J1.0/data.dat'\n"
     ]
    },
    {
     "name": "stderr",
     "output_type": "stream",
     "text": [
      "  obtained data shape: (10, 1)\n"
     ]
    },
    {
     "name": "stdout",
     "output_type": "stream",
     "text": [
      "............................."
     ]
    },
    {
     "name": "stderr",
     "output_type": "stream",
     "text": [
      "\n",
      "================\n",
      "h = 10.0\n",
      "Initializing MC...\n",
      "Warming up...\n"
     ]
    },
    {
     "name": "stdout",
     "output_type": "stream",
     "text": [
      ".\n",
      "================\n",
      "finish\n",
      "Output results into 'data/magnetism2/t9.500005_J1.0/data.dat'\n"
     ]
    },
    {
     "name": "stderr",
     "output_type": "stream",
     "text": [
      "  obtained data shape: (10, 1)\n"
     ]
    },
    {
     "name": "stdout",
     "output_type": "stream",
     "text": [
      "............................."
     ]
    },
    {
     "name": "stderr",
     "output_type": "stream",
     "text": [
      "\n",
      "================\n",
      "h = 10.0\n",
      "Initializing MC...\n",
      "Warming up...\n"
     ]
    },
    {
     "name": "stdout",
     "output_type": "stream",
     "text": [
      ".\n",
      "================\n",
      "finish\n",
      "Output results into 'data/magnetism2/t9.7500025_J1.0/data.dat'\n"
     ]
    },
    {
     "name": "stderr",
     "output_type": "stream",
     "text": [
      "  obtained data shape: (10, 1)\n"
     ]
    },
    {
     "name": "stdout",
     "output_type": "stream",
     "text": [
      "............................."
     ]
    },
    {
     "name": "stderr",
     "output_type": "stream",
     "text": [
      "\n",
      "================\n",
      "h = 10.0\n",
      "Initializing MC...\n",
      "/home/yakkuru/computer_physics/report/submit/report3/code/tool/supplement.py:41: RuntimeWarning: overflow encountered in exp\n",
      "  prob_up.append(np.exp(-2 * K * sum_sigma))\n",
      "/home/yakkuru/computer_physics/report/submit/report3/code/tool/supplement.py:42: RuntimeWarning: overflow encountered in exp\n",
      "  prob_dn.append(np.exp(2 * K * sum_sigma))\n",
      "Warming up...\n"
     ]
    },
    {
     "name": "stdout",
     "output_type": "stream",
     "text": [
      ".\n",
      "================\n",
      "finish\n",
      "Output results into 'data/magnetism2/t10.0_J1.0/data.dat'\n"
     ]
    },
    {
     "name": "stderr",
     "output_type": "stream",
     "text": [
      "/home/yakkuru/computer_physics/report/submit/report3/code/tool/measurement.py:46: RuntimeWarning: overflow encountered in exp\n",
      "  prob_field = np.exp(beta * h * measure(_mc))\n",
      "/home/yakkuru/computer_physics/report/submit/report3/code/tool/measurement.py:49: RuntimeWarning: invalid value encountered in multiply\n",
      "  return _mc.prob_up[num_up] * prob_field\n",
      "  obtained data shape: (10, 1)\n"
     ]
    },
    {
     "name": "stdout",
     "output_type": "stream",
     "text": [
      "............................."
     ]
    },
    {
     "name": "stderr",
     "output_type": "stream",
     "text": [
      "\n",
      "================\n",
      "h = 10.0\n",
      "Initializing MC...\n",
      "Warming up...\n"
     ]
    },
    {
     "name": "stdout",
     "output_type": "stream",
     "text": [
      ".\n",
      "================\n",
      "finish\n",
      "Output results into 'data/magnetism2/t0.0001_J0.9/data.dat'\n"
     ]
    },
    {
     "name": "stderr",
     "output_type": "stream",
     "text": [
      "/home/yakkuru/computer_physics/report/submit/report3/code/tool/measurement.py:46: RuntimeWarning: overflow encountered in exp\n",
      "  prob_field = np.exp(beta * h * measure(_mc))\n",
      "  obtained data shape: (10, 1)\n"
     ]
    },
    {
     "name": "stdout",
     "output_type": "stream",
     "text": [
      "............................."
     ]
    },
    {
     "name": "stderr",
     "output_type": "stream",
     "text": [
      "\n",
      "================\n",
      "h = 10.0\n",
      "Initializing MC...\n",
      "Warming up...\n"
     ]
    },
    {
     "name": "stdout",
     "output_type": "stream",
     "text": [
      ".\n",
      "================\n",
      "finish\n",
      "Output results into 'data/magnetism2/t0.25009750000000003_J0.9/data.dat'\n"
     ]
    },
    {
     "name": "stderr",
     "output_type": "stream",
     "text": [
      "  obtained data shape: (10, 1)\n"
     ]
    },
    {
     "name": "stdout",
     "output_type": "stream",
     "text": [
      "............................."
     ]
    },
    {
     "name": "stderr",
     "output_type": "stream",
     "text": [
      "\n",
      "================\n",
      "h = 10.0\n",
      "Initializing MC...\n",
      "Warming up...\n"
     ]
    },
    {
     "name": "stdout",
     "output_type": "stream",
     "text": [
      ".\n",
      "================\n",
      "finish\n",
      "Output results into 'data/magnetism2/t0.5000950000000001_J0.9/data.dat'\n"
     ]
    },
    {
     "name": "stderr",
     "output_type": "stream",
     "text": [
      "  obtained data shape: (10, 1)\n"
     ]
    },
    {
     "name": "stdout",
     "output_type": "stream",
     "text": [
      "............................."
     ]
    },
    {
     "name": "stderr",
     "output_type": "stream",
     "text": [
      "\n",
      "================\n",
      "h = 10.0\n",
      "Initializing MC...\n",
      "Warming up...\n"
     ]
    },
    {
     "name": "stdout",
     "output_type": "stream",
     "text": [
      ".\n",
      "================\n",
      "finish\n",
      "Output results into 'data/magnetism2/t0.7500925_J0.9/data.dat'\n"
     ]
    },
    {
     "name": "stderr",
     "output_type": "stream",
     "text": [
      "  obtained data shape: (10, 1)\n"
     ]
    },
    {
     "name": "stdout",
     "output_type": "stream",
     "text": [
      "............................."
     ]
    },
    {
     "name": "stderr",
     "output_type": "stream",
     "text": [
      "\n",
      "================\n",
      "h = 10.0\n",
      "Initializing MC...\n",
      "Warming up...\n"
     ]
    },
    {
     "name": "stdout",
     "output_type": "stream",
     "text": [
      ".\n",
      "================\n",
      "finish\n",
      "Output results into 'data/magnetism2/t1.0000900000000001_J0.9/data.dat'\n"
     ]
    },
    {
     "name": "stderr",
     "output_type": "stream",
     "text": [
      "  obtained data shape: (10, 1)\n"
     ]
    },
    {
     "name": "stdout",
     "output_type": "stream",
     "text": [
      "............................."
     ]
    },
    {
     "name": "stderr",
     "output_type": "stream",
     "text": [
      "\n",
      "================\n",
      "h = 10.0\n",
      "Initializing MC...\n",
      "Warming up...\n"
     ]
    },
    {
     "name": "stdout",
     "output_type": "stream",
     "text": [
      ".\n",
      "================\n",
      "finish\n",
      "Output results into 'data/magnetism2/t1.2500875_J0.9/data.dat'\n"
     ]
    },
    {
     "name": "stderr",
     "output_type": "stream",
     "text": [
      "  obtained data shape: (10, 1)\n"
     ]
    },
    {
     "name": "stdout",
     "output_type": "stream",
     "text": [
      "............................."
     ]
    },
    {
     "name": "stderr",
     "output_type": "stream",
     "text": [
      "\n",
      "================\n",
      "h = 10.0\n",
      "Initializing MC...\n",
      "Warming up...\n"
     ]
    },
    {
     "name": "stdout",
     "output_type": "stream",
     "text": [
      ".\n",
      "================\n",
      "finish\n",
      "Output results into 'data/magnetism2/t1.5000850000000001_J0.9/data.dat'\n"
     ]
    },
    {
     "name": "stderr",
     "output_type": "stream",
     "text": [
      "  obtained data shape: (10, 1)\n"
     ]
    },
    {
     "name": "stdout",
     "output_type": "stream",
     "text": [
      "............................."
     ]
    },
    {
     "name": "stderr",
     "output_type": "stream",
     "text": [
      "\n",
      "================\n",
      "h = 10.0\n",
      "Initializing MC...\n",
      "Warming up...\n"
     ]
    },
    {
     "name": "stdout",
     "output_type": "stream",
     "text": [
      ".\n",
      "================\n",
      "finish\n",
      "Output results into 'data/magnetism2/t1.7500825_J0.9/data.dat'\n"
     ]
    },
    {
     "name": "stderr",
     "output_type": "stream",
     "text": [
      "  obtained data shape: (10, 1)\n"
     ]
    },
    {
     "name": "stdout",
     "output_type": "stream",
     "text": [
      "............................."
     ]
    },
    {
     "name": "stderr",
     "output_type": "stream",
     "text": [
      "\n",
      "================\n",
      "h = 10.0\n",
      "Initializing MC...\n",
      "Warming up...\n"
     ]
    },
    {
     "name": "stdout",
     "output_type": "stream",
     "text": [
      ".\n",
      "================\n",
      "finish\n",
      "Output results into 'data/magnetism2/t2.00008_J0.9/data.dat'\n"
     ]
    },
    {
     "name": "stderr",
     "output_type": "stream",
     "text": [
      "  obtained data shape: (10, 1)\n"
     ]
    },
    {
     "name": "stdout",
     "output_type": "stream",
     "text": [
      "............................."
     ]
    },
    {
     "name": "stderr",
     "output_type": "stream",
     "text": [
      "\n",
      "================\n",
      "h = 10.0\n",
      "Initializing MC...\n",
      "Warming up...\n"
     ]
    },
    {
     "name": "stdout",
     "output_type": "stream",
     "text": [
      ".\n",
      "================\n",
      "finish\n",
      "Output results into 'data/magnetism2/t2.2500775_J0.9/data.dat'\n"
     ]
    },
    {
     "name": "stderr",
     "output_type": "stream",
     "text": [
      "  obtained data shape: (10, 1)\n"
     ]
    },
    {
     "name": "stdout",
     "output_type": "stream",
     "text": [
      "............................."
     ]
    },
    {
     "name": "stderr",
     "output_type": "stream",
     "text": [
      "\n",
      "================\n",
      "h = 10.0\n",
      "Initializing MC...\n",
      "Warming up...\n"
     ]
    },
    {
     "name": "stdout",
     "output_type": "stream",
     "text": [
      ".\n",
      "================\n",
      "finish\n",
      "Output results into 'data/magnetism2/t2.5000750000000003_J0.9/data.dat'\n"
     ]
    },
    {
     "name": "stderr",
     "output_type": "stream",
     "text": [
      "  obtained data shape: (10, 1)\n"
     ]
    },
    {
     "name": "stdout",
     "output_type": "stream",
     "text": [
      "............................."
     ]
    },
    {
     "name": "stderr",
     "output_type": "stream",
     "text": [
      "\n",
      "================\n",
      "h = 10.0\n",
      "Initializing MC...\n",
      "Warming up...\n"
     ]
    },
    {
     "name": "stdout",
     "output_type": "stream",
     "text": [
      ".\n",
      "================\n",
      "finish\n",
      "Output results into 'data/magnetism2/t2.7500725000000004_J0.9/data.dat'\n"
     ]
    },
    {
     "name": "stderr",
     "output_type": "stream",
     "text": [
      "  obtained data shape: (10, 1)\n"
     ]
    },
    {
     "name": "stdout",
     "output_type": "stream",
     "text": [
      "............................."
     ]
    },
    {
     "name": "stderr",
     "output_type": "stream",
     "text": [
      "\n",
      "================\n",
      "h = 10.0\n",
      "Initializing MC...\n",
      "Warming up...\n"
     ]
    },
    {
     "name": "stdout",
     "output_type": "stream",
     "text": [
      ".\n",
      "================\n",
      "finish\n",
      "Output results into 'data/magnetism2/t3.0000700000000005_J0.9/data.dat'\n"
     ]
    },
    {
     "name": "stderr",
     "output_type": "stream",
     "text": [
      "  obtained data shape: (10, 1)\n"
     ]
    },
    {
     "name": "stdout",
     "output_type": "stream",
     "text": [
      "............................."
     ]
    },
    {
     "name": "stderr",
     "output_type": "stream",
     "text": [
      "\n",
      "================\n",
      "h = 10.0\n",
      "Initializing MC...\n",
      "Warming up...\n"
     ]
    },
    {
     "name": "stdout",
     "output_type": "stream",
     "text": [
      ".\n",
      "================\n",
      "finish\n",
      "Output results into 'data/magnetism2/t3.2500675000000006_J0.9/data.dat'\n"
     ]
    },
    {
     "name": "stderr",
     "output_type": "stream",
     "text": [
      "  obtained data shape: (10, 1)\n"
     ]
    },
    {
     "name": "stdout",
     "output_type": "stream",
     "text": [
      "............................."
     ]
    },
    {
     "name": "stderr",
     "output_type": "stream",
     "text": [
      "\n",
      "================\n",
      "h = 10.0\n",
      "Initializing MC...\n",
      "Warming up...\n"
     ]
    },
    {
     "name": "stdout",
     "output_type": "stream",
     "text": [
      ".\n",
      "================\n",
      "finish\n",
      "Output results into 'data/magnetism2/t3.500065_J0.9/data.dat'\n"
     ]
    },
    {
     "name": "stderr",
     "output_type": "stream",
     "text": [
      "  obtained data shape: (10, 1)\n"
     ]
    },
    {
     "name": "stdout",
     "output_type": "stream",
     "text": [
      "............................."
     ]
    },
    {
     "name": "stderr",
     "output_type": "stream",
     "text": [
      "\n",
      "================\n",
      "h = 10.0\n",
      "Initializing MC...\n",
      "Warming up...\n"
     ]
    },
    {
     "name": "stdout",
     "output_type": "stream",
     "text": [
      ".\n",
      "================\n",
      "finish\n",
      "Output results into 'data/magnetism2/t3.7500625000000003_J0.9/data.dat'\n"
     ]
    },
    {
     "name": "stderr",
     "output_type": "stream",
     "text": [
      "  obtained data shape: (10, 1)\n"
     ]
    },
    {
     "name": "stdout",
     "output_type": "stream",
     "text": [
      "............................."
     ]
    },
    {
     "name": "stderr",
     "output_type": "stream",
     "text": [
      "\n",
      "================\n",
      "h = 10.0\n",
      "Initializing MC...\n",
      "Warming up...\n"
     ]
    },
    {
     "name": "stdout",
     "output_type": "stream",
     "text": [
      ".\n",
      "================\n",
      "finish\n",
      "Output results into 'data/magnetism2/t4.00006_J0.9/data.dat'\n"
     ]
    },
    {
     "name": "stderr",
     "output_type": "stream",
     "text": [
      "  obtained data shape: (10, 1)\n"
     ]
    },
    {
     "name": "stdout",
     "output_type": "stream",
     "text": [
      "............................."
     ]
    },
    {
     "name": "stderr",
     "output_type": "stream",
     "text": [
      "\n",
      "================\n",
      "h = 10.0\n",
      "Initializing MC...\n",
      "Warming up...\n"
     ]
    },
    {
     "name": "stdout",
     "output_type": "stream",
     "text": [
      ".\n",
      "================\n",
      "finish\n",
      "Output results into 'data/magnetism2/t4.2500575_J0.9/data.dat'\n"
     ]
    },
    {
     "name": "stderr",
     "output_type": "stream",
     "text": [
      "  obtained data shape: (10, 1)\n"
     ]
    },
    {
     "name": "stdout",
     "output_type": "stream",
     "text": [
      "............................."
     ]
    },
    {
     "name": "stderr",
     "output_type": "stream",
     "text": [
      "\n",
      "================\n",
      "h = 10.0\n",
      "Initializing MC...\n",
      "Warming up...\n"
     ]
    },
    {
     "name": "stdout",
     "output_type": "stream",
     "text": [
      ".\n",
      "================\n",
      "finish\n",
      "Output results into 'data/magnetism2/t4.500055_J0.9/data.dat'\n"
     ]
    },
    {
     "name": "stderr",
     "output_type": "stream",
     "text": [
      "  obtained data shape: (10, 1)\n"
     ]
    },
    {
     "name": "stdout",
     "output_type": "stream",
     "text": [
      "............................."
     ]
    },
    {
     "name": "stderr",
     "output_type": "stream",
     "text": [
      "\n",
      "================\n",
      "h = 10.0\n",
      "Initializing MC...\n",
      "Warming up...\n"
     ]
    },
    {
     "name": "stdout",
     "output_type": "stream",
     "text": [
      ".\n",
      "================\n",
      "finish\n",
      "Output results into 'data/magnetism2/t4.7500525_J0.9/data.dat'\n"
     ]
    },
    {
     "name": "stderr",
     "output_type": "stream",
     "text": [
      "  obtained data shape: (10, 1)\n"
     ]
    },
    {
     "name": "stdout",
     "output_type": "stream",
     "text": [
      "............................."
     ]
    },
    {
     "name": "stderr",
     "output_type": "stream",
     "text": [
      "\n",
      "================\n",
      "h = 10.0\n",
      "Initializing MC...\n",
      "Warming up...\n"
     ]
    },
    {
     "name": "stdout",
     "output_type": "stream",
     "text": [
      ".\n",
      "================\n",
      "finish\n",
      "Output results into 'data/magnetism2/t5.00005_J0.9/data.dat'\n"
     ]
    },
    {
     "name": "stderr",
     "output_type": "stream",
     "text": [
      "  obtained data shape: (10, 1)\n"
     ]
    },
    {
     "name": "stdout",
     "output_type": "stream",
     "text": [
      "............................."
     ]
    },
    {
     "name": "stderr",
     "output_type": "stream",
     "text": [
      "\n",
      "================\n",
      "h = 10.0\n",
      "Initializing MC...\n",
      "Warming up...\n"
     ]
    },
    {
     "name": "stdout",
     "output_type": "stream",
     "text": [
      ".\n",
      "================\n",
      "finish\n",
      "Output results into 'data/magnetism2/t5.2500475_J0.9/data.dat'\n"
     ]
    },
    {
     "name": "stderr",
     "output_type": "stream",
     "text": [
      "  obtained data shape: (10, 1)\n"
     ]
    },
    {
     "name": "stdout",
     "output_type": "stream",
     "text": [
      "............................."
     ]
    },
    {
     "name": "stderr",
     "output_type": "stream",
     "text": [
      "\n",
      "================\n",
      "h = 10.0\n",
      "Initializing MC...\n",
      "Warming up...\n"
     ]
    },
    {
     "name": "stdout",
     "output_type": "stream",
     "text": [
      ".\n",
      "================\n",
      "finish\n",
      "Output results into 'data/magnetism2/t5.500045_J0.9/data.dat'\n"
     ]
    },
    {
     "name": "stderr",
     "output_type": "stream",
     "text": [
      "  obtained data shape: (10, 1)\n"
     ]
    },
    {
     "name": "stdout",
     "output_type": "stream",
     "text": [
      "............................."
     ]
    },
    {
     "name": "stderr",
     "output_type": "stream",
     "text": [
      "\n",
      "================\n",
      "h = 10.0\n",
      "Initializing MC...\n",
      "Warming up...\n"
     ]
    },
    {
     "name": "stdout",
     "output_type": "stream",
     "text": [
      ".\n",
      "================\n",
      "finish\n",
      "Output results into 'data/magnetism2/t5.7500425_J0.9/data.dat'\n"
     ]
    },
    {
     "name": "stderr",
     "output_type": "stream",
     "text": [
      "  obtained data shape: (10, 1)\n"
     ]
    },
    {
     "name": "stdout",
     "output_type": "stream",
     "text": [
      "............................."
     ]
    },
    {
     "name": "stderr",
     "output_type": "stream",
     "text": [
      "\n",
      "================\n",
      "h = 10.0\n",
      "Initializing MC...\n",
      "Warming up...\n"
     ]
    },
    {
     "name": "stdout",
     "output_type": "stream",
     "text": [
      ".\n",
      "================\n",
      "finish\n",
      "Output results into 'data/magnetism2/t6.00004_J0.9/data.dat'\n"
     ]
    },
    {
     "name": "stderr",
     "output_type": "stream",
     "text": [
      "  obtained data shape: (10, 1)\n"
     ]
    },
    {
     "name": "stdout",
     "output_type": "stream",
     "text": [
      "............................."
     ]
    },
    {
     "name": "stderr",
     "output_type": "stream",
     "text": [
      "\n",
      "================\n",
      "h = 10.0\n",
      "Initializing MC...\n",
      "Warming up...\n"
     ]
    },
    {
     "name": "stdout",
     "output_type": "stream",
     "text": [
      ".\n",
      "================\n",
      "finish\n",
      "Output results into 'data/magnetism2/t6.2500375_J0.9/data.dat'\n"
     ]
    },
    {
     "name": "stderr",
     "output_type": "stream",
     "text": [
      "  obtained data shape: (10, 1)\n"
     ]
    },
    {
     "name": "stdout",
     "output_type": "stream",
     "text": [
      "............................."
     ]
    },
    {
     "name": "stderr",
     "output_type": "stream",
     "text": [
      "\n",
      "================\n",
      "h = 10.0\n",
      "Initializing MC...\n",
      "Warming up...\n"
     ]
    },
    {
     "name": "stdout",
     "output_type": "stream",
     "text": [
      ".\n",
      "================\n",
      "finish\n",
      "Output results into 'data/magnetism2/t6.5000350000000005_J0.9/data.dat'\n"
     ]
    },
    {
     "name": "stderr",
     "output_type": "stream",
     "text": [
      "  obtained data shape: (10, 1)\n"
     ]
    },
    {
     "name": "stdout",
     "output_type": "stream",
     "text": [
      "............................."
     ]
    },
    {
     "name": "stderr",
     "output_type": "stream",
     "text": [
      "\n",
      "================\n",
      "h = 10.0\n",
      "Initializing MC...\n",
      "Warming up...\n"
     ]
    },
    {
     "name": "stdout",
     "output_type": "stream",
     "text": [
      ".\n",
      "================\n",
      "finish\n",
      "Output results into 'data/magnetism2/t6.7500325_J0.9/data.dat'\n"
     ]
    },
    {
     "name": "stderr",
     "output_type": "stream",
     "text": [
      "  obtained data shape: (10, 1)\n"
     ]
    },
    {
     "name": "stdout",
     "output_type": "stream",
     "text": [
      "............................."
     ]
    },
    {
     "name": "stderr",
     "output_type": "stream",
     "text": [
      "\n",
      "================\n",
      "h = 10.0\n",
      "Initializing MC...\n",
      "Warming up...\n"
     ]
    },
    {
     "name": "stdout",
     "output_type": "stream",
     "text": [
      ".\n",
      "================\n",
      "finish\n",
      "Output results into 'data/magnetism2/t7.00003_J0.9/data.dat'\n"
     ]
    },
    {
     "name": "stderr",
     "output_type": "stream",
     "text": [
      "  obtained data shape: (10, 1)\n"
     ]
    },
    {
     "name": "stdout",
     "output_type": "stream",
     "text": [
      "............................."
     ]
    },
    {
     "name": "stderr",
     "output_type": "stream",
     "text": [
      "\n",
      "================\n",
      "h = 10.0\n",
      "Initializing MC...\n",
      "Warming up...\n"
     ]
    },
    {
     "name": "stdout",
     "output_type": "stream",
     "text": [
      ".\n",
      "================\n",
      "finish\n",
      "Output results into 'data/magnetism2/t7.2500275_J0.9/data.dat'\n"
     ]
    },
    {
     "name": "stderr",
     "output_type": "stream",
     "text": [
      "  obtained data shape: (10, 1)\n"
     ]
    },
    {
     "name": "stdout",
     "output_type": "stream",
     "text": [
      "............................."
     ]
    },
    {
     "name": "stderr",
     "output_type": "stream",
     "text": [
      "\n",
      "================\n",
      "h = 10.0\n",
      "Initializing MC...\n",
      "Warming up...\n"
     ]
    },
    {
     "name": "stdout",
     "output_type": "stream",
     "text": [
      ".\n",
      "================\n",
      "finish\n",
      "Output results into 'data/magnetism2/t7.500025_J0.9/data.dat'\n"
     ]
    },
    {
     "name": "stderr",
     "output_type": "stream",
     "text": [
      "  obtained data shape: (10, 1)\n"
     ]
    },
    {
     "name": "stdout",
     "output_type": "stream",
     "text": [
      "............................."
     ]
    },
    {
     "name": "stderr",
     "output_type": "stream",
     "text": [
      "\n",
      "================\n",
      "h = 10.0\n",
      "Initializing MC...\n",
      "Warming up...\n"
     ]
    },
    {
     "name": "stdout",
     "output_type": "stream",
     "text": [
      ".\n",
      "================\n",
      "finish\n",
      "Output results into 'data/magnetism2/t7.7500225_J0.9/data.dat'\n"
     ]
    },
    {
     "name": "stderr",
     "output_type": "stream",
     "text": [
      "  obtained data shape: (10, 1)\n"
     ]
    },
    {
     "name": "stdout",
     "output_type": "stream",
     "text": [
      "............................."
     ]
    },
    {
     "name": "stderr",
     "output_type": "stream",
     "text": [
      "\n",
      "================\n",
      "h = 10.0\n",
      "Initializing MC...\n",
      "Warming up...\n"
     ]
    },
    {
     "name": "stdout",
     "output_type": "stream",
     "text": [
      ".\n",
      "================\n",
      "finish\n",
      "Output results into 'data/magnetism2/t8.000020000000001_J0.9/data.dat'\n"
     ]
    },
    {
     "name": "stderr",
     "output_type": "stream",
     "text": [
      "  obtained data shape: (10, 1)\n"
     ]
    },
    {
     "name": "stdout",
     "output_type": "stream",
     "text": [
      "............................."
     ]
    },
    {
     "name": "stderr",
     "output_type": "stream",
     "text": [
      "\n",
      "================\n",
      "h = 10.0\n",
      "Initializing MC...\n",
      "Warming up...\n"
     ]
    },
    {
     "name": "stdout",
     "output_type": "stream",
     "text": [
      ".\n",
      "================\n",
      "finish\n",
      "Output results into 'data/magnetism2/t8.2500175_J0.9/data.dat'\n"
     ]
    },
    {
     "name": "stderr",
     "output_type": "stream",
     "text": [
      "  obtained data shape: (10, 1)\n"
     ]
    },
    {
     "name": "stdout",
     "output_type": "stream",
     "text": [
      "............................."
     ]
    },
    {
     "name": "stderr",
     "output_type": "stream",
     "text": [
      "\n",
      "================\n",
      "h = 10.0\n",
      "Initializing MC...\n",
      "Warming up...\n"
     ]
    },
    {
     "name": "stdout",
     "output_type": "stream",
     "text": [
      ".\n",
      "================\n",
      "finish\n",
      "Output results into 'data/magnetism2/t8.500015_J0.9/data.dat'\n"
     ]
    },
    {
     "name": "stderr",
     "output_type": "stream",
     "text": [
      "  obtained data shape: (10, 1)\n"
     ]
    },
    {
     "name": "stdout",
     "output_type": "stream",
     "text": [
      "............................."
     ]
    },
    {
     "name": "stderr",
     "output_type": "stream",
     "text": [
      "\n",
      "================\n",
      "h = 10.0\n",
      "Initializing MC...\n",
      "Warming up...\n"
     ]
    },
    {
     "name": "stdout",
     "output_type": "stream",
     "text": [
      ".\n",
      "================\n",
      "finish\n",
      "Output results into 'data/magnetism2/t8.7500125_J0.9/data.dat'\n"
     ]
    },
    {
     "name": "stderr",
     "output_type": "stream",
     "text": [
      "  obtained data shape: (10, 1)\n"
     ]
    },
    {
     "name": "stdout",
     "output_type": "stream",
     "text": [
      "............................."
     ]
    },
    {
     "name": "stderr",
     "output_type": "stream",
     "text": [
      "\n",
      "================\n",
      "h = 10.0\n",
      "Initializing MC...\n",
      "Warming up...\n"
     ]
    },
    {
     "name": "stdout",
     "output_type": "stream",
     "text": [
      ".\n",
      "================\n",
      "finish\n",
      "Output results into 'data/magnetism2/t9.00001_J0.9/data.dat'\n"
     ]
    },
    {
     "name": "stderr",
     "output_type": "stream",
     "text": [
      "  obtained data shape: (10, 1)\n"
     ]
    },
    {
     "name": "stdout",
     "output_type": "stream",
     "text": [
      "............................."
     ]
    },
    {
     "name": "stderr",
     "output_type": "stream",
     "text": [
      "\n",
      "================\n",
      "h = 10.0\n",
      "Initializing MC...\n",
      "Warming up...\n"
     ]
    },
    {
     "name": "stdout",
     "output_type": "stream",
     "text": [
      ".\n",
      "================\n",
      "finish\n",
      "Output results into 'data/magnetism2/t9.2500075_J0.9/data.dat'\n"
     ]
    },
    {
     "name": "stderr",
     "output_type": "stream",
     "text": [
      "  obtained data shape: (10, 1)\n"
     ]
    },
    {
     "name": "stdout",
     "output_type": "stream",
     "text": [
      "............................."
     ]
    },
    {
     "name": "stderr",
     "output_type": "stream",
     "text": [
      "\n",
      "================\n",
      "h = 10.0\n",
      "Initializing MC...\n",
      "Warming up...\n"
     ]
    },
    {
     "name": "stdout",
     "output_type": "stream",
     "text": [
      ".\n",
      "================\n",
      "finish\n",
      "Output results into 'data/magnetism2/t9.500005_J0.9/data.dat'\n"
     ]
    },
    {
     "name": "stderr",
     "output_type": "stream",
     "text": [
      "  obtained data shape: (10, 1)\n"
     ]
    },
    {
     "name": "stdout",
     "output_type": "stream",
     "text": [
      "............................."
     ]
    },
    {
     "name": "stderr",
     "output_type": "stream",
     "text": [
      "\n",
      "================\n",
      "h = 10.0\n",
      "Initializing MC...\n",
      "Warming up...\n"
     ]
    },
    {
     "name": "stdout",
     "output_type": "stream",
     "text": [
      ".\n",
      "================\n",
      "finish\n",
      "Output results into 'data/magnetism2/t9.7500025_J0.9/data.dat'\n"
     ]
    },
    {
     "name": "stderr",
     "output_type": "stream",
     "text": [
      "  obtained data shape: (10, 1)\n"
     ]
    },
    {
     "name": "stdout",
     "output_type": "stream",
     "text": [
      "............................."
     ]
    },
    {
     "name": "stderr",
     "output_type": "stream",
     "text": [
      "\n",
      "================\n",
      "h = 10.0\n",
      "Initializing MC...\n",
      "/home/yakkuru/computer_physics/report/submit/report3/code/tool/supplement.py:41: RuntimeWarning: overflow encountered in exp\n",
      "  prob_up.append(np.exp(-2 * K * sum_sigma))\n",
      "/home/yakkuru/computer_physics/report/submit/report3/code/tool/supplement.py:42: RuntimeWarning: overflow encountered in exp\n",
      "  prob_dn.append(np.exp(2 * K * sum_sigma))\n",
      "Warming up...\n"
     ]
    },
    {
     "name": "stdout",
     "output_type": "stream",
     "text": [
      ".\n",
      "================\n",
      "finish\n",
      "Output results into 'data/magnetism2/t10.0_J0.9/data.dat'\n"
     ]
    },
    {
     "name": "stderr",
     "output_type": "stream",
     "text": [
      "/home/yakkuru/computer_physics/report/submit/report3/code/tool/measurement.py:46: RuntimeWarning: overflow encountered in exp\n",
      "  prob_field = np.exp(beta * h * measure(_mc))\n",
      "/home/yakkuru/computer_physics/report/submit/report3/code/tool/measurement.py:49: RuntimeWarning: invalid value encountered in multiply\n",
      "  return _mc.prob_up[num_up] * prob_field\n",
      "  obtained data shape: (10, 1)\n"
     ]
    },
    {
     "name": "stdout",
     "output_type": "stream",
     "text": [
      "............................."
     ]
    },
    {
     "name": "stderr",
     "output_type": "stream",
     "text": [
      "\n",
      "================\n",
      "h = 10.0\n",
      "Initializing MC...\n",
      "Warming up...\n"
     ]
    },
    {
     "name": "stdout",
     "output_type": "stream",
     "text": [
      ".\n",
      "================\n",
      "finish\n",
      "Output results into 'data/magnetism2/t0.0001_J0.8/data.dat'\n"
     ]
    },
    {
     "name": "stderr",
     "output_type": "stream",
     "text": [
      "/home/yakkuru/computer_physics/report/submit/report3/code/tool/measurement.py:46: RuntimeWarning: overflow encountered in exp\n",
      "  prob_field = np.exp(beta * h * measure(_mc))\n",
      "  obtained data shape: (10, 1)\n"
     ]
    },
    {
     "name": "stdout",
     "output_type": "stream",
     "text": [
      "............................."
     ]
    },
    {
     "name": "stderr",
     "output_type": "stream",
     "text": [
      "\n",
      "================\n",
      "h = 10.0\n",
      "Initializing MC...\n",
      "Warming up...\n"
     ]
    },
    {
     "name": "stdout",
     "output_type": "stream",
     "text": [
      ".\n",
      "================\n",
      "finish\n",
      "Output results into 'data/magnetism2/t0.25009750000000003_J0.8/data.dat'\n"
     ]
    },
    {
     "name": "stderr",
     "output_type": "stream",
     "text": [
      "  obtained data shape: (10, 1)\n"
     ]
    },
    {
     "name": "stdout",
     "output_type": "stream",
     "text": [
      "............................."
     ]
    },
    {
     "name": "stderr",
     "output_type": "stream",
     "text": [
      "\n",
      "================\n",
      "h = 10.0\n",
      "Initializing MC...\n",
      "Warming up...\n"
     ]
    },
    {
     "name": "stdout",
     "output_type": "stream",
     "text": [
      ".\n",
      "================\n",
      "finish\n",
      "Output results into 'data/magnetism2/t0.5000950000000001_J0.8/data.dat'\n"
     ]
    },
    {
     "name": "stderr",
     "output_type": "stream",
     "text": [
      "  obtained data shape: (10, 1)\n"
     ]
    },
    {
     "name": "stdout",
     "output_type": "stream",
     "text": [
      "............................."
     ]
    },
    {
     "name": "stderr",
     "output_type": "stream",
     "text": [
      "\n",
      "================\n",
      "h = 10.0\n",
      "Initializing MC...\n",
      "Warming up...\n"
     ]
    },
    {
     "name": "stdout",
     "output_type": "stream",
     "text": [
      ".\n",
      "================\n",
      "finish\n",
      "Output results into 'data/magnetism2/t0.7500925_J0.8/data.dat'\n"
     ]
    },
    {
     "name": "stderr",
     "output_type": "stream",
     "text": [
      "  obtained data shape: (10, 1)\n"
     ]
    },
    {
     "name": "stdout",
     "output_type": "stream",
     "text": [
      "............................."
     ]
    },
    {
     "name": "stderr",
     "output_type": "stream",
     "text": [
      "\n",
      "================\n",
      "h = 10.0\n",
      "Initializing MC...\n",
      "Warming up...\n"
     ]
    },
    {
     "name": "stdout",
     "output_type": "stream",
     "text": [
      ".\n",
      "================\n",
      "finish\n",
      "Output results into 'data/magnetism2/t1.0000900000000001_J0.8/data.dat'\n"
     ]
    },
    {
     "name": "stderr",
     "output_type": "stream",
     "text": [
      "  obtained data shape: (10, 1)\n"
     ]
    },
    {
     "name": "stdout",
     "output_type": "stream",
     "text": [
      "............................."
     ]
    },
    {
     "name": "stderr",
     "output_type": "stream",
     "text": [
      "\n",
      "================\n",
      "h = 10.0\n",
      "Initializing MC...\n",
      "Warming up...\n"
     ]
    },
    {
     "name": "stdout",
     "output_type": "stream",
     "text": [
      ".\n",
      "================\n",
      "finish\n",
      "Output results into 'data/magnetism2/t1.2500875_J0.8/data.dat'\n"
     ]
    },
    {
     "name": "stderr",
     "output_type": "stream",
     "text": [
      "  obtained data shape: (10, 1)\n"
     ]
    },
    {
     "name": "stdout",
     "output_type": "stream",
     "text": [
      "............................."
     ]
    },
    {
     "name": "stderr",
     "output_type": "stream",
     "text": [
      "\n",
      "================\n",
      "h = 10.0\n",
      "Initializing MC...\n",
      "Warming up...\n"
     ]
    },
    {
     "name": "stdout",
     "output_type": "stream",
     "text": [
      ".\n",
      "================\n",
      "finish\n",
      "Output results into 'data/magnetism2/t1.5000850000000001_J0.8/data.dat'\n"
     ]
    },
    {
     "name": "stderr",
     "output_type": "stream",
     "text": [
      "  obtained data shape: (10, 1)\n"
     ]
    },
    {
     "name": "stdout",
     "output_type": "stream",
     "text": [
      "............................."
     ]
    },
    {
     "name": "stderr",
     "output_type": "stream",
     "text": [
      "\n",
      "================\n",
      "h = 10.0\n",
      "Initializing MC...\n",
      "Warming up...\n"
     ]
    },
    {
     "name": "stdout",
     "output_type": "stream",
     "text": [
      ".\n",
      "================\n",
      "finish\n",
      "Output results into 'data/magnetism2/t1.7500825_J0.8/data.dat'\n"
     ]
    },
    {
     "name": "stderr",
     "output_type": "stream",
     "text": [
      "  obtained data shape: (10, 1)\n"
     ]
    },
    {
     "name": "stdout",
     "output_type": "stream",
     "text": [
      "............................."
     ]
    },
    {
     "name": "stderr",
     "output_type": "stream",
     "text": [
      "\n",
      "================\n",
      "h = 10.0\n",
      "Initializing MC...\n",
      "Warming up...\n"
     ]
    },
    {
     "name": "stdout",
     "output_type": "stream",
     "text": [
      ".\n",
      "================\n",
      "finish\n",
      "Output results into 'data/magnetism2/t2.00008_J0.8/data.dat'\n"
     ]
    },
    {
     "name": "stderr",
     "output_type": "stream",
     "text": [
      "  obtained data shape: (10, 1)\n"
     ]
    },
    {
     "name": "stdout",
     "output_type": "stream",
     "text": [
      "............................."
     ]
    },
    {
     "name": "stderr",
     "output_type": "stream",
     "text": [
      "\n",
      "================\n",
      "h = 10.0\n",
      "Initializing MC...\n",
      "Warming up...\n"
     ]
    },
    {
     "name": "stdout",
     "output_type": "stream",
     "text": [
      ".\n",
      "================\n",
      "finish\n",
      "Output results into 'data/magnetism2/t2.2500775_J0.8/data.dat'\n"
     ]
    },
    {
     "name": "stderr",
     "output_type": "stream",
     "text": [
      "  obtained data shape: (10, 1)\n"
     ]
    },
    {
     "name": "stdout",
     "output_type": "stream",
     "text": [
      "............................."
     ]
    },
    {
     "name": "stderr",
     "output_type": "stream",
     "text": [
      "\n",
      "================\n",
      "h = 10.0\n",
      "Initializing MC...\n",
      "Warming up...\n"
     ]
    },
    {
     "name": "stdout",
     "output_type": "stream",
     "text": [
      ".\n",
      "================\n",
      "finish\n",
      "Output results into 'data/magnetism2/t2.5000750000000003_J0.8/data.dat'\n"
     ]
    },
    {
     "name": "stderr",
     "output_type": "stream",
     "text": [
      "  obtained data shape: (10, 1)\n"
     ]
    },
    {
     "name": "stdout",
     "output_type": "stream",
     "text": [
      "............................."
     ]
    },
    {
     "name": "stderr",
     "output_type": "stream",
     "text": [
      "\n",
      "================\n",
      "h = 10.0\n",
      "Initializing MC...\n",
      "Warming up...\n"
     ]
    },
    {
     "name": "stdout",
     "output_type": "stream",
     "text": [
      ".\n",
      "================\n",
      "finish\n",
      "Output results into 'data/magnetism2/t2.7500725000000004_J0.8/data.dat'\n"
     ]
    },
    {
     "name": "stderr",
     "output_type": "stream",
     "text": [
      "  obtained data shape: (10, 1)\n"
     ]
    },
    {
     "name": "stdout",
     "output_type": "stream",
     "text": [
      "............................."
     ]
    },
    {
     "name": "stderr",
     "output_type": "stream",
     "text": [
      "\n",
      "================\n",
      "h = 10.0\n",
      "Initializing MC...\n",
      "Warming up...\n"
     ]
    },
    {
     "name": "stdout",
     "output_type": "stream",
     "text": [
      ".\n",
      "================\n",
      "finish\n",
      "Output results into 'data/magnetism2/t3.0000700000000005_J0.8/data.dat'\n"
     ]
    },
    {
     "name": "stderr",
     "output_type": "stream",
     "text": [
      "  obtained data shape: (10, 1)\n"
     ]
    },
    {
     "name": "stdout",
     "output_type": "stream",
     "text": [
      "............................."
     ]
    },
    {
     "name": "stderr",
     "output_type": "stream",
     "text": [
      "\n",
      "================\n",
      "h = 10.0\n",
      "Initializing MC...\n",
      "Warming up...\n"
     ]
    },
    {
     "name": "stdout",
     "output_type": "stream",
     "text": [
      ".\n",
      "================\n",
      "finish\n",
      "Output results into 'data/magnetism2/t3.2500675000000006_J0.8/data.dat'\n"
     ]
    },
    {
     "name": "stderr",
     "output_type": "stream",
     "text": [
      "  obtained data shape: (10, 1)\n"
     ]
    },
    {
     "name": "stdout",
     "output_type": "stream",
     "text": [
      "............................."
     ]
    },
    {
     "name": "stderr",
     "output_type": "stream",
     "text": [
      "\n",
      "================\n",
      "h = 10.0\n",
      "Initializing MC...\n",
      "Warming up...\n"
     ]
    },
    {
     "name": "stdout",
     "output_type": "stream",
     "text": [
      ".\n",
      "================\n",
      "finish\n",
      "Output results into 'data/magnetism2/t3.500065_J0.8/data.dat'\n"
     ]
    },
    {
     "name": "stderr",
     "output_type": "stream",
     "text": [
      "  obtained data shape: (10, 1)\n"
     ]
    },
    {
     "name": "stdout",
     "output_type": "stream",
     "text": [
      "............................."
     ]
    },
    {
     "name": "stderr",
     "output_type": "stream",
     "text": [
      "\n",
      "================\n",
      "h = 10.0\n",
      "Initializing MC...\n",
      "Warming up...\n"
     ]
    },
    {
     "name": "stdout",
     "output_type": "stream",
     "text": [
      ".\n",
      "================\n",
      "finish\n",
      "Output results into 'data/magnetism2/t3.7500625000000003_J0.8/data.dat'\n"
     ]
    },
    {
     "name": "stderr",
     "output_type": "stream",
     "text": [
      "  obtained data shape: (10, 1)\n"
     ]
    },
    {
     "name": "stdout",
     "output_type": "stream",
     "text": [
      "............................."
     ]
    },
    {
     "name": "stderr",
     "output_type": "stream",
     "text": [
      "\n",
      "================\n",
      "h = 10.0\n",
      "Initializing MC...\n",
      "Warming up...\n"
     ]
    },
    {
     "name": "stdout",
     "output_type": "stream",
     "text": [
      ".\n",
      "================\n",
      "finish\n",
      "Output results into 'data/magnetism2/t4.00006_J0.8/data.dat'\n"
     ]
    },
    {
     "name": "stderr",
     "output_type": "stream",
     "text": [
      "  obtained data shape: (10, 1)\n"
     ]
    },
    {
     "name": "stdout",
     "output_type": "stream",
     "text": [
      "............................."
     ]
    },
    {
     "name": "stderr",
     "output_type": "stream",
     "text": [
      "\n",
      "================\n",
      "h = 10.0\n",
      "Initializing MC...\n",
      "Warming up...\n"
     ]
    },
    {
     "name": "stdout",
     "output_type": "stream",
     "text": [
      ".\n",
      "================\n",
      "finish\n",
      "Output results into 'data/magnetism2/t4.2500575_J0.8/data.dat'\n"
     ]
    },
    {
     "name": "stderr",
     "output_type": "stream",
     "text": [
      "  obtained data shape: (10, 1)\n"
     ]
    },
    {
     "name": "stdout",
     "output_type": "stream",
     "text": [
      "............................."
     ]
    },
    {
     "name": "stderr",
     "output_type": "stream",
     "text": [
      "\n",
      "================\n",
      "h = 10.0\n",
      "Initializing MC...\n",
      "Warming up...\n"
     ]
    },
    {
     "name": "stdout",
     "output_type": "stream",
     "text": [
      ".\n",
      "================\n",
      "finish\n",
      "Output results into 'data/magnetism2/t4.500055_J0.8/data.dat'\n"
     ]
    },
    {
     "name": "stderr",
     "output_type": "stream",
     "text": [
      "  obtained data shape: (10, 1)\n"
     ]
    },
    {
     "name": "stdout",
     "output_type": "stream",
     "text": [
      "............................."
     ]
    },
    {
     "name": "stderr",
     "output_type": "stream",
     "text": [
      "\n",
      "================\n",
      "h = 10.0\n",
      "Initializing MC...\n"
     ]
    },
    {
     "name": "stdout",
     "output_type": "stream",
     "text": [
      ".\n",
      "================\n",
      "finish\n",
      "Output results into 'data/magnetism2/t4.7500525_J0.8/data.dat'\n"
     ]
    },
    {
     "name": "stderr",
     "output_type": "stream",
     "text": [
      "Warming up...\n",
      "  obtained data shape: (10, 1)\n"
     ]
    },
    {
     "name": "stdout",
     "output_type": "stream",
     "text": [
      "............................."
     ]
    },
    {
     "name": "stderr",
     "output_type": "stream",
     "text": [
      "\n",
      "================\n",
      "h = 10.0\n",
      "Initializing MC...\n",
      "Warming up...\n"
     ]
    },
    {
     "name": "stdout",
     "output_type": "stream",
     "text": [
      ".\n",
      "================\n",
      "finish\n",
      "Output results into 'data/magnetism2/t5.00005_J0.8/data.dat'\n"
     ]
    },
    {
     "name": "stderr",
     "output_type": "stream",
     "text": [
      "  obtained data shape: (10, 1)\n"
     ]
    },
    {
     "name": "stdout",
     "output_type": "stream",
     "text": [
      "............................."
     ]
    },
    {
     "name": "stderr",
     "output_type": "stream",
     "text": [
      "\n",
      "================\n",
      "h = 10.0\n",
      "Initializing MC...\n",
      "Warming up...\n"
     ]
    },
    {
     "name": "stdout",
     "output_type": "stream",
     "text": [
      ".\n",
      "================\n",
      "finish\n",
      "Output results into 'data/magnetism2/t5.2500475_J0.8/data.dat'\n"
     ]
    },
    {
     "name": "stderr",
     "output_type": "stream",
     "text": [
      "  obtained data shape: (10, 1)\n"
     ]
    },
    {
     "name": "stdout",
     "output_type": "stream",
     "text": [
      "............................."
     ]
    },
    {
     "name": "stderr",
     "output_type": "stream",
     "text": [
      "\n",
      "================\n",
      "h = 10.0\n",
      "Initializing MC...\n",
      "Warming up...\n"
     ]
    },
    {
     "name": "stdout",
     "output_type": "stream",
     "text": [
      ".\n",
      "================\n",
      "finish\n",
      "Output results into 'data/magnetism2/t5.500045_J0.8/data.dat'\n"
     ]
    },
    {
     "name": "stderr",
     "output_type": "stream",
     "text": [
      "  obtained data shape: (10, 1)\n"
     ]
    },
    {
     "name": "stdout",
     "output_type": "stream",
     "text": [
      "............................."
     ]
    },
    {
     "name": "stderr",
     "output_type": "stream",
     "text": [
      "\n",
      "================\n",
      "h = 10.0\n",
      "Initializing MC...\n",
      "Warming up...\n"
     ]
    },
    {
     "name": "stdout",
     "output_type": "stream",
     "text": [
      ".\n",
      "================\n",
      "finish\n",
      "Output results into 'data/magnetism2/t5.7500425_J0.8/data.dat'\n"
     ]
    },
    {
     "name": "stderr",
     "output_type": "stream",
     "text": [
      "  obtained data shape: (10, 1)\n"
     ]
    },
    {
     "name": "stdout",
     "output_type": "stream",
     "text": [
      "............................."
     ]
    },
    {
     "name": "stderr",
     "output_type": "stream",
     "text": [
      "\n",
      "================\n",
      "h = 10.0\n",
      "Initializing MC...\n",
      "Warming up...\n"
     ]
    },
    {
     "name": "stdout",
     "output_type": "stream",
     "text": [
      ".\n",
      "================\n",
      "finish\n",
      "Output results into 'data/magnetism2/t6.00004_J0.8/data.dat'\n"
     ]
    },
    {
     "name": "stderr",
     "output_type": "stream",
     "text": [
      "  obtained data shape: (10, 1)\n"
     ]
    },
    {
     "name": "stdout",
     "output_type": "stream",
     "text": [
      "............................."
     ]
    },
    {
     "name": "stderr",
     "output_type": "stream",
     "text": [
      "\n",
      "================\n",
      "h = 10.0\n",
      "Initializing MC...\n",
      "Warming up...\n"
     ]
    },
    {
     "name": "stdout",
     "output_type": "stream",
     "text": [
      ".\n",
      "================\n",
      "finish\n",
      "Output results into 'data/magnetism2/t6.2500375_J0.8/data.dat'\n"
     ]
    },
    {
     "name": "stderr",
     "output_type": "stream",
     "text": [
      "  obtained data shape: (10, 1)\n"
     ]
    },
    {
     "name": "stdout",
     "output_type": "stream",
     "text": [
      "............................."
     ]
    },
    {
     "name": "stderr",
     "output_type": "stream",
     "text": [
      "\n",
      "================\n",
      "h = 10.0\n",
      "Initializing MC...\n",
      "Warming up...\n"
     ]
    },
    {
     "name": "stdout",
     "output_type": "stream",
     "text": [
      ".\n",
      "================\n",
      "finish\n",
      "Output results into 'data/magnetism2/t6.5000350000000005_J0.8/data.dat'\n"
     ]
    },
    {
     "name": "stderr",
     "output_type": "stream",
     "text": [
      "  obtained data shape: (10, 1)\n"
     ]
    },
    {
     "name": "stdout",
     "output_type": "stream",
     "text": [
      "............................."
     ]
    },
    {
     "name": "stderr",
     "output_type": "stream",
     "text": [
      "\n",
      "================\n",
      "h = 10.0\n",
      "Initializing MC...\n",
      "Warming up...\n"
     ]
    },
    {
     "name": "stdout",
     "output_type": "stream",
     "text": [
      ".\n",
      "================\n",
      "finish\n",
      "Output results into 'data/magnetism2/t6.7500325_J0.8/data.dat'\n"
     ]
    },
    {
     "name": "stderr",
     "output_type": "stream",
     "text": [
      "  obtained data shape: (10, 1)\n"
     ]
    },
    {
     "name": "stdout",
     "output_type": "stream",
     "text": [
      "............................."
     ]
    },
    {
     "name": "stderr",
     "output_type": "stream",
     "text": [
      "\n",
      "================\n",
      "h = 10.0\n",
      "Initializing MC...\n",
      "Warming up...\n"
     ]
    },
    {
     "name": "stdout",
     "output_type": "stream",
     "text": [
      ".\n",
      "================\n",
      "finish\n",
      "Output results into 'data/magnetism2/t7.00003_J0.8/data.dat'\n"
     ]
    },
    {
     "name": "stderr",
     "output_type": "stream",
     "text": [
      "  obtained data shape: (10, 1)\n"
     ]
    },
    {
     "name": "stdout",
     "output_type": "stream",
     "text": [
      "............................."
     ]
    },
    {
     "name": "stderr",
     "output_type": "stream",
     "text": [
      "\n",
      "================\n",
      "h = 10.0\n",
      "Initializing MC...\n",
      "Warming up...\n"
     ]
    },
    {
     "name": "stdout",
     "output_type": "stream",
     "text": [
      ".\n",
      "================\n",
      "finish\n",
      "Output results into 'data/magnetism2/t7.2500275_J0.8/data.dat'\n"
     ]
    },
    {
     "name": "stderr",
     "output_type": "stream",
     "text": [
      "  obtained data shape: (10, 1)\n"
     ]
    },
    {
     "name": "stdout",
     "output_type": "stream",
     "text": [
      "............................."
     ]
    },
    {
     "name": "stderr",
     "output_type": "stream",
     "text": [
      "\n",
      "================\n",
      "h = 10.0\n",
      "Initializing MC...\n",
      "Warming up...\n"
     ]
    },
    {
     "name": "stdout",
     "output_type": "stream",
     "text": [
      ".\n",
      "================\n",
      "finish\n",
      "Output results into 'data/magnetism2/t7.500025_J0.8/data.dat'\n"
     ]
    },
    {
     "name": "stderr",
     "output_type": "stream",
     "text": [
      "  obtained data shape: (10, 1)\n"
     ]
    },
    {
     "name": "stdout",
     "output_type": "stream",
     "text": [
      "............................."
     ]
    },
    {
     "name": "stderr",
     "output_type": "stream",
     "text": [
      "\n",
      "================\n",
      "h = 10.0\n",
      "Initializing MC...\n",
      "Warming up...\n"
     ]
    },
    {
     "name": "stdout",
     "output_type": "stream",
     "text": [
      ".\n",
      "================\n",
      "finish\n",
      "Output results into 'data/magnetism2/t7.7500225_J0.8/data.dat'\n"
     ]
    },
    {
     "name": "stderr",
     "output_type": "stream",
     "text": [
      "  obtained data shape: (10, 1)\n"
     ]
    },
    {
     "name": "stdout",
     "output_type": "stream",
     "text": [
      "............................."
     ]
    },
    {
     "name": "stderr",
     "output_type": "stream",
     "text": [
      "\n",
      "================\n",
      "h = 10.0\n",
      "Initializing MC...\n",
      "Warming up...\n"
     ]
    },
    {
     "name": "stdout",
     "output_type": "stream",
     "text": [
      ".\n",
      "================\n",
      "finish\n",
      "Output results into 'data/magnetism2/t8.000020000000001_J0.8/data.dat'\n"
     ]
    },
    {
     "name": "stderr",
     "output_type": "stream",
     "text": [
      "  obtained data shape: (10, 1)\n"
     ]
    },
    {
     "name": "stdout",
     "output_type": "stream",
     "text": [
      "............................."
     ]
    },
    {
     "name": "stderr",
     "output_type": "stream",
     "text": [
      "\n",
      "================\n",
      "h = 10.0\n",
      "Initializing MC...\n",
      "Warming up...\n"
     ]
    },
    {
     "name": "stdout",
     "output_type": "stream",
     "text": [
      ".\n",
      "================\n",
      "finish\n",
      "Output results into 'data/magnetism2/t8.2500175_J0.8/data.dat'\n"
     ]
    },
    {
     "name": "stderr",
     "output_type": "stream",
     "text": [
      "  obtained data shape: (10, 1)\n"
     ]
    },
    {
     "name": "stdout",
     "output_type": "stream",
     "text": [
      "............................."
     ]
    },
    {
     "name": "stderr",
     "output_type": "stream",
     "text": [
      "\n",
      "================\n",
      "h = 10.0\n",
      "Initializing MC...\n",
      "Warming up...\n"
     ]
    },
    {
     "name": "stdout",
     "output_type": "stream",
     "text": [
      ".\n",
      "================\n",
      "finish\n",
      "Output results into 'data/magnetism2/t8.500015_J0.8/data.dat'\n"
     ]
    },
    {
     "name": "stderr",
     "output_type": "stream",
     "text": [
      "  obtained data shape: (10, 1)\n"
     ]
    },
    {
     "name": "stdout",
     "output_type": "stream",
     "text": [
      "............................."
     ]
    },
    {
     "name": "stderr",
     "output_type": "stream",
     "text": [
      "\n",
      "================\n",
      "h = 10.0\n",
      "Initializing MC...\n",
      "Warming up...\n"
     ]
    },
    {
     "name": "stdout",
     "output_type": "stream",
     "text": [
      ".\n",
      "================\n",
      "finish\n",
      "Output results into 'data/magnetism2/t8.7500125_J0.8/data.dat'\n"
     ]
    },
    {
     "name": "stderr",
     "output_type": "stream",
     "text": [
      "  obtained data shape: (10, 1)\n"
     ]
    },
    {
     "name": "stdout",
     "output_type": "stream",
     "text": [
      "............................."
     ]
    },
    {
     "name": "stderr",
     "output_type": "stream",
     "text": [
      "\n",
      "================\n",
      "h = 10.0\n",
      "Initializing MC...\n",
      "Warming up...\n"
     ]
    },
    {
     "name": "stdout",
     "output_type": "stream",
     "text": [
      ".\n",
      "================\n",
      "finish\n",
      "Output results into 'data/magnetism2/t9.00001_J0.8/data.dat'\n"
     ]
    },
    {
     "name": "stderr",
     "output_type": "stream",
     "text": [
      "  obtained data shape: (10, 1)\n"
     ]
    },
    {
     "name": "stdout",
     "output_type": "stream",
     "text": [
      "............................."
     ]
    },
    {
     "name": "stderr",
     "output_type": "stream",
     "text": [
      "\n",
      "================\n",
      "h = 10.0\n",
      "Initializing MC...\n",
      "Warming up...\n"
     ]
    },
    {
     "name": "stdout",
     "output_type": "stream",
     "text": [
      ".\n",
      "================\n",
      "finish\n",
      "Output results into 'data/magnetism2/t9.2500075_J0.8/data.dat'\n"
     ]
    },
    {
     "name": "stderr",
     "output_type": "stream",
     "text": [
      "  obtained data shape: (10, 1)\n"
     ]
    },
    {
     "name": "stdout",
     "output_type": "stream",
     "text": [
      "............................."
     ]
    },
    {
     "name": "stderr",
     "output_type": "stream",
     "text": [
      "\n",
      "================\n",
      "h = 10.0\n",
      "Initializing MC...\n",
      "Warming up...\n"
     ]
    },
    {
     "name": "stdout",
     "output_type": "stream",
     "text": [
      ".\n",
      "================\n",
      "finish\n",
      "Output results into 'data/magnetism2/t9.500005_J0.8/data.dat'\n"
     ]
    },
    {
     "name": "stderr",
     "output_type": "stream",
     "text": [
      "  obtained data shape: (10, 1)\n"
     ]
    },
    {
     "name": "stdout",
     "output_type": "stream",
     "text": [
      "............................."
     ]
    },
    {
     "name": "stderr",
     "output_type": "stream",
     "text": [
      "\n",
      "================\n",
      "h = 10.0\n",
      "Initializing MC...\n",
      "Warming up...\n"
     ]
    },
    {
     "name": "stdout",
     "output_type": "stream",
     "text": [
      ".\n",
      "================\n",
      "finish\n",
      "Output results into 'data/magnetism2/t9.7500025_J0.8/data.dat'\n"
     ]
    },
    {
     "name": "stderr",
     "output_type": "stream",
     "text": [
      "  obtained data shape: (10, 1)\n"
     ]
    },
    {
     "name": "stdout",
     "output_type": "stream",
     "text": [
      "............................."
     ]
    },
    {
     "name": "stderr",
     "output_type": "stream",
     "text": [
      "\n",
      "================\n",
      "h = 10.0\n",
      "Initializing MC...\n",
      "/home/yakkuru/computer_physics/report/submit/report3/code/tool/supplement.py:41: RuntimeWarning: overflow encountered in exp\n",
      "  prob_up.append(np.exp(-2 * K * sum_sigma))\n",
      "/home/yakkuru/computer_physics/report/submit/report3/code/tool/supplement.py:42: RuntimeWarning: overflow encountered in exp\n",
      "  prob_dn.append(np.exp(2 * K * sum_sigma))\n",
      "Warming up...\n"
     ]
    },
    {
     "name": "stdout",
     "output_type": "stream",
     "text": [
      ".\n",
      "================\n",
      "finish\n",
      "Output results into 'data/magnetism2/t10.0_J0.8/data.dat'\n"
     ]
    },
    {
     "name": "stderr",
     "output_type": "stream",
     "text": [
      "/home/yakkuru/computer_physics/report/submit/report3/code/tool/measurement.py:46: RuntimeWarning: overflow encountered in exp\n",
      "  prob_field = np.exp(beta * h * measure(_mc))\n",
      "/home/yakkuru/computer_physics/report/submit/report3/code/tool/measurement.py:49: RuntimeWarning: invalid value encountered in multiply\n",
      "  return _mc.prob_up[num_up] * prob_field\n",
      "  obtained data shape: (10, 1)\n"
     ]
    },
    {
     "name": "stdout",
     "output_type": "stream",
     "text": [
      "............................."
     ]
    },
    {
     "name": "stderr",
     "output_type": "stream",
     "text": [
      "\n",
      "================\n",
      "h = 10.0\n",
      "Initializing MC...\n",
      "Warming up...\n"
     ]
    },
    {
     "name": "stdout",
     "output_type": "stream",
     "text": [
      ".\n",
      "================\n",
      "finish\n",
      "Output results into 'data/magnetism2/t0.0001_J0.7/data.dat'\n"
     ]
    },
    {
     "name": "stderr",
     "output_type": "stream",
     "text": [
      "/home/yakkuru/computer_physics/report/submit/report3/code/tool/measurement.py:46: RuntimeWarning: overflow encountered in exp\n",
      "  prob_field = np.exp(beta * h * measure(_mc))\n",
      "  obtained data shape: (10, 1)\n"
     ]
    },
    {
     "name": "stdout",
     "output_type": "stream",
     "text": [
      "............................."
     ]
    },
    {
     "name": "stderr",
     "output_type": "stream",
     "text": [
      "\n",
      "================\n",
      "h = 10.0\n",
      "Initializing MC...\n",
      "Warming up...\n"
     ]
    },
    {
     "name": "stdout",
     "output_type": "stream",
     "text": [
      ".\n",
      "================\n",
      "finish\n",
      "Output results into 'data/magnetism2/t0.25009750000000003_J0.7/data.dat'\n"
     ]
    },
    {
     "name": "stderr",
     "output_type": "stream",
     "text": [
      "  obtained data shape: (10, 1)\n"
     ]
    },
    {
     "name": "stdout",
     "output_type": "stream",
     "text": [
      "............................."
     ]
    },
    {
     "name": "stderr",
     "output_type": "stream",
     "text": [
      "\n",
      "================\n",
      "h = 10.0\n",
      "Initializing MC...\n",
      "Warming up...\n"
     ]
    },
    {
     "name": "stdout",
     "output_type": "stream",
     "text": [
      ".\n",
      "================\n",
      "finish\n",
      "Output results into 'data/magnetism2/t0.5000950000000001_J0.7/data.dat'\n"
     ]
    },
    {
     "name": "stderr",
     "output_type": "stream",
     "text": [
      "  obtained data shape: (10, 1)\n"
     ]
    },
    {
     "name": "stdout",
     "output_type": "stream",
     "text": [
      "............................."
     ]
    },
    {
     "name": "stderr",
     "output_type": "stream",
     "text": [
      "\n",
      "================\n",
      "h = 10.0\n",
      "Initializing MC...\n",
      "Warming up...\n"
     ]
    },
    {
     "name": "stdout",
     "output_type": "stream",
     "text": [
      ".\n",
      "================\n",
      "finish\n",
      "Output results into 'data/magnetism2/t0.7500925_J0.7/data.dat'\n"
     ]
    },
    {
     "name": "stderr",
     "output_type": "stream",
     "text": [
      "  obtained data shape: (10, 1)\n"
     ]
    },
    {
     "name": "stdout",
     "output_type": "stream",
     "text": [
      "............................."
     ]
    },
    {
     "name": "stderr",
     "output_type": "stream",
     "text": [
      "\n",
      "================\n",
      "h = 10.0\n",
      "Initializing MC...\n",
      "Warming up...\n"
     ]
    },
    {
     "name": "stdout",
     "output_type": "stream",
     "text": [
      ".\n",
      "================\n",
      "finish\n",
      "Output results into 'data/magnetism2/t1.0000900000000001_J0.7/data.dat'\n"
     ]
    },
    {
     "name": "stderr",
     "output_type": "stream",
     "text": [
      "  obtained data shape: (10, 1)\n"
     ]
    },
    {
     "name": "stdout",
     "output_type": "stream",
     "text": [
      "............................."
     ]
    },
    {
     "name": "stderr",
     "output_type": "stream",
     "text": [
      "\n",
      "================\n",
      "h = 10.0\n",
      "Initializing MC...\n",
      "Warming up...\n"
     ]
    },
    {
     "name": "stdout",
     "output_type": "stream",
     "text": [
      ".\n",
      "================\n",
      "finish\n",
      "Output results into 'data/magnetism2/t1.2500875_J0.7/data.dat'\n"
     ]
    },
    {
     "name": "stderr",
     "output_type": "stream",
     "text": [
      "  obtained data shape: (10, 1)\n"
     ]
    },
    {
     "name": "stdout",
     "output_type": "stream",
     "text": [
      "............................."
     ]
    },
    {
     "name": "stderr",
     "output_type": "stream",
     "text": [
      "\n",
      "================\n",
      "h = 10.0\n",
      "Initializing MC...\n",
      "Warming up...\n"
     ]
    },
    {
     "name": "stdout",
     "output_type": "stream",
     "text": [
      ".\n",
      "================\n",
      "finish\n",
      "Output results into 'data/magnetism2/t1.5000850000000001_J0.7/data.dat'\n"
     ]
    },
    {
     "name": "stderr",
     "output_type": "stream",
     "text": [
      "  obtained data shape: (10, 1)\n"
     ]
    },
    {
     "name": "stdout",
     "output_type": "stream",
     "text": [
      "............................."
     ]
    },
    {
     "name": "stderr",
     "output_type": "stream",
     "text": [
      "\n",
      "================\n",
      "h = 10.0\n",
      "Initializing MC...\n",
      "Warming up...\n"
     ]
    },
    {
     "name": "stdout",
     "output_type": "stream",
     "text": [
      ".\n",
      "================\n",
      "finish\n",
      "Output results into 'data/magnetism2/t1.7500825_J0.7/data.dat'\n"
     ]
    },
    {
     "name": "stderr",
     "output_type": "stream",
     "text": [
      "  obtained data shape: (10, 1)\n"
     ]
    },
    {
     "name": "stdout",
     "output_type": "stream",
     "text": [
      "............................."
     ]
    },
    {
     "name": "stderr",
     "output_type": "stream",
     "text": [
      "\n",
      "================\n",
      "h = 10.0\n",
      "Initializing MC...\n",
      "Warming up...\n"
     ]
    },
    {
     "name": "stdout",
     "output_type": "stream",
     "text": [
      ".\n",
      "================\n",
      "finish\n",
      "Output results into 'data/magnetism2/t2.00008_J0.7/data.dat'\n"
     ]
    },
    {
     "name": "stderr",
     "output_type": "stream",
     "text": [
      "  obtained data shape: (10, 1)\n"
     ]
    },
    {
     "name": "stdout",
     "output_type": "stream",
     "text": [
      "............................."
     ]
    },
    {
     "name": "stderr",
     "output_type": "stream",
     "text": [
      "\n",
      "================\n",
      "h = 10.0\n",
      "Initializing MC...\n",
      "Warming up...\n"
     ]
    },
    {
     "name": "stdout",
     "output_type": "stream",
     "text": [
      ".\n",
      "================\n",
      "finish\n",
      "Output results into 'data/magnetism2/t2.2500775_J0.7/data.dat'\n"
     ]
    },
    {
     "name": "stderr",
     "output_type": "stream",
     "text": [
      "  obtained data shape: (10, 1)\n"
     ]
    },
    {
     "name": "stdout",
     "output_type": "stream",
     "text": [
      "............................."
     ]
    },
    {
     "name": "stderr",
     "output_type": "stream",
     "text": [
      "\n",
      "================\n",
      "h = 10.0\n",
      "Initializing MC...\n",
      "Warming up...\n"
     ]
    },
    {
     "name": "stdout",
     "output_type": "stream",
     "text": [
      ".\n",
      "================\n",
      "finish\n",
      "Output results into 'data/magnetism2/t2.5000750000000003_J0.7/data.dat'\n"
     ]
    },
    {
     "name": "stderr",
     "output_type": "stream",
     "text": [
      "  obtained data shape: (10, 1)\n"
     ]
    },
    {
     "name": "stdout",
     "output_type": "stream",
     "text": [
      "............................."
     ]
    },
    {
     "name": "stderr",
     "output_type": "stream",
     "text": [
      "\n",
      "================\n",
      "h = 10.0\n",
      "Initializing MC...\n",
      "Warming up...\n"
     ]
    },
    {
     "name": "stdout",
     "output_type": "stream",
     "text": [
      ".\n",
      "================\n",
      "finish\n",
      "Output results into 'data/magnetism2/t2.7500725000000004_J0.7/data.dat'\n"
     ]
    },
    {
     "name": "stderr",
     "output_type": "stream",
     "text": [
      "  obtained data shape: (10, 1)\n"
     ]
    },
    {
     "name": "stdout",
     "output_type": "stream",
     "text": [
      "............................."
     ]
    },
    {
     "name": "stderr",
     "output_type": "stream",
     "text": [
      "\n",
      "================\n",
      "h = 10.0\n",
      "Initializing MC...\n",
      "Warming up...\n"
     ]
    },
    {
     "name": "stdout",
     "output_type": "stream",
     "text": [
      ".\n",
      "================\n",
      "finish\n",
      "Output results into 'data/magnetism2/t3.0000700000000005_J0.7/data.dat'\n"
     ]
    },
    {
     "name": "stderr",
     "output_type": "stream",
     "text": [
      "  obtained data shape: (10, 1)\n"
     ]
    },
    {
     "name": "stdout",
     "output_type": "stream",
     "text": [
      "............................."
     ]
    },
    {
     "name": "stderr",
     "output_type": "stream",
     "text": [
      "\n",
      "================\n",
      "h = 10.0\n",
      "Initializing MC...\n",
      "Warming up...\n"
     ]
    },
    {
     "name": "stdout",
     "output_type": "stream",
     "text": [
      ".\n",
      "================\n",
      "finish\n",
      "Output results into 'data/magnetism2/t3.2500675000000006_J0.7/data.dat'\n"
     ]
    },
    {
     "name": "stderr",
     "output_type": "stream",
     "text": [
      "  obtained data shape: (10, 1)\n"
     ]
    },
    {
     "name": "stdout",
     "output_type": "stream",
     "text": [
      "..............................\n",
      "================\n",
      "finish\n",
      "Output results into 'data/magnetism2/t3.500065_J0.7/data.dat'\n"
     ]
    },
    {
     "name": "stderr",
     "output_type": "stream",
     "text": [
      "\n",
      "================\n",
      "h = 10.0\n",
      "Initializing MC...\n",
      "Warming up...\n",
      "  obtained data shape: (10, 1)\n"
     ]
    },
    {
     "name": "stdout",
     "output_type": "stream",
     "text": [
      "............................."
     ]
    },
    {
     "name": "stderr",
     "output_type": "stream",
     "text": [
      "\n",
      "================\n",
      "h = 10.0\n",
      "Initializing MC...\n",
      "Warming up...\n"
     ]
    },
    {
     "name": "stdout",
     "output_type": "stream",
     "text": [
      ".\n",
      "================\n",
      "finish\n",
      "Output results into 'data/magnetism2/t3.7500625000000003_J0.7/data.dat'\n"
     ]
    },
    {
     "name": "stderr",
     "output_type": "stream",
     "text": [
      "  obtained data shape: (10, 1)\n"
     ]
    },
    {
     "name": "stdout",
     "output_type": "stream",
     "text": [
      "............................."
     ]
    },
    {
     "name": "stderr",
     "output_type": "stream",
     "text": [
      "\n",
      "================\n",
      "h = 10.0\n",
      "Initializing MC...\n",
      "Warming up...\n"
     ]
    },
    {
     "name": "stdout",
     "output_type": "stream",
     "text": [
      ".\n",
      "================\n",
      "finish\n",
      "Output results into 'data/magnetism2/t4.00006_J0.7/data.dat'\n"
     ]
    },
    {
     "name": "stderr",
     "output_type": "stream",
     "text": [
      "  obtained data shape: (10, 1)\n"
     ]
    },
    {
     "name": "stdout",
     "output_type": "stream",
     "text": [
      "............................."
     ]
    },
    {
     "name": "stderr",
     "output_type": "stream",
     "text": [
      "\n",
      "================\n",
      "h = 10.0\n",
      "Initializing MC...\n",
      "Warming up...\n"
     ]
    },
    {
     "name": "stdout",
     "output_type": "stream",
     "text": [
      ".\n",
      "================\n",
      "finish\n",
      "Output results into 'data/magnetism2/t4.2500575_J0.7/data.dat'\n"
     ]
    },
    {
     "name": "stderr",
     "output_type": "stream",
     "text": [
      "  obtained data shape: (10, 1)\n"
     ]
    },
    {
     "name": "stdout",
     "output_type": "stream",
     "text": [
      "............................."
     ]
    },
    {
     "name": "stderr",
     "output_type": "stream",
     "text": [
      "\n",
      "================\n",
      "h = 10.0\n",
      "Initializing MC...\n",
      "Warming up...\n"
     ]
    },
    {
     "name": "stdout",
     "output_type": "stream",
     "text": [
      ".\n",
      "================\n",
      "finish\n",
      "Output results into 'data/magnetism2/t4.500055_J0.7/data.dat'\n"
     ]
    },
    {
     "name": "stderr",
     "output_type": "stream",
     "text": [
      "  obtained data shape: (10, 1)\n"
     ]
    },
    {
     "name": "stdout",
     "output_type": "stream",
     "text": [
      "............................."
     ]
    },
    {
     "name": "stderr",
     "output_type": "stream",
     "text": [
      "\n",
      "================\n",
      "h = 10.0\n",
      "Initializing MC...\n",
      "Warming up...\n"
     ]
    },
    {
     "name": "stdout",
     "output_type": "stream",
     "text": [
      ".\n",
      "================\n",
      "finish\n",
      "Output results into 'data/magnetism2/t4.7500525_J0.7/data.dat'\n"
     ]
    },
    {
     "name": "stderr",
     "output_type": "stream",
     "text": [
      "  obtained data shape: (10, 1)\n"
     ]
    },
    {
     "name": "stdout",
     "output_type": "stream",
     "text": [
      "............................."
     ]
    },
    {
     "name": "stderr",
     "output_type": "stream",
     "text": [
      "\n",
      "================\n",
      "h = 10.0\n",
      "Initializing MC...\n",
      "Warming up...\n"
     ]
    },
    {
     "name": "stdout",
     "output_type": "stream",
     "text": [
      ".\n",
      "================\n",
      "finish\n",
      "Output results into 'data/magnetism2/t5.00005_J0.7/data.dat'\n"
     ]
    },
    {
     "name": "stderr",
     "output_type": "stream",
     "text": [
      "  obtained data shape: (10, 1)\n"
     ]
    },
    {
     "name": "stdout",
     "output_type": "stream",
     "text": [
      "............................."
     ]
    },
    {
     "name": "stderr",
     "output_type": "stream",
     "text": [
      "\n",
      "================\n",
      "h = 10.0\n",
      "Initializing MC...\n",
      "Warming up...\n"
     ]
    },
    {
     "name": "stdout",
     "output_type": "stream",
     "text": [
      ".\n",
      "================\n",
      "finish\n",
      "Output results into 'data/magnetism2/t5.2500475_J0.7/data.dat'\n"
     ]
    },
    {
     "name": "stderr",
     "output_type": "stream",
     "text": [
      "  obtained data shape: (10, 1)\n"
     ]
    },
    {
     "name": "stdout",
     "output_type": "stream",
     "text": [
      "............................."
     ]
    },
    {
     "name": "stderr",
     "output_type": "stream",
     "text": [
      "\n",
      "================\n",
      "h = 10.0\n",
      "Initializing MC...\n",
      "Warming up...\n"
     ]
    },
    {
     "name": "stdout",
     "output_type": "stream",
     "text": [
      ".\n",
      "================\n",
      "finish\n",
      "Output results into 'data/magnetism2/t5.500045_J0.7/data.dat'\n"
     ]
    },
    {
     "name": "stderr",
     "output_type": "stream",
     "text": [
      "  obtained data shape: (10, 1)\n"
     ]
    },
    {
     "name": "stdout",
     "output_type": "stream",
     "text": [
      "............................."
     ]
    },
    {
     "name": "stderr",
     "output_type": "stream",
     "text": [
      "\n",
      "================\n",
      "h = 10.0\n",
      "Initializing MC...\n",
      "Warming up...\n"
     ]
    },
    {
     "name": "stdout",
     "output_type": "stream",
     "text": [
      ".\n",
      "================\n",
      "finish\n",
      "Output results into 'data/magnetism2/t5.7500425_J0.7/data.dat'\n"
     ]
    },
    {
     "name": "stderr",
     "output_type": "stream",
     "text": [
      "  obtained data shape: (10, 1)\n"
     ]
    },
    {
     "name": "stdout",
     "output_type": "stream",
     "text": [
      "............................."
     ]
    },
    {
     "name": "stderr",
     "output_type": "stream",
     "text": [
      "\n",
      "================\n",
      "h = 10.0\n",
      "Initializing MC...\n",
      "Warming up...\n"
     ]
    },
    {
     "name": "stdout",
     "output_type": "stream",
     "text": [
      ".\n",
      "================\n",
      "finish\n",
      "Output results into 'data/magnetism2/t6.00004_J0.7/data.dat'\n"
     ]
    },
    {
     "name": "stderr",
     "output_type": "stream",
     "text": [
      "  obtained data shape: (10, 1)\n"
     ]
    },
    {
     "name": "stdout",
     "output_type": "stream",
     "text": [
      "............................."
     ]
    },
    {
     "name": "stderr",
     "output_type": "stream",
     "text": [
      "\n",
      "================\n",
      "h = 10.0\n",
      "Initializing MC...\n",
      "Warming up...\n"
     ]
    },
    {
     "name": "stdout",
     "output_type": "stream",
     "text": [
      ".\n",
      "================\n",
      "finish\n",
      "Output results into 'data/magnetism2/t6.2500375_J0.7/data.dat'\n"
     ]
    },
    {
     "name": "stderr",
     "output_type": "stream",
     "text": [
      "  obtained data shape: (10, 1)\n"
     ]
    },
    {
     "name": "stdout",
     "output_type": "stream",
     "text": [
      "............................."
     ]
    },
    {
     "name": "stderr",
     "output_type": "stream",
     "text": [
      "\n",
      "================\n",
      "h = 10.0\n",
      "Initializing MC...\n",
      "Warming up...\n"
     ]
    },
    {
     "name": "stdout",
     "output_type": "stream",
     "text": [
      ".\n",
      "================\n",
      "finish\n",
      "Output results into 'data/magnetism2/t6.5000350000000005_J0.7/data.dat'\n"
     ]
    },
    {
     "name": "stderr",
     "output_type": "stream",
     "text": [
      "  obtained data shape: (10, 1)\n"
     ]
    },
    {
     "name": "stdout",
     "output_type": "stream",
     "text": [
      "............................."
     ]
    },
    {
     "name": "stderr",
     "output_type": "stream",
     "text": [
      "\n",
      "================\n",
      "h = 10.0\n",
      "Initializing MC...\n",
      "Warming up...\n"
     ]
    },
    {
     "name": "stdout",
     "output_type": "stream",
     "text": [
      ".\n",
      "================\n",
      "finish\n",
      "Output results into 'data/magnetism2/t6.7500325_J0.7/data.dat'\n"
     ]
    },
    {
     "name": "stderr",
     "output_type": "stream",
     "text": [
      "  obtained data shape: (10, 1)\n"
     ]
    },
    {
     "name": "stdout",
     "output_type": "stream",
     "text": [
      "............................."
     ]
    },
    {
     "name": "stderr",
     "output_type": "stream",
     "text": [
      "\n",
      "================\n",
      "h = 10.0\n",
      "Initializing MC...\n",
      "Warming up...\n"
     ]
    },
    {
     "name": "stdout",
     "output_type": "stream",
     "text": [
      ".\n",
      "================\n",
      "finish\n",
      "Output results into 'data/magnetism2/t7.00003_J0.7/data.dat'\n"
     ]
    },
    {
     "name": "stderr",
     "output_type": "stream",
     "text": [
      "  obtained data shape: (10, 1)\n"
     ]
    },
    {
     "name": "stdout",
     "output_type": "stream",
     "text": [
      "............................."
     ]
    },
    {
     "name": "stderr",
     "output_type": "stream",
     "text": [
      "\n",
      "================\n",
      "h = 10.0\n",
      "Initializing MC...\n",
      "Warming up...\n"
     ]
    },
    {
     "name": "stdout",
     "output_type": "stream",
     "text": [
      ".\n",
      "================\n",
      "finish\n",
      "Output results into 'data/magnetism2/t7.2500275_J0.7/data.dat'\n"
     ]
    },
    {
     "name": "stderr",
     "output_type": "stream",
     "text": [
      "  obtained data shape: (10, 1)\n"
     ]
    },
    {
     "name": "stdout",
     "output_type": "stream",
     "text": [
      "............................."
     ]
    },
    {
     "name": "stderr",
     "output_type": "stream",
     "text": [
      "\n",
      "================\n",
      "h = 10.0\n",
      "Initializing MC...\n",
      "Warming up...\n"
     ]
    },
    {
     "name": "stdout",
     "output_type": "stream",
     "text": [
      ".\n",
      "================\n",
      "finish\n",
      "Output results into 'data/magnetism2/t7.500025_J0.7/data.dat'\n"
     ]
    },
    {
     "name": "stderr",
     "output_type": "stream",
     "text": [
      "  obtained data shape: (10, 1)\n"
     ]
    },
    {
     "name": "stdout",
     "output_type": "stream",
     "text": [
      "............................."
     ]
    },
    {
     "name": "stderr",
     "output_type": "stream",
     "text": [
      "\n",
      "================\n",
      "h = 10.0\n",
      "Initializing MC...\n",
      "Warming up...\n"
     ]
    },
    {
     "name": "stdout",
     "output_type": "stream",
     "text": [
      ".\n",
      "================\n",
      "finish\n",
      "Output results into 'data/magnetism2/t7.7500225_J0.7/data.dat'\n"
     ]
    },
    {
     "name": "stderr",
     "output_type": "stream",
     "text": [
      "  obtained data shape: (10, 1)\n"
     ]
    },
    {
     "name": "stdout",
     "output_type": "stream",
     "text": [
      "............................."
     ]
    },
    {
     "name": "stderr",
     "output_type": "stream",
     "text": [
      "\n",
      "================\n",
      "h = 10.0\n",
      "Initializing MC...\n",
      "Warming up...\n"
     ]
    },
    {
     "name": "stdout",
     "output_type": "stream",
     "text": [
      ".\n",
      "================\n",
      "finish\n",
      "Output results into 'data/magnetism2/t8.000020000000001_J0.7/data.dat'\n"
     ]
    },
    {
     "name": "stderr",
     "output_type": "stream",
     "text": [
      "  obtained data shape: (10, 1)\n"
     ]
    },
    {
     "name": "stdout",
     "output_type": "stream",
     "text": [
      "............................."
     ]
    },
    {
     "name": "stderr",
     "output_type": "stream",
     "text": [
      "\n",
      "================\n",
      "h = 10.0\n",
      "Initializing MC...\n",
      "Warming up...\n"
     ]
    },
    {
     "name": "stdout",
     "output_type": "stream",
     "text": [
      ".\n",
      "================\n",
      "finish\n",
      "Output results into 'data/magnetism2/t8.2500175_J0.7/data.dat'\n"
     ]
    },
    {
     "name": "stderr",
     "output_type": "stream",
     "text": [
      "  obtained data shape: (10, 1)\n"
     ]
    },
    {
     "name": "stdout",
     "output_type": "stream",
     "text": [
      "............................."
     ]
    },
    {
     "name": "stderr",
     "output_type": "stream",
     "text": [
      "\n",
      "================\n",
      "h = 10.0\n",
      "Initializing MC...\n",
      "Warming up...\n"
     ]
    },
    {
     "name": "stdout",
     "output_type": "stream",
     "text": [
      ".\n",
      "================\n",
      "finish\n",
      "Output results into 'data/magnetism2/t8.500015_J0.7/data.dat'\n"
     ]
    },
    {
     "name": "stderr",
     "output_type": "stream",
     "text": [
      "  obtained data shape: (10, 1)\n"
     ]
    },
    {
     "name": "stdout",
     "output_type": "stream",
     "text": [
      "............................."
     ]
    },
    {
     "name": "stderr",
     "output_type": "stream",
     "text": [
      "\n",
      "================\n",
      "h = 10.0\n",
      "Initializing MC...\n",
      "Warming up...\n"
     ]
    },
    {
     "name": "stdout",
     "output_type": "stream",
     "text": [
      ".\n",
      "================\n",
      "finish\n",
      "Output results into 'data/magnetism2/t8.7500125_J0.7/data.dat'\n"
     ]
    },
    {
     "name": "stderr",
     "output_type": "stream",
     "text": [
      "  obtained data shape: (10, 1)\n"
     ]
    },
    {
     "name": "stdout",
     "output_type": "stream",
     "text": [
      "............................."
     ]
    },
    {
     "name": "stderr",
     "output_type": "stream",
     "text": [
      "\n",
      "================\n",
      "h = 10.0\n",
      "Initializing MC...\n",
      "Warming up...\n"
     ]
    },
    {
     "name": "stdout",
     "output_type": "stream",
     "text": [
      ".\n",
      "================\n",
      "finish\n",
      "Output results into 'data/magnetism2/t9.00001_J0.7/data.dat'\n"
     ]
    },
    {
     "name": "stderr",
     "output_type": "stream",
     "text": [
      "  obtained data shape: (10, 1)\n"
     ]
    },
    {
     "name": "stdout",
     "output_type": "stream",
     "text": [
      "............................."
     ]
    },
    {
     "name": "stderr",
     "output_type": "stream",
     "text": [
      "\n",
      "================\n",
      "h = 10.0\n",
      "Initializing MC...\n",
      "Warming up...\n"
     ]
    },
    {
     "name": "stdout",
     "output_type": "stream",
     "text": [
      ".\n",
      "================\n",
      "finish\n",
      "Output results into 'data/magnetism2/t9.2500075_J0.7/data.dat'\n"
     ]
    },
    {
     "name": "stderr",
     "output_type": "stream",
     "text": [
      "  obtained data shape: (10, 1)\n"
     ]
    },
    {
     "name": "stdout",
     "output_type": "stream",
     "text": [
      "............................."
     ]
    },
    {
     "name": "stderr",
     "output_type": "stream",
     "text": [
      "\n",
      "================\n",
      "h = 10.0\n",
      "Initializing MC...\n",
      "Warming up...\n"
     ]
    },
    {
     "name": "stdout",
     "output_type": "stream",
     "text": [
      ".\n",
      "================\n",
      "finish\n",
      "Output results into 'data/magnetism2/t9.500005_J0.7/data.dat'\n"
     ]
    },
    {
     "name": "stderr",
     "output_type": "stream",
     "text": [
      "  obtained data shape: (10, 1)\n"
     ]
    },
    {
     "name": "stdout",
     "output_type": "stream",
     "text": [
      "............................."
     ]
    },
    {
     "name": "stderr",
     "output_type": "stream",
     "text": [
      "\n",
      "================\n",
      "h = 10.0\n",
      "Initializing MC...\n",
      "Warming up...\n"
     ]
    },
    {
     "name": "stdout",
     "output_type": "stream",
     "text": [
      ".\n",
      "================\n",
      "finish\n",
      "Output results into 'data/magnetism2/t9.7500025_J0.7/data.dat'\n"
     ]
    },
    {
     "name": "stderr",
     "output_type": "stream",
     "text": [
      "  obtained data shape: (10, 1)\n"
     ]
    },
    {
     "name": "stdout",
     "output_type": "stream",
     "text": [
      "............................."
     ]
    },
    {
     "name": "stderr",
     "output_type": "stream",
     "text": [
      "\n",
      "================\n",
      "h = 10.0\n",
      "Initializing MC...\n",
      "/home/yakkuru/computer_physics/report/submit/report3/code/tool/supplement.py:41: RuntimeWarning: overflow encountered in exp\n",
      "  prob_up.append(np.exp(-2 * K * sum_sigma))\n",
      "/home/yakkuru/computer_physics/report/submit/report3/code/tool/supplement.py:42: RuntimeWarning: overflow encountered in exp\n",
      "  prob_dn.append(np.exp(2 * K * sum_sigma))\n",
      "Warming up...\n"
     ]
    },
    {
     "name": "stdout",
     "output_type": "stream",
     "text": [
      ".\n",
      "================\n",
      "finish\n",
      "Output results into 'data/magnetism2/t10.0_J0.7/data.dat'\n"
     ]
    },
    {
     "name": "stderr",
     "output_type": "stream",
     "text": [
      "/home/yakkuru/computer_physics/report/submit/report3/code/tool/measurement.py:46: RuntimeWarning: overflow encountered in exp\n",
      "  prob_field = np.exp(beta * h * measure(_mc))\n",
      "/home/yakkuru/computer_physics/report/submit/report3/code/tool/measurement.py:49: RuntimeWarning: invalid value encountered in multiply\n",
      "  return _mc.prob_up[num_up] * prob_field\n",
      "  obtained data shape: (10, 1)\n"
     ]
    },
    {
     "name": "stdout",
     "output_type": "stream",
     "text": [
      "............................."
     ]
    },
    {
     "name": "stderr",
     "output_type": "stream",
     "text": [
      "\n",
      "================\n",
      "h = 10.0\n",
      "Initializing MC...\n",
      "Warming up...\n"
     ]
    },
    {
     "name": "stdout",
     "output_type": "stream",
     "text": [
      ".\n",
      "================\n",
      "finish\n",
      "Output results into 'data/magnetism2/t0.0001_J0.6/data.dat'\n"
     ]
    },
    {
     "name": "stderr",
     "output_type": "stream",
     "text": [
      "/home/yakkuru/computer_physics/report/submit/report3/code/tool/measurement.py:46: RuntimeWarning: overflow encountered in exp\n",
      "  prob_field = np.exp(beta * h * measure(_mc))\n",
      "  obtained data shape: (10, 1)\n"
     ]
    },
    {
     "name": "stdout",
     "output_type": "stream",
     "text": [
      "............................."
     ]
    },
    {
     "name": "stderr",
     "output_type": "stream",
     "text": [
      "\n",
      "================\n",
      "h = 10.0\n",
      "Initializing MC...\n",
      "Warming up...\n"
     ]
    },
    {
     "name": "stdout",
     "output_type": "stream",
     "text": [
      ".\n",
      "================\n",
      "finish\n",
      "Output results into 'data/magnetism2/t0.25009750000000003_J0.6/data.dat'\n"
     ]
    },
    {
     "name": "stderr",
     "output_type": "stream",
     "text": [
      "  obtained data shape: (10, 1)\n"
     ]
    },
    {
     "name": "stdout",
     "output_type": "stream",
     "text": [
      "............................."
     ]
    },
    {
     "name": "stderr",
     "output_type": "stream",
     "text": [
      "\n",
      "================\n",
      "h = 10.0\n",
      "Initializing MC...\n",
      "Warming up...\n"
     ]
    },
    {
     "name": "stdout",
     "output_type": "stream",
     "text": [
      ".\n",
      "================\n",
      "finish\n",
      "Output results into 'data/magnetism2/t0.5000950000000001_J0.6/data.dat'\n"
     ]
    },
    {
     "name": "stderr",
     "output_type": "stream",
     "text": [
      "  obtained data shape: (10, 1)\n"
     ]
    },
    {
     "name": "stdout",
     "output_type": "stream",
     "text": [
      "............................."
     ]
    },
    {
     "name": "stderr",
     "output_type": "stream",
     "text": [
      "\n",
      "================\n",
      "h = 10.0\n",
      "Initializing MC...\n",
      "Warming up...\n"
     ]
    },
    {
     "name": "stdout",
     "output_type": "stream",
     "text": [
      ".\n",
      "================\n",
      "finish\n",
      "Output results into 'data/magnetism2/t0.7500925_J0.6/data.dat'\n"
     ]
    },
    {
     "name": "stderr",
     "output_type": "stream",
     "text": [
      "  obtained data shape: (10, 1)\n"
     ]
    },
    {
     "name": "stdout",
     "output_type": "stream",
     "text": [
      "............................."
     ]
    },
    {
     "name": "stderr",
     "output_type": "stream",
     "text": [
      "\n",
      "================\n",
      "h = 10.0\n",
      "Initializing MC...\n",
      "Warming up...\n"
     ]
    },
    {
     "name": "stdout",
     "output_type": "stream",
     "text": [
      ".\n",
      "================\n",
      "finish\n",
      "Output results into 'data/magnetism2/t1.0000900000000001_J0.6/data.dat'\n"
     ]
    },
    {
     "name": "stderr",
     "output_type": "stream",
     "text": [
      "  obtained data shape: (10, 1)\n"
     ]
    },
    {
     "name": "stdout",
     "output_type": "stream",
     "text": [
      "............................."
     ]
    },
    {
     "name": "stderr",
     "output_type": "stream",
     "text": [
      "\n",
      "================\n",
      "h = 10.0\n",
      "Initializing MC...\n",
      "Warming up...\n"
     ]
    },
    {
     "name": "stdout",
     "output_type": "stream",
     "text": [
      ".\n",
      "================\n",
      "finish\n",
      "Output results into 'data/magnetism2/t1.2500875_J0.6/data.dat'\n"
     ]
    },
    {
     "name": "stderr",
     "output_type": "stream",
     "text": [
      "  obtained data shape: (10, 1)\n"
     ]
    },
    {
     "name": "stdout",
     "output_type": "stream",
     "text": [
      "............................."
     ]
    },
    {
     "name": "stderr",
     "output_type": "stream",
     "text": [
      "\n",
      "================\n",
      "h = 10.0\n",
      "Initializing MC...\n",
      "Warming up...\n"
     ]
    },
    {
     "name": "stdout",
     "output_type": "stream",
     "text": [
      ".\n",
      "================\n",
      "finish\n",
      "Output results into 'data/magnetism2/t1.5000850000000001_J0.6/data.dat'\n"
     ]
    },
    {
     "name": "stderr",
     "output_type": "stream",
     "text": [
      "  obtained data shape: (10, 1)\n"
     ]
    },
    {
     "name": "stdout",
     "output_type": "stream",
     "text": [
      "............................."
     ]
    },
    {
     "name": "stderr",
     "output_type": "stream",
     "text": [
      "\n",
      "================\n",
      "h = 10.0\n",
      "Initializing MC...\n",
      "Warming up...\n"
     ]
    },
    {
     "name": "stdout",
     "output_type": "stream",
     "text": [
      ".\n",
      "================\n",
      "finish\n",
      "Output results into 'data/magnetism2/t1.7500825_J0.6/data.dat'\n"
     ]
    },
    {
     "name": "stderr",
     "output_type": "stream",
     "text": [
      "  obtained data shape: (10, 1)\n"
     ]
    },
    {
     "name": "stdout",
     "output_type": "stream",
     "text": [
      "............................."
     ]
    },
    {
     "name": "stderr",
     "output_type": "stream",
     "text": [
      "\n",
      "================\n",
      "h = 10.0\n",
      "Initializing MC...\n",
      "Warming up...\n"
     ]
    },
    {
     "name": "stdout",
     "output_type": "stream",
     "text": [
      ".\n",
      "================\n",
      "finish\n",
      "Output results into 'data/magnetism2/t2.00008_J0.6/data.dat'\n"
     ]
    },
    {
     "name": "stderr",
     "output_type": "stream",
     "text": [
      "  obtained data shape: (10, 1)\n"
     ]
    },
    {
     "name": "stdout",
     "output_type": "stream",
     "text": [
      "............................."
     ]
    },
    {
     "name": "stderr",
     "output_type": "stream",
     "text": [
      "\n",
      "================\n",
      "h = 10.0\n",
      "Initializing MC...\n",
      "Warming up...\n"
     ]
    },
    {
     "name": "stdout",
     "output_type": "stream",
     "text": [
      ".\n",
      "================\n",
      "finish\n",
      "Output results into 'data/magnetism2/t2.2500775_J0.6/data.dat'\n"
     ]
    },
    {
     "name": "stderr",
     "output_type": "stream",
     "text": [
      "  obtained data shape: (10, 1)\n"
     ]
    },
    {
     "name": "stdout",
     "output_type": "stream",
     "text": [
      "............................."
     ]
    },
    {
     "name": "stderr",
     "output_type": "stream",
     "text": [
      "\n",
      "================\n",
      "h = 10.0\n",
      "Initializing MC...\n",
      "Warming up...\n"
     ]
    },
    {
     "name": "stdout",
     "output_type": "stream",
     "text": [
      ".\n",
      "================\n",
      "finish\n",
      "Output results into 'data/magnetism2/t2.5000750000000003_J0.6/data.dat'\n"
     ]
    },
    {
     "name": "stderr",
     "output_type": "stream",
     "text": [
      "  obtained data shape: (10, 1)\n"
     ]
    },
    {
     "name": "stdout",
     "output_type": "stream",
     "text": [
      "............................."
     ]
    },
    {
     "name": "stderr",
     "output_type": "stream",
     "text": [
      "\n",
      "================\n",
      "h = 10.0\n",
      "Initializing MC...\n",
      "Warming up...\n"
     ]
    },
    {
     "name": "stdout",
     "output_type": "stream",
     "text": [
      ".\n",
      "================\n",
      "finish\n",
      "Output results into 'data/magnetism2/t2.7500725000000004_J0.6/data.dat'\n"
     ]
    },
    {
     "name": "stderr",
     "output_type": "stream",
     "text": [
      "  obtained data shape: (10, 1)\n"
     ]
    },
    {
     "name": "stdout",
     "output_type": "stream",
     "text": [
      "............................."
     ]
    },
    {
     "name": "stderr",
     "output_type": "stream",
     "text": [
      "\n",
      "================\n",
      "h = 10.0\n",
      "Initializing MC...\n",
      "Warming up...\n"
     ]
    },
    {
     "name": "stdout",
     "output_type": "stream",
     "text": [
      ".\n",
      "================\n",
      "finish\n",
      "Output results into 'data/magnetism2/t3.0000700000000005_J0.6/data.dat'\n"
     ]
    },
    {
     "name": "stderr",
     "output_type": "stream",
     "text": [
      "  obtained data shape: (10, 1)\n"
     ]
    },
    {
     "name": "stdout",
     "output_type": "stream",
     "text": [
      "............................."
     ]
    },
    {
     "name": "stderr",
     "output_type": "stream",
     "text": [
      "\n",
      "================\n",
      "h = 10.0\n",
      "Initializing MC...\n",
      "Warming up...\n"
     ]
    },
    {
     "name": "stdout",
     "output_type": "stream",
     "text": [
      ".\n",
      "================\n",
      "finish\n",
      "Output results into 'data/magnetism2/t3.2500675000000006_J0.6/data.dat'\n"
     ]
    },
    {
     "name": "stderr",
     "output_type": "stream",
     "text": [
      "  obtained data shape: (10, 1)\n"
     ]
    },
    {
     "name": "stdout",
     "output_type": "stream",
     "text": [
      "............................."
     ]
    },
    {
     "name": "stderr",
     "output_type": "stream",
     "text": [
      "\n",
      "================\n",
      "h = 10.0\n",
      "Initializing MC...\n",
      "Warming up...\n"
     ]
    },
    {
     "name": "stdout",
     "output_type": "stream",
     "text": [
      ".\n",
      "================\n",
      "finish\n",
      "Output results into 'data/magnetism2/t3.500065_J0.6/data.dat'\n"
     ]
    },
    {
     "name": "stderr",
     "output_type": "stream",
     "text": [
      "  obtained data shape: (10, 1)\n"
     ]
    },
    {
     "name": "stdout",
     "output_type": "stream",
     "text": [
      "............................."
     ]
    },
    {
     "name": "stderr",
     "output_type": "stream",
     "text": [
      "\n",
      "================\n",
      "h = 10.0\n",
      "Initializing MC...\n",
      "Warming up...\n"
     ]
    },
    {
     "name": "stdout",
     "output_type": "stream",
     "text": [
      ".\n",
      "================\n",
      "finish\n",
      "Output results into 'data/magnetism2/t3.7500625000000003_J0.6/data.dat'\n"
     ]
    },
    {
     "name": "stderr",
     "output_type": "stream",
     "text": [
      "  obtained data shape: (10, 1)\n"
     ]
    },
    {
     "name": "stdout",
     "output_type": "stream",
     "text": [
      "............................."
     ]
    },
    {
     "name": "stderr",
     "output_type": "stream",
     "text": [
      "\n",
      "================\n",
      "h = 10.0\n",
      "Initializing MC...\n",
      "Warming up...\n"
     ]
    },
    {
     "name": "stdout",
     "output_type": "stream",
     "text": [
      ".\n",
      "================\n",
      "finish\n",
      "Output results into 'data/magnetism2/t4.00006_J0.6/data.dat'\n"
     ]
    },
    {
     "name": "stderr",
     "output_type": "stream",
     "text": [
      "  obtained data shape: (10, 1)\n"
     ]
    },
    {
     "name": "stdout",
     "output_type": "stream",
     "text": [
      "............................."
     ]
    },
    {
     "name": "stderr",
     "output_type": "stream",
     "text": [
      "\n",
      "================\n",
      "h = 10.0\n",
      "Initializing MC...\n",
      "Warming up...\n"
     ]
    },
    {
     "name": "stdout",
     "output_type": "stream",
     "text": [
      ".\n",
      "================\n",
      "finish\n",
      "Output results into 'data/magnetism2/t4.2500575_J0.6/data.dat'\n"
     ]
    },
    {
     "name": "stderr",
     "output_type": "stream",
     "text": [
      "  obtained data shape: (10, 1)\n"
     ]
    },
    {
     "name": "stdout",
     "output_type": "stream",
     "text": [
      "..............................\n",
      "================\n",
      "finish\n",
      "Output results into 'data/magnetism2/t4.500055_J0.6/data.dat'\n"
     ]
    },
    {
     "name": "stderr",
     "output_type": "stream",
     "text": [
      "\n",
      "================\n",
      "h = 10.0\n",
      "Initializing MC...\n",
      "Warming up...\n",
      "  obtained data shape: (10, 1)\n"
     ]
    },
    {
     "name": "stdout",
     "output_type": "stream",
     "text": [
      "............................."
     ]
    },
    {
     "name": "stderr",
     "output_type": "stream",
     "text": [
      "\n",
      "================\n",
      "h = 10.0\n",
      "Initializing MC...\n",
      "Warming up...\n"
     ]
    },
    {
     "name": "stdout",
     "output_type": "stream",
     "text": [
      ".\n",
      "================\n",
      "finish\n",
      "Output results into 'data/magnetism2/t4.7500525_J0.6/data.dat'\n"
     ]
    },
    {
     "name": "stderr",
     "output_type": "stream",
     "text": [
      "  obtained data shape: (10, 1)\n"
     ]
    },
    {
     "name": "stdout",
     "output_type": "stream",
     "text": [
      "............................."
     ]
    },
    {
     "name": "stderr",
     "output_type": "stream",
     "text": [
      "\n",
      "================\n",
      "h = 10.0\n",
      "Initializing MC...\n",
      "Warming up...\n"
     ]
    },
    {
     "name": "stdout",
     "output_type": "stream",
     "text": [
      ".\n",
      "================\n",
      "finish\n",
      "Output results into 'data/magnetism2/t5.00005_J0.6/data.dat'\n"
     ]
    },
    {
     "name": "stderr",
     "output_type": "stream",
     "text": [
      "  obtained data shape: (10, 1)\n"
     ]
    },
    {
     "name": "stdout",
     "output_type": "stream",
     "text": [
      "............................."
     ]
    },
    {
     "name": "stderr",
     "output_type": "stream",
     "text": [
      "\n",
      "================\n",
      "h = 10.0\n",
      "Initializing MC...\n",
      "Warming up...\n"
     ]
    },
    {
     "name": "stdout",
     "output_type": "stream",
     "text": [
      ".\n",
      "================\n",
      "finish\n",
      "Output results into 'data/magnetism2/t5.2500475_J0.6/data.dat'\n"
     ]
    },
    {
     "name": "stderr",
     "output_type": "stream",
     "text": [
      "  obtained data shape: (10, 1)\n"
     ]
    },
    {
     "name": "stdout",
     "output_type": "stream",
     "text": [
      "............................."
     ]
    },
    {
     "name": "stderr",
     "output_type": "stream",
     "text": [
      "\n",
      "================\n",
      "h = 10.0\n",
      "Initializing MC...\n",
      "Warming up...\n"
     ]
    },
    {
     "name": "stdout",
     "output_type": "stream",
     "text": [
      ".\n",
      "================\n",
      "finish\n",
      "Output results into 'data/magnetism2/t5.500045_J0.6/data.dat'\n"
     ]
    },
    {
     "name": "stderr",
     "output_type": "stream",
     "text": [
      "  obtained data shape: (10, 1)\n"
     ]
    },
    {
     "name": "stdout",
     "output_type": "stream",
     "text": [
      "............................."
     ]
    },
    {
     "name": "stderr",
     "output_type": "stream",
     "text": [
      "\n",
      "================\n",
      "h = 10.0\n",
      "Initializing MC...\n",
      "Warming up...\n"
     ]
    },
    {
     "name": "stdout",
     "output_type": "stream",
     "text": [
      ".\n",
      "================\n",
      "finish\n",
      "Output results into 'data/magnetism2/t5.7500425_J0.6/data.dat'\n"
     ]
    },
    {
     "name": "stderr",
     "output_type": "stream",
     "text": [
      "  obtained data shape: (10, 1)\n"
     ]
    },
    {
     "name": "stdout",
     "output_type": "stream",
     "text": [
      "............................."
     ]
    },
    {
     "name": "stderr",
     "output_type": "stream",
     "text": [
      "\n",
      "================\n",
      "h = 10.0\n",
      "Initializing MC...\n",
      "Warming up...\n"
     ]
    },
    {
     "name": "stdout",
     "output_type": "stream",
     "text": [
      ".\n",
      "================\n",
      "finish\n",
      "Output results into 'data/magnetism2/t6.00004_J0.6/data.dat'\n"
     ]
    },
    {
     "name": "stderr",
     "output_type": "stream",
     "text": [
      "  obtained data shape: (10, 1)\n"
     ]
    },
    {
     "name": "stdout",
     "output_type": "stream",
     "text": [
      "............................."
     ]
    },
    {
     "name": "stderr",
     "output_type": "stream",
     "text": [
      "\n",
      "================\n",
      "h = 10.0\n",
      "Initializing MC...\n",
      "Warming up...\n"
     ]
    },
    {
     "name": "stdout",
     "output_type": "stream",
     "text": [
      ".\n",
      "================\n",
      "finish\n",
      "Output results into 'data/magnetism2/t6.2500375_J0.6/data.dat'\n"
     ]
    },
    {
     "name": "stderr",
     "output_type": "stream",
     "text": [
      "  obtained data shape: (10, 1)\n"
     ]
    },
    {
     "name": "stdout",
     "output_type": "stream",
     "text": [
      "............................."
     ]
    },
    {
     "name": "stderr",
     "output_type": "stream",
     "text": [
      "\n",
      "================\n",
      "h = 10.0\n",
      "Initializing MC...\n",
      "Warming up...\n"
     ]
    },
    {
     "name": "stdout",
     "output_type": "stream",
     "text": [
      ".\n",
      "================\n",
      "finish\n",
      "Output results into 'data/magnetism2/t6.5000350000000005_J0.6/data.dat'\n"
     ]
    },
    {
     "name": "stderr",
     "output_type": "stream",
     "text": [
      "  obtained data shape: (10, 1)\n"
     ]
    },
    {
     "name": "stdout",
     "output_type": "stream",
     "text": [
      "............................."
     ]
    },
    {
     "name": "stderr",
     "output_type": "stream",
     "text": [
      "\n",
      "================\n",
      "h = 10.0\n",
      "Initializing MC...\n",
      "Warming up...\n"
     ]
    },
    {
     "name": "stdout",
     "output_type": "stream",
     "text": [
      ".\n",
      "================\n",
      "finish\n",
      "Output results into 'data/magnetism2/t6.7500325_J0.6/data.dat'\n"
     ]
    },
    {
     "name": "stderr",
     "output_type": "stream",
     "text": [
      "  obtained data shape: (10, 1)\n"
     ]
    },
    {
     "name": "stdout",
     "output_type": "stream",
     "text": [
      "............................."
     ]
    },
    {
     "name": "stderr",
     "output_type": "stream",
     "text": [
      "\n",
      "================\n",
      "h = 10.0\n",
      "Initializing MC...\n",
      "Warming up...\n"
     ]
    },
    {
     "name": "stdout",
     "output_type": "stream",
     "text": [
      ".\n",
      "================\n",
      "finish\n",
      "Output results into 'data/magnetism2/t7.00003_J0.6/data.dat'\n"
     ]
    },
    {
     "name": "stderr",
     "output_type": "stream",
     "text": [
      "  obtained data shape: (10, 1)\n"
     ]
    },
    {
     "name": "stdout",
     "output_type": "stream",
     "text": [
      "............................."
     ]
    },
    {
     "name": "stderr",
     "output_type": "stream",
     "text": [
      "\n",
      "================\n",
      "h = 10.0\n",
      "Initializing MC...\n",
      "Warming up...\n"
     ]
    },
    {
     "name": "stdout",
     "output_type": "stream",
     "text": [
      ".\n",
      "================\n",
      "finish\n",
      "Output results into 'data/magnetism2/t7.2500275_J0.6/data.dat'\n"
     ]
    },
    {
     "name": "stderr",
     "output_type": "stream",
     "text": [
      "  obtained data shape: (10, 1)\n"
     ]
    },
    {
     "name": "stdout",
     "output_type": "stream",
     "text": [
      "............................."
     ]
    },
    {
     "name": "stderr",
     "output_type": "stream",
     "text": [
      "\n",
      "================\n",
      "h = 10.0\n",
      "Initializing MC...\n",
      "Warming up...\n"
     ]
    },
    {
     "name": "stdout",
     "output_type": "stream",
     "text": [
      ".\n",
      "================\n",
      "finish\n",
      "Output results into 'data/magnetism2/t7.500025_J0.6/data.dat'\n"
     ]
    },
    {
     "name": "stderr",
     "output_type": "stream",
     "text": [
      "  obtained data shape: (10, 1)\n"
     ]
    },
    {
     "name": "stdout",
     "output_type": "stream",
     "text": [
      "............................."
     ]
    },
    {
     "name": "stderr",
     "output_type": "stream",
     "text": [
      "\n",
      "================\n",
      "h = 10.0\n",
      "Initializing MC...\n",
      "Warming up...\n"
     ]
    },
    {
     "name": "stdout",
     "output_type": "stream",
     "text": [
      ".\n",
      "================\n",
      "finish\n",
      "Output results into 'data/magnetism2/t7.7500225_J0.6/data.dat'\n"
     ]
    },
    {
     "name": "stderr",
     "output_type": "stream",
     "text": [
      "  obtained data shape: (10, 1)\n"
     ]
    },
    {
     "name": "stdout",
     "output_type": "stream",
     "text": [
      "............................."
     ]
    },
    {
     "name": "stderr",
     "output_type": "stream",
     "text": [
      "\n",
      "================\n",
      "h = 10.0\n",
      "Initializing MC...\n",
      "Warming up...\n"
     ]
    },
    {
     "name": "stdout",
     "output_type": "stream",
     "text": [
      ".\n",
      "================\n",
      "finish\n",
      "Output results into 'data/magnetism2/t8.000020000000001_J0.6/data.dat'\n"
     ]
    },
    {
     "name": "stderr",
     "output_type": "stream",
     "text": [
      "  obtained data shape: (10, 1)\n"
     ]
    },
    {
     "name": "stdout",
     "output_type": "stream",
     "text": [
      "............................."
     ]
    },
    {
     "name": "stderr",
     "output_type": "stream",
     "text": [
      "\n",
      "================\n",
      "h = 10.0\n",
      "Initializing MC...\n",
      "Warming up...\n"
     ]
    },
    {
     "name": "stdout",
     "output_type": "stream",
     "text": [
      ".\n",
      "================\n",
      "finish\n",
      "Output results into 'data/magnetism2/t8.2500175_J0.6/data.dat'\n"
     ]
    },
    {
     "name": "stderr",
     "output_type": "stream",
     "text": [
      "  obtained data shape: (10, 1)\n"
     ]
    },
    {
     "name": "stdout",
     "output_type": "stream",
     "text": [
      "............................."
     ]
    },
    {
     "name": "stderr",
     "output_type": "stream",
     "text": [
      "\n",
      "================\n",
      "h = 10.0\n",
      "Initializing MC...\n",
      "Warming up...\n"
     ]
    },
    {
     "name": "stdout",
     "output_type": "stream",
     "text": [
      ".\n",
      "================\n",
      "finish\n",
      "Output results into 'data/magnetism2/t8.500015_J0.6/data.dat'\n"
     ]
    },
    {
     "name": "stderr",
     "output_type": "stream",
     "text": [
      "  obtained data shape: (10, 1)\n"
     ]
    },
    {
     "name": "stdout",
     "output_type": "stream",
     "text": [
      "............................."
     ]
    },
    {
     "name": "stderr",
     "output_type": "stream",
     "text": [
      "\n",
      "================\n",
      "h = 10.0\n",
      "Initializing MC...\n",
      "Warming up...\n"
     ]
    },
    {
     "name": "stdout",
     "output_type": "stream",
     "text": [
      ".\n",
      "================\n",
      "finish\n",
      "Output results into 'data/magnetism2/t8.7500125_J0.6/data.dat'\n"
     ]
    },
    {
     "name": "stderr",
     "output_type": "stream",
     "text": [
      "  obtained data shape: (10, 1)\n"
     ]
    },
    {
     "name": "stdout",
     "output_type": "stream",
     "text": [
      "............................."
     ]
    },
    {
     "name": "stderr",
     "output_type": "stream",
     "text": [
      "\n",
      "================\n",
      "h = 10.0\n",
      "Initializing MC...\n",
      "Warming up...\n"
     ]
    },
    {
     "name": "stdout",
     "output_type": "stream",
     "text": [
      ".\n",
      "================\n",
      "finish\n",
      "Output results into 'data/magnetism2/t9.00001_J0.6/data.dat'\n"
     ]
    },
    {
     "name": "stderr",
     "output_type": "stream",
     "text": [
      "  obtained data shape: (10, 1)\n"
     ]
    },
    {
     "name": "stdout",
     "output_type": "stream",
     "text": [
      "............................."
     ]
    },
    {
     "name": "stderr",
     "output_type": "stream",
     "text": [
      "\n",
      "================\n",
      "h = 10.0\n",
      "Initializing MC...\n",
      "Warming up...\n"
     ]
    },
    {
     "name": "stdout",
     "output_type": "stream",
     "text": [
      ".\n",
      "================\n",
      "finish\n",
      "Output results into 'data/magnetism2/t9.2500075_J0.6/data.dat'\n"
     ]
    },
    {
     "name": "stderr",
     "output_type": "stream",
     "text": [
      "  obtained data shape: (10, 1)\n"
     ]
    },
    {
     "name": "stdout",
     "output_type": "stream",
     "text": [
      "............................."
     ]
    },
    {
     "name": "stderr",
     "output_type": "stream",
     "text": [
      "\n",
      "================\n",
      "h = 10.0\n",
      "Initializing MC...\n",
      "Warming up...\n"
     ]
    },
    {
     "name": "stdout",
     "output_type": "stream",
     "text": [
      ".\n",
      "================\n",
      "finish\n",
      "Output results into 'data/magnetism2/t9.500005_J0.6/data.dat'\n"
     ]
    },
    {
     "name": "stderr",
     "output_type": "stream",
     "text": [
      "  obtained data shape: (10, 1)\n"
     ]
    },
    {
     "name": "stdout",
     "output_type": "stream",
     "text": [
      "............................."
     ]
    },
    {
     "name": "stderr",
     "output_type": "stream",
     "text": [
      "\n",
      "================\n",
      "h = 10.0\n",
      "Initializing MC...\n",
      "Warming up...\n"
     ]
    },
    {
     "name": "stdout",
     "output_type": "stream",
     "text": [
      ".\n",
      "================\n",
      "finish\n",
      "Output results into 'data/magnetism2/t9.7500025_J0.6/data.dat'\n"
     ]
    },
    {
     "name": "stderr",
     "output_type": "stream",
     "text": [
      "  obtained data shape: (10, 1)\n"
     ]
    },
    {
     "name": "stdout",
     "output_type": "stream",
     "text": [
      "............................."
     ]
    },
    {
     "name": "stderr",
     "output_type": "stream",
     "text": [
      "\n",
      "================\n",
      "h = 10.0\n",
      "Initializing MC...\n",
      "/home/yakkuru/computer_physics/report/submit/report3/code/tool/supplement.py:41: RuntimeWarning: overflow encountered in exp\n",
      "  prob_up.append(np.exp(-2 * K * sum_sigma))\n",
      "/home/yakkuru/computer_physics/report/submit/report3/code/tool/supplement.py:42: RuntimeWarning: overflow encountered in exp\n",
      "  prob_dn.append(np.exp(2 * K * sum_sigma))\n",
      "Warming up...\n"
     ]
    },
    {
     "name": "stdout",
     "output_type": "stream",
     "text": [
      ".\n",
      "================\n",
      "finish\n",
      "Output results into 'data/magnetism2/t10.0_J0.6/data.dat'\n"
     ]
    },
    {
     "name": "stderr",
     "output_type": "stream",
     "text": [
      "/home/yakkuru/computer_physics/report/submit/report3/code/tool/measurement.py:46: RuntimeWarning: overflow encountered in exp\n",
      "  prob_field = np.exp(beta * h * measure(_mc))\n",
      "/home/yakkuru/computer_physics/report/submit/report3/code/tool/measurement.py:49: RuntimeWarning: invalid value encountered in multiply\n",
      "  return _mc.prob_up[num_up] * prob_field\n",
      "  obtained data shape: (10, 1)\n"
     ]
    },
    {
     "name": "stdout",
     "output_type": "stream",
     "text": [
      "............................."
     ]
    },
    {
     "name": "stderr",
     "output_type": "stream",
     "text": [
      "\n",
      "================\n",
      "h = 10.0\n",
      "Initializing MC...\n",
      "Warming up...\n"
     ]
    },
    {
     "name": "stdout",
     "output_type": "stream",
     "text": [
      ".\n",
      "================\n",
      "finish\n",
      "Output results into 'data/magnetism2/t0.0001_J0.5/data.dat'\n"
     ]
    },
    {
     "name": "stderr",
     "output_type": "stream",
     "text": [
      "/home/yakkuru/computer_physics/report/submit/report3/code/tool/measurement.py:46: RuntimeWarning: overflow encountered in exp\n",
      "  prob_field = np.exp(beta * h * measure(_mc))\n",
      "  obtained data shape: (10, 1)\n"
     ]
    },
    {
     "name": "stdout",
     "output_type": "stream",
     "text": [
      "............................."
     ]
    },
    {
     "name": "stderr",
     "output_type": "stream",
     "text": [
      "\n",
      "================\n",
      "h = 10.0\n",
      "Initializing MC...\n",
      "Warming up...\n"
     ]
    },
    {
     "name": "stdout",
     "output_type": "stream",
     "text": [
      ".\n",
      "================\n",
      "finish\n",
      "Output results into 'data/magnetism2/t0.25009750000000003_J0.5/data.dat'\n"
     ]
    },
    {
     "name": "stderr",
     "output_type": "stream",
     "text": [
      "  obtained data shape: (10, 1)\n"
     ]
    },
    {
     "name": "stdout",
     "output_type": "stream",
     "text": [
      "............................."
     ]
    },
    {
     "name": "stderr",
     "output_type": "stream",
     "text": [
      "\n",
      "================\n",
      "h = 10.0\n",
      "Initializing MC...\n",
      "Warming up...\n"
     ]
    },
    {
     "name": "stdout",
     "output_type": "stream",
     "text": [
      ".\n",
      "================\n",
      "finish\n",
      "Output results into 'data/magnetism2/t0.5000950000000001_J0.5/data.dat'\n"
     ]
    },
    {
     "name": "stderr",
     "output_type": "stream",
     "text": [
      "  obtained data shape: (10, 1)\n"
     ]
    },
    {
     "name": "stdout",
     "output_type": "stream",
     "text": [
      "............................."
     ]
    },
    {
     "name": "stderr",
     "output_type": "stream",
     "text": [
      "\n",
      "================\n",
      "h = 10.0\n",
      "Initializing MC...\n",
      "Warming up...\n"
     ]
    },
    {
     "name": "stdout",
     "output_type": "stream",
     "text": [
      ".\n",
      "================\n",
      "finish\n",
      "Output results into 'data/magnetism2/t0.7500925_J0.5/data.dat'\n"
     ]
    },
    {
     "name": "stderr",
     "output_type": "stream",
     "text": [
      "  obtained data shape: (10, 1)\n"
     ]
    },
    {
     "name": "stdout",
     "output_type": "stream",
     "text": [
      "............................."
     ]
    },
    {
     "name": "stderr",
     "output_type": "stream",
     "text": [
      "\n",
      "================\n",
      "h = 10.0\n",
      "Initializing MC...\n",
      "Warming up...\n"
     ]
    },
    {
     "name": "stdout",
     "output_type": "stream",
     "text": [
      ".\n",
      "================\n",
      "finish\n",
      "Output results into 'data/magnetism2/t1.0000900000000001_J0.5/data.dat'\n"
     ]
    },
    {
     "name": "stderr",
     "output_type": "stream",
     "text": [
      "  obtained data shape: (10, 1)\n"
     ]
    },
    {
     "name": "stdout",
     "output_type": "stream",
     "text": [
      "............................."
     ]
    },
    {
     "name": "stderr",
     "output_type": "stream",
     "text": [
      "\n",
      "================\n",
      "h = 10.0\n",
      "Initializing MC...\n",
      "Warming up...\n"
     ]
    },
    {
     "name": "stdout",
     "output_type": "stream",
     "text": [
      ".\n",
      "================\n",
      "finish\n",
      "Output results into 'data/magnetism2/t1.2500875_J0.5/data.dat'\n"
     ]
    },
    {
     "name": "stderr",
     "output_type": "stream",
     "text": [
      "  obtained data shape: (10, 1)\n"
     ]
    },
    {
     "name": "stdout",
     "output_type": "stream",
     "text": [
      "............................."
     ]
    },
    {
     "name": "stderr",
     "output_type": "stream",
     "text": [
      "\n",
      "================\n",
      "h = 10.0\n",
      "Initializing MC...\n",
      "Warming up...\n"
     ]
    },
    {
     "name": "stdout",
     "output_type": "stream",
     "text": [
      ".\n",
      "================\n",
      "finish\n",
      "Output results into 'data/magnetism2/t1.5000850000000001_J0.5/data.dat'\n"
     ]
    },
    {
     "name": "stderr",
     "output_type": "stream",
     "text": [
      "  obtained data shape: (10, 1)\n"
     ]
    },
    {
     "name": "stdout",
     "output_type": "stream",
     "text": [
      "............................."
     ]
    },
    {
     "name": "stderr",
     "output_type": "stream",
     "text": [
      "\n",
      "================\n",
      "h = 10.0\n",
      "Initializing MC...\n",
      "Warming up...\n"
     ]
    },
    {
     "name": "stdout",
     "output_type": "stream",
     "text": [
      ".\n",
      "================\n",
      "finish\n",
      "Output results into 'data/magnetism2/t1.7500825_J0.5/data.dat'\n"
     ]
    },
    {
     "name": "stderr",
     "output_type": "stream",
     "text": [
      "  obtained data shape: (10, 1)\n"
     ]
    },
    {
     "name": "stdout",
     "output_type": "stream",
     "text": [
      "............................."
     ]
    },
    {
     "name": "stderr",
     "output_type": "stream",
     "text": [
      "\n",
      "================\n",
      "h = 10.0\n",
      "Initializing MC...\n",
      "Warming up...\n"
     ]
    },
    {
     "name": "stdout",
     "output_type": "stream",
     "text": [
      ".\n",
      "================\n",
      "finish\n",
      "Output results into 'data/magnetism2/t2.00008_J0.5/data.dat'\n"
     ]
    },
    {
     "name": "stderr",
     "output_type": "stream",
     "text": [
      "  obtained data shape: (10, 1)\n"
     ]
    },
    {
     "name": "stdout",
     "output_type": "stream",
     "text": [
      "............................."
     ]
    },
    {
     "name": "stderr",
     "output_type": "stream",
     "text": [
      "\n",
      "================\n",
      "h = 10.0\n",
      "Initializing MC...\n",
      "Warming up...\n"
     ]
    },
    {
     "name": "stdout",
     "output_type": "stream",
     "text": [
      ".\n",
      "================\n",
      "finish\n",
      "Output results into 'data/magnetism2/t2.2500775_J0.5/data.dat'\n"
     ]
    },
    {
     "name": "stderr",
     "output_type": "stream",
     "text": [
      "  obtained data shape: (10, 1)\n"
     ]
    },
    {
     "name": "stdout",
     "output_type": "stream",
     "text": [
      "............................."
     ]
    },
    {
     "name": "stderr",
     "output_type": "stream",
     "text": [
      "\n",
      "================\n",
      "h = 10.0\n",
      "Initializing MC...\n",
      "Warming up...\n"
     ]
    },
    {
     "name": "stdout",
     "output_type": "stream",
     "text": [
      ".\n",
      "================\n",
      "finish\n",
      "Output results into 'data/magnetism2/t2.5000750000000003_J0.5/data.dat'\n"
     ]
    },
    {
     "name": "stderr",
     "output_type": "stream",
     "text": [
      "  obtained data shape: (10, 1)\n"
     ]
    },
    {
     "name": "stdout",
     "output_type": "stream",
     "text": [
      "............................."
     ]
    },
    {
     "name": "stderr",
     "output_type": "stream",
     "text": [
      "\n",
      "================\n",
      "h = 10.0\n",
      "Initializing MC...\n",
      "Warming up...\n"
     ]
    },
    {
     "name": "stdout",
     "output_type": "stream",
     "text": [
      ".\n",
      "================\n",
      "finish\n",
      "Output results into 'data/magnetism2/t2.7500725000000004_J0.5/data.dat'\n"
     ]
    },
    {
     "name": "stderr",
     "output_type": "stream",
     "text": [
      "  obtained data shape: (10, 1)\n"
     ]
    },
    {
     "name": "stdout",
     "output_type": "stream",
     "text": [
      "............................."
     ]
    },
    {
     "name": "stderr",
     "output_type": "stream",
     "text": [
      "\n",
      "================\n",
      "h = 10.0\n",
      "Initializing MC...\n",
      "Warming up...\n"
     ]
    },
    {
     "name": "stdout",
     "output_type": "stream",
     "text": [
      ".\n",
      "================\n",
      "finish\n",
      "Output results into 'data/magnetism2/t3.0000700000000005_J0.5/data.dat'\n"
     ]
    },
    {
     "name": "stderr",
     "output_type": "stream",
     "text": [
      "  obtained data shape: (10, 1)\n"
     ]
    },
    {
     "name": "stdout",
     "output_type": "stream",
     "text": [
      "............................."
     ]
    },
    {
     "name": "stderr",
     "output_type": "stream",
     "text": [
      "\n",
      "================\n",
      "h = 10.0\n",
      "Initializing MC...\n",
      "Warming up...\n"
     ]
    },
    {
     "name": "stdout",
     "output_type": "stream",
     "text": [
      ".\n",
      "================\n",
      "finish\n",
      "Output results into 'data/magnetism2/t3.2500675000000006_J0.5/data.dat'\n"
     ]
    },
    {
     "name": "stderr",
     "output_type": "stream",
     "text": [
      "  obtained data shape: (10, 1)\n"
     ]
    },
    {
     "name": "stdout",
     "output_type": "stream",
     "text": [
      "............................."
     ]
    },
    {
     "name": "stderr",
     "output_type": "stream",
     "text": [
      "\n",
      "================\n",
      "h = 10.0\n",
      "Initializing MC...\n",
      "Warming up...\n"
     ]
    },
    {
     "name": "stdout",
     "output_type": "stream",
     "text": [
      ".\n",
      "================\n",
      "finish\n",
      "Output results into 'data/magnetism2/t3.500065_J0.5/data.dat'\n"
     ]
    },
    {
     "name": "stderr",
     "output_type": "stream",
     "text": [
      "  obtained data shape: (10, 1)\n"
     ]
    },
    {
     "name": "stdout",
     "output_type": "stream",
     "text": [
      "............................."
     ]
    },
    {
     "name": "stderr",
     "output_type": "stream",
     "text": [
      "\n",
      "================\n",
      "h = 10.0\n",
      "Initializing MC...\n",
      "Warming up...\n"
     ]
    },
    {
     "name": "stdout",
     "output_type": "stream",
     "text": [
      ".\n",
      "================\n",
      "finish\n",
      "Output results into 'data/magnetism2/t3.7500625000000003_J0.5/data.dat'\n"
     ]
    },
    {
     "name": "stderr",
     "output_type": "stream",
     "text": [
      "  obtained data shape: (10, 1)\n"
     ]
    },
    {
     "name": "stdout",
     "output_type": "stream",
     "text": [
      "............................."
     ]
    },
    {
     "name": "stderr",
     "output_type": "stream",
     "text": [
      "\n",
      "================\n",
      "h = 10.0\n",
      "Initializing MC...\n",
      "Warming up...\n"
     ]
    },
    {
     "name": "stdout",
     "output_type": "stream",
     "text": [
      ".\n",
      "================\n",
      "finish\n",
      "Output results into 'data/magnetism2/t4.00006_J0.5/data.dat'\n"
     ]
    },
    {
     "name": "stderr",
     "output_type": "stream",
     "text": [
      "  obtained data shape: (10, 1)\n"
     ]
    },
    {
     "name": "stdout",
     "output_type": "stream",
     "text": [
      "............................."
     ]
    },
    {
     "name": "stderr",
     "output_type": "stream",
     "text": [
      "\n",
      "================\n",
      "h = 10.0\n",
      "Initializing MC...\n",
      "Warming up...\n"
     ]
    },
    {
     "name": "stdout",
     "output_type": "stream",
     "text": [
      ".\n",
      "================\n",
      "finish\n",
      "Output results into 'data/magnetism2/t4.2500575_J0.5/data.dat'\n"
     ]
    },
    {
     "name": "stderr",
     "output_type": "stream",
     "text": [
      "  obtained data shape: (10, 1)\n"
     ]
    },
    {
     "name": "stdout",
     "output_type": "stream",
     "text": [
      "............................."
     ]
    },
    {
     "name": "stderr",
     "output_type": "stream",
     "text": [
      "\n",
      "================\n",
      "h = 10.0\n",
      "Initializing MC...\n",
      "Warming up...\n"
     ]
    },
    {
     "name": "stdout",
     "output_type": "stream",
     "text": [
      ".\n",
      "================\n",
      "finish\n",
      "Output results into 'data/magnetism2/t4.500055_J0.5/data.dat'\n"
     ]
    },
    {
     "name": "stderr",
     "output_type": "stream",
     "text": [
      "  obtained data shape: (10, 1)\n"
     ]
    },
    {
     "name": "stdout",
     "output_type": "stream",
     "text": [
      "............................."
     ]
    },
    {
     "name": "stderr",
     "output_type": "stream",
     "text": [
      "\n",
      "================\n",
      "h = 10.0\n",
      "Initializing MC...\n",
      "Warming up...\n"
     ]
    },
    {
     "name": "stdout",
     "output_type": "stream",
     "text": [
      ".\n",
      "================\n",
      "finish\n",
      "Output results into 'data/magnetism2/t4.7500525_J0.5/data.dat'\n"
     ]
    },
    {
     "name": "stderr",
     "output_type": "stream",
     "text": [
      "  obtained data shape: (10, 1)\n"
     ]
    },
    {
     "name": "stdout",
     "output_type": "stream",
     "text": [
      "............................."
     ]
    },
    {
     "name": "stderr",
     "output_type": "stream",
     "text": [
      "\n",
      "================\n",
      "h = 10.0\n",
      "Initializing MC...\n",
      "Warming up...\n"
     ]
    },
    {
     "name": "stdout",
     "output_type": "stream",
     "text": [
      ".\n",
      "================\n",
      "finish\n",
      "Output results into 'data/magnetism2/t5.00005_J0.5/data.dat'\n"
     ]
    },
    {
     "name": "stderr",
     "output_type": "stream",
     "text": [
      "  obtained data shape: (10, 1)\n"
     ]
    },
    {
     "name": "stdout",
     "output_type": "stream",
     "text": [
      "............................."
     ]
    },
    {
     "name": "stderr",
     "output_type": "stream",
     "text": [
      "\n",
      "================\n",
      "h = 10.0\n",
      "Initializing MC...\n",
      "Warming up...\n"
     ]
    },
    {
     "name": "stdout",
     "output_type": "stream",
     "text": [
      ".\n",
      "================\n",
      "finish\n",
      "Output results into 'data/magnetism2/t5.2500475_J0.5/data.dat'\n"
     ]
    },
    {
     "name": "stderr",
     "output_type": "stream",
     "text": [
      "  obtained data shape: (10, 1)\n"
     ]
    },
    {
     "name": "stdout",
     "output_type": "stream",
     "text": [
      "............................."
     ]
    },
    {
     "name": "stderr",
     "output_type": "stream",
     "text": [
      "\n",
      "================\n",
      "h = 10.0\n",
      "Initializing MC...\n",
      "Warming up...\n"
     ]
    },
    {
     "name": "stdout",
     "output_type": "stream",
     "text": [
      ".\n",
      "================\n",
      "finish\n",
      "Output results into 'data/magnetism2/t5.500045_J0.5/data.dat'\n"
     ]
    },
    {
     "name": "stderr",
     "output_type": "stream",
     "text": [
      "  obtained data shape: (10, 1)\n"
     ]
    },
    {
     "name": "stdout",
     "output_type": "stream",
     "text": [
      "............................."
     ]
    },
    {
     "name": "stderr",
     "output_type": "stream",
     "text": [
      "\n",
      "================\n",
      "h = 10.0\n",
      "Initializing MC...\n",
      "Warming up...\n"
     ]
    },
    {
     "name": "stdout",
     "output_type": "stream",
     "text": [
      ".\n",
      "================\n",
      "finish\n",
      "Output results into 'data/magnetism2/t5.7500425_J0.5/data.dat'\n"
     ]
    },
    {
     "name": "stderr",
     "output_type": "stream",
     "text": [
      "  obtained data shape: (10, 1)\n"
     ]
    },
    {
     "name": "stdout",
     "output_type": "stream",
     "text": [
      "............................."
     ]
    },
    {
     "name": "stderr",
     "output_type": "stream",
     "text": [
      "\n",
      "================\n",
      "h = 10.0\n",
      "Initializing MC...\n",
      "Warming up...\n"
     ]
    },
    {
     "name": "stdout",
     "output_type": "stream",
     "text": [
      ".\n",
      "================\n",
      "finish\n",
      "Output results into 'data/magnetism2/t6.00004_J0.5/data.dat'\n"
     ]
    },
    {
     "name": "stderr",
     "output_type": "stream",
     "text": [
      "  obtained data shape: (10, 1)\n"
     ]
    },
    {
     "name": "stdout",
     "output_type": "stream",
     "text": [
      "............................."
     ]
    },
    {
     "name": "stderr",
     "output_type": "stream",
     "text": [
      "\n",
      "================\n",
      "h = 10.0\n",
      "Initializing MC...\n",
      "Warming up...\n"
     ]
    },
    {
     "name": "stdout",
     "output_type": "stream",
     "text": [
      ".\n",
      "================\n",
      "finish\n",
      "Output results into 'data/magnetism2/t6.2500375_J0.5/data.dat'\n"
     ]
    },
    {
     "name": "stderr",
     "output_type": "stream",
     "text": [
      "  obtained data shape: (10, 1)\n"
     ]
    },
    {
     "name": "stdout",
     "output_type": "stream",
     "text": [
      "............................."
     ]
    },
    {
     "name": "stderr",
     "output_type": "stream",
     "text": [
      "\n",
      "================\n",
      "h = 10.0\n",
      "Initializing MC...\n",
      "Warming up...\n"
     ]
    },
    {
     "name": "stdout",
     "output_type": "stream",
     "text": [
      ".\n",
      "================\n",
      "finish\n",
      "Output results into 'data/magnetism2/t6.5000350000000005_J0.5/data.dat'\n"
     ]
    },
    {
     "name": "stderr",
     "output_type": "stream",
     "text": [
      "  obtained data shape: (10, 1)\n"
     ]
    },
    {
     "name": "stdout",
     "output_type": "stream",
     "text": [
      "............................."
     ]
    },
    {
     "name": "stderr",
     "output_type": "stream",
     "text": [
      "\n",
      "================\n",
      "h = 10.0\n",
      "Initializing MC...\n",
      "Warming up...\n"
     ]
    },
    {
     "name": "stdout",
     "output_type": "stream",
     "text": [
      ".\n",
      "================\n",
      "finish\n",
      "Output results into 'data/magnetism2/t6.7500325_J0.5/data.dat'\n"
     ]
    },
    {
     "name": "stderr",
     "output_type": "stream",
     "text": [
      "  obtained data shape: (10, 1)\n"
     ]
    },
    {
     "name": "stdout",
     "output_type": "stream",
     "text": [
      "............................."
     ]
    },
    {
     "name": "stderr",
     "output_type": "stream",
     "text": [
      "\n",
      "================\n",
      "h = 10.0\n",
      "Initializing MC...\n",
      "Warming up...\n"
     ]
    },
    {
     "name": "stdout",
     "output_type": "stream",
     "text": [
      ".\n",
      "================\n",
      "finish\n",
      "Output results into 'data/magnetism2/t7.00003_J0.5/data.dat'\n"
     ]
    },
    {
     "name": "stderr",
     "output_type": "stream",
     "text": [
      "  obtained data shape: (10, 1)\n"
     ]
    },
    {
     "name": "stdout",
     "output_type": "stream",
     "text": [
      "............................."
     ]
    },
    {
     "name": "stderr",
     "output_type": "stream",
     "text": [
      "\n",
      "================\n",
      "h = 10.0\n",
      "Initializing MC...\n",
      "Warming up...\n"
     ]
    },
    {
     "name": "stdout",
     "output_type": "stream",
     "text": [
      ".\n",
      "================\n",
      "finish\n",
      "Output results into 'data/magnetism2/t7.2500275_J0.5/data.dat'\n"
     ]
    },
    {
     "name": "stderr",
     "output_type": "stream",
     "text": [
      "  obtained data shape: (10, 1)\n"
     ]
    },
    {
     "name": "stdout",
     "output_type": "stream",
     "text": [
      "............................."
     ]
    },
    {
     "name": "stderr",
     "output_type": "stream",
     "text": [
      "\n",
      "================\n",
      "h = 10.0\n",
      "Initializing MC...\n",
      "Warming up...\n"
     ]
    },
    {
     "name": "stdout",
     "output_type": "stream",
     "text": [
      ".\n",
      "================\n",
      "finish\n",
      "Output results into 'data/magnetism2/t7.500025_J0.5/data.dat'\n"
     ]
    },
    {
     "name": "stderr",
     "output_type": "stream",
     "text": [
      "  obtained data shape: (10, 1)\n"
     ]
    },
    {
     "name": "stdout",
     "output_type": "stream",
     "text": [
      "............................."
     ]
    },
    {
     "name": "stderr",
     "output_type": "stream",
     "text": [
      "\n",
      "================\n",
      "h = 10.0\n",
      "Initializing MC...\n",
      "Warming up...\n"
     ]
    },
    {
     "name": "stdout",
     "output_type": "stream",
     "text": [
      ".\n",
      "================\n",
      "finish\n",
      "Output results into 'data/magnetism2/t7.7500225_J0.5/data.dat'\n"
     ]
    },
    {
     "name": "stderr",
     "output_type": "stream",
     "text": [
      "  obtained data shape: (10, 1)\n"
     ]
    },
    {
     "name": "stdout",
     "output_type": "stream",
     "text": [
      "............................."
     ]
    },
    {
     "name": "stderr",
     "output_type": "stream",
     "text": [
      "\n",
      "================\n",
      "h = 10.0\n",
      "Initializing MC...\n",
      "Warming up...\n"
     ]
    },
    {
     "name": "stdout",
     "output_type": "stream",
     "text": [
      ".\n",
      "================\n",
      "finish\n",
      "Output results into 'data/magnetism2/t8.000020000000001_J0.5/data.dat'\n"
     ]
    },
    {
     "name": "stderr",
     "output_type": "stream",
     "text": [
      "  obtained data shape: (10, 1)\n"
     ]
    },
    {
     "name": "stdout",
     "output_type": "stream",
     "text": [
      "..............................\n",
      "================\n",
      "finish\n",
      "Output results into 'data/magnetism2/t8.2500175_J0.5/data.dat'\n"
     ]
    },
    {
     "name": "stderr",
     "output_type": "stream",
     "text": [
      "\n",
      "================\n",
      "h = 10.0\n",
      "Initializing MC...\n",
      "Warming up...\n",
      "  obtained data shape: (10, 1)\n"
     ]
    },
    {
     "name": "stdout",
     "output_type": "stream",
     "text": [
      "............................."
     ]
    },
    {
     "name": "stderr",
     "output_type": "stream",
     "text": [
      "\n",
      "================\n",
      "h = 10.0\n",
      "Initializing MC...\n",
      "Warming up...\n"
     ]
    },
    {
     "name": "stdout",
     "output_type": "stream",
     "text": [
      ".\n",
      "================\n",
      "finish\n",
      "Output results into 'data/magnetism2/t8.500015_J0.5/data.dat'\n"
     ]
    },
    {
     "name": "stderr",
     "output_type": "stream",
     "text": [
      "  obtained data shape: (10, 1)\n"
     ]
    },
    {
     "name": "stdout",
     "output_type": "stream",
     "text": [
      "............................."
     ]
    },
    {
     "name": "stderr",
     "output_type": "stream",
     "text": [
      "\n",
      "================\n",
      "h = 10.0\n",
      "Initializing MC...\n",
      "Warming up...\n"
     ]
    },
    {
     "name": "stdout",
     "output_type": "stream",
     "text": [
      ".\n",
      "================\n",
      "finish\n",
      "Output results into 'data/magnetism2/t8.7500125_J0.5/data.dat'\n"
     ]
    },
    {
     "name": "stderr",
     "output_type": "stream",
     "text": [
      "  obtained data shape: (10, 1)\n"
     ]
    },
    {
     "name": "stdout",
     "output_type": "stream",
     "text": [
      "............................."
     ]
    },
    {
     "name": "stderr",
     "output_type": "stream",
     "text": [
      "\n",
      "================\n",
      "h = 10.0\n",
      "Initializing MC...\n",
      "Warming up...\n"
     ]
    },
    {
     "name": "stdout",
     "output_type": "stream",
     "text": [
      ".\n",
      "================\n",
      "finish\n",
      "Output results into 'data/magnetism2/t9.00001_J0.5/data.dat'\n"
     ]
    },
    {
     "name": "stderr",
     "output_type": "stream",
     "text": [
      "  obtained data shape: (10, 1)\n"
     ]
    },
    {
     "name": "stdout",
     "output_type": "stream",
     "text": [
      "............................."
     ]
    },
    {
     "name": "stderr",
     "output_type": "stream",
     "text": [
      "\n",
      "================\n",
      "h = 10.0\n",
      "Initializing MC...\n",
      "Warming up...\n"
     ]
    },
    {
     "name": "stdout",
     "output_type": "stream",
     "text": [
      ".\n",
      "================\n",
      "finish\n",
      "Output results into 'data/magnetism2/t9.2500075_J0.5/data.dat'\n"
     ]
    },
    {
     "name": "stderr",
     "output_type": "stream",
     "text": [
      "  obtained data shape: (10, 1)\n"
     ]
    },
    {
     "name": "stdout",
     "output_type": "stream",
     "text": [
      "............................."
     ]
    },
    {
     "name": "stderr",
     "output_type": "stream",
     "text": [
      "\n",
      "================\n",
      "h = 10.0\n",
      "Initializing MC...\n",
      "Warming up...\n"
     ]
    },
    {
     "name": "stdout",
     "output_type": "stream",
     "text": [
      ".\n",
      "================\n",
      "finish\n",
      "Output results into 'data/magnetism2/t9.500005_J0.5/data.dat'\n"
     ]
    },
    {
     "name": "stderr",
     "output_type": "stream",
     "text": [
      "  obtained data shape: (10, 1)\n"
     ]
    },
    {
     "name": "stdout",
     "output_type": "stream",
     "text": [
      "............................."
     ]
    },
    {
     "name": "stderr",
     "output_type": "stream",
     "text": [
      "\n",
      "================\n",
      "h = 10.0\n",
      "Initializing MC...\n",
      "Warming up...\n"
     ]
    },
    {
     "name": "stdout",
     "output_type": "stream",
     "text": [
      ".\n",
      "================\n",
      "finish\n",
      "Output results into 'data/magnetism2/t9.7500025_J0.5/data.dat'\n"
     ]
    },
    {
     "name": "stderr",
     "output_type": "stream",
     "text": [
      "  obtained data shape: (10, 1)\n"
     ]
    },
    {
     "name": "stdout",
     "output_type": "stream",
     "text": [
      "............................."
     ]
    },
    {
     "name": "stderr",
     "output_type": "stream",
     "text": [
      "\n",
      "================\n",
      "h = 10.0\n",
      "Initializing MC...\n",
      "/home/yakkuru/computer_physics/report/submit/report3/code/tool/supplement.py:41: RuntimeWarning: overflow encountered in exp\n",
      "  prob_up.append(np.exp(-2 * K * sum_sigma))\n",
      "/home/yakkuru/computer_physics/report/submit/report3/code/tool/supplement.py:42: RuntimeWarning: overflow encountered in exp\n",
      "  prob_dn.append(np.exp(2 * K * sum_sigma))\n",
      "Warming up...\n"
     ]
    },
    {
     "name": "stdout",
     "output_type": "stream",
     "text": [
      ".\n",
      "================\n",
      "finish\n",
      "Output results into 'data/magnetism2/t10.0_J0.5/data.dat'\n"
     ]
    },
    {
     "name": "stderr",
     "output_type": "stream",
     "text": [
      "/home/yakkuru/computer_physics/report/submit/report3/code/tool/measurement.py:46: RuntimeWarning: overflow encountered in exp\n",
      "  prob_field = np.exp(beta * h * measure(_mc))\n",
      "/home/yakkuru/computer_physics/report/submit/report3/code/tool/measurement.py:49: RuntimeWarning: invalid value encountered in multiply\n",
      "  return _mc.prob_up[num_up] * prob_field\n",
      "  obtained data shape: (10, 1)\n"
     ]
    },
    {
     "name": "stdout",
     "output_type": "stream",
     "text": [
      "............................."
     ]
    },
    {
     "name": "stderr",
     "output_type": "stream",
     "text": [
      "\n",
      "================\n",
      "h = 10.0\n",
      "Initializing MC...\n",
      "Warming up...\n"
     ]
    },
    {
     "name": "stdout",
     "output_type": "stream",
     "text": [
      ".\n",
      "================\n",
      "finish\n",
      "Output results into 'data/magnetism2/t0.0001_J0.3999999999999999/data.dat'\n"
     ]
    },
    {
     "name": "stderr",
     "output_type": "stream",
     "text": [
      "/home/yakkuru/computer_physics/report/submit/report3/code/tool/measurement.py:46: RuntimeWarning: overflow encountered in exp\n",
      "  prob_field = np.exp(beta * h * measure(_mc))\n",
      "  obtained data shape: (10, 1)\n"
     ]
    },
    {
     "name": "stdout",
     "output_type": "stream",
     "text": [
      "............................."
     ]
    },
    {
     "name": "stderr",
     "output_type": "stream",
     "text": [
      "\n",
      "================\n",
      "h = 10.0\n",
      "Initializing MC...\n",
      "Warming up...\n"
     ]
    },
    {
     "name": "stdout",
     "output_type": "stream",
     "text": [
      ".\n",
      "================\n",
      "finish\n",
      "Output results into 'data/magnetism2/t0.25009750000000003_J0.3999999999999999/data.dat'\n"
     ]
    },
    {
     "name": "stderr",
     "output_type": "stream",
     "text": [
      "  obtained data shape: (10, 1)\n"
     ]
    },
    {
     "name": "stdout",
     "output_type": "stream",
     "text": [
      "............................."
     ]
    },
    {
     "name": "stderr",
     "output_type": "stream",
     "text": [
      "\n",
      "================\n",
      "h = 10.0\n",
      "Initializing MC...\n",
      "Warming up...\n"
     ]
    },
    {
     "name": "stdout",
     "output_type": "stream",
     "text": [
      ".\n",
      "================\n",
      "finish\n",
      "Output results into 'data/magnetism2/t0.5000950000000001_J0.3999999999999999/data.dat'\n"
     ]
    },
    {
     "name": "stderr",
     "output_type": "stream",
     "text": [
      "  obtained data shape: (10, 1)\n"
     ]
    },
    {
     "name": "stdout",
     "output_type": "stream",
     "text": [
      "............................."
     ]
    },
    {
     "name": "stderr",
     "output_type": "stream",
     "text": [
      "\n",
      "================\n",
      "h = 10.0\n",
      "Initializing MC...\n",
      "Warming up...\n"
     ]
    },
    {
     "name": "stdout",
     "output_type": "stream",
     "text": [
      ".\n",
      "================\n",
      "finish\n",
      "Output results into 'data/magnetism2/t0.7500925_J0.3999999999999999/data.dat'\n"
     ]
    },
    {
     "name": "stderr",
     "output_type": "stream",
     "text": [
      "  obtained data shape: (10, 1)\n"
     ]
    },
    {
     "name": "stdout",
     "output_type": "stream",
     "text": [
      "............................."
     ]
    },
    {
     "name": "stderr",
     "output_type": "stream",
     "text": [
      "\n",
      "================\n",
      "h = 10.0\n",
      "Initializing MC...\n",
      "Warming up...\n"
     ]
    },
    {
     "name": "stdout",
     "output_type": "stream",
     "text": [
      ".\n",
      "================\n",
      "finish\n",
      "Output results into 'data/magnetism2/t1.0000900000000001_J0.3999999999999999/data.dat'\n"
     ]
    },
    {
     "name": "stderr",
     "output_type": "stream",
     "text": [
      "  obtained data shape: (10, 1)\n"
     ]
    },
    {
     "name": "stdout",
     "output_type": "stream",
     "text": [
      "............................."
     ]
    },
    {
     "name": "stderr",
     "output_type": "stream",
     "text": [
      "\n",
      "================\n",
      "h = 10.0\n",
      "Initializing MC...\n",
      "Warming up...\n"
     ]
    },
    {
     "name": "stdout",
     "output_type": "stream",
     "text": [
      ".\n",
      "================\n",
      "finish\n",
      "Output results into 'data/magnetism2/t1.2500875_J0.3999999999999999/data.dat'\n"
     ]
    },
    {
     "name": "stderr",
     "output_type": "stream",
     "text": [
      "  obtained data shape: (10, 1)\n"
     ]
    },
    {
     "name": "stdout",
     "output_type": "stream",
     "text": [
      "............................."
     ]
    },
    {
     "name": "stderr",
     "output_type": "stream",
     "text": [
      "\n",
      "================\n",
      "h = 10.0\n",
      "Initializing MC...\n",
      "Warming up...\n"
     ]
    },
    {
     "name": "stdout",
     "output_type": "stream",
     "text": [
      ".\n",
      "================\n",
      "finish\n",
      "Output results into 'data/magnetism2/t1.5000850000000001_J0.3999999999999999/data.dat'\n"
     ]
    },
    {
     "name": "stderr",
     "output_type": "stream",
     "text": [
      "  obtained data shape: (10, 1)\n"
     ]
    },
    {
     "name": "stdout",
     "output_type": "stream",
     "text": [
      "............................."
     ]
    },
    {
     "name": "stderr",
     "output_type": "stream",
     "text": [
      "\n",
      "================\n",
      "h = 10.0\n",
      "Initializing MC...\n",
      "Warming up...\n"
     ]
    },
    {
     "name": "stdout",
     "output_type": "stream",
     "text": [
      ".\n",
      "================\n",
      "finish\n",
      "Output results into 'data/magnetism2/t1.7500825_J0.3999999999999999/data.dat'\n"
     ]
    },
    {
     "name": "stderr",
     "output_type": "stream",
     "text": [
      "  obtained data shape: (10, 1)\n"
     ]
    },
    {
     "name": "stdout",
     "output_type": "stream",
     "text": [
      "............................."
     ]
    },
    {
     "name": "stderr",
     "output_type": "stream",
     "text": [
      "\n",
      "================\n",
      "h = 10.0\n",
      "Initializing MC...\n",
      "Warming up...\n"
     ]
    },
    {
     "name": "stdout",
     "output_type": "stream",
     "text": [
      ".\n",
      "================\n",
      "finish\n",
      "Output results into 'data/magnetism2/t2.00008_J0.3999999999999999/data.dat'\n"
     ]
    },
    {
     "name": "stderr",
     "output_type": "stream",
     "text": [
      "  obtained data shape: (10, 1)\n"
     ]
    },
    {
     "name": "stdout",
     "output_type": "stream",
     "text": [
      "............................."
     ]
    },
    {
     "name": "stderr",
     "output_type": "stream",
     "text": [
      "\n",
      "================\n",
      "h = 10.0\n",
      "Initializing MC...\n",
      "Warming up...\n"
     ]
    },
    {
     "name": "stdout",
     "output_type": "stream",
     "text": [
      ".\n",
      "================\n",
      "finish\n",
      "Output results into 'data/magnetism2/t2.2500775_J0.3999999999999999/data.dat'\n"
     ]
    },
    {
     "name": "stderr",
     "output_type": "stream",
     "text": [
      "  obtained data shape: (10, 1)\n"
     ]
    },
    {
     "name": "stdout",
     "output_type": "stream",
     "text": [
      "............................."
     ]
    },
    {
     "name": "stderr",
     "output_type": "stream",
     "text": [
      "\n",
      "================\n",
      "h = 10.0\n",
      "Initializing MC...\n",
      "Warming up...\n"
     ]
    },
    {
     "name": "stdout",
     "output_type": "stream",
     "text": [
      ".\n",
      "================\n",
      "finish\n",
      "Output results into 'data/magnetism2/t2.5000750000000003_J0.3999999999999999/data.dat'\n"
     ]
    },
    {
     "name": "stderr",
     "output_type": "stream",
     "text": [
      "  obtained data shape: (10, 1)\n"
     ]
    },
    {
     "name": "stdout",
     "output_type": "stream",
     "text": [
      "............................."
     ]
    },
    {
     "name": "stderr",
     "output_type": "stream",
     "text": [
      "\n",
      "================\n",
      "h = 10.0\n",
      "Initializing MC...\n",
      "Warming up...\n"
     ]
    },
    {
     "name": "stdout",
     "output_type": "stream",
     "text": [
      ".\n",
      "================\n",
      "finish\n",
      "Output results into 'data/magnetism2/t2.7500725000000004_J0.3999999999999999/data.dat'\n"
     ]
    },
    {
     "name": "stderr",
     "output_type": "stream",
     "text": [
      "  obtained data shape: (10, 1)\n"
     ]
    },
    {
     "name": "stdout",
     "output_type": "stream",
     "text": [
      "............................."
     ]
    },
    {
     "name": "stderr",
     "output_type": "stream",
     "text": [
      "\n",
      "================\n",
      "h = 10.0\n",
      "Initializing MC...\n",
      "Warming up...\n"
     ]
    },
    {
     "name": "stdout",
     "output_type": "stream",
     "text": [
      ".\n",
      "================\n",
      "finish\n",
      "Output results into 'data/magnetism2/t3.0000700000000005_J0.3999999999999999/data.dat'\n"
     ]
    },
    {
     "name": "stderr",
     "output_type": "stream",
     "text": [
      "  obtained data shape: (10, 1)\n"
     ]
    },
    {
     "name": "stdout",
     "output_type": "stream",
     "text": [
      "............................."
     ]
    },
    {
     "name": "stderr",
     "output_type": "stream",
     "text": [
      "\n",
      "================\n",
      "h = 10.0\n",
      "Initializing MC...\n",
      "Warming up...\n"
     ]
    },
    {
     "name": "stdout",
     "output_type": "stream",
     "text": [
      ".\n",
      "================\n",
      "finish\n",
      "Output results into 'data/magnetism2/t3.2500675000000006_J0.3999999999999999/data.dat'\n"
     ]
    },
    {
     "name": "stderr",
     "output_type": "stream",
     "text": [
      "  obtained data shape: (10, 1)\n"
     ]
    },
    {
     "name": "stdout",
     "output_type": "stream",
     "text": [
      "............................."
     ]
    },
    {
     "name": "stderr",
     "output_type": "stream",
     "text": [
      "\n",
      "================\n",
      "h = 10.0\n",
      "Initializing MC...\n",
      "Warming up...\n"
     ]
    },
    {
     "name": "stdout",
     "output_type": "stream",
     "text": [
      ".\n",
      "================\n",
      "finish\n",
      "Output results into 'data/magnetism2/t3.500065_J0.3999999999999999/data.dat'\n"
     ]
    },
    {
     "name": "stderr",
     "output_type": "stream",
     "text": [
      "  obtained data shape: (10, 1)\n"
     ]
    },
    {
     "name": "stdout",
     "output_type": "stream",
     "text": [
      "............................."
     ]
    },
    {
     "name": "stderr",
     "output_type": "stream",
     "text": [
      "\n",
      "================\n",
      "h = 10.0\n",
      "Initializing MC...\n",
      "Warming up...\n"
     ]
    },
    {
     "name": "stdout",
     "output_type": "stream",
     "text": [
      ".\n",
      "================\n",
      "finish\n",
      "Output results into 'data/magnetism2/t3.7500625000000003_J0.3999999999999999/data.dat'\n"
     ]
    },
    {
     "name": "stderr",
     "output_type": "stream",
     "text": [
      "  obtained data shape: (10, 1)\n"
     ]
    },
    {
     "name": "stdout",
     "output_type": "stream",
     "text": [
      "............................."
     ]
    },
    {
     "name": "stderr",
     "output_type": "stream",
     "text": [
      "\n",
      "================\n",
      "h = 10.0\n",
      "Initializing MC...\n",
      "Warming up...\n"
     ]
    },
    {
     "name": "stdout",
     "output_type": "stream",
     "text": [
      ".\n",
      "================\n",
      "finish\n",
      "Output results into 'data/magnetism2/t4.00006_J0.3999999999999999/data.dat'\n"
     ]
    },
    {
     "name": "stderr",
     "output_type": "stream",
     "text": [
      "  obtained data shape: (10, 1)\n"
     ]
    },
    {
     "name": "stdout",
     "output_type": "stream",
     "text": [
      "............................."
     ]
    },
    {
     "name": "stderr",
     "output_type": "stream",
     "text": [
      "\n",
      "================\n",
      "h = 10.0\n",
      "Initializing MC...\n",
      "Warming up...\n"
     ]
    },
    {
     "name": "stdout",
     "output_type": "stream",
     "text": [
      ".\n",
      "================\n",
      "finish\n",
      "Output results into 'data/magnetism2/t4.2500575_J0.3999999999999999/data.dat'\n"
     ]
    },
    {
     "name": "stderr",
     "output_type": "stream",
     "text": [
      "  obtained data shape: (10, 1)\n"
     ]
    },
    {
     "name": "stdout",
     "output_type": "stream",
     "text": [
      "............................."
     ]
    },
    {
     "name": "stderr",
     "output_type": "stream",
     "text": [
      "\n",
      "================\n",
      "h = 10.0\n",
      "Initializing MC...\n",
      "Warming up...\n"
     ]
    },
    {
     "name": "stdout",
     "output_type": "stream",
     "text": [
      ".\n",
      "================\n",
      "finish\n",
      "Output results into 'data/magnetism2/t4.500055_J0.3999999999999999/data.dat'\n"
     ]
    },
    {
     "name": "stderr",
     "output_type": "stream",
     "text": [
      "  obtained data shape: (10, 1)\n"
     ]
    },
    {
     "name": "stdout",
     "output_type": "stream",
     "text": [
      "............................."
     ]
    },
    {
     "name": "stderr",
     "output_type": "stream",
     "text": [
      "\n",
      "================\n",
      "h = 10.0\n",
      "Initializing MC...\n",
      "Warming up...\n"
     ]
    },
    {
     "name": "stdout",
     "output_type": "stream",
     "text": [
      ".\n",
      "================\n",
      "finish\n",
      "Output results into 'data/magnetism2/t4.7500525_J0.3999999999999999/data.dat'\n"
     ]
    },
    {
     "name": "stderr",
     "output_type": "stream",
     "text": [
      "  obtained data shape: (10, 1)\n"
     ]
    },
    {
     "name": "stdout",
     "output_type": "stream",
     "text": [
      "............................."
     ]
    },
    {
     "name": "stderr",
     "output_type": "stream",
     "text": [
      "\n",
      "================\n",
      "h = 10.0\n",
      "Initializing MC...\n",
      "Warming up...\n"
     ]
    },
    {
     "name": "stdout",
     "output_type": "stream",
     "text": [
      ".\n",
      "================\n",
      "finish\n",
      "Output results into 'data/magnetism2/t5.00005_J0.3999999999999999/data.dat'\n"
     ]
    },
    {
     "name": "stderr",
     "output_type": "stream",
     "text": [
      "  obtained data shape: (10, 1)\n"
     ]
    },
    {
     "name": "stdout",
     "output_type": "stream",
     "text": [
      "............................."
     ]
    },
    {
     "name": "stderr",
     "output_type": "stream",
     "text": [
      "\n",
      "================\n",
      "h = 10.0\n",
      "Initializing MC...\n",
      "Warming up...\n"
     ]
    },
    {
     "name": "stdout",
     "output_type": "stream",
     "text": [
      ".\n",
      "================\n",
      "finish\n",
      "Output results into 'data/magnetism2/t5.2500475_J0.3999999999999999/data.dat'\n"
     ]
    },
    {
     "name": "stderr",
     "output_type": "stream",
     "text": [
      "  obtained data shape: (10, 1)\n"
     ]
    },
    {
     "name": "stdout",
     "output_type": "stream",
     "text": [
      "............................."
     ]
    },
    {
     "name": "stderr",
     "output_type": "stream",
     "text": [
      "\n",
      "================\n",
      "h = 10.0\n",
      "Initializing MC...\n",
      "Warming up...\n"
     ]
    },
    {
     "name": "stdout",
     "output_type": "stream",
     "text": [
      ".\n",
      "================\n",
      "finish\n",
      "Output results into 'data/magnetism2/t5.500045_J0.3999999999999999/data.dat'\n"
     ]
    },
    {
     "name": "stderr",
     "output_type": "stream",
     "text": [
      "  obtained data shape: (10, 1)\n"
     ]
    },
    {
     "name": "stdout",
     "output_type": "stream",
     "text": [
      "............................."
     ]
    },
    {
     "name": "stderr",
     "output_type": "stream",
     "text": [
      "\n",
      "================\n",
      "h = 10.0\n",
      "Initializing MC...\n",
      "Warming up...\n"
     ]
    },
    {
     "name": "stdout",
     "output_type": "stream",
     "text": [
      ".\n",
      "================\n",
      "finish\n",
      "Output results into 'data/magnetism2/t5.7500425_J0.3999999999999999/data.dat'\n"
     ]
    },
    {
     "name": "stderr",
     "output_type": "stream",
     "text": [
      "  obtained data shape: (10, 1)\n"
     ]
    },
    {
     "name": "stdout",
     "output_type": "stream",
     "text": [
      "............................."
     ]
    },
    {
     "name": "stderr",
     "output_type": "stream",
     "text": [
      "\n",
      "================\n",
      "h = 10.0\n",
      "Initializing MC...\n",
      "Warming up...\n"
     ]
    },
    {
     "name": "stdout",
     "output_type": "stream",
     "text": [
      ".\n",
      "================\n",
      "finish\n",
      "Output results into 'data/magnetism2/t6.00004_J0.3999999999999999/data.dat'\n"
     ]
    },
    {
     "name": "stderr",
     "output_type": "stream",
     "text": [
      "  obtained data shape: (10, 1)\n"
     ]
    },
    {
     "name": "stdout",
     "output_type": "stream",
     "text": [
      "............................."
     ]
    },
    {
     "name": "stderr",
     "output_type": "stream",
     "text": [
      "\n",
      "================\n",
      "h = 10.0\n",
      "Initializing MC...\n",
      "Warming up...\n"
     ]
    },
    {
     "name": "stdout",
     "output_type": "stream",
     "text": [
      ".\n",
      "================\n",
      "finish\n",
      "Output results into 'data/magnetism2/t6.2500375_J0.3999999999999999/data.dat'\n"
     ]
    },
    {
     "name": "stderr",
     "output_type": "stream",
     "text": [
      "  obtained data shape: (10, 1)\n"
     ]
    },
    {
     "name": "stdout",
     "output_type": "stream",
     "text": [
      "............................."
     ]
    },
    {
     "name": "stderr",
     "output_type": "stream",
     "text": [
      "\n",
      "================\n",
      "h = 10.0\n",
      "Initializing MC...\n",
      "Warming up...\n"
     ]
    },
    {
     "name": "stdout",
     "output_type": "stream",
     "text": [
      ".\n",
      "================\n",
      "finish\n",
      "Output results into 'data/magnetism2/t6.5000350000000005_J0.3999999999999999/data.dat'\n"
     ]
    },
    {
     "name": "stderr",
     "output_type": "stream",
     "text": [
      "  obtained data shape: (10, 1)\n"
     ]
    },
    {
     "name": "stdout",
     "output_type": "stream",
     "text": [
      "............................."
     ]
    },
    {
     "name": "stderr",
     "output_type": "stream",
     "text": [
      "\n",
      "================\n",
      "h = 10.0\n",
      "Initializing MC...\n",
      "Warming up...\n"
     ]
    },
    {
     "name": "stdout",
     "output_type": "stream",
     "text": [
      ".\n",
      "================\n",
      "finish\n",
      "Output results into 'data/magnetism2/t6.7500325_J0.3999999999999999/data.dat'\n"
     ]
    },
    {
     "name": "stderr",
     "output_type": "stream",
     "text": [
      "  obtained data shape: (10, 1)\n"
     ]
    },
    {
     "name": "stdout",
     "output_type": "stream",
     "text": [
      "............................."
     ]
    },
    {
     "name": "stderr",
     "output_type": "stream",
     "text": [
      "\n",
      "================\n",
      "h = 10.0\n",
      "Initializing MC...\n",
      "Warming up...\n"
     ]
    },
    {
     "name": "stdout",
     "output_type": "stream",
     "text": [
      ".\n",
      "================\n",
      "finish\n",
      "Output results into 'data/magnetism2/t7.00003_J0.3999999999999999/data.dat'\n"
     ]
    },
    {
     "name": "stderr",
     "output_type": "stream",
     "text": [
      "  obtained data shape: (10, 1)\n"
     ]
    },
    {
     "name": "stdout",
     "output_type": "stream",
     "text": [
      "............................."
     ]
    },
    {
     "name": "stderr",
     "output_type": "stream",
     "text": [
      "\n",
      "================\n",
      "h = 10.0\n",
      "Initializing MC...\n",
      "Warming up...\n"
     ]
    },
    {
     "name": "stdout",
     "output_type": "stream",
     "text": [
      ".\n",
      "================\n",
      "finish\n",
      "Output results into 'data/magnetism2/t7.2500275_J0.3999999999999999/data.dat'\n"
     ]
    },
    {
     "name": "stderr",
     "output_type": "stream",
     "text": [
      "  obtained data shape: (10, 1)\n"
     ]
    },
    {
     "name": "stdout",
     "output_type": "stream",
     "text": [
      "............................."
     ]
    },
    {
     "name": "stderr",
     "output_type": "stream",
     "text": [
      "\n",
      "================\n",
      "h = 10.0\n",
      "Initializing MC...\n",
      "Warming up...\n"
     ]
    },
    {
     "name": "stdout",
     "output_type": "stream",
     "text": [
      ".\n",
      "================\n",
      "finish\n",
      "Output results into 'data/magnetism2/t7.500025_J0.3999999999999999/data.dat'\n"
     ]
    },
    {
     "name": "stderr",
     "output_type": "stream",
     "text": [
      "  obtained data shape: (10, 1)\n"
     ]
    },
    {
     "name": "stdout",
     "output_type": "stream",
     "text": [
      "............................."
     ]
    },
    {
     "name": "stderr",
     "output_type": "stream",
     "text": [
      "\n",
      "================\n",
      "h = 10.0\n",
      "Initializing MC...\n",
      "Warming up...\n"
     ]
    },
    {
     "name": "stdout",
     "output_type": "stream",
     "text": [
      ".\n",
      "================\n",
      "finish\n",
      "Output results into 'data/magnetism2/t7.7500225_J0.3999999999999999/data.dat'\n"
     ]
    },
    {
     "name": "stderr",
     "output_type": "stream",
     "text": [
      "  obtained data shape: (10, 1)\n"
     ]
    },
    {
     "name": "stdout",
     "output_type": "stream",
     "text": [
      "............................."
     ]
    },
    {
     "name": "stderr",
     "output_type": "stream",
     "text": [
      "\n",
      "================\n",
      "h = 10.0\n",
      "Initializing MC...\n",
      "Warming up...\n"
     ]
    },
    {
     "name": "stdout",
     "output_type": "stream",
     "text": [
      ".\n",
      "================\n",
      "finish\n",
      "Output results into 'data/magnetism2/t8.000020000000001_J0.3999999999999999/data.dat'\n"
     ]
    },
    {
     "name": "stderr",
     "output_type": "stream",
     "text": [
      "  obtained data shape: (10, 1)\n"
     ]
    },
    {
     "name": "stdout",
     "output_type": "stream",
     "text": [
      "............................."
     ]
    },
    {
     "name": "stderr",
     "output_type": "stream",
     "text": [
      "\n",
      "================\n",
      "h = 10.0\n",
      "Initializing MC...\n",
      "Warming up...\n"
     ]
    },
    {
     "name": "stdout",
     "output_type": "stream",
     "text": [
      ".\n",
      "================\n",
      "finish\n",
      "Output results into 'data/magnetism2/t8.2500175_J0.3999999999999999/data.dat'\n"
     ]
    },
    {
     "name": "stderr",
     "output_type": "stream",
     "text": [
      "  obtained data shape: (10, 1)\n"
     ]
    },
    {
     "name": "stdout",
     "output_type": "stream",
     "text": [
      "............................."
     ]
    },
    {
     "name": "stderr",
     "output_type": "stream",
     "text": [
      "\n",
      "================\n",
      "h = 10.0\n",
      "Initializing MC...\n",
      "Warming up...\n"
     ]
    },
    {
     "name": "stdout",
     "output_type": "stream",
     "text": [
      ".\n",
      "================\n",
      "finish\n",
      "Output results into 'data/magnetism2/t8.500015_J0.3999999999999999/data.dat'\n"
     ]
    },
    {
     "name": "stderr",
     "output_type": "stream",
     "text": [
      "  obtained data shape: (10, 1)\n"
     ]
    },
    {
     "name": "stdout",
     "output_type": "stream",
     "text": [
      "............................."
     ]
    },
    {
     "name": "stderr",
     "output_type": "stream",
     "text": [
      "\n",
      "================\n",
      "h = 10.0\n",
      "Initializing MC...\n",
      "Warming up...\n"
     ]
    },
    {
     "name": "stdout",
     "output_type": "stream",
     "text": [
      ".\n",
      "================\n",
      "finish\n",
      "Output results into 'data/magnetism2/t8.7500125_J0.3999999999999999/data.dat'\n"
     ]
    },
    {
     "name": "stderr",
     "output_type": "stream",
     "text": [
      "  obtained data shape: (10, 1)\n"
     ]
    },
    {
     "name": "stdout",
     "output_type": "stream",
     "text": [
      "............................."
     ]
    },
    {
     "name": "stderr",
     "output_type": "stream",
     "text": [
      "\n",
      "================\n",
      "h = 10.0\n",
      "Initializing MC...\n",
      "Warming up...\n"
     ]
    },
    {
     "name": "stdout",
     "output_type": "stream",
     "text": [
      ".\n",
      "================\n",
      "finish\n",
      "Output results into 'data/magnetism2/t9.00001_J0.3999999999999999/data.dat'\n"
     ]
    },
    {
     "name": "stderr",
     "output_type": "stream",
     "text": [
      "  obtained data shape: (10, 1)\n"
     ]
    },
    {
     "name": "stdout",
     "output_type": "stream",
     "text": [
      "............................."
     ]
    },
    {
     "name": "stderr",
     "output_type": "stream",
     "text": [
      "\n",
      "================\n",
      "h = 10.0\n",
      "Initializing MC...\n",
      "Warming up...\n"
     ]
    },
    {
     "name": "stdout",
     "output_type": "stream",
     "text": [
      ".\n",
      "================\n",
      "finish\n",
      "Output results into 'data/magnetism2/t9.2500075_J0.3999999999999999/data.dat'\n"
     ]
    },
    {
     "name": "stderr",
     "output_type": "stream",
     "text": [
      "  obtained data shape: (10, 1)\n"
     ]
    },
    {
     "name": "stdout",
     "output_type": "stream",
     "text": [
      "............................."
     ]
    },
    {
     "name": "stderr",
     "output_type": "stream",
     "text": [
      "\n",
      "================\n",
      "h = 10.0\n",
      "Initializing MC...\n",
      "Warming up...\n"
     ]
    },
    {
     "name": "stdout",
     "output_type": "stream",
     "text": [
      ".\n",
      "================\n",
      "finish\n",
      "Output results into 'data/magnetism2/t9.500005_J0.3999999999999999/data.dat'\n"
     ]
    },
    {
     "name": "stderr",
     "output_type": "stream",
     "text": [
      "  obtained data shape: (10, 1)\n"
     ]
    },
    {
     "name": "stdout",
     "output_type": "stream",
     "text": [
      "............................."
     ]
    },
    {
     "name": "stderr",
     "output_type": "stream",
     "text": [
      "\n",
      "================\n",
      "h = 10.0\n",
      "Initializing MC...\n",
      "Warming up...\n"
     ]
    },
    {
     "name": "stdout",
     "output_type": "stream",
     "text": [
      ".\n",
      "================\n",
      "finish\n",
      "Output results into 'data/magnetism2/t9.7500025_J0.3999999999999999/data.dat'\n"
     ]
    },
    {
     "name": "stderr",
     "output_type": "stream",
     "text": [
      "  obtained data shape: (10, 1)\n"
     ]
    },
    {
     "name": "stdout",
     "output_type": "stream",
     "text": [
      "............................."
     ]
    },
    {
     "name": "stderr",
     "output_type": "stream",
     "text": [
      "\n",
      "================\n",
      "h = 10.0\n",
      "Initializing MC...\n",
      "/home/yakkuru/computer_physics/report/submit/report3/code/tool/supplement.py:41: RuntimeWarning: overflow encountered in exp\n",
      "  prob_up.append(np.exp(-2 * K * sum_sigma))\n",
      "/home/yakkuru/computer_physics/report/submit/report3/code/tool/supplement.py:42: RuntimeWarning: overflow encountered in exp\n",
      "  prob_dn.append(np.exp(2 * K * sum_sigma))\n",
      "Warming up...\n"
     ]
    },
    {
     "name": "stdout",
     "output_type": "stream",
     "text": [
      ".\n",
      "================\n",
      "finish\n",
      "Output results into 'data/magnetism2/t10.0_J0.3999999999999999/data.dat'\n"
     ]
    },
    {
     "name": "stderr",
     "output_type": "stream",
     "text": [
      "/home/yakkuru/computer_physics/report/submit/report3/code/tool/measurement.py:46: RuntimeWarning: overflow encountered in exp\n",
      "  prob_field = np.exp(beta * h * measure(_mc))\n",
      "/home/yakkuru/computer_physics/report/submit/report3/code/tool/measurement.py:49: RuntimeWarning: invalid value encountered in multiply\n",
      "  return _mc.prob_up[num_up] * prob_field\n",
      "  obtained data shape: (10, 1)\n"
     ]
    },
    {
     "name": "stdout",
     "output_type": "stream",
     "text": [
      "............................."
     ]
    },
    {
     "name": "stderr",
     "output_type": "stream",
     "text": [
      "\n",
      "================\n",
      "h = 10.0\n",
      "Initializing MC...\n",
      "Warming up...\n"
     ]
    },
    {
     "name": "stdout",
     "output_type": "stream",
     "text": [
      ".\n",
      "================\n",
      "finish\n",
      "Output results into 'data/magnetism2/t0.0001_J0.29999999999999993/data.dat'\n"
     ]
    },
    {
     "name": "stderr",
     "output_type": "stream",
     "text": [
      "/home/yakkuru/computer_physics/report/submit/report3/code/tool/measurement.py:46: RuntimeWarning: overflow encountered in exp\n",
      "  prob_field = np.exp(beta * h * measure(_mc))\n",
      "  obtained data shape: (10, 1)\n"
     ]
    },
    {
     "name": "stdout",
     "output_type": "stream",
     "text": [
      "............................."
     ]
    },
    {
     "name": "stderr",
     "output_type": "stream",
     "text": [
      "\n",
      "================\n",
      "h = 10.0\n",
      "Initializing MC...\n",
      "Warming up...\n"
     ]
    },
    {
     "name": "stdout",
     "output_type": "stream",
     "text": [
      ".\n",
      "================\n",
      "finish\n",
      "Output results into 'data/magnetism2/t0.25009750000000003_J0.29999999999999993/data.dat'\n"
     ]
    },
    {
     "name": "stderr",
     "output_type": "stream",
     "text": [
      "  obtained data shape: (10, 1)\n"
     ]
    },
    {
     "name": "stdout",
     "output_type": "stream",
     "text": [
      "............................."
     ]
    },
    {
     "name": "stderr",
     "output_type": "stream",
     "text": [
      "\n",
      "================\n",
      "h = 10.0\n",
      "Initializing MC...\n",
      "Warming up...\n"
     ]
    },
    {
     "name": "stdout",
     "output_type": "stream",
     "text": [
      ".\n",
      "================\n",
      "finish\n",
      "Output results into 'data/magnetism2/t0.5000950000000001_J0.29999999999999993/data.dat'\n"
     ]
    },
    {
     "name": "stderr",
     "output_type": "stream",
     "text": [
      "  obtained data shape: (10, 1)\n"
     ]
    },
    {
     "name": "stdout",
     "output_type": "stream",
     "text": [
      "............................."
     ]
    },
    {
     "name": "stderr",
     "output_type": "stream",
     "text": [
      "\n",
      "================\n",
      "h = 10.0\n",
      "Initializing MC...\n",
      "Warming up...\n"
     ]
    },
    {
     "name": "stdout",
     "output_type": "stream",
     "text": [
      ".\n",
      "================\n",
      "finish\n",
      "Output results into 'data/magnetism2/t0.7500925_J0.29999999999999993/data.dat'\n"
     ]
    },
    {
     "name": "stderr",
     "output_type": "stream",
     "text": [
      "  obtained data shape: (10, 1)\n"
     ]
    },
    {
     "name": "stdout",
     "output_type": "stream",
     "text": [
      "............................."
     ]
    },
    {
     "name": "stderr",
     "output_type": "stream",
     "text": [
      "\n",
      "================\n",
      "h = 10.0\n",
      "Initializing MC...\n",
      "Warming up...\n"
     ]
    },
    {
     "name": "stdout",
     "output_type": "stream",
     "text": [
      ".\n",
      "================\n",
      "finish\n",
      "Output results into 'data/magnetism2/t1.0000900000000001_J0.29999999999999993/data.dat'\n"
     ]
    },
    {
     "name": "stderr",
     "output_type": "stream",
     "text": [
      "  obtained data shape: (10, 1)\n"
     ]
    },
    {
     "name": "stdout",
     "output_type": "stream",
     "text": [
      "............................."
     ]
    },
    {
     "name": "stderr",
     "output_type": "stream",
     "text": [
      "\n",
      "================\n",
      "h = 10.0\n",
      "Initializing MC...\n",
      "Warming up...\n"
     ]
    },
    {
     "name": "stdout",
     "output_type": "stream",
     "text": [
      ".\n",
      "================\n",
      "finish\n",
      "Output results into 'data/magnetism2/t1.2500875_J0.29999999999999993/data.dat'\n"
     ]
    },
    {
     "name": "stderr",
     "output_type": "stream",
     "text": [
      "  obtained data shape: (10, 1)\n"
     ]
    },
    {
     "name": "stdout",
     "output_type": "stream",
     "text": [
      "............................."
     ]
    },
    {
     "name": "stderr",
     "output_type": "stream",
     "text": [
      "\n",
      "================\n",
      "h = 10.0\n",
      "Initializing MC...\n",
      "Warming up...\n"
     ]
    },
    {
     "name": "stdout",
     "output_type": "stream",
     "text": [
      ".\n",
      "================\n",
      "finish\n",
      "Output results into 'data/magnetism2/t1.5000850000000001_J0.29999999999999993/data.dat'\n"
     ]
    },
    {
     "name": "stderr",
     "output_type": "stream",
     "text": [
      "  obtained data shape: (10, 1)\n"
     ]
    },
    {
     "name": "stdout",
     "output_type": "stream",
     "text": [
      "............................."
     ]
    },
    {
     "name": "stderr",
     "output_type": "stream",
     "text": [
      "\n",
      "================\n",
      "h = 10.0\n",
      "Initializing MC...\n",
      "Warming up...\n"
     ]
    },
    {
     "name": "stdout",
     "output_type": "stream",
     "text": [
      ".\n",
      "================\n",
      "finish\n",
      "Output results into 'data/magnetism2/t1.7500825_J0.29999999999999993/data.dat'\n"
     ]
    },
    {
     "name": "stderr",
     "output_type": "stream",
     "text": [
      "  obtained data shape: (10, 1)\n"
     ]
    },
    {
     "name": "stdout",
     "output_type": "stream",
     "text": [
      "............................."
     ]
    },
    {
     "name": "stderr",
     "output_type": "stream",
     "text": [
      "\n",
      "================\n",
      "h = 10.0\n",
      "Initializing MC...\n",
      "Warming up...\n"
     ]
    },
    {
     "name": "stdout",
     "output_type": "stream",
     "text": [
      ".\n",
      "================\n",
      "finish\n",
      "Output results into 'data/magnetism2/t2.00008_J0.29999999999999993/data.dat'\n"
     ]
    },
    {
     "name": "stderr",
     "output_type": "stream",
     "text": [
      "  obtained data shape: (10, 1)\n"
     ]
    },
    {
     "name": "stdout",
     "output_type": "stream",
     "text": [
      "............................."
     ]
    },
    {
     "name": "stderr",
     "output_type": "stream",
     "text": [
      "\n",
      "================\n",
      "h = 10.0\n",
      "Initializing MC...\n",
      "Warming up...\n"
     ]
    },
    {
     "name": "stdout",
     "output_type": "stream",
     "text": [
      ".\n",
      "================\n",
      "finish\n",
      "Output results into 'data/magnetism2/t2.2500775_J0.29999999999999993/data.dat'\n"
     ]
    },
    {
     "name": "stderr",
     "output_type": "stream",
     "text": [
      "  obtained data shape: (10, 1)\n"
     ]
    },
    {
     "name": "stdout",
     "output_type": "stream",
     "text": [
      "............................."
     ]
    },
    {
     "name": "stderr",
     "output_type": "stream",
     "text": [
      "\n",
      "================\n",
      "h = 10.0\n",
      "Initializing MC...\n",
      "Warming up...\n"
     ]
    },
    {
     "name": "stdout",
     "output_type": "stream",
     "text": [
      ".\n",
      "================\n",
      "finish\n",
      "Output results into 'data/magnetism2/t2.5000750000000003_J0.29999999999999993/data.dat'\n"
     ]
    },
    {
     "name": "stderr",
     "output_type": "stream",
     "text": [
      "  obtained data shape: (10, 1)\n"
     ]
    },
    {
     "name": "stdout",
     "output_type": "stream",
     "text": [
      "............................."
     ]
    },
    {
     "name": "stderr",
     "output_type": "stream",
     "text": [
      "\n",
      "================\n",
      "h = 10.0\n",
      "Initializing MC...\n",
      "Warming up...\n"
     ]
    },
    {
     "name": "stdout",
     "output_type": "stream",
     "text": [
      ".\n",
      "================\n",
      "finish\n",
      "Output results into 'data/magnetism2/t2.7500725000000004_J0.29999999999999993/data.dat'\n"
     ]
    },
    {
     "name": "stderr",
     "output_type": "stream",
     "text": [
      "  obtained data shape: (10, 1)\n"
     ]
    },
    {
     "name": "stdout",
     "output_type": "stream",
     "text": [
      "............................."
     ]
    },
    {
     "name": "stderr",
     "output_type": "stream",
     "text": [
      "\n",
      "================\n",
      "h = 10.0\n",
      "Initializing MC...\n",
      "Warming up...\n"
     ]
    },
    {
     "name": "stdout",
     "output_type": "stream",
     "text": [
      ".\n",
      "================\n",
      "finish\n",
      "Output results into 'data/magnetism2/t3.0000700000000005_J0.29999999999999993/data.dat'\n"
     ]
    },
    {
     "name": "stderr",
     "output_type": "stream",
     "text": [
      "  obtained data shape: (10, 1)\n"
     ]
    },
    {
     "name": "stdout",
     "output_type": "stream",
     "text": [
      "............................."
     ]
    },
    {
     "name": "stderr",
     "output_type": "stream",
     "text": [
      "\n",
      "================\n",
      "h = 10.0\n",
      "Initializing MC...\n",
      "Warming up...\n"
     ]
    },
    {
     "name": "stdout",
     "output_type": "stream",
     "text": [
      ".\n",
      "================\n",
      "finish\n",
      "Output results into 'data/magnetism2/t3.2500675000000006_J0.29999999999999993/data.dat'\n"
     ]
    },
    {
     "name": "stderr",
     "output_type": "stream",
     "text": [
      "  obtained data shape: (10, 1)\n"
     ]
    },
    {
     "name": "stdout",
     "output_type": "stream",
     "text": [
      "............................."
     ]
    },
    {
     "name": "stderr",
     "output_type": "stream",
     "text": [
      "\n",
      "================\n",
      "h = 10.0\n",
      "Initializing MC...\n",
      "Warming up...\n"
     ]
    },
    {
     "name": "stdout",
     "output_type": "stream",
     "text": [
      ".\n",
      "================\n",
      "finish\n",
      "Output results into 'data/magnetism2/t3.500065_J0.29999999999999993/data.dat'\n"
     ]
    },
    {
     "name": "stderr",
     "output_type": "stream",
     "text": [
      "  obtained data shape: (10, 1)\n"
     ]
    },
    {
     "name": "stdout",
     "output_type": "stream",
     "text": [
      "............................."
     ]
    },
    {
     "name": "stderr",
     "output_type": "stream",
     "text": [
      "\n",
      "================\n",
      "h = 10.0\n",
      "Initializing MC...\n",
      "Warming up...\n"
     ]
    },
    {
     "name": "stdout",
     "output_type": "stream",
     "text": [
      ".\n",
      "================\n",
      "finish\n",
      "Output results into 'data/magnetism2/t3.7500625000000003_J0.29999999999999993/data.dat'\n"
     ]
    },
    {
     "name": "stderr",
     "output_type": "stream",
     "text": [
      "  obtained data shape: (10, 1)\n"
     ]
    },
    {
     "name": "stdout",
     "output_type": "stream",
     "text": [
      "............................."
     ]
    },
    {
     "name": "stderr",
     "output_type": "stream",
     "text": [
      "\n",
      "================\n",
      "h = 10.0\n",
      "Initializing MC...\n",
      "Warming up...\n"
     ]
    },
    {
     "name": "stdout",
     "output_type": "stream",
     "text": [
      ".\n",
      "================\n",
      "finish\n",
      "Output results into 'data/magnetism2/t4.00006_J0.29999999999999993/data.dat'\n"
     ]
    },
    {
     "name": "stderr",
     "output_type": "stream",
     "text": [
      "  obtained data shape: (10, 1)\n"
     ]
    },
    {
     "name": "stdout",
     "output_type": "stream",
     "text": [
      "............................."
     ]
    },
    {
     "name": "stderr",
     "output_type": "stream",
     "text": [
      "\n",
      "================\n",
      "h = 10.0\n",
      "Initializing MC...\n",
      "Warming up...\n"
     ]
    },
    {
     "name": "stdout",
     "output_type": "stream",
     "text": [
      ".\n",
      "================\n",
      "finish\n",
      "Output results into 'data/magnetism2/t4.2500575_J0.29999999999999993/data.dat'\n"
     ]
    },
    {
     "name": "stderr",
     "output_type": "stream",
     "text": [
      "  obtained data shape: (10, 1)\n"
     ]
    },
    {
     "name": "stdout",
     "output_type": "stream",
     "text": [
      "............................."
     ]
    },
    {
     "name": "stderr",
     "output_type": "stream",
     "text": [
      "\n",
      "================\n",
      "h = 10.0\n",
      "Initializing MC...\n",
      "Warming up...\n"
     ]
    },
    {
     "name": "stdout",
     "output_type": "stream",
     "text": [
      ".\n",
      "================\n",
      "finish\n",
      "Output results into 'data/magnetism2/t4.500055_J0.29999999999999993/data.dat'\n"
     ]
    },
    {
     "name": "stderr",
     "output_type": "stream",
     "text": [
      "  obtained data shape: (10, 1)\n"
     ]
    },
    {
     "name": "stdout",
     "output_type": "stream",
     "text": [
      "............................."
     ]
    },
    {
     "name": "stderr",
     "output_type": "stream",
     "text": [
      "\n",
      "================\n",
      "h = 10.0\n",
      "Initializing MC...\n",
      "Warming up...\n"
     ]
    },
    {
     "name": "stdout",
     "output_type": "stream",
     "text": [
      ".\n",
      "================\n",
      "finish\n",
      "Output results into 'data/magnetism2/t4.7500525_J0.29999999999999993/data.dat'\n"
     ]
    },
    {
     "name": "stderr",
     "output_type": "stream",
     "text": [
      "  obtained data shape: (10, 1)\n"
     ]
    },
    {
     "name": "stdout",
     "output_type": "stream",
     "text": [
      "..............................\n",
      "================\n",
      "finish\n",
      "Output results into 'data/magnetism2/t5.00005_J0.29999999999999993/data.dat'\n"
     ]
    },
    {
     "name": "stderr",
     "output_type": "stream",
     "text": [
      "\n",
      "================\n",
      "h = 10.0\n",
      "Initializing MC...\n",
      "Warming up...\n",
      "  obtained data shape: (10, 1)\n"
     ]
    },
    {
     "name": "stdout",
     "output_type": "stream",
     "text": [
      "............................."
     ]
    },
    {
     "name": "stderr",
     "output_type": "stream",
     "text": [
      "\n",
      "================\n",
      "h = 10.0\n",
      "Initializing MC...\n",
      "Warming up...\n"
     ]
    },
    {
     "name": "stdout",
     "output_type": "stream",
     "text": [
      ".\n",
      "================\n",
      "finish\n",
      "Output results into 'data/magnetism2/t5.2500475_J0.29999999999999993/data.dat'\n"
     ]
    },
    {
     "name": "stderr",
     "output_type": "stream",
     "text": [
      "  obtained data shape: (10, 1)\n"
     ]
    },
    {
     "name": "stdout",
     "output_type": "stream",
     "text": [
      "............................."
     ]
    },
    {
     "name": "stderr",
     "output_type": "stream",
     "text": [
      "\n",
      "================\n",
      "h = 10.0\n",
      "Initializing MC...\n",
      "Warming up...\n"
     ]
    },
    {
     "name": "stdout",
     "output_type": "stream",
     "text": [
      ".\n",
      "================\n",
      "finish\n",
      "Output results into 'data/magnetism2/t5.500045_J0.29999999999999993/data.dat'\n"
     ]
    },
    {
     "name": "stderr",
     "output_type": "stream",
     "text": [
      "  obtained data shape: (10, 1)\n"
     ]
    },
    {
     "name": "stdout",
     "output_type": "stream",
     "text": [
      "............................."
     ]
    },
    {
     "name": "stderr",
     "output_type": "stream",
     "text": [
      "\n",
      "================\n",
      "h = 10.0\n",
      "Initializing MC...\n",
      "Warming up...\n"
     ]
    },
    {
     "name": "stdout",
     "output_type": "stream",
     "text": [
      ".\n",
      "================\n",
      "finish\n",
      "Output results into 'data/magnetism2/t5.7500425_J0.29999999999999993/data.dat'\n"
     ]
    },
    {
     "name": "stderr",
     "output_type": "stream",
     "text": [
      "  obtained data shape: (10, 1)\n"
     ]
    },
    {
     "name": "stdout",
     "output_type": "stream",
     "text": [
      "............................."
     ]
    },
    {
     "name": "stderr",
     "output_type": "stream",
     "text": [
      "\n",
      "================\n",
      "h = 10.0\n",
      "Initializing MC...\n",
      "Warming up...\n"
     ]
    },
    {
     "name": "stdout",
     "output_type": "stream",
     "text": [
      ".\n",
      "================\n",
      "finish\n",
      "Output results into 'data/magnetism2/t6.00004_J0.29999999999999993/data.dat'\n"
     ]
    },
    {
     "name": "stderr",
     "output_type": "stream",
     "text": [
      "  obtained data shape: (10, 1)\n"
     ]
    },
    {
     "name": "stdout",
     "output_type": "stream",
     "text": [
      "............................."
     ]
    },
    {
     "name": "stderr",
     "output_type": "stream",
     "text": [
      "\n",
      "================\n",
      "h = 10.0\n",
      "Initializing MC...\n",
      "Warming up...\n"
     ]
    },
    {
     "name": "stdout",
     "output_type": "stream",
     "text": [
      ".\n",
      "================\n",
      "finish\n",
      "Output results into 'data/magnetism2/t6.2500375_J0.29999999999999993/data.dat'\n"
     ]
    },
    {
     "name": "stderr",
     "output_type": "stream",
     "text": [
      "  obtained data shape: (10, 1)\n"
     ]
    },
    {
     "name": "stdout",
     "output_type": "stream",
     "text": [
      "............................."
     ]
    },
    {
     "name": "stderr",
     "output_type": "stream",
     "text": [
      "\n",
      "================\n",
      "h = 10.0\n",
      "Initializing MC...\n",
      "Warming up...\n"
     ]
    },
    {
     "name": "stdout",
     "output_type": "stream",
     "text": [
      ".\n",
      "================\n",
      "finish\n",
      "Output results into 'data/magnetism2/t6.5000350000000005_J0.29999999999999993/data.dat'\n"
     ]
    },
    {
     "name": "stderr",
     "output_type": "stream",
     "text": [
      "  obtained data shape: (10, 1)\n"
     ]
    },
    {
     "name": "stdout",
     "output_type": "stream",
     "text": [
      "............................."
     ]
    },
    {
     "name": "stderr",
     "output_type": "stream",
     "text": [
      "\n",
      "================\n",
      "h = 10.0\n",
      "Initializing MC...\n",
      "Warming up...\n"
     ]
    },
    {
     "name": "stdout",
     "output_type": "stream",
     "text": [
      ".\n",
      "================\n",
      "finish\n",
      "Output results into 'data/magnetism2/t6.7500325_J0.29999999999999993/data.dat'\n"
     ]
    },
    {
     "name": "stderr",
     "output_type": "stream",
     "text": [
      "  obtained data shape: (10, 1)\n"
     ]
    },
    {
     "name": "stdout",
     "output_type": "stream",
     "text": [
      "............................."
     ]
    },
    {
     "name": "stderr",
     "output_type": "stream",
     "text": [
      "\n",
      "================\n",
      "h = 10.0\n",
      "Initializing MC...\n",
      "Warming up...\n"
     ]
    },
    {
     "name": "stdout",
     "output_type": "stream",
     "text": [
      ".\n",
      "================\n",
      "finish\n",
      "Output results into 'data/magnetism2/t7.00003_J0.29999999999999993/data.dat'\n"
     ]
    },
    {
     "name": "stderr",
     "output_type": "stream",
     "text": [
      "  obtained data shape: (10, 1)\n"
     ]
    },
    {
     "name": "stdout",
     "output_type": "stream",
     "text": [
      "............................."
     ]
    },
    {
     "name": "stderr",
     "output_type": "stream",
     "text": [
      "\n",
      "================\n",
      "h = 10.0\n",
      "Initializing MC...\n",
      "Warming up...\n"
     ]
    },
    {
     "name": "stdout",
     "output_type": "stream",
     "text": [
      ".\n",
      "================\n",
      "finish\n",
      "Output results into 'data/magnetism2/t7.2500275_J0.29999999999999993/data.dat'\n"
     ]
    },
    {
     "name": "stderr",
     "output_type": "stream",
     "text": [
      "  obtained data shape: (10, 1)\n"
     ]
    },
    {
     "name": "stdout",
     "output_type": "stream",
     "text": [
      "............................."
     ]
    },
    {
     "name": "stderr",
     "output_type": "stream",
     "text": [
      "\n",
      "================\n",
      "h = 10.0\n",
      "Initializing MC...\n",
      "Warming up...\n"
     ]
    },
    {
     "name": "stdout",
     "output_type": "stream",
     "text": [
      ".\n",
      "================\n",
      "finish\n",
      "Output results into 'data/magnetism2/t7.500025_J0.29999999999999993/data.dat'\n"
     ]
    },
    {
     "name": "stderr",
     "output_type": "stream",
     "text": [
      "  obtained data shape: (10, 1)\n"
     ]
    },
    {
     "name": "stdout",
     "output_type": "stream",
     "text": [
      "............................."
     ]
    },
    {
     "name": "stderr",
     "output_type": "stream",
     "text": [
      "\n",
      "================\n",
      "h = 10.0\n",
      "Initializing MC...\n",
      "Warming up...\n"
     ]
    },
    {
     "name": "stdout",
     "output_type": "stream",
     "text": [
      ".\n",
      "================\n",
      "finish\n",
      "Output results into 'data/magnetism2/t7.7500225_J0.29999999999999993/data.dat'\n"
     ]
    },
    {
     "name": "stderr",
     "output_type": "stream",
     "text": [
      "  obtained data shape: (10, 1)\n"
     ]
    },
    {
     "name": "stdout",
     "output_type": "stream",
     "text": [
      "............................."
     ]
    },
    {
     "name": "stderr",
     "output_type": "stream",
     "text": [
      "\n",
      "================\n",
      "h = 10.0\n",
      "Initializing MC...\n",
      "Warming up...\n"
     ]
    },
    {
     "name": "stdout",
     "output_type": "stream",
     "text": [
      ".\n",
      "================\n",
      "finish\n",
      "Output results into 'data/magnetism2/t8.000020000000001_J0.29999999999999993/data.dat'\n"
     ]
    },
    {
     "name": "stderr",
     "output_type": "stream",
     "text": [
      "  obtained data shape: (10, 1)\n"
     ]
    },
    {
     "name": "stdout",
     "output_type": "stream",
     "text": [
      "............................."
     ]
    },
    {
     "name": "stderr",
     "output_type": "stream",
     "text": [
      "\n",
      "================\n",
      "h = 10.0\n",
      "Initializing MC...\n",
      "Warming up...\n"
     ]
    },
    {
     "name": "stdout",
     "output_type": "stream",
     "text": [
      ".\n",
      "================\n",
      "finish\n",
      "Output results into 'data/magnetism2/t8.2500175_J0.29999999999999993/data.dat'\n"
     ]
    },
    {
     "name": "stderr",
     "output_type": "stream",
     "text": [
      "  obtained data shape: (10, 1)\n"
     ]
    },
    {
     "name": "stdout",
     "output_type": "stream",
     "text": [
      "............................."
     ]
    },
    {
     "name": "stderr",
     "output_type": "stream",
     "text": [
      "\n",
      "================\n",
      "h = 10.0\n",
      "Initializing MC...\n",
      "Warming up...\n"
     ]
    },
    {
     "name": "stdout",
     "output_type": "stream",
     "text": [
      ".\n",
      "================\n",
      "finish\n",
      "Output results into 'data/magnetism2/t8.500015_J0.29999999999999993/data.dat'\n"
     ]
    },
    {
     "name": "stderr",
     "output_type": "stream",
     "text": [
      "  obtained data shape: (10, 1)\n"
     ]
    },
    {
     "name": "stdout",
     "output_type": "stream",
     "text": [
      "............................."
     ]
    },
    {
     "name": "stderr",
     "output_type": "stream",
     "text": [
      "\n",
      "================\n",
      "h = 10.0\n",
      "Initializing MC...\n",
      "Warming up...\n"
     ]
    },
    {
     "name": "stdout",
     "output_type": "stream",
     "text": [
      ".\n",
      "================\n",
      "finish\n",
      "Output results into 'data/magnetism2/t8.7500125_J0.29999999999999993/data.dat'\n"
     ]
    },
    {
     "name": "stderr",
     "output_type": "stream",
     "text": [
      "  obtained data shape: (10, 1)\n"
     ]
    },
    {
     "name": "stdout",
     "output_type": "stream",
     "text": [
      "............................."
     ]
    },
    {
     "name": "stderr",
     "output_type": "stream",
     "text": [
      "\n",
      "================\n",
      "h = 10.0\n",
      "Initializing MC...\n",
      "Warming up...\n"
     ]
    },
    {
     "name": "stdout",
     "output_type": "stream",
     "text": [
      ".\n",
      "================\n",
      "finish\n",
      "Output results into 'data/magnetism2/t9.00001_J0.29999999999999993/data.dat'\n"
     ]
    },
    {
     "name": "stderr",
     "output_type": "stream",
     "text": [
      "  obtained data shape: (10, 1)\n"
     ]
    },
    {
     "name": "stdout",
     "output_type": "stream",
     "text": [
      "............................."
     ]
    },
    {
     "name": "stderr",
     "output_type": "stream",
     "text": [
      "\n",
      "================\n",
      "h = 10.0\n",
      "Initializing MC...\n",
      "Warming up...\n"
     ]
    },
    {
     "name": "stdout",
     "output_type": "stream",
     "text": [
      ".\n",
      "================\n",
      "finish\n",
      "Output results into 'data/magnetism2/t9.2500075_J0.29999999999999993/data.dat'\n"
     ]
    },
    {
     "name": "stderr",
     "output_type": "stream",
     "text": [
      "  obtained data shape: (10, 1)\n"
     ]
    },
    {
     "name": "stdout",
     "output_type": "stream",
     "text": [
      "............................."
     ]
    },
    {
     "name": "stderr",
     "output_type": "stream",
     "text": [
      "\n",
      "================\n",
      "h = 10.0\n",
      "Initializing MC...\n",
      "Warming up...\n"
     ]
    },
    {
     "name": "stdout",
     "output_type": "stream",
     "text": [
      ".\n",
      "================\n",
      "finish\n",
      "Output results into 'data/magnetism2/t9.500005_J0.29999999999999993/data.dat'\n"
     ]
    },
    {
     "name": "stderr",
     "output_type": "stream",
     "text": [
      "  obtained data shape: (10, 1)\n"
     ]
    },
    {
     "name": "stdout",
     "output_type": "stream",
     "text": [
      "............................."
     ]
    },
    {
     "name": "stderr",
     "output_type": "stream",
     "text": [
      "\n",
      "================\n",
      "h = 10.0\n",
      "Initializing MC...\n",
      "Warming up...\n"
     ]
    },
    {
     "name": "stdout",
     "output_type": "stream",
     "text": [
      ".\n",
      "================\n",
      "finish\n",
      "Output results into 'data/magnetism2/t9.7500025_J0.29999999999999993/data.dat'\n"
     ]
    },
    {
     "name": "stderr",
     "output_type": "stream",
     "text": [
      "  obtained data shape: (10, 1)\n"
     ]
    },
    {
     "name": "stdout",
     "output_type": "stream",
     "text": [
      "............................."
     ]
    },
    {
     "name": "stderr",
     "output_type": "stream",
     "text": [
      "\n",
      "================\n",
      "h = 10.0\n",
      "Initializing MC...\n",
      "/home/yakkuru/computer_physics/report/submit/report3/code/tool/supplement.py:41: RuntimeWarning: overflow encountered in exp\n",
      "  prob_up.append(np.exp(-2 * K * sum_sigma))\n",
      "/home/yakkuru/computer_physics/report/submit/report3/code/tool/supplement.py:42: RuntimeWarning: overflow encountered in exp\n",
      "  prob_dn.append(np.exp(2 * K * sum_sigma))\n",
      "Warming up...\n"
     ]
    },
    {
     "name": "stdout",
     "output_type": "stream",
     "text": [
      ".\n",
      "================\n",
      "finish\n",
      "Output results into 'data/magnetism2/t10.0_J0.29999999999999993/data.dat'\n"
     ]
    },
    {
     "name": "stderr",
     "output_type": "stream",
     "text": [
      "/home/yakkuru/computer_physics/report/submit/report3/code/tool/measurement.py:46: RuntimeWarning: overflow encountered in exp\n",
      "  prob_field = np.exp(beta * h * measure(_mc))\n",
      "/home/yakkuru/computer_physics/report/submit/report3/code/tool/measurement.py:49: RuntimeWarning: invalid value encountered in multiply\n",
      "  return _mc.prob_up[num_up] * prob_field\n",
      "  obtained data shape: (10, 1)\n"
     ]
    },
    {
     "name": "stdout",
     "output_type": "stream",
     "text": [
      "............................."
     ]
    },
    {
     "name": "stderr",
     "output_type": "stream",
     "text": [
      "\n",
      "================\n",
      "h = 10.0\n",
      "Initializing MC...\n",
      "Warming up...\n"
     ]
    },
    {
     "name": "stdout",
     "output_type": "stream",
     "text": [
      ".\n",
      "================\n",
      "finish\n",
      "Output results into 'data/magnetism2/t0.0001_J0.19999999999999996/data.dat'\n"
     ]
    },
    {
     "name": "stderr",
     "output_type": "stream",
     "text": [
      "/home/yakkuru/computer_physics/report/submit/report3/code/tool/measurement.py:46: RuntimeWarning: overflow encountered in exp\n",
      "  prob_field = np.exp(beta * h * measure(_mc))\n",
      "  obtained data shape: (10, 1)\n"
     ]
    },
    {
     "name": "stdout",
     "output_type": "stream",
     "text": [
      "............................."
     ]
    },
    {
     "name": "stderr",
     "output_type": "stream",
     "text": [
      "\n",
      "================\n",
      "h = 10.0\n",
      "Initializing MC...\n",
      "Warming up...\n"
     ]
    },
    {
     "name": "stdout",
     "output_type": "stream",
     "text": [
      ".\n",
      "================\n",
      "finish\n",
      "Output results into 'data/magnetism2/t0.25009750000000003_J0.19999999999999996/data.dat'\n"
     ]
    },
    {
     "name": "stderr",
     "output_type": "stream",
     "text": [
      "  obtained data shape: (10, 1)\n"
     ]
    },
    {
     "name": "stdout",
     "output_type": "stream",
     "text": [
      "............................."
     ]
    },
    {
     "name": "stderr",
     "output_type": "stream",
     "text": [
      "\n",
      "================\n",
      "h = 10.0\n",
      "Initializing MC...\n",
      "Warming up...\n"
     ]
    },
    {
     "name": "stdout",
     "output_type": "stream",
     "text": [
      ".\n",
      "================\n",
      "finish\n",
      "Output results into 'data/magnetism2/t0.5000950000000001_J0.19999999999999996/data.dat'\n"
     ]
    },
    {
     "name": "stderr",
     "output_type": "stream",
     "text": [
      "  obtained data shape: (10, 1)\n"
     ]
    },
    {
     "name": "stdout",
     "output_type": "stream",
     "text": [
      "............................."
     ]
    },
    {
     "name": "stderr",
     "output_type": "stream",
     "text": [
      "\n",
      "================\n",
      "h = 10.0\n",
      "Initializing MC...\n",
      "Warming up...\n"
     ]
    },
    {
     "name": "stdout",
     "output_type": "stream",
     "text": [
      ".\n",
      "================\n",
      "finish\n",
      "Output results into 'data/magnetism2/t0.7500925_J0.19999999999999996/data.dat'\n"
     ]
    },
    {
     "name": "stderr",
     "output_type": "stream",
     "text": [
      "  obtained data shape: (10, 1)\n"
     ]
    },
    {
     "name": "stdout",
     "output_type": "stream",
     "text": [
      "............................."
     ]
    },
    {
     "name": "stderr",
     "output_type": "stream",
     "text": [
      "\n",
      "================\n",
      "h = 10.0\n",
      "Initializing MC...\n",
      "Warming up...\n"
     ]
    },
    {
     "name": "stdout",
     "output_type": "stream",
     "text": [
      ".\n",
      "================\n",
      "finish\n",
      "Output results into 'data/magnetism2/t1.0000900000000001_J0.19999999999999996/data.dat'\n"
     ]
    },
    {
     "name": "stderr",
     "output_type": "stream",
     "text": [
      "  obtained data shape: (10, 1)\n"
     ]
    },
    {
     "name": "stdout",
     "output_type": "stream",
     "text": [
      "............................."
     ]
    },
    {
     "name": "stderr",
     "output_type": "stream",
     "text": [
      "\n",
      "================\n",
      "h = 10.0\n",
      "Initializing MC...\n",
      "Warming up...\n"
     ]
    },
    {
     "name": "stdout",
     "output_type": "stream",
     "text": [
      ".\n",
      "================\n",
      "finish\n",
      "Output results into 'data/magnetism2/t1.2500875_J0.19999999999999996/data.dat'\n"
     ]
    },
    {
     "name": "stderr",
     "output_type": "stream",
     "text": [
      "  obtained data shape: (10, 1)\n"
     ]
    },
    {
     "name": "stdout",
     "output_type": "stream",
     "text": [
      "............................."
     ]
    },
    {
     "name": "stderr",
     "output_type": "stream",
     "text": [
      "\n",
      "================\n",
      "h = 10.0\n",
      "Initializing MC...\n",
      "Warming up...\n"
     ]
    },
    {
     "name": "stdout",
     "output_type": "stream",
     "text": [
      ".\n",
      "================\n",
      "finish\n",
      "Output results into 'data/magnetism2/t1.5000850000000001_J0.19999999999999996/data.dat'\n"
     ]
    },
    {
     "name": "stderr",
     "output_type": "stream",
     "text": [
      "  obtained data shape: (10, 1)\n"
     ]
    },
    {
     "name": "stdout",
     "output_type": "stream",
     "text": [
      "............................."
     ]
    },
    {
     "name": "stderr",
     "output_type": "stream",
     "text": [
      "\n",
      "================\n",
      "h = 10.0\n",
      "Initializing MC...\n",
      "Warming up...\n"
     ]
    },
    {
     "name": "stdout",
     "output_type": "stream",
     "text": [
      ".\n",
      "================\n",
      "finish\n",
      "Output results into 'data/magnetism2/t1.7500825_J0.19999999999999996/data.dat'\n"
     ]
    },
    {
     "name": "stderr",
     "output_type": "stream",
     "text": [
      "  obtained data shape: (10, 1)\n"
     ]
    },
    {
     "name": "stdout",
     "output_type": "stream",
     "text": [
      "............................."
     ]
    },
    {
     "name": "stderr",
     "output_type": "stream",
     "text": [
      "\n",
      "================\n",
      "h = 10.0\n",
      "Initializing MC...\n",
      "Warming up...\n"
     ]
    },
    {
     "name": "stdout",
     "output_type": "stream",
     "text": [
      ".\n",
      "================\n",
      "finish\n",
      "Output results into 'data/magnetism2/t2.00008_J0.19999999999999996/data.dat'\n"
     ]
    },
    {
     "name": "stderr",
     "output_type": "stream",
     "text": [
      "  obtained data shape: (10, 1)\n"
     ]
    },
    {
     "name": "stdout",
     "output_type": "stream",
     "text": [
      "............................."
     ]
    },
    {
     "name": "stderr",
     "output_type": "stream",
     "text": [
      "\n",
      "================\n",
      "h = 10.0\n",
      "Initializing MC...\n",
      "Warming up...\n"
     ]
    },
    {
     "name": "stdout",
     "output_type": "stream",
     "text": [
      ".\n",
      "================\n",
      "finish\n",
      "Output results into 'data/magnetism2/t2.2500775_J0.19999999999999996/data.dat'\n"
     ]
    },
    {
     "name": "stderr",
     "output_type": "stream",
     "text": [
      "  obtained data shape: (10, 1)\n"
     ]
    },
    {
     "name": "stdout",
     "output_type": "stream",
     "text": [
      "............................."
     ]
    },
    {
     "name": "stderr",
     "output_type": "stream",
     "text": [
      "\n",
      "================\n",
      "h = 10.0\n",
      "Initializing MC...\n",
      "Warming up...\n"
     ]
    },
    {
     "name": "stdout",
     "output_type": "stream",
     "text": [
      ".\n",
      "================\n",
      "finish\n",
      "Output results into 'data/magnetism2/t2.5000750000000003_J0.19999999999999996/data.dat'\n"
     ]
    },
    {
     "name": "stderr",
     "output_type": "stream",
     "text": [
      "  obtained data shape: (10, 1)\n"
     ]
    },
    {
     "name": "stdout",
     "output_type": "stream",
     "text": [
      "............................."
     ]
    },
    {
     "name": "stderr",
     "output_type": "stream",
     "text": [
      "\n",
      "================\n",
      "h = 10.0\n",
      "Initializing MC...\n",
      "Warming up...\n"
     ]
    },
    {
     "name": "stdout",
     "output_type": "stream",
     "text": [
      ".\n",
      "================\n",
      "finish\n",
      "Output results into 'data/magnetism2/t2.7500725000000004_J0.19999999999999996/data.dat'\n"
     ]
    },
    {
     "name": "stderr",
     "output_type": "stream",
     "text": [
      "  obtained data shape: (10, 1)\n"
     ]
    },
    {
     "name": "stdout",
     "output_type": "stream",
     "text": [
      "............................."
     ]
    },
    {
     "name": "stderr",
     "output_type": "stream",
     "text": [
      "\n",
      "================\n",
      "h = 10.0\n",
      "Initializing MC...\n",
      "Warming up...\n"
     ]
    },
    {
     "name": "stdout",
     "output_type": "stream",
     "text": [
      ".\n",
      "================\n",
      "finish\n",
      "Output results into 'data/magnetism2/t3.0000700000000005_J0.19999999999999996/data.dat'\n"
     ]
    },
    {
     "name": "stderr",
     "output_type": "stream",
     "text": [
      "  obtained data shape: (10, 1)\n"
     ]
    },
    {
     "name": "stdout",
     "output_type": "stream",
     "text": [
      "............................."
     ]
    },
    {
     "name": "stderr",
     "output_type": "stream",
     "text": [
      "\n",
      "================\n",
      "h = 10.0\n",
      "Initializing MC...\n",
      "Warming up...\n"
     ]
    },
    {
     "name": "stdout",
     "output_type": "stream",
     "text": [
      ".\n",
      "================\n",
      "finish\n",
      "Output results into 'data/magnetism2/t3.2500675000000006_J0.19999999999999996/data.dat'\n"
     ]
    },
    {
     "name": "stderr",
     "output_type": "stream",
     "text": [
      "  obtained data shape: (10, 1)\n"
     ]
    },
    {
     "name": "stdout",
     "output_type": "stream",
     "text": [
      "............................."
     ]
    },
    {
     "name": "stderr",
     "output_type": "stream",
     "text": [
      "\n",
      "================\n",
      "h = 10.0\n",
      "Initializing MC...\n",
      "Warming up...\n"
     ]
    },
    {
     "name": "stdout",
     "output_type": "stream",
     "text": [
      ".\n",
      "================\n",
      "finish\n",
      "Output results into 'data/magnetism2/t3.500065_J0.19999999999999996/data.dat'\n"
     ]
    },
    {
     "name": "stderr",
     "output_type": "stream",
     "text": [
      "  obtained data shape: (10, 1)\n"
     ]
    },
    {
     "name": "stdout",
     "output_type": "stream",
     "text": [
      "............................."
     ]
    },
    {
     "name": "stderr",
     "output_type": "stream",
     "text": [
      "\n",
      "================\n",
      "h = 10.0\n",
      "Initializing MC...\n",
      "Warming up...\n"
     ]
    },
    {
     "name": "stdout",
     "output_type": "stream",
     "text": [
      ".\n",
      "================\n",
      "finish\n",
      "Output results into 'data/magnetism2/t3.7500625000000003_J0.19999999999999996/data.dat'\n"
     ]
    },
    {
     "name": "stderr",
     "output_type": "stream",
     "text": [
      "  obtained data shape: (10, 1)\n"
     ]
    },
    {
     "name": "stdout",
     "output_type": "stream",
     "text": [
      "............................."
     ]
    },
    {
     "name": "stderr",
     "output_type": "stream",
     "text": [
      "\n",
      "================\n",
      "h = 10.0\n",
      "Initializing MC...\n",
      "Warming up...\n"
     ]
    },
    {
     "name": "stdout",
     "output_type": "stream",
     "text": [
      ".\n",
      "================\n",
      "finish\n",
      "Output results into 'data/magnetism2/t4.00006_J0.19999999999999996/data.dat'\n"
     ]
    },
    {
     "name": "stderr",
     "output_type": "stream",
     "text": [
      "  obtained data shape: (10, 1)\n"
     ]
    },
    {
     "name": "stdout",
     "output_type": "stream",
     "text": [
      "............................."
     ]
    },
    {
     "name": "stderr",
     "output_type": "stream",
     "text": [
      "\n",
      "================\n",
      "h = 10.0\n",
      "Initializing MC...\n",
      "Warming up...\n"
     ]
    },
    {
     "name": "stdout",
     "output_type": "stream",
     "text": [
      ".\n",
      "================\n",
      "finish\n",
      "Output results into 'data/magnetism2/t4.2500575_J0.19999999999999996/data.dat'\n"
     ]
    },
    {
     "name": "stderr",
     "output_type": "stream",
     "text": [
      "  obtained data shape: (10, 1)\n"
     ]
    },
    {
     "name": "stdout",
     "output_type": "stream",
     "text": [
      "............................."
     ]
    },
    {
     "name": "stderr",
     "output_type": "stream",
     "text": [
      "\n",
      "================\n",
      "h = 10.0\n",
      "Initializing MC...\n",
      "Warming up...\n"
     ]
    },
    {
     "name": "stdout",
     "output_type": "stream",
     "text": [
      ".\n",
      "================\n",
      "finish\n",
      "Output results into 'data/magnetism2/t4.500055_J0.19999999999999996/data.dat'\n"
     ]
    },
    {
     "name": "stderr",
     "output_type": "stream",
     "text": [
      "  obtained data shape: (10, 1)\n"
     ]
    },
    {
     "name": "stdout",
     "output_type": "stream",
     "text": [
      "............................."
     ]
    },
    {
     "name": "stderr",
     "output_type": "stream",
     "text": [
      "\n",
      "================\n",
      "h = 10.0\n",
      "Initializing MC...\n",
      "Warming up...\n"
     ]
    },
    {
     "name": "stdout",
     "output_type": "stream",
     "text": [
      ".\n",
      "================\n",
      "finish\n",
      "Output results into 'data/magnetism2/t4.7500525_J0.19999999999999996/data.dat'\n"
     ]
    },
    {
     "name": "stderr",
     "output_type": "stream",
     "text": [
      "  obtained data shape: (10, 1)\n"
     ]
    },
    {
     "name": "stdout",
     "output_type": "stream",
     "text": [
      "............................."
     ]
    },
    {
     "name": "stderr",
     "output_type": "stream",
     "text": [
      "\n",
      "================\n",
      "h = 10.0\n",
      "Initializing MC...\n",
      "Warming up...\n"
     ]
    },
    {
     "name": "stdout",
     "output_type": "stream",
     "text": [
      ".\n",
      "================\n",
      "finish\n",
      "Output results into 'data/magnetism2/t5.00005_J0.19999999999999996/data.dat'\n"
     ]
    },
    {
     "name": "stderr",
     "output_type": "stream",
     "text": [
      "  obtained data shape: (10, 1)\n"
     ]
    },
    {
     "name": "stdout",
     "output_type": "stream",
     "text": [
      "............................."
     ]
    },
    {
     "name": "stderr",
     "output_type": "stream",
     "text": [
      "\n",
      "================\n",
      "h = 10.0\n",
      "Initializing MC...\n",
      "Warming up...\n"
     ]
    },
    {
     "name": "stdout",
     "output_type": "stream",
     "text": [
      ".\n",
      "================\n",
      "finish\n",
      "Output results into 'data/magnetism2/t5.2500475_J0.19999999999999996/data.dat'\n"
     ]
    },
    {
     "name": "stderr",
     "output_type": "stream",
     "text": [
      "  obtained data shape: (10, 1)\n"
     ]
    },
    {
     "name": "stdout",
     "output_type": "stream",
     "text": [
      "............................."
     ]
    },
    {
     "name": "stderr",
     "output_type": "stream",
     "text": [
      "\n",
      "================\n",
      "h = 10.0\n",
      "Initializing MC...\n",
      "Warming up...\n"
     ]
    },
    {
     "name": "stdout",
     "output_type": "stream",
     "text": [
      ".\n",
      "================\n",
      "finish\n",
      "Output results into 'data/magnetism2/t5.500045_J0.19999999999999996/data.dat'\n"
     ]
    },
    {
     "name": "stderr",
     "output_type": "stream",
     "text": [
      "  obtained data shape: (10, 1)\n"
     ]
    },
    {
     "name": "stdout",
     "output_type": "stream",
     "text": [
      "............................."
     ]
    },
    {
     "name": "stderr",
     "output_type": "stream",
     "text": [
      "\n",
      "================\n",
      "h = 10.0\n",
      "Initializing MC...\n",
      "Warming up...\n"
     ]
    },
    {
     "name": "stdout",
     "output_type": "stream",
     "text": [
      ".\n",
      "================\n",
      "finish\n",
      "Output results into 'data/magnetism2/t5.7500425_J0.19999999999999996/data.dat'\n"
     ]
    },
    {
     "name": "stderr",
     "output_type": "stream",
     "text": [
      "  obtained data shape: (10, 1)\n"
     ]
    },
    {
     "name": "stdout",
     "output_type": "stream",
     "text": [
      "............................."
     ]
    },
    {
     "name": "stderr",
     "output_type": "stream",
     "text": [
      "\n",
      "================\n",
      "h = 10.0\n",
      "Initializing MC...\n",
      "Warming up...\n"
     ]
    },
    {
     "name": "stdout",
     "output_type": "stream",
     "text": [
      ".\n",
      "================\n",
      "finish\n",
      "Output results into 'data/magnetism2/t6.00004_J0.19999999999999996/data.dat'\n"
     ]
    },
    {
     "name": "stderr",
     "output_type": "stream",
     "text": [
      "  obtained data shape: (10, 1)\n"
     ]
    },
    {
     "name": "stdout",
     "output_type": "stream",
     "text": [
      "............................."
     ]
    },
    {
     "name": "stderr",
     "output_type": "stream",
     "text": [
      "\n",
      "================\n",
      "h = 10.0\n",
      "Initializing MC...\n",
      "Warming up...\n"
     ]
    },
    {
     "name": "stdout",
     "output_type": "stream",
     "text": [
      ".\n",
      "================\n",
      "finish\n",
      "Output results into 'data/magnetism2/t6.2500375_J0.19999999999999996/data.dat'\n"
     ]
    },
    {
     "name": "stderr",
     "output_type": "stream",
     "text": [
      "  obtained data shape: (10, 1)\n"
     ]
    },
    {
     "name": "stdout",
     "output_type": "stream",
     "text": [
      "............................."
     ]
    },
    {
     "name": "stderr",
     "output_type": "stream",
     "text": [
      "\n",
      "================\n",
      "h = 10.0\n",
      "Initializing MC...\n",
      "Warming up...\n"
     ]
    },
    {
     "name": "stdout",
     "output_type": "stream",
     "text": [
      ".\n",
      "================\n",
      "finish\n",
      "Output results into 'data/magnetism2/t6.5000350000000005_J0.19999999999999996/data.dat'\n"
     ]
    },
    {
     "name": "stderr",
     "output_type": "stream",
     "text": [
      "  obtained data shape: (10, 1)\n"
     ]
    },
    {
     "name": "stdout",
     "output_type": "stream",
     "text": [
      "............................."
     ]
    },
    {
     "name": "stderr",
     "output_type": "stream",
     "text": [
      "\n",
      "================\n",
      "h = 10.0\n",
      "Initializing MC...\n",
      "Warming up...\n"
     ]
    },
    {
     "name": "stdout",
     "output_type": "stream",
     "text": [
      ".\n",
      "================\n",
      "finish\n",
      "Output results into 'data/magnetism2/t6.7500325_J0.19999999999999996/data.dat'\n"
     ]
    },
    {
     "name": "stderr",
     "output_type": "stream",
     "text": [
      "  obtained data shape: (10, 1)\n"
     ]
    },
    {
     "name": "stdout",
     "output_type": "stream",
     "text": [
      "............................."
     ]
    },
    {
     "name": "stderr",
     "output_type": "stream",
     "text": [
      "\n",
      "================\n",
      "h = 10.0\n",
      "Initializing MC...\n",
      "Warming up...\n"
     ]
    },
    {
     "name": "stdout",
     "output_type": "stream",
     "text": [
      ".\n",
      "================\n",
      "finish\n",
      "Output results into 'data/magnetism2/t7.00003_J0.19999999999999996/data.dat'\n"
     ]
    },
    {
     "name": "stderr",
     "output_type": "stream",
     "text": [
      "  obtained data shape: (10, 1)\n"
     ]
    },
    {
     "name": "stdout",
     "output_type": "stream",
     "text": [
      "............................."
     ]
    },
    {
     "name": "stderr",
     "output_type": "stream",
     "text": [
      "\n",
      "================\n",
      "h = 10.0\n",
      "Initializing MC...\n",
      "Warming up...\n"
     ]
    },
    {
     "name": "stdout",
     "output_type": "stream",
     "text": [
      ".\n",
      "================\n",
      "finish\n",
      "Output results into 'data/magnetism2/t7.2500275_J0.19999999999999996/data.dat'\n"
     ]
    },
    {
     "name": "stderr",
     "output_type": "stream",
     "text": [
      "  obtained data shape: (10, 1)\n"
     ]
    },
    {
     "name": "stdout",
     "output_type": "stream",
     "text": [
      "............................."
     ]
    },
    {
     "name": "stderr",
     "output_type": "stream",
     "text": [
      "\n",
      "================\n",
      "h = 10.0\n",
      "Initializing MC...\n",
      "Warming up...\n"
     ]
    },
    {
     "name": "stdout",
     "output_type": "stream",
     "text": [
      ".\n",
      "================\n",
      "finish\n",
      "Output results into 'data/magnetism2/t7.500025_J0.19999999999999996/data.dat'\n"
     ]
    },
    {
     "name": "stderr",
     "output_type": "stream",
     "text": [
      "  obtained data shape: (10, 1)\n"
     ]
    },
    {
     "name": "stdout",
     "output_type": "stream",
     "text": [
      "............................."
     ]
    },
    {
     "name": "stderr",
     "output_type": "stream",
     "text": [
      "\n",
      "================\n",
      "h = 10.0\n",
      "Initializing MC...\n",
      "Warming up...\n"
     ]
    },
    {
     "name": "stdout",
     "output_type": "stream",
     "text": [
      ".\n",
      "================\n",
      "finish\n",
      "Output results into 'data/magnetism2/t7.7500225_J0.19999999999999996/data.dat'\n"
     ]
    },
    {
     "name": "stderr",
     "output_type": "stream",
     "text": [
      "  obtained data shape: (10, 1)\n"
     ]
    },
    {
     "name": "stdout",
     "output_type": "stream",
     "text": [
      "............................."
     ]
    },
    {
     "name": "stderr",
     "output_type": "stream",
     "text": [
      "\n",
      "================\n",
      "h = 10.0\n",
      "Initializing MC...\n",
      "Warming up...\n"
     ]
    },
    {
     "name": "stdout",
     "output_type": "stream",
     "text": [
      ".\n",
      "================\n",
      "finish\n",
      "Output results into 'data/magnetism2/t8.000020000000001_J0.19999999999999996/data.dat'\n"
     ]
    },
    {
     "name": "stderr",
     "output_type": "stream",
     "text": [
      "  obtained data shape: (10, 1)\n"
     ]
    },
    {
     "name": "stdout",
     "output_type": "stream",
     "text": [
      "............................."
     ]
    },
    {
     "name": "stderr",
     "output_type": "stream",
     "text": [
      "\n",
      "================\n",
      "h = 10.0\n",
      "Initializing MC...\n",
      "Warming up...\n"
     ]
    },
    {
     "name": "stdout",
     "output_type": "stream",
     "text": [
      ".\n",
      "================\n",
      "finish\n",
      "Output results into 'data/magnetism2/t8.2500175_J0.19999999999999996/data.dat'\n"
     ]
    },
    {
     "name": "stderr",
     "output_type": "stream",
     "text": [
      "  obtained data shape: (10, 1)\n"
     ]
    },
    {
     "name": "stdout",
     "output_type": "stream",
     "text": [
      "............................."
     ]
    },
    {
     "name": "stderr",
     "output_type": "stream",
     "text": [
      "\n",
      "================\n",
      "h = 10.0\n",
      "Initializing MC...\n",
      "Warming up...\n"
     ]
    },
    {
     "name": "stdout",
     "output_type": "stream",
     "text": [
      ".\n",
      "================\n",
      "finish\n",
      "Output results into 'data/magnetism2/t8.500015_J0.19999999999999996/data.dat'\n"
     ]
    },
    {
     "name": "stderr",
     "output_type": "stream",
     "text": [
      "  obtained data shape: (10, 1)\n"
     ]
    },
    {
     "name": "stdout",
     "output_type": "stream",
     "text": [
      "............................."
     ]
    },
    {
     "name": "stderr",
     "output_type": "stream",
     "text": [
      "\n",
      "================\n",
      "h = 10.0\n",
      "Initializing MC...\n",
      "Warming up...\n"
     ]
    },
    {
     "name": "stdout",
     "output_type": "stream",
     "text": [
      ".\n",
      "================\n",
      "finish\n",
      "Output results into 'data/magnetism2/t8.7500125_J0.19999999999999996/data.dat'\n"
     ]
    },
    {
     "name": "stderr",
     "output_type": "stream",
     "text": [
      "  obtained data shape: (10, 1)\n"
     ]
    },
    {
     "name": "stdout",
     "output_type": "stream",
     "text": [
      "............................."
     ]
    },
    {
     "name": "stderr",
     "output_type": "stream",
     "text": [
      "\n",
      "================\n",
      "h = 10.0\n",
      "Initializing MC...\n",
      "Warming up...\n"
     ]
    },
    {
     "name": "stdout",
     "output_type": "stream",
     "text": [
      ".\n",
      "================\n",
      "finish\n",
      "Output results into 'data/magnetism2/t9.00001_J0.19999999999999996/data.dat'\n"
     ]
    },
    {
     "name": "stderr",
     "output_type": "stream",
     "text": [
      "  obtained data shape: (10, 1)\n"
     ]
    },
    {
     "name": "stdout",
     "output_type": "stream",
     "text": [
      "............................."
     ]
    },
    {
     "name": "stderr",
     "output_type": "stream",
     "text": [
      "\n",
      "================\n",
      "h = 10.0\n",
      "Initializing MC...\n",
      "Warming up...\n"
     ]
    },
    {
     "name": "stdout",
     "output_type": "stream",
     "text": [
      ".\n",
      "================\n",
      "finish\n",
      "Output results into 'data/magnetism2/t9.2500075_J0.19999999999999996/data.dat'\n"
     ]
    },
    {
     "name": "stderr",
     "output_type": "stream",
     "text": [
      "  obtained data shape: (10, 1)\n"
     ]
    },
    {
     "name": "stdout",
     "output_type": "stream",
     "text": [
      "............................."
     ]
    },
    {
     "name": "stderr",
     "output_type": "stream",
     "text": [
      "\n",
      "================\n",
      "h = 10.0\n",
      "Initializing MC...\n",
      "Warming up...\n"
     ]
    },
    {
     "name": "stdout",
     "output_type": "stream",
     "text": [
      ".\n",
      "================\n",
      "finish\n",
      "Output results into 'data/magnetism2/t9.500005_J0.19999999999999996/data.dat'\n"
     ]
    },
    {
     "name": "stderr",
     "output_type": "stream",
     "text": [
      "  obtained data shape: (10, 1)\n"
     ]
    },
    {
     "name": "stdout",
     "output_type": "stream",
     "text": [
      "............................."
     ]
    },
    {
     "name": "stderr",
     "output_type": "stream",
     "text": [
      "\n",
      "================\n",
      "h = 10.0\n",
      "Initializing MC...\n",
      "Warming up...\n"
     ]
    },
    {
     "name": "stdout",
     "output_type": "stream",
     "text": [
      ".\n",
      "================\n",
      "finish\n",
      "Output results into 'data/magnetism2/t9.7500025_J0.19999999999999996/data.dat'\n"
     ]
    },
    {
     "name": "stderr",
     "output_type": "stream",
     "text": [
      "  obtained data shape: (10, 1)\n"
     ]
    },
    {
     "name": "stdout",
     "output_type": "stream",
     "text": [
      "............................."
     ]
    },
    {
     "name": "stderr",
     "output_type": "stream",
     "text": [
      "\n",
      "================\n",
      "h = 10.0\n",
      "Initializing MC...\n",
      "/home/yakkuru/computer_physics/report/submit/report3/code/tool/supplement.py:41: RuntimeWarning: overflow encountered in exp\n",
      "  prob_up.append(np.exp(-2 * K * sum_sigma))\n",
      "/home/yakkuru/computer_physics/report/submit/report3/code/tool/supplement.py:42: RuntimeWarning: overflow encountered in exp\n",
      "  prob_dn.append(np.exp(2 * K * sum_sigma))\n",
      "Warming up...\n"
     ]
    },
    {
     "name": "stdout",
     "output_type": "stream",
     "text": [
      ".\n",
      "================\n",
      "finish\n",
      "Output results into 'data/magnetism2/t10.0_J0.19999999999999996/data.dat'\n"
     ]
    },
    {
     "name": "stderr",
     "output_type": "stream",
     "text": [
      "/home/yakkuru/computer_physics/report/submit/report3/code/tool/measurement.py:46: RuntimeWarning: overflow encountered in exp\n",
      "  prob_field = np.exp(beta * h * measure(_mc))\n",
      "/home/yakkuru/computer_physics/report/submit/report3/code/tool/measurement.py:49: RuntimeWarning: invalid value encountered in multiply\n",
      "  return _mc.prob_up[num_up] * prob_field\n",
      "  obtained data shape: (10, 1)\n"
     ]
    },
    {
     "name": "stdout",
     "output_type": "stream",
     "text": [
      "............................."
     ]
    },
    {
     "name": "stderr",
     "output_type": "stream",
     "text": [
      "\n",
      "================\n",
      "h = 10.0\n",
      "Initializing MC...\n",
      "Warming up...\n"
     ]
    },
    {
     "name": "stdout",
     "output_type": "stream",
     "text": [
      ".\n",
      "================\n",
      "finish\n",
      "Output results into 'data/magnetism2/t0.0001_J0.09999999999999998/data.dat'\n"
     ]
    },
    {
     "name": "stderr",
     "output_type": "stream",
     "text": [
      "/home/yakkuru/computer_physics/report/submit/report3/code/tool/measurement.py:46: RuntimeWarning: overflow encountered in exp\n",
      "  prob_field = np.exp(beta * h * measure(_mc))\n",
      "  obtained data shape: (10, 1)\n"
     ]
    },
    {
     "name": "stdout",
     "output_type": "stream",
     "text": [
      "............................."
     ]
    },
    {
     "name": "stderr",
     "output_type": "stream",
     "text": [
      "\n",
      "================\n",
      "h = 10.0\n",
      "Initializing MC...\n",
      "Warming up...\n"
     ]
    },
    {
     "name": "stdout",
     "output_type": "stream",
     "text": [
      ".\n",
      "================\n",
      "finish\n",
      "Output results into 'data/magnetism2/t0.25009750000000003_J0.09999999999999998/data.dat'\n"
     ]
    },
    {
     "name": "stderr",
     "output_type": "stream",
     "text": [
      "  obtained data shape: (10, 1)\n"
     ]
    },
    {
     "name": "stdout",
     "output_type": "stream",
     "text": [
      "............................."
     ]
    },
    {
     "name": "stderr",
     "output_type": "stream",
     "text": [
      "\n",
      "================\n",
      "h = 10.0\n",
      "Initializing MC...\n",
      "Warming up...\n"
     ]
    },
    {
     "name": "stdout",
     "output_type": "stream",
     "text": [
      ".\n",
      "================\n",
      "finish\n",
      "Output results into 'data/magnetism2/t0.5000950000000001_J0.09999999999999998/data.dat'\n"
     ]
    },
    {
     "name": "stderr",
     "output_type": "stream",
     "text": [
      "  obtained data shape: (10, 1)\n"
     ]
    },
    {
     "name": "stdout",
     "output_type": "stream",
     "text": [
      "............................."
     ]
    },
    {
     "name": "stderr",
     "output_type": "stream",
     "text": [
      "\n",
      "================\n",
      "h = 10.0\n",
      "Initializing MC...\n",
      "Warming up...\n"
     ]
    },
    {
     "name": "stdout",
     "output_type": "stream",
     "text": [
      ".\n",
      "================\n",
      "finish\n",
      "Output results into 'data/magnetism2/t0.7500925_J0.09999999999999998/data.dat'\n"
     ]
    },
    {
     "name": "stderr",
     "output_type": "stream",
     "text": [
      "  obtained data shape: (10, 1)\n"
     ]
    },
    {
     "name": "stdout",
     "output_type": "stream",
     "text": [
      "............................."
     ]
    },
    {
     "name": "stderr",
     "output_type": "stream",
     "text": [
      "\n",
      "================\n",
      "h = 10.0\n",
      "Initializing MC...\n",
      "Warming up...\n"
     ]
    },
    {
     "name": "stdout",
     "output_type": "stream",
     "text": [
      ".\n",
      "================\n",
      "finish\n",
      "Output results into 'data/magnetism2/t1.0000900000000001_J0.09999999999999998/data.dat'\n"
     ]
    },
    {
     "name": "stderr",
     "output_type": "stream",
     "text": [
      "  obtained data shape: (10, 1)\n"
     ]
    },
    {
     "name": "stdout",
     "output_type": "stream",
     "text": [
      "............................."
     ]
    },
    {
     "name": "stderr",
     "output_type": "stream",
     "text": [
      "\n",
      "================\n",
      "h = 10.0\n",
      "Initializing MC...\n",
      "Warming up...\n"
     ]
    },
    {
     "name": "stdout",
     "output_type": "stream",
     "text": [
      ".\n",
      "================\n",
      "finish\n",
      "Output results into 'data/magnetism2/t1.2500875_J0.09999999999999998/data.dat'\n"
     ]
    },
    {
     "name": "stderr",
     "output_type": "stream",
     "text": [
      "  obtained data shape: (10, 1)\n"
     ]
    },
    {
     "name": "stdout",
     "output_type": "stream",
     "text": [
      "............................."
     ]
    },
    {
     "name": "stderr",
     "output_type": "stream",
     "text": [
      "\n",
      "================\n",
      "h = 10.0\n",
      "Initializing MC...\n",
      "Warming up...\n"
     ]
    },
    {
     "name": "stdout",
     "output_type": "stream",
     "text": [
      ".\n",
      "================\n",
      "finish\n",
      "Output results into 'data/magnetism2/t1.5000850000000001_J0.09999999999999998/data.dat'\n"
     ]
    },
    {
     "name": "stderr",
     "output_type": "stream",
     "text": [
      "  obtained data shape: (10, 1)\n"
     ]
    },
    {
     "name": "stdout",
     "output_type": "stream",
     "text": [
      "............................."
     ]
    },
    {
     "name": "stderr",
     "output_type": "stream",
     "text": [
      "\n",
      "================\n",
      "h = 10.0\n",
      "Initializing MC...\n",
      "Warming up...\n"
     ]
    },
    {
     "name": "stdout",
     "output_type": "stream",
     "text": [
      ".\n",
      "================\n",
      "finish\n",
      "Output results into 'data/magnetism2/t1.7500825_J0.09999999999999998/data.dat'\n"
     ]
    },
    {
     "name": "stderr",
     "output_type": "stream",
     "text": [
      "  obtained data shape: (10, 1)\n"
     ]
    },
    {
     "name": "stdout",
     "output_type": "stream",
     "text": [
      "............................."
     ]
    },
    {
     "name": "stderr",
     "output_type": "stream",
     "text": [
      "\n",
      "================\n",
      "h = 10.0\n",
      "Initializing MC...\n",
      "Warming up...\n"
     ]
    },
    {
     "name": "stdout",
     "output_type": "stream",
     "text": [
      ".\n",
      "================\n",
      "finish\n",
      "Output results into 'data/magnetism2/t2.00008_J0.09999999999999998/data.dat'\n"
     ]
    },
    {
     "name": "stderr",
     "output_type": "stream",
     "text": [
      "  obtained data shape: (10, 1)\n"
     ]
    },
    {
     "name": "stdout",
     "output_type": "stream",
     "text": [
      "............................."
     ]
    },
    {
     "name": "stderr",
     "output_type": "stream",
     "text": [
      "\n",
      "================\n",
      "h = 10.0\n",
      "Initializing MC...\n",
      "Warming up...\n"
     ]
    },
    {
     "name": "stdout",
     "output_type": "stream",
     "text": [
      ".\n",
      "================\n",
      "finish\n",
      "Output results into 'data/magnetism2/t2.2500775_J0.09999999999999998/data.dat'\n"
     ]
    },
    {
     "name": "stderr",
     "output_type": "stream",
     "text": [
      "  obtained data shape: (10, 1)\n"
     ]
    },
    {
     "name": "stdout",
     "output_type": "stream",
     "text": [
      "............................."
     ]
    },
    {
     "name": "stderr",
     "output_type": "stream",
     "text": [
      "\n",
      "================\n",
      "h = 10.0\n",
      "Initializing MC...\n",
      "Warming up...\n"
     ]
    },
    {
     "name": "stdout",
     "output_type": "stream",
     "text": [
      ".\n",
      "================\n",
      "finish\n",
      "Output results into 'data/magnetism2/t2.5000750000000003_J0.09999999999999998/data.dat'\n"
     ]
    },
    {
     "name": "stderr",
     "output_type": "stream",
     "text": [
      "  obtained data shape: (10, 1)\n"
     ]
    },
    {
     "name": "stdout",
     "output_type": "stream",
     "text": [
      "............................."
     ]
    },
    {
     "name": "stderr",
     "output_type": "stream",
     "text": [
      "\n",
      "================\n",
      "h = 10.0\n",
      "Initializing MC...\n",
      "Warming up...\n"
     ]
    },
    {
     "name": "stdout",
     "output_type": "stream",
     "text": [
      ".\n",
      "================\n",
      "finish\n",
      "Output results into 'data/magnetism2/t2.7500725000000004_J0.09999999999999998/data.dat'\n"
     ]
    },
    {
     "name": "stderr",
     "output_type": "stream",
     "text": [
      "  obtained data shape: (10, 1)\n"
     ]
    },
    {
     "name": "stdout",
     "output_type": "stream",
     "text": [
      "............................."
     ]
    },
    {
     "name": "stderr",
     "output_type": "stream",
     "text": [
      "\n",
      "================\n",
      "h = 10.0\n",
      "Initializing MC...\n",
      "Warming up...\n"
     ]
    },
    {
     "name": "stdout",
     "output_type": "stream",
     "text": [
      ".\n",
      "================\n",
      "finish\n",
      "Output results into 'data/magnetism2/t3.0000700000000005_J0.09999999999999998/data.dat'\n"
     ]
    },
    {
     "name": "stderr",
     "output_type": "stream",
     "text": [
      "  obtained data shape: (10, 1)\n"
     ]
    },
    {
     "name": "stdout",
     "output_type": "stream",
     "text": [
      "............................."
     ]
    },
    {
     "name": "stderr",
     "output_type": "stream",
     "text": [
      "\n",
      "================\n",
      "h = 10.0\n",
      "Initializing MC...\n",
      "Warming up...\n"
     ]
    },
    {
     "name": "stdout",
     "output_type": "stream",
     "text": [
      ".\n",
      "================\n",
      "finish\n",
      "Output results into 'data/magnetism2/t3.2500675000000006_J0.09999999999999998/data.dat'\n"
     ]
    },
    {
     "name": "stderr",
     "output_type": "stream",
     "text": [
      "  obtained data shape: (10, 1)\n"
     ]
    },
    {
     "name": "stdout",
     "output_type": "stream",
     "text": [
      "............................."
     ]
    },
    {
     "name": "stderr",
     "output_type": "stream",
     "text": [
      "\n",
      "================\n",
      "h = 10.0\n",
      "Initializing MC...\n",
      "Warming up...\n"
     ]
    },
    {
     "name": "stdout",
     "output_type": "stream",
     "text": [
      ".\n",
      "================\n",
      "finish\n",
      "Output results into 'data/magnetism2/t3.500065_J0.09999999999999998/data.dat'\n"
     ]
    },
    {
     "name": "stderr",
     "output_type": "stream",
     "text": [
      "  obtained data shape: (10, 1)\n"
     ]
    },
    {
     "name": "stdout",
     "output_type": "stream",
     "text": [
      "............................."
     ]
    },
    {
     "name": "stderr",
     "output_type": "stream",
     "text": [
      "\n",
      "================\n",
      "h = 10.0\n",
      "Initializing MC...\n",
      "Warming up...\n"
     ]
    },
    {
     "name": "stdout",
     "output_type": "stream",
     "text": [
      ".\n",
      "================\n",
      "finish\n",
      "Output results into 'data/magnetism2/t3.7500625000000003_J0.09999999999999998/data.dat'\n"
     ]
    },
    {
     "name": "stderr",
     "output_type": "stream",
     "text": [
      "  obtained data shape: (10, 1)\n"
     ]
    },
    {
     "name": "stdout",
     "output_type": "stream",
     "text": [
      "............................."
     ]
    },
    {
     "name": "stderr",
     "output_type": "stream",
     "text": [
      "\n",
      "================\n",
      "h = 10.0\n",
      "Initializing MC...\n",
      "Warming up...\n"
     ]
    },
    {
     "name": "stdout",
     "output_type": "stream",
     "text": [
      ".\n",
      "================\n",
      "finish\n",
      "Output results into 'data/magnetism2/t4.00006_J0.09999999999999998/data.dat'\n"
     ]
    },
    {
     "name": "stderr",
     "output_type": "stream",
     "text": [
      "  obtained data shape: (10, 1)\n"
     ]
    },
    {
     "name": "stdout",
     "output_type": "stream",
     "text": [
      "............................."
     ]
    },
    {
     "name": "stderr",
     "output_type": "stream",
     "text": [
      "\n",
      "================\n",
      "h = 10.0\n",
      "Initializing MC...\n",
      "Warming up...\n"
     ]
    },
    {
     "name": "stdout",
     "output_type": "stream",
     "text": [
      ".\n",
      "================\n",
      "finish\n",
      "Output results into 'data/magnetism2/t4.2500575_J0.09999999999999998/data.dat'\n"
     ]
    },
    {
     "name": "stderr",
     "output_type": "stream",
     "text": [
      "  obtained data shape: (10, 1)\n"
     ]
    },
    {
     "name": "stdout",
     "output_type": "stream",
     "text": [
      "............................."
     ]
    },
    {
     "name": "stderr",
     "output_type": "stream",
     "text": [
      "\n",
      "================\n",
      "h = 10.0\n",
      "Initializing MC...\n",
      "Warming up...\n"
     ]
    },
    {
     "name": "stdout",
     "output_type": "stream",
     "text": [
      ".\n",
      "================\n",
      "finish\n",
      "Output results into 'data/magnetism2/t4.500055_J0.09999999999999998/data.dat'\n"
     ]
    },
    {
     "name": "stderr",
     "output_type": "stream",
     "text": [
      "  obtained data shape: (10, 1)\n"
     ]
    },
    {
     "name": "stdout",
     "output_type": "stream",
     "text": [
      "............................."
     ]
    },
    {
     "name": "stderr",
     "output_type": "stream",
     "text": [
      "\n",
      "================\n",
      "h = 10.0\n",
      "Initializing MC...\n",
      "Warming up...\n"
     ]
    },
    {
     "name": "stdout",
     "output_type": "stream",
     "text": [
      ".\n",
      "================\n",
      "finish\n",
      "Output results into 'data/magnetism2/t4.7500525_J0.09999999999999998/data.dat'\n"
     ]
    },
    {
     "name": "stderr",
     "output_type": "stream",
     "text": [
      "  obtained data shape: (10, 1)\n"
     ]
    },
    {
     "name": "stdout",
     "output_type": "stream",
     "text": [
      "............................."
     ]
    },
    {
     "name": "stderr",
     "output_type": "stream",
     "text": [
      "\n",
      "================\n",
      "h = 10.0\n",
      "Initializing MC...\n",
      "Warming up...\n"
     ]
    },
    {
     "name": "stdout",
     "output_type": "stream",
     "text": [
      ".\n",
      "================\n",
      "finish\n",
      "Output results into 'data/magnetism2/t5.00005_J0.09999999999999998/data.dat'\n"
     ]
    },
    {
     "name": "stderr",
     "output_type": "stream",
     "text": [
      "  obtained data shape: (10, 1)\n"
     ]
    },
    {
     "name": "stdout",
     "output_type": "stream",
     "text": [
      "............................."
     ]
    },
    {
     "name": "stderr",
     "output_type": "stream",
     "text": [
      "\n",
      "================\n",
      "h = 10.0\n",
      "Initializing MC...\n",
      "Warming up...\n"
     ]
    },
    {
     "name": "stdout",
     "output_type": "stream",
     "text": [
      ".\n",
      "================\n",
      "finish\n",
      "Output results into 'data/magnetism2/t5.2500475_J0.09999999999999998/data.dat'\n"
     ]
    },
    {
     "name": "stderr",
     "output_type": "stream",
     "text": [
      "  obtained data shape: (10, 1)\n"
     ]
    },
    {
     "name": "stdout",
     "output_type": "stream",
     "text": [
      "............................."
     ]
    },
    {
     "name": "stderr",
     "output_type": "stream",
     "text": [
      "\n",
      "================\n",
      "h = 10.0\n",
      "Initializing MC...\n",
      "Warming up...\n"
     ]
    },
    {
     "name": "stdout",
     "output_type": "stream",
     "text": [
      ".\n",
      "================\n",
      "finish\n",
      "Output results into 'data/magnetism2/t5.500045_J0.09999999999999998/data.dat'\n"
     ]
    },
    {
     "name": "stderr",
     "output_type": "stream",
     "text": [
      "  obtained data shape: (10, 1)\n"
     ]
    },
    {
     "name": "stdout",
     "output_type": "stream",
     "text": [
      "..............................\n",
      "================\n",
      "finish\n",
      "Output results into 'data/magnetism2/t5.7500425_J0.09999999999999998/data.dat'\n"
     ]
    },
    {
     "name": "stderr",
     "output_type": "stream",
     "text": [
      "\n",
      "================\n",
      "h = 10.0\n",
      "Initializing MC...\n",
      "Warming up...\n",
      "  obtained data shape: (10, 1)\n"
     ]
    },
    {
     "name": "stdout",
     "output_type": "stream",
     "text": [
      "............................."
     ]
    },
    {
     "name": "stderr",
     "output_type": "stream",
     "text": [
      "\n",
      "================\n",
      "h = 10.0\n",
      "Initializing MC...\n",
      "Warming up...\n"
     ]
    },
    {
     "name": "stdout",
     "output_type": "stream",
     "text": [
      ".\n",
      "================\n",
      "finish\n",
      "Output results into 'data/magnetism2/t6.00004_J0.09999999999999998/data.dat'\n"
     ]
    },
    {
     "name": "stderr",
     "output_type": "stream",
     "text": [
      "  obtained data shape: (10, 1)\n"
     ]
    },
    {
     "name": "stdout",
     "output_type": "stream",
     "text": [
      "............................."
     ]
    },
    {
     "name": "stderr",
     "output_type": "stream",
     "text": [
      "\n",
      "================\n",
      "h = 10.0\n",
      "Initializing MC...\n",
      "Warming up...\n"
     ]
    },
    {
     "name": "stdout",
     "output_type": "stream",
     "text": [
      ".\n",
      "================\n",
      "finish\n",
      "Output results into 'data/magnetism2/t6.2500375_J0.09999999999999998/data.dat'\n"
     ]
    },
    {
     "name": "stderr",
     "output_type": "stream",
     "text": [
      "  obtained data shape: (10, 1)\n"
     ]
    },
    {
     "name": "stdout",
     "output_type": "stream",
     "text": [
      "............................."
     ]
    },
    {
     "name": "stderr",
     "output_type": "stream",
     "text": [
      "\n",
      "================\n",
      "h = 10.0\n",
      "Initializing MC...\n",
      "Warming up...\n"
     ]
    },
    {
     "name": "stdout",
     "output_type": "stream",
     "text": [
      ".\n",
      "================\n",
      "finish\n",
      "Output results into 'data/magnetism2/t6.5000350000000005_J0.09999999999999998/data.dat'\n"
     ]
    },
    {
     "name": "stderr",
     "output_type": "stream",
     "text": [
      "  obtained data shape: (10, 1)\n"
     ]
    },
    {
     "name": "stdout",
     "output_type": "stream",
     "text": [
      "............................."
     ]
    },
    {
     "name": "stderr",
     "output_type": "stream",
     "text": [
      "\n",
      "================\n",
      "h = 10.0\n",
      "Initializing MC...\n",
      "Warming up...\n"
     ]
    },
    {
     "name": "stdout",
     "output_type": "stream",
     "text": [
      ".\n",
      "================\n",
      "finish\n",
      "Output results into 'data/magnetism2/t6.7500325_J0.09999999999999998/data.dat'\n"
     ]
    },
    {
     "name": "stderr",
     "output_type": "stream",
     "text": [
      "  obtained data shape: (10, 1)\n"
     ]
    },
    {
     "name": "stdout",
     "output_type": "stream",
     "text": [
      "............................."
     ]
    },
    {
     "name": "stderr",
     "output_type": "stream",
     "text": [
      "\n",
      "================\n",
      "h = 10.0\n",
      "Initializing MC...\n",
      "Warming up...\n"
     ]
    },
    {
     "name": "stdout",
     "output_type": "stream",
     "text": [
      ".\n",
      "================\n",
      "finish\n",
      "Output results into 'data/magnetism2/t7.00003_J0.09999999999999998/data.dat'\n"
     ]
    },
    {
     "name": "stderr",
     "output_type": "stream",
     "text": [
      "  obtained data shape: (10, 1)\n"
     ]
    },
    {
     "name": "stdout",
     "output_type": "stream",
     "text": [
      "............................."
     ]
    },
    {
     "name": "stderr",
     "output_type": "stream",
     "text": [
      "\n",
      "================\n",
      "h = 10.0\n",
      "Initializing MC...\n",
      "Warming up...\n"
     ]
    },
    {
     "name": "stdout",
     "output_type": "stream",
     "text": [
      ".\n",
      "================\n",
      "finish\n",
      "Output results into 'data/magnetism2/t7.2500275_J0.09999999999999998/data.dat'\n"
     ]
    },
    {
     "name": "stderr",
     "output_type": "stream",
     "text": [
      "  obtained data shape: (10, 1)\n"
     ]
    },
    {
     "name": "stdout",
     "output_type": "stream",
     "text": [
      "............................."
     ]
    },
    {
     "name": "stderr",
     "output_type": "stream",
     "text": [
      "\n",
      "================\n",
      "h = 10.0\n",
      "Initializing MC...\n",
      "Warming up...\n"
     ]
    },
    {
     "name": "stdout",
     "output_type": "stream",
     "text": [
      ".\n",
      "================\n",
      "finish\n",
      "Output results into 'data/magnetism2/t7.500025_J0.09999999999999998/data.dat'\n"
     ]
    },
    {
     "name": "stderr",
     "output_type": "stream",
     "text": [
      "  obtained data shape: (10, 1)\n"
     ]
    },
    {
     "name": "stdout",
     "output_type": "stream",
     "text": [
      "............................."
     ]
    },
    {
     "name": "stderr",
     "output_type": "stream",
     "text": [
      "\n",
      "================\n",
      "h = 10.0\n",
      "Initializing MC...\n",
      "Warming up...\n"
     ]
    },
    {
     "name": "stdout",
     "output_type": "stream",
     "text": [
      ".\n",
      "================\n",
      "finish\n",
      "Output results into 'data/magnetism2/t7.7500225_J0.09999999999999998/data.dat'\n"
     ]
    },
    {
     "name": "stderr",
     "output_type": "stream",
     "text": [
      "  obtained data shape: (10, 1)\n"
     ]
    },
    {
     "name": "stdout",
     "output_type": "stream",
     "text": [
      "............................."
     ]
    },
    {
     "name": "stderr",
     "output_type": "stream",
     "text": [
      "\n",
      "================\n",
      "h = 10.0\n",
      "Initializing MC...\n",
      "Warming up...\n"
     ]
    },
    {
     "name": "stdout",
     "output_type": "stream",
     "text": [
      ".\n",
      "================\n",
      "finish\n",
      "Output results into 'data/magnetism2/t8.000020000000001_J0.09999999999999998/data.dat'\n"
     ]
    },
    {
     "name": "stderr",
     "output_type": "stream",
     "text": [
      "  obtained data shape: (10, 1)\n"
     ]
    },
    {
     "name": "stdout",
     "output_type": "stream",
     "text": [
      "............................."
     ]
    },
    {
     "name": "stderr",
     "output_type": "stream",
     "text": [
      "\n",
      "================\n",
      "h = 10.0\n",
      "Initializing MC...\n",
      "Warming up...\n"
     ]
    },
    {
     "name": "stdout",
     "output_type": "stream",
     "text": [
      ".\n",
      "================\n",
      "finish\n",
      "Output results into 'data/magnetism2/t8.2500175_J0.09999999999999998/data.dat'\n"
     ]
    },
    {
     "name": "stderr",
     "output_type": "stream",
     "text": [
      "  obtained data shape: (10, 1)\n"
     ]
    },
    {
     "name": "stdout",
     "output_type": "stream",
     "text": [
      "............................."
     ]
    },
    {
     "name": "stderr",
     "output_type": "stream",
     "text": [
      "\n",
      "================\n",
      "h = 10.0\n",
      "Initializing MC...\n",
      "Warming up...\n"
     ]
    },
    {
     "name": "stdout",
     "output_type": "stream",
     "text": [
      ".\n",
      "================\n",
      "finish\n",
      "Output results into 'data/magnetism2/t8.500015_J0.09999999999999998/data.dat'\n"
     ]
    },
    {
     "name": "stderr",
     "output_type": "stream",
     "text": [
      "  obtained data shape: (10, 1)\n"
     ]
    },
    {
     "name": "stdout",
     "output_type": "stream",
     "text": [
      "............................."
     ]
    },
    {
     "name": "stderr",
     "output_type": "stream",
     "text": [
      "\n",
      "================\n",
      "h = 10.0\n",
      "Initializing MC...\n",
      "Warming up...\n"
     ]
    },
    {
     "name": "stdout",
     "output_type": "stream",
     "text": [
      ".\n",
      "================\n",
      "finish\n",
      "Output results into 'data/magnetism2/t8.7500125_J0.09999999999999998/data.dat'\n"
     ]
    },
    {
     "name": "stderr",
     "output_type": "stream",
     "text": [
      "  obtained data shape: (10, 1)\n"
     ]
    },
    {
     "name": "stdout",
     "output_type": "stream",
     "text": [
      "............................."
     ]
    },
    {
     "name": "stderr",
     "output_type": "stream",
     "text": [
      "\n",
      "================\n",
      "h = 10.0\n",
      "Initializing MC...\n",
      "Warming up...\n"
     ]
    },
    {
     "name": "stdout",
     "output_type": "stream",
     "text": [
      ".\n",
      "================\n",
      "finish\n",
      "Output results into 'data/magnetism2/t9.00001_J0.09999999999999998/data.dat'\n"
     ]
    },
    {
     "name": "stderr",
     "output_type": "stream",
     "text": [
      "  obtained data shape: (10, 1)\n"
     ]
    },
    {
     "name": "stdout",
     "output_type": "stream",
     "text": [
      "............................."
     ]
    },
    {
     "name": "stderr",
     "output_type": "stream",
     "text": [
      "\n",
      "================\n",
      "h = 10.0\n",
      "Initializing MC...\n",
      "Warming up...\n"
     ]
    },
    {
     "name": "stdout",
     "output_type": "stream",
     "text": [
      ".\n",
      "================\n",
      "finish\n",
      "Output results into 'data/magnetism2/t9.2500075_J0.09999999999999998/data.dat'\n"
     ]
    },
    {
     "name": "stderr",
     "output_type": "stream",
     "text": [
      "  obtained data shape: (10, 1)\n"
     ]
    },
    {
     "name": "stdout",
     "output_type": "stream",
     "text": [
      "............................."
     ]
    },
    {
     "name": "stderr",
     "output_type": "stream",
     "text": [
      "\n",
      "================\n",
      "h = 10.0\n",
      "Initializing MC...\n",
      "Warming up...\n"
     ]
    },
    {
     "name": "stdout",
     "output_type": "stream",
     "text": [
      ".\n",
      "================\n",
      "finish\n",
      "Output results into 'data/magnetism2/t9.500005_J0.09999999999999998/data.dat'\n"
     ]
    },
    {
     "name": "stderr",
     "output_type": "stream",
     "text": [
      "  obtained data shape: (10, 1)\n"
     ]
    },
    {
     "name": "stdout",
     "output_type": "stream",
     "text": [
      "............................."
     ]
    },
    {
     "name": "stderr",
     "output_type": "stream",
     "text": [
      "\n",
      "================\n",
      "h = 10.0\n",
      "Initializing MC...\n",
      "Warming up...\n"
     ]
    },
    {
     "name": "stdout",
     "output_type": "stream",
     "text": [
      ".\n",
      "================\n",
      "finish\n",
      "Output results into 'data/magnetism2/t9.7500025_J0.09999999999999998/data.dat'\n"
     ]
    },
    {
     "name": "stderr",
     "output_type": "stream",
     "text": [
      "  obtained data shape: (10, 1)\n"
     ]
    },
    {
     "name": "stdout",
     "output_type": "stream",
     "text": [
      "............................."
     ]
    },
    {
     "name": "stderr",
     "output_type": "stream",
     "text": [
      "\n",
      "================\n",
      "h = 10.0\n",
      "Initializing MC...\n",
      "Warming up...\n"
     ]
    },
    {
     "name": "stdout",
     "output_type": "stream",
     "text": [
      ".\n",
      "================\n",
      "finish\n",
      "Output results into 'data/magnetism2/t10.0_J0.09999999999999998/data.dat'\n"
     ]
    },
    {
     "name": "stderr",
     "output_type": "stream",
     "text": [
      "/home/yakkuru/computer_physics/report/submit/report3/code/tool/measurement.py:46: RuntimeWarning: overflow encountered in exp\n",
      "  prob_field = np.exp(beta * h * measure(_mc))\n",
      "  obtained data shape: (10, 1)\n"
     ]
    },
    {
     "name": "stdout",
     "output_type": "stream",
     "text": [
      "............................."
     ]
    },
    {
     "name": "stderr",
     "output_type": "stream",
     "text": [
      "\n",
      "================\n",
      "h = 10.0\n",
      "Initializing MC...\n",
      "Warming up...\n"
     ]
    },
    {
     "name": "stdout",
     "output_type": "stream",
     "text": [
      ".\n",
      "================\n",
      "finish\n",
      "Output results into 'data/magnetism2/t0.0001_J0.0/data.dat'\n"
     ]
    },
    {
     "name": "stderr",
     "output_type": "stream",
     "text": [
      "/home/yakkuru/computer_physics/report/submit/report3/code/tool/measurement.py:46: RuntimeWarning: overflow encountered in exp\n",
      "  prob_field = np.exp(beta * h * measure(_mc))\n",
      "  obtained data shape: (10, 1)\n"
     ]
    },
    {
     "name": "stdout",
     "output_type": "stream",
     "text": [
      "............................."
     ]
    },
    {
     "name": "stderr",
     "output_type": "stream",
     "text": [
      "\n",
      "================\n",
      "h = 10.0\n",
      "Initializing MC...\n",
      "Warming up...\n"
     ]
    },
    {
     "name": "stdout",
     "output_type": "stream",
     "text": [
      ".\n",
      "================\n",
      "finish\n",
      "Output results into 'data/magnetism2/t0.25009750000000003_J0.0/data.dat'\n"
     ]
    },
    {
     "name": "stderr",
     "output_type": "stream",
     "text": [
      "  obtained data shape: (10, 1)\n"
     ]
    },
    {
     "name": "stdout",
     "output_type": "stream",
     "text": [
      "............................."
     ]
    },
    {
     "name": "stderr",
     "output_type": "stream",
     "text": [
      "\n",
      "================\n",
      "h = 10.0\n",
      "Initializing MC...\n",
      "Warming up...\n"
     ]
    },
    {
     "name": "stdout",
     "output_type": "stream",
     "text": [
      ".\n",
      "================\n",
      "finish\n",
      "Output results into 'data/magnetism2/t0.5000950000000001_J0.0/data.dat'\n"
     ]
    },
    {
     "name": "stderr",
     "output_type": "stream",
     "text": [
      "  obtained data shape: (10, 1)\n"
     ]
    },
    {
     "name": "stdout",
     "output_type": "stream",
     "text": [
      "............................."
     ]
    },
    {
     "name": "stderr",
     "output_type": "stream",
     "text": [
      "\n",
      "================\n",
      "h = 10.0\n",
      "Initializing MC...\n",
      "Warming up...\n"
     ]
    },
    {
     "name": "stdout",
     "output_type": "stream",
     "text": [
      ".\n",
      "================\n",
      "finish\n",
      "Output results into 'data/magnetism2/t0.7500925_J0.0/data.dat'\n"
     ]
    },
    {
     "name": "stderr",
     "output_type": "stream",
     "text": [
      "  obtained data shape: (10, 1)\n"
     ]
    },
    {
     "name": "stdout",
     "output_type": "stream",
     "text": [
      "............................."
     ]
    },
    {
     "name": "stderr",
     "output_type": "stream",
     "text": [
      "\n",
      "================\n",
      "h = 10.0\n",
      "Initializing MC...\n",
      "Warming up...\n"
     ]
    },
    {
     "name": "stdout",
     "output_type": "stream",
     "text": [
      ".\n",
      "================\n",
      "finish\n",
      "Output results into 'data/magnetism2/t1.0000900000000001_J0.0/data.dat'\n"
     ]
    },
    {
     "name": "stderr",
     "output_type": "stream",
     "text": [
      "  obtained data shape: (10, 1)\n"
     ]
    },
    {
     "name": "stdout",
     "output_type": "stream",
     "text": [
      "............................."
     ]
    },
    {
     "name": "stderr",
     "output_type": "stream",
     "text": [
      "\n",
      "================\n",
      "h = 10.0\n",
      "Initializing MC...\n",
      "Warming up...\n"
     ]
    },
    {
     "name": "stdout",
     "output_type": "stream",
     "text": [
      ".\n",
      "================\n",
      "finish\n",
      "Output results into 'data/magnetism2/t1.2500875_J0.0/data.dat'\n"
     ]
    },
    {
     "name": "stderr",
     "output_type": "stream",
     "text": [
      "  obtained data shape: (10, 1)\n"
     ]
    },
    {
     "name": "stdout",
     "output_type": "stream",
     "text": [
      "............................."
     ]
    },
    {
     "name": "stderr",
     "output_type": "stream",
     "text": [
      "\n",
      "================\n",
      "h = 10.0\n",
      "Initializing MC...\n",
      "Warming up...\n"
     ]
    },
    {
     "name": "stdout",
     "output_type": "stream",
     "text": [
      ".\n",
      "================\n",
      "finish\n",
      "Output results into 'data/magnetism2/t1.5000850000000001_J0.0/data.dat'\n"
     ]
    },
    {
     "name": "stderr",
     "output_type": "stream",
     "text": [
      "  obtained data shape: (10, 1)\n"
     ]
    },
    {
     "name": "stdout",
     "output_type": "stream",
     "text": [
      "............................."
     ]
    },
    {
     "name": "stderr",
     "output_type": "stream",
     "text": [
      "\n",
      "================\n",
      "h = 10.0\n",
      "Initializing MC...\n",
      "Warming up...\n"
     ]
    },
    {
     "name": "stdout",
     "output_type": "stream",
     "text": [
      ".\n",
      "================\n",
      "finish\n",
      "Output results into 'data/magnetism2/t1.7500825_J0.0/data.dat'\n"
     ]
    },
    {
     "name": "stderr",
     "output_type": "stream",
     "text": [
      "  obtained data shape: (10, 1)\n"
     ]
    },
    {
     "name": "stdout",
     "output_type": "stream",
     "text": [
      "............................."
     ]
    },
    {
     "name": "stderr",
     "output_type": "stream",
     "text": [
      "\n",
      "================\n",
      "h = 10.0\n",
      "Initializing MC...\n",
      "Warming up...\n"
     ]
    },
    {
     "name": "stdout",
     "output_type": "stream",
     "text": [
      ".\n",
      "================\n",
      "finish\n",
      "Output results into 'data/magnetism2/t2.00008_J0.0/data.dat'\n"
     ]
    },
    {
     "name": "stderr",
     "output_type": "stream",
     "text": [
      "  obtained data shape: (10, 1)\n"
     ]
    },
    {
     "name": "stdout",
     "output_type": "stream",
     "text": [
      "............................."
     ]
    },
    {
     "name": "stderr",
     "output_type": "stream",
     "text": [
      "\n",
      "================\n",
      "h = 10.0\n",
      "Initializing MC...\n",
      "Warming up...\n"
     ]
    },
    {
     "name": "stdout",
     "output_type": "stream",
     "text": [
      ".\n",
      "================\n",
      "finish\n",
      "Output results into 'data/magnetism2/t2.2500775_J0.0/data.dat'\n"
     ]
    },
    {
     "name": "stderr",
     "output_type": "stream",
     "text": [
      "  obtained data shape: (10, 1)\n"
     ]
    },
    {
     "name": "stdout",
     "output_type": "stream",
     "text": [
      "............................."
     ]
    },
    {
     "name": "stderr",
     "output_type": "stream",
     "text": [
      "\n",
      "================\n",
      "h = 10.0\n",
      "Initializing MC...\n",
      "Warming up...\n"
     ]
    },
    {
     "name": "stdout",
     "output_type": "stream",
     "text": [
      ".\n",
      "================\n",
      "finish\n",
      "Output results into 'data/magnetism2/t2.5000750000000003_J0.0/data.dat'\n"
     ]
    },
    {
     "name": "stderr",
     "output_type": "stream",
     "text": [
      "  obtained data shape: (10, 1)\n"
     ]
    },
    {
     "name": "stdout",
     "output_type": "stream",
     "text": [
      "............................."
     ]
    },
    {
     "name": "stderr",
     "output_type": "stream",
     "text": [
      "\n",
      "================\n",
      "h = 10.0\n",
      "Initializing MC...\n",
      "Warming up...\n"
     ]
    },
    {
     "name": "stdout",
     "output_type": "stream",
     "text": [
      ".\n",
      "================\n",
      "finish\n",
      "Output results into 'data/magnetism2/t2.7500725000000004_J0.0/data.dat'\n"
     ]
    },
    {
     "name": "stderr",
     "output_type": "stream",
     "text": [
      "  obtained data shape: (10, 1)\n"
     ]
    },
    {
     "name": "stdout",
     "output_type": "stream",
     "text": [
      "............................."
     ]
    },
    {
     "name": "stderr",
     "output_type": "stream",
     "text": [
      "\n",
      "================\n",
      "h = 10.0\n",
      "Initializing MC...\n",
      "Warming up...\n"
     ]
    },
    {
     "name": "stdout",
     "output_type": "stream",
     "text": [
      ".\n",
      "================\n",
      "finish\n",
      "Output results into 'data/magnetism2/t3.0000700000000005_J0.0/data.dat'\n"
     ]
    },
    {
     "name": "stderr",
     "output_type": "stream",
     "text": [
      "  obtained data shape: (10, 1)\n"
     ]
    },
    {
     "name": "stdout",
     "output_type": "stream",
     "text": [
      "............................."
     ]
    },
    {
     "name": "stderr",
     "output_type": "stream",
     "text": [
      "\n",
      "================\n",
      "h = 10.0\n",
      "Initializing MC...\n",
      "Warming up...\n"
     ]
    },
    {
     "name": "stdout",
     "output_type": "stream",
     "text": [
      ".\n",
      "================\n",
      "finish\n",
      "Output results into 'data/magnetism2/t3.2500675000000006_J0.0/data.dat'\n"
     ]
    },
    {
     "name": "stderr",
     "output_type": "stream",
     "text": [
      "  obtained data shape: (10, 1)\n"
     ]
    },
    {
     "name": "stdout",
     "output_type": "stream",
     "text": [
      "............................."
     ]
    },
    {
     "name": "stderr",
     "output_type": "stream",
     "text": [
      "\n",
      "================\n",
      "h = 10.0\n",
      "Initializing MC...\n",
      "Warming up...\n"
     ]
    },
    {
     "name": "stdout",
     "output_type": "stream",
     "text": [
      ".\n",
      "================\n",
      "finish\n",
      "Output results into 'data/magnetism2/t3.500065_J0.0/data.dat'\n"
     ]
    },
    {
     "name": "stderr",
     "output_type": "stream",
     "text": [
      "  obtained data shape: (10, 1)\n"
     ]
    },
    {
     "name": "stdout",
     "output_type": "stream",
     "text": [
      "............................."
     ]
    },
    {
     "name": "stderr",
     "output_type": "stream",
     "text": [
      "\n",
      "================\n",
      "h = 10.0\n",
      "Initializing MC...\n",
      "Warming up...\n"
     ]
    },
    {
     "name": "stdout",
     "output_type": "stream",
     "text": [
      ".\n",
      "================\n",
      "finish\n",
      "Output results into 'data/magnetism2/t3.7500625000000003_J0.0/data.dat'\n"
     ]
    },
    {
     "name": "stderr",
     "output_type": "stream",
     "text": [
      "  obtained data shape: (10, 1)\n"
     ]
    },
    {
     "name": "stdout",
     "output_type": "stream",
     "text": [
      "............................."
     ]
    },
    {
     "name": "stderr",
     "output_type": "stream",
     "text": [
      "\n",
      "================\n",
      "h = 10.0\n",
      "Initializing MC...\n",
      "Warming up...\n"
     ]
    },
    {
     "name": "stdout",
     "output_type": "stream",
     "text": [
      ".\n",
      "================\n",
      "finish\n",
      "Output results into 'data/magnetism2/t4.00006_J0.0/data.dat'\n"
     ]
    },
    {
     "name": "stderr",
     "output_type": "stream",
     "text": [
      "  obtained data shape: (10, 1)\n"
     ]
    },
    {
     "name": "stdout",
     "output_type": "stream",
     "text": [
      "............................."
     ]
    },
    {
     "name": "stderr",
     "output_type": "stream",
     "text": [
      "\n",
      "================\n",
      "h = 10.0\n",
      "Initializing MC...\n",
      "Warming up...\n"
     ]
    },
    {
     "name": "stdout",
     "output_type": "stream",
     "text": [
      ".\n",
      "================\n",
      "finish\n",
      "Output results into 'data/magnetism2/t4.2500575_J0.0/data.dat'\n"
     ]
    },
    {
     "name": "stderr",
     "output_type": "stream",
     "text": [
      "  obtained data shape: (10, 1)\n"
     ]
    },
    {
     "name": "stdout",
     "output_type": "stream",
     "text": [
      "............................."
     ]
    },
    {
     "name": "stderr",
     "output_type": "stream",
     "text": [
      "\n",
      "================\n",
      "h = 10.0\n",
      "Initializing MC...\n",
      "Warming up...\n"
     ]
    },
    {
     "name": "stdout",
     "output_type": "stream",
     "text": [
      ".\n",
      "================\n",
      "finish\n",
      "Output results into 'data/magnetism2/t4.500055_J0.0/data.dat'\n"
     ]
    },
    {
     "name": "stderr",
     "output_type": "stream",
     "text": [
      "  obtained data shape: (10, 1)\n"
     ]
    },
    {
     "name": "stdout",
     "output_type": "stream",
     "text": [
      "............................."
     ]
    },
    {
     "name": "stderr",
     "output_type": "stream",
     "text": [
      "\n",
      "================\n",
      "h = 10.0\n",
      "Initializing MC...\n",
      "Warming up...\n"
     ]
    },
    {
     "name": "stdout",
     "output_type": "stream",
     "text": [
      ".\n",
      "================\n",
      "finish\n",
      "Output results into 'data/magnetism2/t4.7500525_J0.0/data.dat'\n"
     ]
    },
    {
     "name": "stderr",
     "output_type": "stream",
     "text": [
      "  obtained data shape: (10, 1)\n"
     ]
    },
    {
     "name": "stdout",
     "output_type": "stream",
     "text": [
      "............................."
     ]
    },
    {
     "name": "stderr",
     "output_type": "stream",
     "text": [
      "\n",
      "================\n",
      "h = 10.0\n",
      "Initializing MC...\n",
      "Warming up...\n"
     ]
    },
    {
     "name": "stdout",
     "output_type": "stream",
     "text": [
      ".\n",
      "================\n",
      "finish\n",
      "Output results into 'data/magnetism2/t5.00005_J0.0/data.dat'\n"
     ]
    },
    {
     "name": "stderr",
     "output_type": "stream",
     "text": [
      "  obtained data shape: (10, 1)\n"
     ]
    },
    {
     "name": "stdout",
     "output_type": "stream",
     "text": [
      "............................."
     ]
    },
    {
     "name": "stderr",
     "output_type": "stream",
     "text": [
      "\n",
      "================\n",
      "h = 10.0\n",
      "Initializing MC...\n",
      "Warming up...\n"
     ]
    },
    {
     "name": "stdout",
     "output_type": "stream",
     "text": [
      ".\n",
      "================\n",
      "finish\n",
      "Output results into 'data/magnetism2/t5.2500475_J0.0/data.dat'\n"
     ]
    },
    {
     "name": "stderr",
     "output_type": "stream",
     "text": [
      "  obtained data shape: (10, 1)\n"
     ]
    },
    {
     "name": "stdout",
     "output_type": "stream",
     "text": [
      "............................."
     ]
    },
    {
     "name": "stderr",
     "output_type": "stream",
     "text": [
      "\n",
      "================\n",
      "h = 10.0\n",
      "Initializing MC...\n",
      "Warming up...\n"
     ]
    },
    {
     "name": "stdout",
     "output_type": "stream",
     "text": [
      ".\n",
      "================\n",
      "finish\n",
      "Output results into 'data/magnetism2/t5.500045_J0.0/data.dat'\n"
     ]
    },
    {
     "name": "stderr",
     "output_type": "stream",
     "text": [
      "  obtained data shape: (10, 1)\n"
     ]
    },
    {
     "name": "stdout",
     "output_type": "stream",
     "text": [
      "............................."
     ]
    },
    {
     "name": "stderr",
     "output_type": "stream",
     "text": [
      "\n",
      "================\n",
      "h = 10.0\n",
      "Initializing MC...\n",
      "Warming up...\n"
     ]
    },
    {
     "name": "stdout",
     "output_type": "stream",
     "text": [
      ".\n",
      "================\n",
      "finish\n",
      "Output results into 'data/magnetism2/t5.7500425_J0.0/data.dat'\n"
     ]
    },
    {
     "name": "stderr",
     "output_type": "stream",
     "text": [
      "  obtained data shape: (10, 1)\n"
     ]
    },
    {
     "name": "stdout",
     "output_type": "stream",
     "text": [
      "............................."
     ]
    },
    {
     "name": "stderr",
     "output_type": "stream",
     "text": [
      "\n",
      "================\n",
      "h = 10.0\n",
      "Initializing MC...\n",
      "Warming up...\n"
     ]
    },
    {
     "name": "stdout",
     "output_type": "stream",
     "text": [
      ".\n",
      "================\n",
      "finish\n",
      "Output results into 'data/magnetism2/t6.00004_J0.0/data.dat'\n"
     ]
    },
    {
     "name": "stderr",
     "output_type": "stream",
     "text": [
      "  obtained data shape: (10, 1)\n"
     ]
    },
    {
     "name": "stdout",
     "output_type": "stream",
     "text": [
      "............................."
     ]
    },
    {
     "name": "stderr",
     "output_type": "stream",
     "text": [
      "\n",
      "================\n",
      "h = 10.0\n",
      "Initializing MC...\n",
      "Warming up...\n"
     ]
    },
    {
     "name": "stdout",
     "output_type": "stream",
     "text": [
      ".\n",
      "================\n",
      "finish\n",
      "Output results into 'data/magnetism2/t6.2500375_J0.0/data.dat'\n"
     ]
    },
    {
     "name": "stderr",
     "output_type": "stream",
     "text": [
      "  obtained data shape: (10, 1)\n"
     ]
    },
    {
     "name": "stdout",
     "output_type": "stream",
     "text": [
      "............................."
     ]
    },
    {
     "name": "stderr",
     "output_type": "stream",
     "text": [
      "\n",
      "================\n",
      "h = 10.0\n",
      "Initializing MC...\n",
      "Warming up...\n"
     ]
    },
    {
     "name": "stdout",
     "output_type": "stream",
     "text": [
      ".\n",
      "================\n",
      "finish\n",
      "Output results into 'data/magnetism2/t6.5000350000000005_J0.0/data.dat'\n"
     ]
    },
    {
     "name": "stderr",
     "output_type": "stream",
     "text": [
      "  obtained data shape: (10, 1)\n"
     ]
    },
    {
     "name": "stdout",
     "output_type": "stream",
     "text": [
      "............................."
     ]
    },
    {
     "name": "stderr",
     "output_type": "stream",
     "text": [
      "\n",
      "================\n",
      "h = 10.0\n",
      "Initializing MC...\n",
      "Warming up...\n"
     ]
    },
    {
     "name": "stdout",
     "output_type": "stream",
     "text": [
      ".\n",
      "================\n",
      "finish\n",
      "Output results into 'data/magnetism2/t6.7500325_J0.0/data.dat'\n"
     ]
    },
    {
     "name": "stderr",
     "output_type": "stream",
     "text": [
      "  obtained data shape: (10, 1)\n"
     ]
    },
    {
     "name": "stdout",
     "output_type": "stream",
     "text": [
      "............................."
     ]
    },
    {
     "name": "stderr",
     "output_type": "stream",
     "text": [
      "\n",
      "================\n",
      "h = 10.0\n",
      "Initializing MC...\n",
      "Warming up...\n"
     ]
    },
    {
     "name": "stdout",
     "output_type": "stream",
     "text": [
      ".\n",
      "================\n",
      "finish\n",
      "Output results into 'data/magnetism2/t7.00003_J0.0/data.dat'\n"
     ]
    },
    {
     "name": "stderr",
     "output_type": "stream",
     "text": [
      "  obtained data shape: (10, 1)\n"
     ]
    },
    {
     "name": "stdout",
     "output_type": "stream",
     "text": [
      "............................."
     ]
    },
    {
     "name": "stderr",
     "output_type": "stream",
     "text": [
      "\n",
      "================\n",
      "h = 10.0\n",
      "Initializing MC...\n",
      "Warming up...\n"
     ]
    },
    {
     "name": "stdout",
     "output_type": "stream",
     "text": [
      ".\n",
      "================\n",
      "finish\n",
      "Output results into 'data/magnetism2/t7.2500275_J0.0/data.dat'\n"
     ]
    },
    {
     "name": "stderr",
     "output_type": "stream",
     "text": [
      "  obtained data shape: (10, 1)\n"
     ]
    },
    {
     "name": "stdout",
     "output_type": "stream",
     "text": [
      "............................."
     ]
    },
    {
     "name": "stderr",
     "output_type": "stream",
     "text": [
      "\n",
      "================\n",
      "h = 10.0\n",
      "Initializing MC...\n",
      "Warming up...\n"
     ]
    },
    {
     "name": "stdout",
     "output_type": "stream",
     "text": [
      ".\n",
      "================\n",
      "finish\n",
      "Output results into 'data/magnetism2/t7.500025_J0.0/data.dat'\n"
     ]
    },
    {
     "name": "stderr",
     "output_type": "stream",
     "text": [
      "  obtained data shape: (10, 1)\n"
     ]
    },
    {
     "name": "stdout",
     "output_type": "stream",
     "text": [
      "............................."
     ]
    },
    {
     "name": "stderr",
     "output_type": "stream",
     "text": [
      "\n",
      "================\n",
      "h = 10.0\n",
      "Initializing MC...\n",
      "Warming up...\n"
     ]
    },
    {
     "name": "stdout",
     "output_type": "stream",
     "text": [
      ".\n",
      "================\n",
      "finish\n",
      "Output results into 'data/magnetism2/t7.7500225_J0.0/data.dat'\n"
     ]
    },
    {
     "name": "stderr",
     "output_type": "stream",
     "text": [
      "  obtained data shape: (10, 1)\n"
     ]
    },
    {
     "name": "stdout",
     "output_type": "stream",
     "text": [
      "............................."
     ]
    },
    {
     "name": "stderr",
     "output_type": "stream",
     "text": [
      "\n",
      "================\n",
      "h = 10.0\n",
      "Initializing MC...\n",
      "Warming up...\n"
     ]
    },
    {
     "name": "stdout",
     "output_type": "stream",
     "text": [
      ".\n",
      "================\n",
      "finish\n",
      "Output results into 'data/magnetism2/t8.000020000000001_J0.0/data.dat'\n"
     ]
    },
    {
     "name": "stderr",
     "output_type": "stream",
     "text": [
      "  obtained data shape: (10, 1)\n"
     ]
    },
    {
     "name": "stdout",
     "output_type": "stream",
     "text": [
      "............................."
     ]
    },
    {
     "name": "stderr",
     "output_type": "stream",
     "text": [
      "\n",
      "================\n",
      "h = 10.0\n",
      "Initializing MC...\n",
      "Warming up...\n"
     ]
    },
    {
     "name": "stdout",
     "output_type": "stream",
     "text": [
      ".\n",
      "================\n",
      "finish\n",
      "Output results into 'data/magnetism2/t8.2500175_J0.0/data.dat'\n"
     ]
    },
    {
     "name": "stderr",
     "output_type": "stream",
     "text": [
      "  obtained data shape: (10, 1)\n"
     ]
    },
    {
     "name": "stdout",
     "output_type": "stream",
     "text": [
      "............................."
     ]
    },
    {
     "name": "stderr",
     "output_type": "stream",
     "text": [
      "\n",
      "================\n",
      "h = 10.0\n",
      "Initializing MC...\n",
      "Warming up...\n"
     ]
    },
    {
     "name": "stdout",
     "output_type": "stream",
     "text": [
      ".\n",
      "================\n",
      "finish\n",
      "Output results into 'data/magnetism2/t8.500015_J0.0/data.dat'\n"
     ]
    },
    {
     "name": "stderr",
     "output_type": "stream",
     "text": [
      "  obtained data shape: (10, 1)\n"
     ]
    },
    {
     "name": "stdout",
     "output_type": "stream",
     "text": [
      "............................."
     ]
    },
    {
     "name": "stderr",
     "output_type": "stream",
     "text": [
      "\n",
      "================\n",
      "h = 10.0\n",
      "Initializing MC...\n",
      "Warming up...\n"
     ]
    },
    {
     "name": "stdout",
     "output_type": "stream",
     "text": [
      ".\n",
      "================\n",
      "finish\n",
      "Output results into 'data/magnetism2/t8.7500125_J0.0/data.dat'\n"
     ]
    },
    {
     "name": "stderr",
     "output_type": "stream",
     "text": [
      "  obtained data shape: (10, 1)\n"
     ]
    },
    {
     "name": "stdout",
     "output_type": "stream",
     "text": [
      "............................."
     ]
    },
    {
     "name": "stderr",
     "output_type": "stream",
     "text": [
      "\n",
      "================\n",
      "h = 10.0\n",
      "Initializing MC...\n",
      "Warming up...\n"
     ]
    },
    {
     "name": "stdout",
     "output_type": "stream",
     "text": [
      ".\n",
      "================\n",
      "finish\n",
      "Output results into 'data/magnetism2/t9.00001_J0.0/data.dat'\n"
     ]
    },
    {
     "name": "stderr",
     "output_type": "stream",
     "text": [
      "  obtained data shape: (10, 1)\n"
     ]
    },
    {
     "name": "stdout",
     "output_type": "stream",
     "text": [
      "............................."
     ]
    },
    {
     "name": "stderr",
     "output_type": "stream",
     "text": [
      "\n",
      "================\n",
      "h = 10.0\n",
      "Initializing MC...\n",
      "Warming up...\n"
     ]
    },
    {
     "name": "stdout",
     "output_type": "stream",
     "text": [
      ".\n",
      "================\n",
      "finish\n",
      "Output results into 'data/magnetism2/t9.2500075_J0.0/data.dat'\n"
     ]
    },
    {
     "name": "stderr",
     "output_type": "stream",
     "text": [
      "  obtained data shape: (10, 1)\n"
     ]
    },
    {
     "name": "stdout",
     "output_type": "stream",
     "text": [
      "............................."
     ]
    },
    {
     "name": "stderr",
     "output_type": "stream",
     "text": [
      "\n",
      "================\n",
      "h = 10.0\n",
      "Initializing MC...\n",
      "Warming up...\n"
     ]
    },
    {
     "name": "stdout",
     "output_type": "stream",
     "text": [
      ".\n",
      "================\n",
      "finish\n",
      "Output results into 'data/magnetism2/t9.500005_J0.0/data.dat'\n"
     ]
    },
    {
     "name": "stderr",
     "output_type": "stream",
     "text": [
      "  obtained data shape: (10, 1)\n"
     ]
    },
    {
     "name": "stdout",
     "output_type": "stream",
     "text": [
      "............................."
     ]
    },
    {
     "name": "stderr",
     "output_type": "stream",
     "text": [
      "\n",
      "================\n",
      "h = 10.0\n",
      "Initializing MC...\n",
      "Warming up...\n"
     ]
    },
    {
     "name": "stdout",
     "output_type": "stream",
     "text": [
      ".\n",
      "================\n",
      "finish\n",
      "Output results into 'data/magnetism2/t9.7500025_J0.0/data.dat'\n"
     ]
    },
    {
     "name": "stderr",
     "output_type": "stream",
     "text": [
      "  obtained data shape: (10, 1)\n"
     ]
    },
    {
     "name": "stdout",
     "output_type": "stream",
     "text": [
      "............................."
     ]
    },
    {
     "name": "stderr",
     "output_type": "stream",
     "text": [
      "\n",
      "================\n",
      "h = 10.0\n",
      "Initializing MC...\n",
      "/home/yakkuru/computer_physics/report/submit/report3/code/tool/supplement.py:42: RuntimeWarning: overflow encountered in exp\n",
      "  prob_dn.append(np.exp(2 * K * sum_sigma))\n",
      "/home/yakkuru/computer_physics/report/submit/report3/code/tool/supplement.py:41: RuntimeWarning: overflow encountered in exp\n",
      "  prob_up.append(np.exp(-2 * K * sum_sigma))\n",
      "Warming up...\n"
     ]
    },
    {
     "name": "stdout",
     "output_type": "stream",
     "text": [
      ".\n",
      "================\n",
      "finish\n",
      "Output results into 'data/magnetism2/t10.0_J0.0/data.dat'\n"
     ]
    },
    {
     "name": "stderr",
     "output_type": "stream",
     "text": [
      "/home/yakkuru/computer_physics/report/submit/report3/code/tool/measurement.py:46: RuntimeWarning: overflow encountered in exp\n",
      "  prob_field = np.exp(beta * h * measure(_mc))\n",
      "/home/yakkuru/computer_physics/report/submit/report3/code/tool/measurement.py:49: RuntimeWarning: invalid value encountered in multiply\n",
      "  return _mc.prob_up[num_up] * prob_field\n",
      "/home/yakkuru/computer_physics/report/submit/report3/code/tool/measurement.py:51: RuntimeWarning: invalid value encountered in multiply\n",
      "  return _mc.prob_dn[num_up] * prob_field\n",
      "  obtained data shape: (10, 1)\n"
     ]
    },
    {
     "name": "stdout",
     "output_type": "stream",
     "text": [
      "............................."
     ]
    },
    {
     "name": "stderr",
     "output_type": "stream",
     "text": [
      "\n",
      "================\n",
      "h = 10.0\n",
      "Initializing MC...\n",
      "Warming up...\n"
     ]
    },
    {
     "name": "stdout",
     "output_type": "stream",
     "text": [
      ".\n",
      "================\n",
      "finish\n",
      "Output results into 'data/magnetism2/t0.0001_J-0.10000000000000009/data.dat'\n"
     ]
    },
    {
     "name": "stderr",
     "output_type": "stream",
     "text": [
      "/home/yakkuru/computer_physics/report/submit/report3/code/tool/measurement.py:46: RuntimeWarning: overflow encountered in exp\n",
      "  prob_field = np.exp(beta * h * measure(_mc))\n",
      "  obtained data shape: (10, 1)\n"
     ]
    },
    {
     "name": "stdout",
     "output_type": "stream",
     "text": [
      "............................."
     ]
    },
    {
     "name": "stderr",
     "output_type": "stream",
     "text": [
      "\n",
      "================\n",
      "h = 10.0\n",
      "Initializing MC...\n",
      "Warming up...\n"
     ]
    },
    {
     "name": "stdout",
     "output_type": "stream",
     "text": [
      ".\n",
      "================\n",
      "finish\n",
      "Output results into 'data/magnetism2/t0.25009750000000003_J-0.10000000000000009/data.dat'\n"
     ]
    },
    {
     "name": "stderr",
     "output_type": "stream",
     "text": [
      "  obtained data shape: (10, 1)\n"
     ]
    },
    {
     "name": "stdout",
     "output_type": "stream",
     "text": [
      "............................."
     ]
    },
    {
     "name": "stderr",
     "output_type": "stream",
     "text": [
      "\n",
      "================\n",
      "h = 10.0\n",
      "Initializing MC...\n",
      "Warming up...\n"
     ]
    },
    {
     "name": "stdout",
     "output_type": "stream",
     "text": [
      ".\n",
      "================\n",
      "finish\n",
      "Output results into 'data/magnetism2/t0.5000950000000001_J-0.10000000000000009/data.dat'\n"
     ]
    },
    {
     "name": "stderr",
     "output_type": "stream",
     "text": [
      "  obtained data shape: (10, 1)\n"
     ]
    },
    {
     "name": "stdout",
     "output_type": "stream",
     "text": [
      "............................."
     ]
    },
    {
     "name": "stderr",
     "output_type": "stream",
     "text": [
      "\n",
      "================\n",
      "h = 10.0\n",
      "Initializing MC...\n",
      "Warming up...\n"
     ]
    },
    {
     "name": "stdout",
     "output_type": "stream",
     "text": [
      ".\n",
      "================\n",
      "finish\n",
      "Output results into 'data/magnetism2/t0.7500925_J-0.10000000000000009/data.dat'\n"
     ]
    },
    {
     "name": "stderr",
     "output_type": "stream",
     "text": [
      "  obtained data shape: (10, 1)\n"
     ]
    },
    {
     "name": "stdout",
     "output_type": "stream",
     "text": [
      "............................."
     ]
    },
    {
     "name": "stderr",
     "output_type": "stream",
     "text": [
      "\n",
      "================\n",
      "h = 10.0\n",
      "Initializing MC...\n",
      "Warming up...\n"
     ]
    },
    {
     "name": "stdout",
     "output_type": "stream",
     "text": [
      ".\n",
      "================\n",
      "finish\n",
      "Output results into 'data/magnetism2/t1.0000900000000001_J-0.10000000000000009/data.dat'\n"
     ]
    },
    {
     "name": "stderr",
     "output_type": "stream",
     "text": [
      "  obtained data shape: (10, 1)\n"
     ]
    },
    {
     "name": "stdout",
     "output_type": "stream",
     "text": [
      "............................."
     ]
    },
    {
     "name": "stderr",
     "output_type": "stream",
     "text": [
      "\n",
      "================\n",
      "h = 10.0\n",
      "Initializing MC...\n",
      "Warming up...\n"
     ]
    },
    {
     "name": "stdout",
     "output_type": "stream",
     "text": [
      ".\n",
      "================\n",
      "finish\n",
      "Output results into 'data/magnetism2/t1.2500875_J-0.10000000000000009/data.dat'\n"
     ]
    },
    {
     "name": "stderr",
     "output_type": "stream",
     "text": [
      "  obtained data shape: (10, 1)\n"
     ]
    },
    {
     "name": "stdout",
     "output_type": "stream",
     "text": [
      "............................."
     ]
    },
    {
     "name": "stderr",
     "output_type": "stream",
     "text": [
      "\n",
      "================\n",
      "h = 10.0\n",
      "Initializing MC...\n",
      "Warming up...\n"
     ]
    },
    {
     "name": "stdout",
     "output_type": "stream",
     "text": [
      ".\n",
      "================\n",
      "finish\n",
      "Output results into 'data/magnetism2/t1.5000850000000001_J-0.10000000000000009/data.dat'\n"
     ]
    },
    {
     "name": "stderr",
     "output_type": "stream",
     "text": [
      "  obtained data shape: (10, 1)\n"
     ]
    },
    {
     "name": "stdout",
     "output_type": "stream",
     "text": [
      "............................."
     ]
    },
    {
     "name": "stderr",
     "output_type": "stream",
     "text": [
      "\n",
      "================\n",
      "h = 10.0\n",
      "Initializing MC...\n",
      "Warming up...\n"
     ]
    },
    {
     "name": "stdout",
     "output_type": "stream",
     "text": [
      ".\n",
      "================\n",
      "finish\n",
      "Output results into 'data/magnetism2/t1.7500825_J-0.10000000000000009/data.dat'\n"
     ]
    },
    {
     "name": "stderr",
     "output_type": "stream",
     "text": [
      "  obtained data shape: (10, 1)\n"
     ]
    },
    {
     "name": "stdout",
     "output_type": "stream",
     "text": [
      "............................."
     ]
    },
    {
     "name": "stderr",
     "output_type": "stream",
     "text": [
      "\n",
      "================\n",
      "h = 10.0\n",
      "Initializing MC...\n",
      "Warming up...\n"
     ]
    },
    {
     "name": "stdout",
     "output_type": "stream",
     "text": [
      ".\n",
      "================\n",
      "finish\n",
      "Output results into 'data/magnetism2/t2.00008_J-0.10000000000000009/data.dat'\n"
     ]
    },
    {
     "name": "stderr",
     "output_type": "stream",
     "text": [
      "  obtained data shape: (10, 1)\n"
     ]
    },
    {
     "name": "stdout",
     "output_type": "stream",
     "text": [
      "............................."
     ]
    },
    {
     "name": "stderr",
     "output_type": "stream",
     "text": [
      "\n",
      "================\n",
      "h = 10.0\n",
      "Initializing MC...\n",
      "Warming up...\n"
     ]
    },
    {
     "name": "stdout",
     "output_type": "stream",
     "text": [
      ".\n",
      "================\n",
      "finish\n",
      "Output results into 'data/magnetism2/t2.2500775_J-0.10000000000000009/data.dat'\n"
     ]
    },
    {
     "name": "stderr",
     "output_type": "stream",
     "text": [
      "  obtained data shape: (10, 1)\n"
     ]
    },
    {
     "name": "stdout",
     "output_type": "stream",
     "text": [
      "............................."
     ]
    },
    {
     "name": "stderr",
     "output_type": "stream",
     "text": [
      "\n",
      "================\n",
      "h = 10.0\n",
      "Initializing MC...\n",
      "Warming up...\n"
     ]
    },
    {
     "name": "stdout",
     "output_type": "stream",
     "text": [
      ".\n",
      "================\n",
      "finish\n",
      "Output results into 'data/magnetism2/t2.5000750000000003_J-0.10000000000000009/data.dat'\n"
     ]
    },
    {
     "name": "stderr",
     "output_type": "stream",
     "text": [
      "  obtained data shape: (10, 1)\n"
     ]
    },
    {
     "name": "stdout",
     "output_type": "stream",
     "text": [
      "............................."
     ]
    },
    {
     "name": "stderr",
     "output_type": "stream",
     "text": [
      "\n",
      "================\n",
      "h = 10.0\n",
      "Initializing MC...\n",
      "Warming up...\n"
     ]
    },
    {
     "name": "stdout",
     "output_type": "stream",
     "text": [
      ".\n",
      "================\n",
      "finish\n",
      "Output results into 'data/magnetism2/t2.7500725000000004_J-0.10000000000000009/data.dat'\n"
     ]
    },
    {
     "name": "stderr",
     "output_type": "stream",
     "text": [
      "  obtained data shape: (10, 1)\n"
     ]
    },
    {
     "name": "stdout",
     "output_type": "stream",
     "text": [
      "............................."
     ]
    },
    {
     "name": "stderr",
     "output_type": "stream",
     "text": [
      "\n",
      "================\n",
      "h = 10.0\n",
      "Initializing MC...\n",
      "Warming up...\n"
     ]
    },
    {
     "name": "stdout",
     "output_type": "stream",
     "text": [
      ".\n",
      "================\n",
      "finish\n",
      "Output results into 'data/magnetism2/t3.0000700000000005_J-0.10000000000000009/data.dat'\n"
     ]
    },
    {
     "name": "stderr",
     "output_type": "stream",
     "text": [
      "  obtained data shape: (10, 1)\n"
     ]
    },
    {
     "name": "stdout",
     "output_type": "stream",
     "text": [
      "............................."
     ]
    },
    {
     "name": "stderr",
     "output_type": "stream",
     "text": [
      "\n",
      "================\n",
      "h = 10.0\n",
      "Initializing MC...\n",
      "Warming up...\n"
     ]
    },
    {
     "name": "stdout",
     "output_type": "stream",
     "text": [
      ".\n",
      "================\n",
      "finish\n",
      "Output results into 'data/magnetism2/t3.2500675000000006_J-0.10000000000000009/data.dat'\n"
     ]
    },
    {
     "name": "stderr",
     "output_type": "stream",
     "text": [
      "  obtained data shape: (10, 1)\n"
     ]
    },
    {
     "name": "stdout",
     "output_type": "stream",
     "text": [
      "............................."
     ]
    },
    {
     "name": "stderr",
     "output_type": "stream",
     "text": [
      "\n",
      "================\n",
      "h = 10.0\n",
      "Initializing MC...\n",
      "Warming up...\n"
     ]
    },
    {
     "name": "stdout",
     "output_type": "stream",
     "text": [
      ".\n",
      "================\n",
      "finish\n",
      "Output results into 'data/magnetism2/t3.500065_J-0.10000000000000009/data.dat'\n"
     ]
    },
    {
     "name": "stderr",
     "output_type": "stream",
     "text": [
      "  obtained data shape: (10, 1)\n"
     ]
    },
    {
     "name": "stdout",
     "output_type": "stream",
     "text": [
      "............................."
     ]
    },
    {
     "name": "stderr",
     "output_type": "stream",
     "text": [
      "\n",
      "================\n",
      "h = 10.0\n",
      "Initializing MC...\n",
      "Warming up...\n"
     ]
    },
    {
     "name": "stdout",
     "output_type": "stream",
     "text": [
      ".\n",
      "================\n",
      "finish\n",
      "Output results into 'data/magnetism2/t3.7500625000000003_J-0.10000000000000009/data.dat'\n"
     ]
    },
    {
     "name": "stderr",
     "output_type": "stream",
     "text": [
      "  obtained data shape: (10, 1)\n"
     ]
    },
    {
     "name": "stdout",
     "output_type": "stream",
     "text": [
      "............................."
     ]
    },
    {
     "name": "stderr",
     "output_type": "stream",
     "text": [
      "\n",
      "================\n",
      "h = 10.0\n",
      "Initializing MC...\n",
      "Warming up...\n"
     ]
    },
    {
     "name": "stdout",
     "output_type": "stream",
     "text": [
      ".\n",
      "================\n",
      "finish\n",
      "Output results into 'data/magnetism2/t4.00006_J-0.10000000000000009/data.dat'\n"
     ]
    },
    {
     "name": "stderr",
     "output_type": "stream",
     "text": [
      "  obtained data shape: (10, 1)\n"
     ]
    },
    {
     "name": "stdout",
     "output_type": "stream",
     "text": [
      "............................."
     ]
    },
    {
     "name": "stderr",
     "output_type": "stream",
     "text": [
      "\n",
      "================\n",
      "h = 10.0\n",
      "Initializing MC...\n",
      "Warming up...\n"
     ]
    },
    {
     "name": "stdout",
     "output_type": "stream",
     "text": [
      ".\n",
      "================\n",
      "finish\n",
      "Output results into 'data/magnetism2/t4.2500575_J-0.10000000000000009/data.dat'\n"
     ]
    },
    {
     "name": "stderr",
     "output_type": "stream",
     "text": [
      "  obtained data shape: (10, 1)\n"
     ]
    },
    {
     "name": "stdout",
     "output_type": "stream",
     "text": [
      "............................."
     ]
    },
    {
     "name": "stderr",
     "output_type": "stream",
     "text": [
      "\n",
      "================\n",
      "h = 10.0\n",
      "Initializing MC...\n",
      "Warming up...\n"
     ]
    },
    {
     "name": "stdout",
     "output_type": "stream",
     "text": [
      ".\n",
      "================\n",
      "finish\n",
      "Output results into 'data/magnetism2/t4.500055_J-0.10000000000000009/data.dat'\n"
     ]
    },
    {
     "name": "stderr",
     "output_type": "stream",
     "text": [
      "  obtained data shape: (10, 1)\n"
     ]
    },
    {
     "name": "stdout",
     "output_type": "stream",
     "text": [
      "............................."
     ]
    },
    {
     "name": "stderr",
     "output_type": "stream",
     "text": [
      "\n",
      "================\n",
      "h = 10.0\n",
      "Initializing MC...\n",
      "Warming up...\n"
     ]
    },
    {
     "name": "stdout",
     "output_type": "stream",
     "text": [
      ".\n",
      "================\n",
      "finish\n",
      "Output results into 'data/magnetism2/t4.7500525_J-0.10000000000000009/data.dat'\n"
     ]
    },
    {
     "name": "stderr",
     "output_type": "stream",
     "text": [
      "  obtained data shape: (10, 1)\n"
     ]
    },
    {
     "name": "stdout",
     "output_type": "stream",
     "text": [
      "............................."
     ]
    },
    {
     "name": "stderr",
     "output_type": "stream",
     "text": [
      "\n",
      "================\n",
      "h = 10.0\n",
      "Initializing MC...\n",
      "Warming up...\n"
     ]
    },
    {
     "name": "stdout",
     "output_type": "stream",
     "text": [
      ".\n",
      "================\n",
      "finish\n",
      "Output results into 'data/magnetism2/t5.00005_J-0.10000000000000009/data.dat'\n"
     ]
    },
    {
     "name": "stderr",
     "output_type": "stream",
     "text": [
      "  obtained data shape: (10, 1)\n"
     ]
    },
    {
     "name": "stdout",
     "output_type": "stream",
     "text": [
      "............................."
     ]
    },
    {
     "name": "stderr",
     "output_type": "stream",
     "text": [
      "\n",
      "================\n",
      "h = 10.0\n",
      "Initializing MC...\n",
      "Warming up...\n"
     ]
    },
    {
     "name": "stdout",
     "output_type": "stream",
     "text": [
      ".\n",
      "================\n",
      "finish\n",
      "Output results into 'data/magnetism2/t5.2500475_J-0.10000000000000009/data.dat'\n"
     ]
    },
    {
     "name": "stderr",
     "output_type": "stream",
     "text": [
      "  obtained data shape: (10, 1)\n"
     ]
    },
    {
     "name": "stdout",
     "output_type": "stream",
     "text": [
      "............................."
     ]
    },
    {
     "name": "stderr",
     "output_type": "stream",
     "text": [
      "\n",
      "================\n",
      "h = 10.0\n",
      "Initializing MC...\n",
      "Warming up...\n"
     ]
    },
    {
     "name": "stdout",
     "output_type": "stream",
     "text": [
      ".\n",
      "================\n",
      "finish\n",
      "Output results into 'data/magnetism2/t5.500045_J-0.10000000000000009/data.dat'\n"
     ]
    },
    {
     "name": "stderr",
     "output_type": "stream",
     "text": [
      "  obtained data shape: (10, 1)\n"
     ]
    },
    {
     "name": "stdout",
     "output_type": "stream",
     "text": [
      "............................."
     ]
    },
    {
     "name": "stderr",
     "output_type": "stream",
     "text": [
      "\n",
      "================\n",
      "h = 10.0\n",
      "Initializing MC...\n",
      "Warming up...\n"
     ]
    },
    {
     "name": "stdout",
     "output_type": "stream",
     "text": [
      ".\n",
      "================\n",
      "finish\n",
      "Output results into 'data/magnetism2/t5.7500425_J-0.10000000000000009/data.dat'\n"
     ]
    },
    {
     "name": "stderr",
     "output_type": "stream",
     "text": [
      "  obtained data shape: (10, 1)\n"
     ]
    },
    {
     "name": "stdout",
     "output_type": "stream",
     "text": [
      "............................."
     ]
    },
    {
     "name": "stderr",
     "output_type": "stream",
     "text": [
      "\n",
      "================\n",
      "h = 10.0\n",
      "Initializing MC...\n",
      "Warming up...\n"
     ]
    },
    {
     "name": "stdout",
     "output_type": "stream",
     "text": [
      ".\n",
      "================\n",
      "finish\n",
      "Output results into 'data/magnetism2/t6.00004_J-0.10000000000000009/data.dat'\n"
     ]
    },
    {
     "name": "stderr",
     "output_type": "stream",
     "text": [
      "  obtained data shape: (10, 1)\n"
     ]
    },
    {
     "name": "stdout",
     "output_type": "stream",
     "text": [
      "............................."
     ]
    },
    {
     "name": "stderr",
     "output_type": "stream",
     "text": [
      "\n",
      "================\n",
      "h = 10.0\n",
      "Initializing MC...\n",
      "Warming up...\n"
     ]
    },
    {
     "name": "stdout",
     "output_type": "stream",
     "text": [
      ".\n",
      "================\n",
      "finish\n",
      "Output results into 'data/magnetism2/t6.2500375_J-0.10000000000000009/data.dat'\n"
     ]
    },
    {
     "name": "stderr",
     "output_type": "stream",
     "text": [
      "  obtained data shape: (10, 1)\n"
     ]
    },
    {
     "name": "stdout",
     "output_type": "stream",
     "text": [
      "............................."
     ]
    },
    {
     "name": "stderr",
     "output_type": "stream",
     "text": [
      "\n",
      "================\n",
      "h = 10.0\n",
      "Initializing MC...\n",
      "Warming up...\n"
     ]
    },
    {
     "name": "stdout",
     "output_type": "stream",
     "text": [
      ".\n",
      "================\n",
      "finish\n",
      "Output results into 'data/magnetism2/t6.5000350000000005_J-0.10000000000000009/data.dat'\n"
     ]
    },
    {
     "name": "stderr",
     "output_type": "stream",
     "text": [
      "  obtained data shape: (10, 1)\n"
     ]
    },
    {
     "name": "stdout",
     "output_type": "stream",
     "text": [
      "............................."
     ]
    },
    {
     "name": "stderr",
     "output_type": "stream",
     "text": [
      "\n",
      "================\n",
      "h = 10.0\n",
      "Initializing MC...\n",
      "Warming up...\n"
     ]
    },
    {
     "name": "stdout",
     "output_type": "stream",
     "text": [
      ".\n",
      "================\n",
      "finish\n",
      "Output results into 'data/magnetism2/t6.7500325_J-0.10000000000000009/data.dat'\n"
     ]
    },
    {
     "name": "stderr",
     "output_type": "stream",
     "text": [
      "  obtained data shape: (10, 1)\n"
     ]
    },
    {
     "name": "stdout",
     "output_type": "stream",
     "text": [
      "............................."
     ]
    },
    {
     "name": "stderr",
     "output_type": "stream",
     "text": [
      "\n",
      "================\n",
      "h = 10.0\n",
      "Initializing MC...\n",
      "Warming up...\n"
     ]
    },
    {
     "name": "stdout",
     "output_type": "stream",
     "text": [
      ".\n",
      "================\n",
      "finish\n",
      "Output results into 'data/magnetism2/t7.00003_J-0.10000000000000009/data.dat'\n"
     ]
    },
    {
     "name": "stderr",
     "output_type": "stream",
     "text": [
      "  obtained data shape: (10, 1)\n"
     ]
    },
    {
     "name": "stdout",
     "output_type": "stream",
     "text": [
      "............................."
     ]
    },
    {
     "name": "stderr",
     "output_type": "stream",
     "text": [
      "\n",
      "================\n",
      "h = 10.0\n",
      "Initializing MC...\n",
      "Warming up...\n"
     ]
    },
    {
     "name": "stdout",
     "output_type": "stream",
     "text": [
      ".\n",
      "================\n",
      "finish\n",
      "Output results into 'data/magnetism2/t7.2500275_J-0.10000000000000009/data.dat'\n"
     ]
    },
    {
     "name": "stderr",
     "output_type": "stream",
     "text": [
      "  obtained data shape: (10, 1)\n"
     ]
    },
    {
     "name": "stdout",
     "output_type": "stream",
     "text": [
      "............................."
     ]
    },
    {
     "name": "stderr",
     "output_type": "stream",
     "text": [
      "\n",
      "================\n",
      "h = 10.0\n",
      "Initializing MC...\n",
      "Warming up...\n"
     ]
    },
    {
     "name": "stdout",
     "output_type": "stream",
     "text": [
      ".\n",
      "================\n",
      "finish\n",
      "Output results into 'data/magnetism2/t7.500025_J-0.10000000000000009/data.dat'\n"
     ]
    },
    {
     "name": "stderr",
     "output_type": "stream",
     "text": [
      "  obtained data shape: (10, 1)\n"
     ]
    },
    {
     "name": "stdout",
     "output_type": "stream",
     "text": [
      "............................."
     ]
    },
    {
     "name": "stderr",
     "output_type": "stream",
     "text": [
      "\n",
      "================\n",
      "h = 10.0\n",
      "Initializing MC...\n",
      "Warming up...\n"
     ]
    },
    {
     "name": "stdout",
     "output_type": "stream",
     "text": [
      ".\n",
      "================\n",
      "finish\n",
      "Output results into 'data/magnetism2/t7.7500225_J-0.10000000000000009/data.dat'\n"
     ]
    },
    {
     "name": "stderr",
     "output_type": "stream",
     "text": [
      "  obtained data shape: (10, 1)\n"
     ]
    },
    {
     "name": "stdout",
     "output_type": "stream",
     "text": [
      "............................."
     ]
    },
    {
     "name": "stderr",
     "output_type": "stream",
     "text": [
      "\n",
      "================\n",
      "h = 10.0\n",
      "Initializing MC...\n",
      "Warming up...\n"
     ]
    },
    {
     "name": "stdout",
     "output_type": "stream",
     "text": [
      ".\n",
      "================\n",
      "finish\n",
      "Output results into 'data/magnetism2/t8.000020000000001_J-0.10000000000000009/data.dat'\n"
     ]
    },
    {
     "name": "stderr",
     "output_type": "stream",
     "text": [
      "  obtained data shape: (10, 1)\n"
     ]
    },
    {
     "name": "stdout",
     "output_type": "stream",
     "text": [
      "............................."
     ]
    },
    {
     "name": "stderr",
     "output_type": "stream",
     "text": [
      "\n",
      "================\n",
      "h = 10.0\n",
      "Initializing MC...\n",
      "Warming up...\n"
     ]
    },
    {
     "name": "stdout",
     "output_type": "stream",
     "text": [
      ".\n",
      "================\n",
      "finish\n",
      "Output results into 'data/magnetism2/t8.2500175_J-0.10000000000000009/data.dat'\n"
     ]
    },
    {
     "name": "stderr",
     "output_type": "stream",
     "text": [
      "  obtained data shape: (10, 1)\n"
     ]
    },
    {
     "name": "stdout",
     "output_type": "stream",
     "text": [
      "............................."
     ]
    },
    {
     "name": "stderr",
     "output_type": "stream",
     "text": [
      "\n",
      "================\n",
      "h = 10.0\n",
      "Initializing MC...\n",
      "Warming up...\n"
     ]
    },
    {
     "name": "stdout",
     "output_type": "stream",
     "text": [
      ".\n",
      "================\n",
      "finish\n",
      "Output results into 'data/magnetism2/t8.500015_J-0.10000000000000009/data.dat'\n"
     ]
    },
    {
     "name": "stderr",
     "output_type": "stream",
     "text": [
      "  obtained data shape: (10, 1)\n"
     ]
    },
    {
     "name": "stdout",
     "output_type": "stream",
     "text": [
      "............................."
     ]
    },
    {
     "name": "stderr",
     "output_type": "stream",
     "text": [
      "\n",
      "================\n",
      "h = 10.0\n",
      "Initializing MC...\n",
      "Warming up...\n"
     ]
    },
    {
     "name": "stdout",
     "output_type": "stream",
     "text": [
      ".\n",
      "================\n",
      "finish\n",
      "Output results into 'data/magnetism2/t8.7500125_J-0.10000000000000009/data.dat'\n"
     ]
    },
    {
     "name": "stderr",
     "output_type": "stream",
     "text": [
      "  obtained data shape: (10, 1)\n"
     ]
    },
    {
     "name": "stdout",
     "output_type": "stream",
     "text": [
      "............................."
     ]
    },
    {
     "name": "stderr",
     "output_type": "stream",
     "text": [
      "\n",
      "================\n",
      "h = 10.0\n",
      "Initializing MC...\n",
      "Warming up...\n"
     ]
    },
    {
     "name": "stdout",
     "output_type": "stream",
     "text": [
      ".\n",
      "================\n",
      "finish\n",
      "Output results into 'data/magnetism2/t9.00001_J-0.10000000000000009/data.dat'\n"
     ]
    },
    {
     "name": "stderr",
     "output_type": "stream",
     "text": [
      "  obtained data shape: (10, 1)\n"
     ]
    },
    {
     "name": "stdout",
     "output_type": "stream",
     "text": [
      "............................."
     ]
    },
    {
     "name": "stderr",
     "output_type": "stream",
     "text": [
      "\n",
      "================\n",
      "h = 10.0\n",
      "Initializing MC...\n",
      "Warming up...\n"
     ]
    },
    {
     "name": "stdout",
     "output_type": "stream",
     "text": [
      ".\n",
      "================\n",
      "finish\n",
      "Output results into 'data/magnetism2/t9.2500075_J-0.10000000000000009/data.dat'\n"
     ]
    },
    {
     "name": "stderr",
     "output_type": "stream",
     "text": [
      "  obtained data shape: (10, 1)\n"
     ]
    },
    {
     "name": "stdout",
     "output_type": "stream",
     "text": [
      "............................."
     ]
    },
    {
     "name": "stderr",
     "output_type": "stream",
     "text": [
      "\n",
      "================\n",
      "h = 10.0\n",
      "Initializing MC...\n",
      "Warming up...\n"
     ]
    },
    {
     "name": "stdout",
     "output_type": "stream",
     "text": [
      ".\n",
      "================\n",
      "finish\n",
      "Output results into 'data/magnetism2/t9.500005_J-0.10000000000000009/data.dat'\n"
     ]
    },
    {
     "name": "stderr",
     "output_type": "stream",
     "text": [
      "  obtained data shape: (10, 1)\n"
     ]
    },
    {
     "name": "stdout",
     "output_type": "stream",
     "text": [
      "............................."
     ]
    },
    {
     "name": "stderr",
     "output_type": "stream",
     "text": [
      "\n",
      "================\n",
      "h = 10.0\n",
      "Initializing MC...\n",
      "Warming up...\n"
     ]
    },
    {
     "name": "stdout",
     "output_type": "stream",
     "text": [
      ".\n",
      "================\n",
      "finish\n",
      "Output results into 'data/magnetism2/t9.7500025_J-0.10000000000000009/data.dat'\n"
     ]
    },
    {
     "name": "stderr",
     "output_type": "stream",
     "text": [
      "  obtained data shape: (10, 1)\n"
     ]
    },
    {
     "name": "stdout",
     "output_type": "stream",
     "text": [
      "............................."
     ]
    },
    {
     "name": "stderr",
     "output_type": "stream",
     "text": [
      "\n",
      "================\n",
      "h = 10.0\n",
      "Initializing MC...\n",
      "/home/yakkuru/computer_physics/report/submit/report3/code/tool/supplement.py:42: RuntimeWarning: overflow encountered in exp\n",
      "  prob_dn.append(np.exp(2 * K * sum_sigma))\n",
      "/home/yakkuru/computer_physics/report/submit/report3/code/tool/supplement.py:41: RuntimeWarning: overflow encountered in exp\n",
      "  prob_up.append(np.exp(-2 * K * sum_sigma))\n",
      "Warming up...\n"
     ]
    },
    {
     "name": "stdout",
     "output_type": "stream",
     "text": [
      ".\n",
      "================\n",
      "finish\n",
      "Output results into 'data/magnetism2/t10.0_J-0.10000000000000009/data.dat'\n"
     ]
    },
    {
     "name": "stderr",
     "output_type": "stream",
     "text": [
      "/home/yakkuru/computer_physics/report/submit/report3/code/tool/measurement.py:46: RuntimeWarning: overflow encountered in exp\n",
      "  prob_field = np.exp(beta * h * measure(_mc))\n",
      "/home/yakkuru/computer_physics/report/submit/report3/code/tool/measurement.py:49: RuntimeWarning: invalid value encountered in multiply\n",
      "  return _mc.prob_up[num_up] * prob_field\n",
      "/home/yakkuru/computer_physics/report/submit/report3/code/tool/measurement.py:51: RuntimeWarning: invalid value encountered in multiply\n",
      "  return _mc.prob_dn[num_up] * prob_field\n",
      "  obtained data shape: (10, 1)\n"
     ]
    },
    {
     "name": "stdout",
     "output_type": "stream",
     "text": [
      "............................."
     ]
    },
    {
     "name": "stderr",
     "output_type": "stream",
     "text": [
      "\n",
      "================\n",
      "h = 10.0\n",
      "Initializing MC...\n",
      "Warming up...\n"
     ]
    },
    {
     "name": "stdout",
     "output_type": "stream",
     "text": [
      ".\n",
      "================\n",
      "finish\n",
      "Output results into 'data/magnetism2/t0.0001_J-0.20000000000000018/data.dat'\n"
     ]
    },
    {
     "name": "stderr",
     "output_type": "stream",
     "text": [
      "/home/yakkuru/computer_physics/report/submit/report3/code/tool/measurement.py:46: RuntimeWarning: overflow encountered in exp\n",
      "  prob_field = np.exp(beta * h * measure(_mc))\n",
      "  obtained data shape: (10, 1)\n"
     ]
    },
    {
     "name": "stdout",
     "output_type": "stream",
     "text": [
      "............................."
     ]
    },
    {
     "name": "stderr",
     "output_type": "stream",
     "text": [
      "\n",
      "================\n",
      "h = 10.0\n",
      "Initializing MC...\n",
      "Warming up...\n"
     ]
    },
    {
     "name": "stdout",
     "output_type": "stream",
     "text": [
      ".\n",
      "================\n",
      "finish\n",
      "Output results into 'data/magnetism2/t0.25009750000000003_J-0.20000000000000018/data.dat'\n"
     ]
    },
    {
     "name": "stderr",
     "output_type": "stream",
     "text": [
      "  obtained data shape: (10, 1)\n"
     ]
    },
    {
     "name": "stdout",
     "output_type": "stream",
     "text": [
      "............................."
     ]
    },
    {
     "name": "stderr",
     "output_type": "stream",
     "text": [
      "\n",
      "================\n",
      "h = 10.0\n",
      "Initializing MC...\n",
      "Warming up...\n"
     ]
    },
    {
     "name": "stdout",
     "output_type": "stream",
     "text": [
      ".\n",
      "================\n",
      "finish\n",
      "Output results into 'data/magnetism2/t0.5000950000000001_J-0.20000000000000018/data.dat'\n"
     ]
    },
    {
     "name": "stderr",
     "output_type": "stream",
     "text": [
      "  obtained data shape: (10, 1)\n"
     ]
    },
    {
     "name": "stdout",
     "output_type": "stream",
     "text": [
      "............................."
     ]
    },
    {
     "name": "stderr",
     "output_type": "stream",
     "text": [
      "\n",
      "================\n",
      "h = 10.0\n",
      "Initializing MC...\n",
      "Warming up...\n"
     ]
    },
    {
     "name": "stdout",
     "output_type": "stream",
     "text": [
      ".\n",
      "================\n",
      "finish\n",
      "Output results into 'data/magnetism2/t0.7500925_J-0.20000000000000018/data.dat'\n"
     ]
    },
    {
     "name": "stderr",
     "output_type": "stream",
     "text": [
      "  obtained data shape: (10, 1)\n"
     ]
    },
    {
     "name": "stdout",
     "output_type": "stream",
     "text": [
      "............................."
     ]
    },
    {
     "name": "stderr",
     "output_type": "stream",
     "text": [
      "\n",
      "================\n",
      "h = 10.0\n",
      "Initializing MC...\n",
      "Warming up...\n"
     ]
    },
    {
     "name": "stdout",
     "output_type": "stream",
     "text": [
      ".\n",
      "================\n",
      "finish\n",
      "Output results into 'data/magnetism2/t1.0000900000000001_J-0.20000000000000018/data.dat'\n"
     ]
    },
    {
     "name": "stderr",
     "output_type": "stream",
     "text": [
      "  obtained data shape: (10, 1)\n"
     ]
    },
    {
     "name": "stdout",
     "output_type": "stream",
     "text": [
      "............................."
     ]
    },
    {
     "name": "stderr",
     "output_type": "stream",
     "text": [
      "\n",
      "================\n",
      "h = 10.0\n",
      "Initializing MC...\n",
      "Warming up...\n"
     ]
    },
    {
     "name": "stdout",
     "output_type": "stream",
     "text": [
      ".\n",
      "================\n",
      "finish\n",
      "Output results into 'data/magnetism2/t1.2500875_J-0.20000000000000018/data.dat'\n"
     ]
    },
    {
     "name": "stderr",
     "output_type": "stream",
     "text": [
      "  obtained data shape: (10, 1)\n"
     ]
    },
    {
     "name": "stdout",
     "output_type": "stream",
     "text": [
      "..............................\n",
      "================\n",
      "finish\n",
      "Output results into 'data/magnetism2/t1.5000850000000001_J-0.20000000000000018/data.dat'\n"
     ]
    },
    {
     "name": "stderr",
     "output_type": "stream",
     "text": [
      "\n",
      "================\n",
      "h = 10.0\n",
      "Initializing MC...\n",
      "Warming up...\n",
      "  obtained data shape: (10, 1)\n"
     ]
    },
    {
     "name": "stdout",
     "output_type": "stream",
     "text": [
      "............................."
     ]
    },
    {
     "name": "stderr",
     "output_type": "stream",
     "text": [
      "\n",
      "================\n",
      "h = 10.0\n",
      "Initializing MC...\n",
      "Warming up...\n"
     ]
    },
    {
     "name": "stdout",
     "output_type": "stream",
     "text": [
      ".\n",
      "================\n",
      "finish\n",
      "Output results into 'data/magnetism2/t1.7500825_J-0.20000000000000018/data.dat'\n"
     ]
    },
    {
     "name": "stderr",
     "output_type": "stream",
     "text": [
      "  obtained data shape: (10, 1)\n"
     ]
    },
    {
     "name": "stdout",
     "output_type": "stream",
     "text": [
      "............................."
     ]
    },
    {
     "name": "stderr",
     "output_type": "stream",
     "text": [
      "\n",
      "================\n",
      "h = 10.0\n",
      "Initializing MC...\n",
      "Warming up...\n"
     ]
    },
    {
     "name": "stdout",
     "output_type": "stream",
     "text": [
      ".\n",
      "================\n",
      "finish\n",
      "Output results into 'data/magnetism2/t2.00008_J-0.20000000000000018/data.dat'\n"
     ]
    },
    {
     "name": "stderr",
     "output_type": "stream",
     "text": [
      "  obtained data shape: (10, 1)\n"
     ]
    },
    {
     "name": "stdout",
     "output_type": "stream",
     "text": [
      "............................."
     ]
    },
    {
     "name": "stderr",
     "output_type": "stream",
     "text": [
      "\n",
      "================\n",
      "h = 10.0\n",
      "Initializing MC...\n",
      "Warming up...\n"
     ]
    },
    {
     "name": "stdout",
     "output_type": "stream",
     "text": [
      ".\n",
      "================\n",
      "finish\n",
      "Output results into 'data/magnetism2/t2.2500775_J-0.20000000000000018/data.dat'\n"
     ]
    },
    {
     "name": "stderr",
     "output_type": "stream",
     "text": [
      "  obtained data shape: (10, 1)\n"
     ]
    },
    {
     "name": "stdout",
     "output_type": "stream",
     "text": [
      "............................."
     ]
    },
    {
     "name": "stderr",
     "output_type": "stream",
     "text": [
      "\n",
      "================\n",
      "h = 10.0\n",
      "Initializing MC...\n",
      "Warming up...\n"
     ]
    },
    {
     "name": "stdout",
     "output_type": "stream",
     "text": [
      ".\n",
      "================\n",
      "finish\n",
      "Output results into 'data/magnetism2/t2.5000750000000003_J-0.20000000000000018/data.dat'\n"
     ]
    },
    {
     "name": "stderr",
     "output_type": "stream",
     "text": [
      "  obtained data shape: (10, 1)\n"
     ]
    },
    {
     "name": "stdout",
     "output_type": "stream",
     "text": [
      "............................."
     ]
    },
    {
     "name": "stderr",
     "output_type": "stream",
     "text": [
      "\n",
      "================\n",
      "h = 10.0\n",
      "Initializing MC...\n",
      "Warming up...\n"
     ]
    },
    {
     "name": "stdout",
     "output_type": "stream",
     "text": [
      ".\n",
      "================\n",
      "finish\n",
      "Output results into 'data/magnetism2/t2.7500725000000004_J-0.20000000000000018/data.dat'\n"
     ]
    },
    {
     "name": "stderr",
     "output_type": "stream",
     "text": [
      "  obtained data shape: (10, 1)\n"
     ]
    },
    {
     "name": "stdout",
     "output_type": "stream",
     "text": [
      "............................."
     ]
    },
    {
     "name": "stderr",
     "output_type": "stream",
     "text": [
      "\n",
      "================\n",
      "h = 10.0\n",
      "Initializing MC...\n",
      "Warming up...\n"
     ]
    },
    {
     "name": "stdout",
     "output_type": "stream",
     "text": [
      ".\n",
      "================\n",
      "finish\n",
      "Output results into 'data/magnetism2/t3.0000700000000005_J-0.20000000000000018/data.dat'\n"
     ]
    },
    {
     "name": "stderr",
     "output_type": "stream",
     "text": [
      "  obtained data shape: (10, 1)\n"
     ]
    },
    {
     "name": "stdout",
     "output_type": "stream",
     "text": [
      "............................."
     ]
    },
    {
     "name": "stderr",
     "output_type": "stream",
     "text": [
      "\n",
      "================\n",
      "h = 10.0\n",
      "Initializing MC...\n",
      "Warming up...\n"
     ]
    },
    {
     "name": "stdout",
     "output_type": "stream",
     "text": [
      ".\n",
      "================\n",
      "finish\n",
      "Output results into 'data/magnetism2/t3.2500675000000006_J-0.20000000000000018/data.dat'\n"
     ]
    },
    {
     "name": "stderr",
     "output_type": "stream",
     "text": [
      "  obtained data shape: (10, 1)\n"
     ]
    },
    {
     "name": "stdout",
     "output_type": "stream",
     "text": [
      "............................."
     ]
    },
    {
     "name": "stderr",
     "output_type": "stream",
     "text": [
      "\n",
      "================\n",
      "h = 10.0\n",
      "Initializing MC...\n",
      "Warming up...\n"
     ]
    },
    {
     "name": "stdout",
     "output_type": "stream",
     "text": [
      ".\n",
      "================\n",
      "finish\n",
      "Output results into 'data/magnetism2/t3.500065_J-0.20000000000000018/data.dat'\n"
     ]
    },
    {
     "name": "stderr",
     "output_type": "stream",
     "text": [
      "  obtained data shape: (10, 1)\n"
     ]
    },
    {
     "name": "stdout",
     "output_type": "stream",
     "text": [
      "............................."
     ]
    },
    {
     "name": "stderr",
     "output_type": "stream",
     "text": [
      "\n",
      "================\n",
      "h = 10.0\n",
      "Initializing MC...\n",
      "Warming up...\n"
     ]
    },
    {
     "name": "stdout",
     "output_type": "stream",
     "text": [
      ".\n",
      "================\n",
      "finish\n",
      "Output results into 'data/magnetism2/t3.7500625000000003_J-0.20000000000000018/data.dat'\n"
     ]
    },
    {
     "name": "stderr",
     "output_type": "stream",
     "text": [
      "  obtained data shape: (10, 1)\n"
     ]
    },
    {
     "name": "stdout",
     "output_type": "stream",
     "text": [
      "............................."
     ]
    },
    {
     "name": "stderr",
     "output_type": "stream",
     "text": [
      "\n",
      "================\n",
      "h = 10.0\n",
      "Initializing MC...\n",
      "Warming up...\n"
     ]
    },
    {
     "name": "stdout",
     "output_type": "stream",
     "text": [
      ".\n",
      "================\n",
      "finish\n",
      "Output results into 'data/magnetism2/t4.00006_J-0.20000000000000018/data.dat'\n"
     ]
    },
    {
     "name": "stderr",
     "output_type": "stream",
     "text": [
      "  obtained data shape: (10, 1)\n"
     ]
    },
    {
     "name": "stdout",
     "output_type": "stream",
     "text": [
      "............................."
     ]
    },
    {
     "name": "stderr",
     "output_type": "stream",
     "text": [
      "\n",
      "================\n",
      "h = 10.0\n",
      "Initializing MC...\n",
      "Warming up...\n"
     ]
    },
    {
     "name": "stdout",
     "output_type": "stream",
     "text": [
      ".\n",
      "================\n",
      "finish\n",
      "Output results into 'data/magnetism2/t4.2500575_J-0.20000000000000018/data.dat'\n"
     ]
    },
    {
     "name": "stderr",
     "output_type": "stream",
     "text": [
      "  obtained data shape: (10, 1)\n"
     ]
    },
    {
     "name": "stdout",
     "output_type": "stream",
     "text": [
      "............................."
     ]
    },
    {
     "name": "stderr",
     "output_type": "stream",
     "text": [
      "\n",
      "================\n",
      "h = 10.0\n",
      "Initializing MC...\n",
      "Warming up...\n"
     ]
    },
    {
     "name": "stdout",
     "output_type": "stream",
     "text": [
      ".\n",
      "================\n",
      "finish\n",
      "Output results into 'data/magnetism2/t4.500055_J-0.20000000000000018/data.dat'\n"
     ]
    },
    {
     "name": "stderr",
     "output_type": "stream",
     "text": [
      "  obtained data shape: (10, 1)\n"
     ]
    },
    {
     "name": "stdout",
     "output_type": "stream",
     "text": [
      "............................."
     ]
    },
    {
     "name": "stderr",
     "output_type": "stream",
     "text": [
      "\n",
      "================\n",
      "h = 10.0\n",
      "Initializing MC...\n",
      "Warming up...\n"
     ]
    },
    {
     "name": "stdout",
     "output_type": "stream",
     "text": [
      ".\n",
      "================\n",
      "finish\n",
      "Output results into 'data/magnetism2/t4.7500525_J-0.20000000000000018/data.dat'\n"
     ]
    },
    {
     "name": "stderr",
     "output_type": "stream",
     "text": [
      "  obtained data shape: (10, 1)\n"
     ]
    },
    {
     "name": "stdout",
     "output_type": "stream",
     "text": [
      "............................."
     ]
    },
    {
     "name": "stderr",
     "output_type": "stream",
     "text": [
      "\n",
      "================\n",
      "h = 10.0\n",
      "Initializing MC...\n",
      "Warming up...\n"
     ]
    },
    {
     "name": "stdout",
     "output_type": "stream",
     "text": [
      ".\n",
      "================\n",
      "finish\n",
      "Output results into 'data/magnetism2/t5.00005_J-0.20000000000000018/data.dat'\n"
     ]
    },
    {
     "name": "stderr",
     "output_type": "stream",
     "text": [
      "  obtained data shape: (10, 1)\n"
     ]
    },
    {
     "name": "stdout",
     "output_type": "stream",
     "text": [
      "............................."
     ]
    },
    {
     "name": "stderr",
     "output_type": "stream",
     "text": [
      "\n",
      "================\n",
      "h = 10.0\n",
      "Initializing MC...\n",
      "Warming up...\n"
     ]
    },
    {
     "name": "stdout",
     "output_type": "stream",
     "text": [
      ".\n",
      "================\n",
      "finish\n",
      "Output results into 'data/magnetism2/t5.2500475_J-0.20000000000000018/data.dat'\n"
     ]
    },
    {
     "name": "stderr",
     "output_type": "stream",
     "text": [
      "  obtained data shape: (10, 1)\n"
     ]
    },
    {
     "name": "stdout",
     "output_type": "stream",
     "text": [
      "............................."
     ]
    },
    {
     "name": "stderr",
     "output_type": "stream",
     "text": [
      "\n",
      "================\n",
      "h = 10.0\n",
      "Initializing MC...\n",
      "Warming up...\n"
     ]
    },
    {
     "name": "stdout",
     "output_type": "stream",
     "text": [
      ".\n",
      "================\n",
      "finish\n",
      "Output results into 'data/magnetism2/t5.500045_J-0.20000000000000018/data.dat'\n"
     ]
    },
    {
     "name": "stderr",
     "output_type": "stream",
     "text": [
      "  obtained data shape: (10, 1)\n"
     ]
    },
    {
     "name": "stdout",
     "output_type": "stream",
     "text": [
      "............................."
     ]
    },
    {
     "name": "stderr",
     "output_type": "stream",
     "text": [
      "\n",
      "================\n",
      "h = 10.0\n",
      "Initializing MC...\n",
      "Warming up...\n"
     ]
    },
    {
     "name": "stdout",
     "output_type": "stream",
     "text": [
      ".\n",
      "================\n",
      "finish\n",
      "Output results into 'data/magnetism2/t5.7500425_J-0.20000000000000018/data.dat'\n"
     ]
    },
    {
     "name": "stderr",
     "output_type": "stream",
     "text": [
      "  obtained data shape: (10, 1)\n"
     ]
    },
    {
     "name": "stdout",
     "output_type": "stream",
     "text": [
      "............................."
     ]
    },
    {
     "name": "stderr",
     "output_type": "stream",
     "text": [
      "\n",
      "================\n",
      "h = 10.0\n",
      "Initializing MC...\n",
      "Warming up...\n"
     ]
    },
    {
     "name": "stdout",
     "output_type": "stream",
     "text": [
      ".\n",
      "================\n",
      "finish\n",
      "Output results into 'data/magnetism2/t6.00004_J-0.20000000000000018/data.dat'\n"
     ]
    },
    {
     "name": "stderr",
     "output_type": "stream",
     "text": [
      "  obtained data shape: (10, 1)\n"
     ]
    },
    {
     "name": "stdout",
     "output_type": "stream",
     "text": [
      "............................."
     ]
    },
    {
     "name": "stderr",
     "output_type": "stream",
     "text": [
      "\n",
      "================\n",
      "h = 10.0\n",
      "Initializing MC...\n",
      "Warming up...\n"
     ]
    },
    {
     "name": "stdout",
     "output_type": "stream",
     "text": [
      ".\n",
      "================\n",
      "finish\n",
      "Output results into 'data/magnetism2/t6.2500375_J-0.20000000000000018/data.dat'\n"
     ]
    },
    {
     "name": "stderr",
     "output_type": "stream",
     "text": [
      "  obtained data shape: (10, 1)\n"
     ]
    },
    {
     "name": "stdout",
     "output_type": "stream",
     "text": [
      "............................."
     ]
    },
    {
     "name": "stderr",
     "output_type": "stream",
     "text": [
      "\n",
      "================\n",
      "h = 10.0\n",
      "Initializing MC...\n",
      "Warming up...\n"
     ]
    },
    {
     "name": "stdout",
     "output_type": "stream",
     "text": [
      ".\n",
      "================\n",
      "finish\n",
      "Output results into 'data/magnetism2/t6.5000350000000005_J-0.20000000000000018/data.dat'\n"
     ]
    },
    {
     "name": "stderr",
     "output_type": "stream",
     "text": [
      "  obtained data shape: (10, 1)\n"
     ]
    },
    {
     "name": "stdout",
     "output_type": "stream",
     "text": [
      "............................."
     ]
    },
    {
     "name": "stderr",
     "output_type": "stream",
     "text": [
      "\n",
      "================\n",
      "h = 10.0\n",
      "Initializing MC...\n",
      "Warming up...\n"
     ]
    },
    {
     "name": "stdout",
     "output_type": "stream",
     "text": [
      ".\n",
      "================\n",
      "finish\n",
      "Output results into 'data/magnetism2/t6.7500325_J-0.20000000000000018/data.dat'\n"
     ]
    },
    {
     "name": "stderr",
     "output_type": "stream",
     "text": [
      "  obtained data shape: (10, 1)\n"
     ]
    },
    {
     "name": "stdout",
     "output_type": "stream",
     "text": [
      "............................."
     ]
    },
    {
     "name": "stderr",
     "output_type": "stream",
     "text": [
      "\n",
      "================\n",
      "h = 10.0\n",
      "Initializing MC...\n",
      "Warming up...\n"
     ]
    },
    {
     "name": "stdout",
     "output_type": "stream",
     "text": [
      ".\n",
      "================\n",
      "finish\n",
      "Output results into 'data/magnetism2/t7.00003_J-0.20000000000000018/data.dat'\n"
     ]
    },
    {
     "name": "stderr",
     "output_type": "stream",
     "text": [
      "  obtained data shape: (10, 1)\n"
     ]
    },
    {
     "name": "stdout",
     "output_type": "stream",
     "text": [
      "............................."
     ]
    },
    {
     "name": "stderr",
     "output_type": "stream",
     "text": [
      "\n",
      "================\n",
      "h = 10.0\n",
      "Initializing MC...\n",
      "Warming up...\n"
     ]
    },
    {
     "name": "stdout",
     "output_type": "stream",
     "text": [
      ".\n",
      "================\n",
      "finish\n",
      "Output results into 'data/magnetism2/t7.2500275_J-0.20000000000000018/data.dat'\n"
     ]
    },
    {
     "name": "stderr",
     "output_type": "stream",
     "text": [
      "  obtained data shape: (10, 1)\n"
     ]
    },
    {
     "name": "stdout",
     "output_type": "stream",
     "text": [
      "............................."
     ]
    },
    {
     "name": "stderr",
     "output_type": "stream",
     "text": [
      "\n",
      "================\n",
      "h = 10.0\n",
      "Initializing MC...\n",
      "Warming up...\n"
     ]
    },
    {
     "name": "stdout",
     "output_type": "stream",
     "text": [
      ".\n",
      "================\n",
      "finish\n",
      "Output results into 'data/magnetism2/t7.500025_J-0.20000000000000018/data.dat'\n"
     ]
    },
    {
     "name": "stderr",
     "output_type": "stream",
     "text": [
      "  obtained data shape: (10, 1)\n"
     ]
    },
    {
     "name": "stdout",
     "output_type": "stream",
     "text": [
      "............................."
     ]
    },
    {
     "name": "stderr",
     "output_type": "stream",
     "text": [
      "\n",
      "================\n",
      "h = 10.0\n",
      "Initializing MC...\n",
      "Warming up...\n"
     ]
    },
    {
     "name": "stdout",
     "output_type": "stream",
     "text": [
      ".\n",
      "================\n",
      "finish\n",
      "Output results into 'data/magnetism2/t7.7500225_J-0.20000000000000018/data.dat'\n"
     ]
    },
    {
     "name": "stderr",
     "output_type": "stream",
     "text": [
      "  obtained data shape: (10, 1)\n"
     ]
    },
    {
     "name": "stdout",
     "output_type": "stream",
     "text": [
      "............................."
     ]
    },
    {
     "name": "stderr",
     "output_type": "stream",
     "text": [
      "\n",
      "================\n",
      "h = 10.0\n",
      "Initializing MC...\n",
      "Warming up...\n"
     ]
    },
    {
     "name": "stdout",
     "output_type": "stream",
     "text": [
      ".\n",
      "================\n",
      "finish\n",
      "Output results into 'data/magnetism2/t8.000020000000001_J-0.20000000000000018/data.dat'\n"
     ]
    },
    {
     "name": "stderr",
     "output_type": "stream",
     "text": [
      "  obtained data shape: (10, 1)\n"
     ]
    },
    {
     "name": "stdout",
     "output_type": "stream",
     "text": [
      "............................."
     ]
    },
    {
     "name": "stderr",
     "output_type": "stream",
     "text": [
      "\n",
      "================\n",
      "h = 10.0\n",
      "Initializing MC...\n",
      "Warming up...\n"
     ]
    },
    {
     "name": "stdout",
     "output_type": "stream",
     "text": [
      ".\n",
      "================\n",
      "finish\n",
      "Output results into 'data/magnetism2/t8.2500175_J-0.20000000000000018/data.dat'\n"
     ]
    },
    {
     "name": "stderr",
     "output_type": "stream",
     "text": [
      "  obtained data shape: (10, 1)\n"
     ]
    },
    {
     "name": "stdout",
     "output_type": "stream",
     "text": [
      "............................."
     ]
    },
    {
     "name": "stderr",
     "output_type": "stream",
     "text": [
      "\n",
      "================\n",
      "h = 10.0\n",
      "Initializing MC...\n",
      "Warming up...\n"
     ]
    },
    {
     "name": "stdout",
     "output_type": "stream",
     "text": [
      ".\n",
      "================\n",
      "finish\n",
      "Output results into 'data/magnetism2/t8.500015_J-0.20000000000000018/data.dat'\n"
     ]
    },
    {
     "name": "stderr",
     "output_type": "stream",
     "text": [
      "  obtained data shape: (10, 1)\n"
     ]
    },
    {
     "name": "stdout",
     "output_type": "stream",
     "text": [
      "............................."
     ]
    },
    {
     "name": "stderr",
     "output_type": "stream",
     "text": [
      "\n",
      "================\n",
      "h = 10.0\n",
      "Initializing MC...\n",
      "Warming up...\n"
     ]
    },
    {
     "name": "stdout",
     "output_type": "stream",
     "text": [
      ".\n",
      "================\n",
      "finish\n",
      "Output results into 'data/magnetism2/t8.7500125_J-0.20000000000000018/data.dat'\n"
     ]
    },
    {
     "name": "stderr",
     "output_type": "stream",
     "text": [
      "  obtained data shape: (10, 1)\n"
     ]
    },
    {
     "name": "stdout",
     "output_type": "stream",
     "text": [
      "............................."
     ]
    },
    {
     "name": "stderr",
     "output_type": "stream",
     "text": [
      "\n",
      "================\n",
      "h = 10.0\n",
      "Initializing MC...\n",
      "Warming up...\n"
     ]
    },
    {
     "name": "stdout",
     "output_type": "stream",
     "text": [
      ".\n",
      "================\n",
      "finish\n",
      "Output results into 'data/magnetism2/t9.00001_J-0.20000000000000018/data.dat'\n"
     ]
    },
    {
     "name": "stderr",
     "output_type": "stream",
     "text": [
      "  obtained data shape: (10, 1)\n"
     ]
    },
    {
     "name": "stdout",
     "output_type": "stream",
     "text": [
      "............................."
     ]
    },
    {
     "name": "stderr",
     "output_type": "stream",
     "text": [
      "\n",
      "================\n",
      "h = 10.0\n",
      "Initializing MC...\n",
      "Warming up...\n"
     ]
    },
    {
     "name": "stdout",
     "output_type": "stream",
     "text": [
      ".\n",
      "================\n",
      "finish\n",
      "Output results into 'data/magnetism2/t9.2500075_J-0.20000000000000018/data.dat'\n"
     ]
    },
    {
     "name": "stderr",
     "output_type": "stream",
     "text": [
      "  obtained data shape: (10, 1)\n"
     ]
    },
    {
     "name": "stdout",
     "output_type": "stream",
     "text": [
      "............................."
     ]
    },
    {
     "name": "stderr",
     "output_type": "stream",
     "text": [
      "\n",
      "================\n",
      "h = 10.0\n",
      "Initializing MC...\n",
      "Warming up...\n"
     ]
    },
    {
     "name": "stdout",
     "output_type": "stream",
     "text": [
      ".\n",
      "================\n",
      "finish\n",
      "Output results into 'data/magnetism2/t9.500005_J-0.20000000000000018/data.dat'\n"
     ]
    },
    {
     "name": "stderr",
     "output_type": "stream",
     "text": [
      "  obtained data shape: (10, 1)\n"
     ]
    },
    {
     "name": "stdout",
     "output_type": "stream",
     "text": [
      "............................."
     ]
    },
    {
     "name": "stderr",
     "output_type": "stream",
     "text": [
      "\n",
      "================\n",
      "h = 10.0\n",
      "Initializing MC...\n",
      "Warming up...\n"
     ]
    },
    {
     "name": "stdout",
     "output_type": "stream",
     "text": [
      ".\n",
      "================\n",
      "finish\n",
      "Output results into 'data/magnetism2/t9.7500025_J-0.20000000000000018/data.dat'\n"
     ]
    },
    {
     "name": "stderr",
     "output_type": "stream",
     "text": [
      "  obtained data shape: (10, 1)\n"
     ]
    },
    {
     "name": "stdout",
     "output_type": "stream",
     "text": [
      "............................."
     ]
    },
    {
     "name": "stderr",
     "output_type": "stream",
     "text": [
      "\n",
      "================\n",
      "h = 10.0\n",
      "Initializing MC...\n",
      "/home/yakkuru/computer_physics/report/submit/report3/code/tool/supplement.py:42: RuntimeWarning: overflow encountered in exp\n",
      "  prob_dn.append(np.exp(2 * K * sum_sigma))\n",
      "/home/yakkuru/computer_physics/report/submit/report3/code/tool/supplement.py:41: RuntimeWarning: overflow encountered in exp\n",
      "  prob_up.append(np.exp(-2 * K * sum_sigma))\n",
      "Warming up...\n"
     ]
    },
    {
     "name": "stdout",
     "output_type": "stream",
     "text": [
      ".\n",
      "================\n",
      "finish\n",
      "Output results into 'data/magnetism2/t10.0_J-0.20000000000000018/data.dat'\n"
     ]
    },
    {
     "name": "stderr",
     "output_type": "stream",
     "text": [
      "/home/yakkuru/computer_physics/report/submit/report3/code/tool/measurement.py:46: RuntimeWarning: overflow encountered in exp\n",
      "  prob_field = np.exp(beta * h * measure(_mc))\n",
      "/home/yakkuru/computer_physics/report/submit/report3/code/tool/measurement.py:49: RuntimeWarning: invalid value encountered in multiply\n",
      "  return _mc.prob_up[num_up] * prob_field\n",
      "/home/yakkuru/computer_physics/report/submit/report3/code/tool/measurement.py:51: RuntimeWarning: invalid value encountered in multiply\n",
      "  return _mc.prob_dn[num_up] * prob_field\n",
      "  obtained data shape: (10, 1)\n"
     ]
    },
    {
     "name": "stdout",
     "output_type": "stream",
     "text": [
      "............................."
     ]
    },
    {
     "name": "stderr",
     "output_type": "stream",
     "text": [
      "\n",
      "================\n",
      "h = 10.0\n",
      "Initializing MC...\n",
      "Warming up...\n"
     ]
    },
    {
     "name": "stdout",
     "output_type": "stream",
     "text": [
      ".\n",
      "================\n",
      "finish\n",
      "Output results into 'data/magnetism2/t0.0001_J-0.30000000000000004/data.dat'\n"
     ]
    },
    {
     "name": "stderr",
     "output_type": "stream",
     "text": [
      "/home/yakkuru/computer_physics/report/submit/report3/code/tool/measurement.py:46: RuntimeWarning: overflow encountered in exp\n",
      "  prob_field = np.exp(beta * h * measure(_mc))\n",
      "  obtained data shape: (10, 1)\n"
     ]
    },
    {
     "name": "stdout",
     "output_type": "stream",
     "text": [
      "............................."
     ]
    },
    {
     "name": "stderr",
     "output_type": "stream",
     "text": [
      "\n",
      "================\n",
      "h = 10.0\n",
      "Initializing MC...\n",
      "Warming up...\n"
     ]
    },
    {
     "name": "stdout",
     "output_type": "stream",
     "text": [
      ".\n",
      "================\n",
      "finish\n",
      "Output results into 'data/magnetism2/t0.25009750000000003_J-0.30000000000000004/data.dat'\n"
     ]
    },
    {
     "name": "stderr",
     "output_type": "stream",
     "text": [
      "  obtained data shape: (10, 1)\n"
     ]
    },
    {
     "name": "stdout",
     "output_type": "stream",
     "text": [
      "............................."
     ]
    },
    {
     "name": "stderr",
     "output_type": "stream",
     "text": [
      "\n",
      "================\n",
      "h = 10.0\n",
      "Initializing MC...\n",
      "Warming up...\n"
     ]
    },
    {
     "name": "stdout",
     "output_type": "stream",
     "text": [
      ".\n",
      "================\n",
      "finish\n",
      "Output results into 'data/magnetism2/t0.5000950000000001_J-0.30000000000000004/data.dat'\n"
     ]
    },
    {
     "name": "stderr",
     "output_type": "stream",
     "text": [
      "  obtained data shape: (10, 1)\n"
     ]
    },
    {
     "name": "stdout",
     "output_type": "stream",
     "text": [
      "............................."
     ]
    },
    {
     "name": "stderr",
     "output_type": "stream",
     "text": [
      "\n",
      "================\n",
      "h = 10.0\n",
      "Initializing MC...\n",
      "Warming up...\n"
     ]
    },
    {
     "name": "stdout",
     "output_type": "stream",
     "text": [
      ".\n",
      "================\n",
      "finish\n",
      "Output results into 'data/magnetism2/t0.7500925_J-0.30000000000000004/data.dat'\n"
     ]
    },
    {
     "name": "stderr",
     "output_type": "stream",
     "text": [
      "  obtained data shape: (10, 1)\n"
     ]
    },
    {
     "name": "stdout",
     "output_type": "stream",
     "text": [
      "............................."
     ]
    },
    {
     "name": "stderr",
     "output_type": "stream",
     "text": [
      "\n",
      "================\n",
      "h = 10.0\n",
      "Initializing MC...\n",
      "Warming up...\n"
     ]
    },
    {
     "name": "stdout",
     "output_type": "stream",
     "text": [
      ".\n",
      "================\n",
      "finish\n",
      "Output results into 'data/magnetism2/t1.0000900000000001_J-0.30000000000000004/data.dat'\n"
     ]
    },
    {
     "name": "stderr",
     "output_type": "stream",
     "text": [
      "  obtained data shape: (10, 1)\n"
     ]
    },
    {
     "name": "stdout",
     "output_type": "stream",
     "text": [
      "............................."
     ]
    },
    {
     "name": "stderr",
     "output_type": "stream",
     "text": [
      "\n",
      "================\n",
      "h = 10.0\n",
      "Initializing MC...\n",
      "Warming up...\n"
     ]
    },
    {
     "name": "stdout",
     "output_type": "stream",
     "text": [
      ".\n",
      "================\n",
      "finish\n",
      "Output results into 'data/magnetism2/t1.2500875_J-0.30000000000000004/data.dat'\n"
     ]
    },
    {
     "name": "stderr",
     "output_type": "stream",
     "text": [
      "  obtained data shape: (10, 1)\n"
     ]
    },
    {
     "name": "stdout",
     "output_type": "stream",
     "text": [
      "............................."
     ]
    },
    {
     "name": "stderr",
     "output_type": "stream",
     "text": [
      "\n",
      "================\n",
      "h = 10.0\n",
      "Initializing MC...\n",
      "Warming up...\n"
     ]
    },
    {
     "name": "stdout",
     "output_type": "stream",
     "text": [
      ".\n",
      "================\n",
      "finish\n",
      "Output results into 'data/magnetism2/t1.5000850000000001_J-0.30000000000000004/data.dat'\n"
     ]
    },
    {
     "name": "stderr",
     "output_type": "stream",
     "text": [
      "  obtained data shape: (10, 1)\n"
     ]
    },
    {
     "name": "stdout",
     "output_type": "stream",
     "text": [
      "............................."
     ]
    },
    {
     "name": "stderr",
     "output_type": "stream",
     "text": [
      "\n",
      "================\n",
      "h = 10.0\n",
      "Initializing MC...\n",
      "Warming up...\n"
     ]
    },
    {
     "name": "stdout",
     "output_type": "stream",
     "text": [
      ".\n",
      "================\n",
      "finish\n",
      "Output results into 'data/magnetism2/t1.7500825_J-0.30000000000000004/data.dat'\n"
     ]
    },
    {
     "name": "stderr",
     "output_type": "stream",
     "text": [
      "  obtained data shape: (10, 1)\n"
     ]
    },
    {
     "name": "stdout",
     "output_type": "stream",
     "text": [
      "............................."
     ]
    },
    {
     "name": "stderr",
     "output_type": "stream",
     "text": [
      "\n",
      "================\n",
      "h = 10.0\n",
      "Initializing MC...\n",
      "Warming up...\n"
     ]
    },
    {
     "name": "stdout",
     "output_type": "stream",
     "text": [
      ".\n",
      "================\n",
      "finish\n",
      "Output results into 'data/magnetism2/t2.00008_J-0.30000000000000004/data.dat'\n"
     ]
    },
    {
     "name": "stderr",
     "output_type": "stream",
     "text": [
      "  obtained data shape: (10, 1)\n"
     ]
    },
    {
     "name": "stdout",
     "output_type": "stream",
     "text": [
      "............................."
     ]
    },
    {
     "name": "stderr",
     "output_type": "stream",
     "text": [
      "\n",
      "================\n",
      "h = 10.0\n",
      "Initializing MC...\n",
      "Warming up...\n"
     ]
    },
    {
     "name": "stdout",
     "output_type": "stream",
     "text": [
      ".\n",
      "================\n",
      "finish\n",
      "Output results into 'data/magnetism2/t2.2500775_J-0.30000000000000004/data.dat'\n"
     ]
    },
    {
     "name": "stderr",
     "output_type": "stream",
     "text": [
      "  obtained data shape: (10, 1)\n"
     ]
    },
    {
     "name": "stdout",
     "output_type": "stream",
     "text": [
      "............................."
     ]
    },
    {
     "name": "stderr",
     "output_type": "stream",
     "text": [
      "\n",
      "================\n",
      "h = 10.0\n",
      "Initializing MC...\n",
      "Warming up...\n"
     ]
    },
    {
     "name": "stdout",
     "output_type": "stream",
     "text": [
      ".\n",
      "================\n",
      "finish\n",
      "Output results into 'data/magnetism2/t2.5000750000000003_J-0.30000000000000004/data.dat'\n"
     ]
    },
    {
     "name": "stderr",
     "output_type": "stream",
     "text": [
      "  obtained data shape: (10, 1)\n"
     ]
    },
    {
     "name": "stdout",
     "output_type": "stream",
     "text": [
      "............................."
     ]
    },
    {
     "name": "stderr",
     "output_type": "stream",
     "text": [
      "\n",
      "================\n",
      "h = 10.0\n",
      "Initializing MC...\n",
      "Warming up...\n"
     ]
    },
    {
     "name": "stdout",
     "output_type": "stream",
     "text": [
      ".\n",
      "================\n",
      "finish\n",
      "Output results into 'data/magnetism2/t2.7500725000000004_J-0.30000000000000004/data.dat'\n"
     ]
    },
    {
     "name": "stderr",
     "output_type": "stream",
     "text": [
      "  obtained data shape: (10, 1)\n"
     ]
    },
    {
     "name": "stdout",
     "output_type": "stream",
     "text": [
      "............................."
     ]
    },
    {
     "name": "stderr",
     "output_type": "stream",
     "text": [
      "\n",
      "================\n",
      "h = 10.0\n",
      "Initializing MC...\n",
      "Warming up...\n"
     ]
    },
    {
     "name": "stdout",
     "output_type": "stream",
     "text": [
      ".\n",
      "================\n",
      "finish\n",
      "Output results into 'data/magnetism2/t3.0000700000000005_J-0.30000000000000004/data.dat'\n"
     ]
    },
    {
     "name": "stderr",
     "output_type": "stream",
     "text": [
      "  obtained data shape: (10, 1)\n"
     ]
    },
    {
     "name": "stdout",
     "output_type": "stream",
     "text": [
      "............................."
     ]
    },
    {
     "name": "stderr",
     "output_type": "stream",
     "text": [
      "\n",
      "================\n",
      "h = 10.0\n",
      "Initializing MC...\n",
      "Warming up...\n"
     ]
    },
    {
     "name": "stdout",
     "output_type": "stream",
     "text": [
      ".\n",
      "================\n",
      "finish\n",
      "Output results into 'data/magnetism2/t3.2500675000000006_J-0.30000000000000004/data.dat'\n"
     ]
    },
    {
     "name": "stderr",
     "output_type": "stream",
     "text": [
      "  obtained data shape: (10, 1)\n"
     ]
    },
    {
     "name": "stdout",
     "output_type": "stream",
     "text": [
      "............................."
     ]
    },
    {
     "name": "stderr",
     "output_type": "stream",
     "text": [
      "\n",
      "================\n",
      "h = 10.0\n",
      "Initializing MC...\n",
      "Warming up...\n"
     ]
    },
    {
     "name": "stdout",
     "output_type": "stream",
     "text": [
      ".\n",
      "================\n",
      "finish\n",
      "Output results into 'data/magnetism2/t3.500065_J-0.30000000000000004/data.dat'\n"
     ]
    },
    {
     "name": "stderr",
     "output_type": "stream",
     "text": [
      "  obtained data shape: (10, 1)\n"
     ]
    },
    {
     "name": "stdout",
     "output_type": "stream",
     "text": [
      "............................."
     ]
    },
    {
     "name": "stderr",
     "output_type": "stream",
     "text": [
      "\n",
      "================\n",
      "h = 10.0\n",
      "Initializing MC...\n",
      "Warming up...\n"
     ]
    },
    {
     "name": "stdout",
     "output_type": "stream",
     "text": [
      ".\n",
      "================\n",
      "finish\n",
      "Output results into 'data/magnetism2/t3.7500625000000003_J-0.30000000000000004/data.dat'\n"
     ]
    },
    {
     "name": "stderr",
     "output_type": "stream",
     "text": [
      "  obtained data shape: (10, 1)\n"
     ]
    },
    {
     "name": "stdout",
     "output_type": "stream",
     "text": [
      "............................."
     ]
    },
    {
     "name": "stderr",
     "output_type": "stream",
     "text": [
      "\n",
      "================\n",
      "h = 10.0\n",
      "Initializing MC...\n",
      "Warming up...\n"
     ]
    },
    {
     "name": "stdout",
     "output_type": "stream",
     "text": [
      ".\n",
      "================\n",
      "finish\n",
      "Output results into 'data/magnetism2/t4.00006_J-0.30000000000000004/data.dat'\n"
     ]
    },
    {
     "name": "stderr",
     "output_type": "stream",
     "text": [
      "  obtained data shape: (10, 1)\n"
     ]
    },
    {
     "name": "stdout",
     "output_type": "stream",
     "text": [
      "............................."
     ]
    },
    {
     "name": "stderr",
     "output_type": "stream",
     "text": [
      "\n",
      "================\n",
      "h = 10.0\n",
      "Initializing MC...\n",
      "Warming up...\n"
     ]
    },
    {
     "name": "stdout",
     "output_type": "stream",
     "text": [
      ".\n",
      "================\n",
      "finish\n",
      "Output results into 'data/magnetism2/t4.2500575_J-0.30000000000000004/data.dat'\n"
     ]
    },
    {
     "name": "stderr",
     "output_type": "stream",
     "text": [
      "  obtained data shape: (10, 1)\n"
     ]
    },
    {
     "name": "stdout",
     "output_type": "stream",
     "text": [
      "............................."
     ]
    },
    {
     "name": "stderr",
     "output_type": "stream",
     "text": [
      "\n",
      "================\n",
      "h = 10.0\n",
      "Initializing MC...\n",
      "Warming up...\n"
     ]
    },
    {
     "name": "stdout",
     "output_type": "stream",
     "text": [
      ".\n",
      "================\n",
      "finish\n",
      "Output results into 'data/magnetism2/t4.500055_J-0.30000000000000004/data.dat'\n"
     ]
    },
    {
     "name": "stderr",
     "output_type": "stream",
     "text": [
      "  obtained data shape: (10, 1)\n"
     ]
    },
    {
     "name": "stdout",
     "output_type": "stream",
     "text": [
      "............................."
     ]
    },
    {
     "name": "stderr",
     "output_type": "stream",
     "text": [
      "\n",
      "================\n",
      "h = 10.0\n",
      "Initializing MC...\n",
      "Warming up...\n"
     ]
    },
    {
     "name": "stdout",
     "output_type": "stream",
     "text": [
      ".\n",
      "================\n",
      "finish\n",
      "Output results into 'data/magnetism2/t4.7500525_J-0.30000000000000004/data.dat'\n"
     ]
    },
    {
     "name": "stderr",
     "output_type": "stream",
     "text": [
      "  obtained data shape: (10, 1)\n"
     ]
    },
    {
     "name": "stdout",
     "output_type": "stream",
     "text": [
      "............................."
     ]
    },
    {
     "name": "stderr",
     "output_type": "stream",
     "text": [
      "\n",
      "================\n",
      "h = 10.0\n",
      "Initializing MC...\n",
      "Warming up...\n"
     ]
    },
    {
     "name": "stdout",
     "output_type": "stream",
     "text": [
      ".\n",
      "================\n",
      "finish\n",
      "Output results into 'data/magnetism2/t5.00005_J-0.30000000000000004/data.dat'\n"
     ]
    },
    {
     "name": "stderr",
     "output_type": "stream",
     "text": [
      "  obtained data shape: (10, 1)\n"
     ]
    },
    {
     "name": "stdout",
     "output_type": "stream",
     "text": [
      "............................."
     ]
    },
    {
     "name": "stderr",
     "output_type": "stream",
     "text": [
      "\n",
      "================\n",
      "h = 10.0\n",
      "Initializing MC...\n",
      "Warming up...\n"
     ]
    },
    {
     "name": "stdout",
     "output_type": "stream",
     "text": [
      ".\n",
      "================\n",
      "finish\n",
      "Output results into 'data/magnetism2/t5.2500475_J-0.30000000000000004/data.dat'\n"
     ]
    },
    {
     "name": "stderr",
     "output_type": "stream",
     "text": [
      "  obtained data shape: (10, 1)\n"
     ]
    },
    {
     "name": "stdout",
     "output_type": "stream",
     "text": [
      "............................."
     ]
    },
    {
     "name": "stderr",
     "output_type": "stream",
     "text": [
      "\n",
      "================\n",
      "h = 10.0\n",
      "Initializing MC...\n",
      "Warming up...\n"
     ]
    },
    {
     "name": "stdout",
     "output_type": "stream",
     "text": [
      ".\n",
      "================\n",
      "finish\n",
      "Output results into 'data/magnetism2/t5.500045_J-0.30000000000000004/data.dat'\n"
     ]
    },
    {
     "name": "stderr",
     "output_type": "stream",
     "text": [
      "  obtained data shape: (10, 1)\n"
     ]
    },
    {
     "name": "stdout",
     "output_type": "stream",
     "text": [
      "............................."
     ]
    },
    {
     "name": "stderr",
     "output_type": "stream",
     "text": [
      "\n",
      "================\n",
      "h = 10.0\n",
      "Initializing MC...\n",
      "Warming up...\n"
     ]
    },
    {
     "name": "stdout",
     "output_type": "stream",
     "text": [
      ".\n",
      "================\n",
      "finish\n",
      "Output results into 'data/magnetism2/t5.7500425_J-0.30000000000000004/data.dat'\n"
     ]
    },
    {
     "name": "stderr",
     "output_type": "stream",
     "text": [
      "  obtained data shape: (10, 1)\n"
     ]
    },
    {
     "name": "stdout",
     "output_type": "stream",
     "text": [
      "............................."
     ]
    },
    {
     "name": "stderr",
     "output_type": "stream",
     "text": [
      "\n",
      "================\n",
      "h = 10.0\n",
      "Initializing MC...\n",
      "Warming up...\n"
     ]
    },
    {
     "name": "stdout",
     "output_type": "stream",
     "text": [
      ".\n",
      "================\n",
      "finish\n",
      "Output results into 'data/magnetism2/t6.00004_J-0.30000000000000004/data.dat'\n"
     ]
    },
    {
     "name": "stderr",
     "output_type": "stream",
     "text": [
      "  obtained data shape: (10, 1)\n"
     ]
    },
    {
     "name": "stdout",
     "output_type": "stream",
     "text": [
      "............................."
     ]
    },
    {
     "name": "stderr",
     "output_type": "stream",
     "text": [
      "\n",
      "================\n",
      "h = 10.0\n",
      "Initializing MC...\n",
      "Warming up...\n"
     ]
    },
    {
     "name": "stdout",
     "output_type": "stream",
     "text": [
      ".\n",
      "================\n",
      "finish\n",
      "Output results into 'data/magnetism2/t6.2500375_J-0.30000000000000004/data.dat'\n"
     ]
    },
    {
     "name": "stderr",
     "output_type": "stream",
     "text": [
      "  obtained data shape: (10, 1)\n"
     ]
    },
    {
     "name": "stdout",
     "output_type": "stream",
     "text": [
      "............................."
     ]
    },
    {
     "name": "stderr",
     "output_type": "stream",
     "text": [
      "\n",
      "================\n",
      "h = 10.0\n",
      "Initializing MC...\n",
      "Warming up...\n"
     ]
    },
    {
     "name": "stdout",
     "output_type": "stream",
     "text": [
      ".\n",
      "================\n",
      "finish\n",
      "Output results into 'data/magnetism2/t6.5000350000000005_J-0.30000000000000004/data.dat'\n"
     ]
    },
    {
     "name": "stderr",
     "output_type": "stream",
     "text": [
      "  obtained data shape: (10, 1)\n"
     ]
    },
    {
     "name": "stdout",
     "output_type": "stream",
     "text": [
      "............................."
     ]
    },
    {
     "name": "stderr",
     "output_type": "stream",
     "text": [
      "\n",
      "================\n",
      "h = 10.0\n",
      "Initializing MC...\n",
      "Warming up...\n"
     ]
    },
    {
     "name": "stdout",
     "output_type": "stream",
     "text": [
      ".\n",
      "================\n",
      "finish\n",
      "Output results into 'data/magnetism2/t6.7500325_J-0.30000000000000004/data.dat'\n"
     ]
    },
    {
     "name": "stderr",
     "output_type": "stream",
     "text": [
      "  obtained data shape: (10, 1)\n"
     ]
    },
    {
     "name": "stdout",
     "output_type": "stream",
     "text": [
      "............................."
     ]
    },
    {
     "name": "stderr",
     "output_type": "stream",
     "text": [
      "\n",
      "================\n",
      "h = 10.0\n",
      "Initializing MC...\n",
      "Warming up...\n"
     ]
    },
    {
     "name": "stdout",
     "output_type": "stream",
     "text": [
      ".\n",
      "================\n",
      "finish\n",
      "Output results into 'data/magnetism2/t7.00003_J-0.30000000000000004/data.dat'\n"
     ]
    },
    {
     "name": "stderr",
     "output_type": "stream",
     "text": [
      "  obtained data shape: (10, 1)\n"
     ]
    },
    {
     "name": "stdout",
     "output_type": "stream",
     "text": [
      "............................."
     ]
    },
    {
     "name": "stderr",
     "output_type": "stream",
     "text": [
      "\n",
      "================\n",
      "h = 10.0\n",
      "Initializing MC...\n",
      "Warming up...\n"
     ]
    },
    {
     "name": "stdout",
     "output_type": "stream",
     "text": [
      ".\n",
      "================\n",
      "finish\n",
      "Output results into 'data/magnetism2/t7.2500275_J-0.30000000000000004/data.dat'\n"
     ]
    },
    {
     "name": "stderr",
     "output_type": "stream",
     "text": [
      "  obtained data shape: (10, 1)\n"
     ]
    },
    {
     "name": "stdout",
     "output_type": "stream",
     "text": [
      "............................."
     ]
    },
    {
     "name": "stderr",
     "output_type": "stream",
     "text": [
      "\n",
      "================\n",
      "h = 10.0\n",
      "Initializing MC...\n",
      "Warming up...\n"
     ]
    },
    {
     "name": "stdout",
     "output_type": "stream",
     "text": [
      ".\n",
      "================\n",
      "finish\n",
      "Output results into 'data/magnetism2/t7.500025_J-0.30000000000000004/data.dat'\n"
     ]
    },
    {
     "name": "stderr",
     "output_type": "stream",
     "text": [
      "  obtained data shape: (10, 1)\n"
     ]
    },
    {
     "name": "stdout",
     "output_type": "stream",
     "text": [
      "............................."
     ]
    },
    {
     "name": "stderr",
     "output_type": "stream",
     "text": [
      "\n",
      "================\n",
      "h = 10.0\n",
      "Initializing MC...\n",
      "Warming up...\n"
     ]
    },
    {
     "name": "stdout",
     "output_type": "stream",
     "text": [
      ".\n",
      "================\n",
      "finish\n",
      "Output results into 'data/magnetism2/t7.7500225_J-0.30000000000000004/data.dat'\n"
     ]
    },
    {
     "name": "stderr",
     "output_type": "stream",
     "text": [
      "  obtained data shape: (10, 1)\n"
     ]
    },
    {
     "name": "stdout",
     "output_type": "stream",
     "text": [
      "............................."
     ]
    },
    {
     "name": "stderr",
     "output_type": "stream",
     "text": [
      "\n",
      "================\n",
      "h = 10.0\n",
      "Initializing MC...\n",
      "Warming up...\n"
     ]
    },
    {
     "name": "stdout",
     "output_type": "stream",
     "text": [
      ".\n",
      "================\n",
      "finish\n",
      "Output results into 'data/magnetism2/t8.000020000000001_J-0.30000000000000004/data.dat'\n"
     ]
    },
    {
     "name": "stderr",
     "output_type": "stream",
     "text": [
      "  obtained data shape: (10, 1)\n"
     ]
    },
    {
     "name": "stdout",
     "output_type": "stream",
     "text": [
      "............................."
     ]
    },
    {
     "name": "stderr",
     "output_type": "stream",
     "text": [
      "\n",
      "================\n",
      "h = 10.0\n",
      "Initializing MC...\n",
      "Warming up...\n"
     ]
    },
    {
     "name": "stdout",
     "output_type": "stream",
     "text": [
      ".\n",
      "================\n",
      "finish\n",
      "Output results into 'data/magnetism2/t8.2500175_J-0.30000000000000004/data.dat'\n"
     ]
    },
    {
     "name": "stderr",
     "output_type": "stream",
     "text": [
      "  obtained data shape: (10, 1)\n"
     ]
    },
    {
     "name": "stdout",
     "output_type": "stream",
     "text": [
      "............................."
     ]
    },
    {
     "name": "stderr",
     "output_type": "stream",
     "text": [
      "\n",
      "================\n",
      "h = 10.0\n",
      "Initializing MC...\n",
      "Warming up...\n"
     ]
    },
    {
     "name": "stdout",
     "output_type": "stream",
     "text": [
      ".\n",
      "================\n",
      "finish\n",
      "Output results into 'data/magnetism2/t8.500015_J-0.30000000000000004/data.dat'\n"
     ]
    },
    {
     "name": "stderr",
     "output_type": "stream",
     "text": [
      "  obtained data shape: (10, 1)\n"
     ]
    },
    {
     "name": "stdout",
     "output_type": "stream",
     "text": [
      "............................."
     ]
    },
    {
     "name": "stderr",
     "output_type": "stream",
     "text": [
      "\n",
      "================\n",
      "h = 10.0\n",
      "Initializing MC...\n",
      "Warming up...\n"
     ]
    },
    {
     "name": "stdout",
     "output_type": "stream",
     "text": [
      ".\n",
      "================\n",
      "finish\n",
      "Output results into 'data/magnetism2/t8.7500125_J-0.30000000000000004/data.dat'\n"
     ]
    },
    {
     "name": "stderr",
     "output_type": "stream",
     "text": [
      "  obtained data shape: (10, 1)\n"
     ]
    },
    {
     "name": "stdout",
     "output_type": "stream",
     "text": [
      "............................."
     ]
    },
    {
     "name": "stderr",
     "output_type": "stream",
     "text": [
      "\n",
      "================\n",
      "h = 10.0\n",
      "Initializing MC...\n",
      "Warming up...\n"
     ]
    },
    {
     "name": "stdout",
     "output_type": "stream",
     "text": [
      ".\n",
      "================\n",
      "finish\n",
      "Output results into 'data/magnetism2/t9.00001_J-0.30000000000000004/data.dat'\n"
     ]
    },
    {
     "name": "stderr",
     "output_type": "stream",
     "text": [
      "  obtained data shape: (10, 1)\n"
     ]
    },
    {
     "name": "stdout",
     "output_type": "stream",
     "text": [
      "............................."
     ]
    },
    {
     "name": "stderr",
     "output_type": "stream",
     "text": [
      "\n",
      "================\n",
      "h = 10.0\n",
      "Initializing MC...\n",
      "Warming up...\n"
     ]
    },
    {
     "name": "stdout",
     "output_type": "stream",
     "text": [
      ".\n",
      "================\n",
      "finish\n",
      "Output results into 'data/magnetism2/t9.2500075_J-0.30000000000000004/data.dat'\n"
     ]
    },
    {
     "name": "stderr",
     "output_type": "stream",
     "text": [
      "  obtained data shape: (10, 1)\n"
     ]
    },
    {
     "name": "stdout",
     "output_type": "stream",
     "text": [
      "............................."
     ]
    },
    {
     "name": "stderr",
     "output_type": "stream",
     "text": [
      "\n",
      "================\n",
      "h = 10.0\n",
      "Initializing MC...\n",
      "Warming up...\n"
     ]
    },
    {
     "name": "stdout",
     "output_type": "stream",
     "text": [
      ".\n",
      "================\n",
      "finish\n",
      "Output results into 'data/magnetism2/t9.500005_J-0.30000000000000004/data.dat'\n"
     ]
    },
    {
     "name": "stderr",
     "output_type": "stream",
     "text": [
      "  obtained data shape: (10, 1)\n"
     ]
    },
    {
     "name": "stdout",
     "output_type": "stream",
     "text": [
      "............................."
     ]
    },
    {
     "name": "stderr",
     "output_type": "stream",
     "text": [
      "\n",
      "================\n",
      "h = 10.0\n",
      "Initializing MC...\n",
      "Warming up...\n"
     ]
    },
    {
     "name": "stdout",
     "output_type": "stream",
     "text": [
      ".\n",
      "================\n",
      "finish\n",
      "Output results into 'data/magnetism2/t9.7500025_J-0.30000000000000004/data.dat'\n"
     ]
    },
    {
     "name": "stderr",
     "output_type": "stream",
     "text": [
      "  obtained data shape: (10, 1)\n"
     ]
    },
    {
     "name": "stdout",
     "output_type": "stream",
     "text": [
      "............................."
     ]
    },
    {
     "name": "stderr",
     "output_type": "stream",
     "text": [
      "\n",
      "================\n",
      "h = 10.0\n",
      "Initializing MC...\n",
      "/home/yakkuru/computer_physics/report/submit/report3/code/tool/supplement.py:42: RuntimeWarning: overflow encountered in exp\n",
      "  prob_dn.append(np.exp(2 * K * sum_sigma))\n",
      "/home/yakkuru/computer_physics/report/submit/report3/code/tool/supplement.py:41: RuntimeWarning: overflow encountered in exp\n",
      "  prob_up.append(np.exp(-2 * K * sum_sigma))\n",
      "Warming up...\n"
     ]
    },
    {
     "name": "stdout",
     "output_type": "stream",
     "text": [
      ".\n",
      "================\n",
      "finish\n",
      "Output results into 'data/magnetism2/t10.0_J-0.30000000000000004/data.dat'\n"
     ]
    },
    {
     "name": "stderr",
     "output_type": "stream",
     "text": [
      "/home/yakkuru/computer_physics/report/submit/report3/code/tool/measurement.py:46: RuntimeWarning: overflow encountered in exp\n",
      "  prob_field = np.exp(beta * h * measure(_mc))\n",
      "/home/yakkuru/computer_physics/report/submit/report3/code/tool/measurement.py:49: RuntimeWarning: invalid value encountered in multiply\n",
      "  return _mc.prob_up[num_up] * prob_field\n",
      "/home/yakkuru/computer_physics/report/submit/report3/code/tool/measurement.py:51: RuntimeWarning: invalid value encountered in multiply\n",
      "  return _mc.prob_dn[num_up] * prob_field\n",
      "  obtained data shape: (10, 1)\n"
     ]
    },
    {
     "name": "stdout",
     "output_type": "stream",
     "text": [
      "............................."
     ]
    },
    {
     "name": "stderr",
     "output_type": "stream",
     "text": [
      "\n",
      "================\n",
      "h = 10.0\n",
      "Initializing MC...\n",
      "Warming up...\n"
     ]
    },
    {
     "name": "stdout",
     "output_type": "stream",
     "text": [
      ".\n",
      "================\n",
      "finish\n",
      "Output results into 'data/magnetism2/t0.0001_J-0.40000000000000013/data.dat'\n"
     ]
    },
    {
     "name": "stderr",
     "output_type": "stream",
     "text": [
      "/home/yakkuru/computer_physics/report/submit/report3/code/tool/measurement.py:46: RuntimeWarning: overflow encountered in exp\n",
      "  prob_field = np.exp(beta * h * measure(_mc))\n",
      "  obtained data shape: (10, 1)\n"
     ]
    },
    {
     "name": "stdout",
     "output_type": "stream",
     "text": [
      ".."
     ]
    },
    {
     "name": "stderr",
     "output_type": "stream",
     "text": [
      "/home/yakkuru/computer_physics/report/submit/report3/code/tool/measurement.py:49: RuntimeWarning: overflow encountered in multiply\n",
      "  return _mc.prob_up[num_up] * prob_field\n"
     ]
    },
    {
     "name": "stdout",
     "output_type": "stream",
     "text": [
      "..........................."
     ]
    },
    {
     "name": "stderr",
     "output_type": "stream",
     "text": [
      "\n",
      "================\n",
      "h = 10.0\n",
      "Initializing MC...\n",
      "Warming up...\n"
     ]
    },
    {
     "name": "stdout",
     "output_type": "stream",
     "text": [
      ".\n",
      "================\n",
      "finish\n",
      "Output results into 'data/magnetism2/t0.25009750000000003_J-0.40000000000000013/data.dat'\n"
     ]
    },
    {
     "name": "stderr",
     "output_type": "stream",
     "text": [
      "  obtained data shape: (10, 1)\n"
     ]
    },
    {
     "name": "stdout",
     "output_type": "stream",
     "text": [
      "............................."
     ]
    },
    {
     "name": "stderr",
     "output_type": "stream",
     "text": [
      "\n",
      "================\n",
      "h = 10.0\n",
      "Initializing MC...\n",
      "Warming up...\n"
     ]
    },
    {
     "name": "stdout",
     "output_type": "stream",
     "text": [
      ".\n",
      "================\n",
      "finish\n",
      "Output results into 'data/magnetism2/t0.5000950000000001_J-0.40000000000000013/data.dat'\n"
     ]
    },
    {
     "name": "stderr",
     "output_type": "stream",
     "text": [
      "  obtained data shape: (10, 1)\n"
     ]
    },
    {
     "name": "stdout",
     "output_type": "stream",
     "text": [
      "............................."
     ]
    },
    {
     "name": "stderr",
     "output_type": "stream",
     "text": [
      "\n",
      "================\n",
      "h = 10.0\n",
      "Initializing MC...\n",
      "Warming up...\n"
     ]
    },
    {
     "name": "stdout",
     "output_type": "stream",
     "text": [
      ".\n",
      "================\n",
      "finish\n",
      "Output results into 'data/magnetism2/t0.7500925_J-0.40000000000000013/data.dat'\n"
     ]
    },
    {
     "name": "stderr",
     "output_type": "stream",
     "text": [
      "  obtained data shape: (10, 1)\n"
     ]
    },
    {
     "name": "stdout",
     "output_type": "stream",
     "text": [
      "............................."
     ]
    },
    {
     "name": "stderr",
     "output_type": "stream",
     "text": [
      "\n",
      "================\n",
      "h = 10.0\n",
      "Initializing MC...\n",
      "Warming up...\n"
     ]
    },
    {
     "name": "stdout",
     "output_type": "stream",
     "text": [
      ".\n",
      "================\n",
      "finish\n",
      "Output results into 'data/magnetism2/t1.0000900000000001_J-0.40000000000000013/data.dat'\n"
     ]
    },
    {
     "name": "stderr",
     "output_type": "stream",
     "text": [
      "  obtained data shape: (10, 1)\n"
     ]
    },
    {
     "name": "stdout",
     "output_type": "stream",
     "text": [
      "............................."
     ]
    },
    {
     "name": "stderr",
     "output_type": "stream",
     "text": [
      "\n",
      "================\n",
      "h = 10.0\n",
      "Initializing MC...\n",
      "Warming up...\n"
     ]
    },
    {
     "name": "stdout",
     "output_type": "stream",
     "text": [
      ".\n",
      "================\n",
      "finish\n",
      "Output results into 'data/magnetism2/t1.2500875_J-0.40000000000000013/data.dat'\n"
     ]
    },
    {
     "name": "stderr",
     "output_type": "stream",
     "text": [
      "  obtained data shape: (10, 1)\n"
     ]
    },
    {
     "name": "stdout",
     "output_type": "stream",
     "text": [
      "............................."
     ]
    },
    {
     "name": "stderr",
     "output_type": "stream",
     "text": [
      "\n",
      "================\n",
      "h = 10.0\n",
      "Initializing MC...\n",
      "Warming up...\n"
     ]
    },
    {
     "name": "stdout",
     "output_type": "stream",
     "text": [
      ".\n",
      "================\n",
      "finish\n",
      "Output results into 'data/magnetism2/t1.5000850000000001_J-0.40000000000000013/data.dat'\n"
     ]
    },
    {
     "name": "stderr",
     "output_type": "stream",
     "text": [
      "  obtained data shape: (10, 1)\n"
     ]
    },
    {
     "name": "stdout",
     "output_type": "stream",
     "text": [
      "............................."
     ]
    },
    {
     "name": "stderr",
     "output_type": "stream",
     "text": [
      "\n",
      "================\n",
      "h = 10.0\n",
      "Initializing MC...\n",
      "Warming up...\n"
     ]
    },
    {
     "name": "stdout",
     "output_type": "stream",
     "text": [
      ".\n",
      "================\n",
      "finish\n",
      "Output results into 'data/magnetism2/t1.7500825_J-0.40000000000000013/data.dat'\n"
     ]
    },
    {
     "name": "stderr",
     "output_type": "stream",
     "text": [
      "  obtained data shape: (10, 1)\n"
     ]
    },
    {
     "name": "stdout",
     "output_type": "stream",
     "text": [
      "............................."
     ]
    },
    {
     "name": "stderr",
     "output_type": "stream",
     "text": [
      "\n",
      "================\n",
      "h = 10.0\n",
      "Initializing MC...\n",
      "Warming up...\n"
     ]
    },
    {
     "name": "stdout",
     "output_type": "stream",
     "text": [
      ".\n",
      "================\n",
      "finish\n",
      "Output results into 'data/magnetism2/t2.00008_J-0.40000000000000013/data.dat'\n"
     ]
    },
    {
     "name": "stderr",
     "output_type": "stream",
     "text": [
      "  obtained data shape: (10, 1)\n"
     ]
    },
    {
     "name": "stdout",
     "output_type": "stream",
     "text": [
      "............................."
     ]
    },
    {
     "name": "stderr",
     "output_type": "stream",
     "text": [
      "\n",
      "================\n",
      "h = 10.0\n",
      "Initializing MC...\n",
      "Warming up...\n"
     ]
    },
    {
     "name": "stdout",
     "output_type": "stream",
     "text": [
      ".\n",
      "================\n",
      "finish\n",
      "Output results into 'data/magnetism2/t2.2500775_J-0.40000000000000013/data.dat'\n"
     ]
    },
    {
     "name": "stderr",
     "output_type": "stream",
     "text": [
      "  obtained data shape: (10, 1)\n"
     ]
    },
    {
     "name": "stdout",
     "output_type": "stream",
     "text": [
      "............................."
     ]
    },
    {
     "name": "stderr",
     "output_type": "stream",
     "text": [
      "\n",
      "================\n",
      "h = 10.0\n",
      "Initializing MC...\n",
      "Warming up...\n"
     ]
    },
    {
     "name": "stdout",
     "output_type": "stream",
     "text": [
      ".\n",
      "================\n",
      "finish\n",
      "Output results into 'data/magnetism2/t2.5000750000000003_J-0.40000000000000013/data.dat'\n"
     ]
    },
    {
     "name": "stderr",
     "output_type": "stream",
     "text": [
      "  obtained data shape: (10, 1)\n"
     ]
    },
    {
     "name": "stdout",
     "output_type": "stream",
     "text": [
      "............................."
     ]
    },
    {
     "name": "stderr",
     "output_type": "stream",
     "text": [
      "\n",
      "================\n",
      "h = 10.0\n",
      "Initializing MC...\n",
      "Warming up...\n"
     ]
    },
    {
     "name": "stdout",
     "output_type": "stream",
     "text": [
      ".\n",
      "================\n",
      "finish\n",
      "Output results into 'data/magnetism2/t2.7500725000000004_J-0.40000000000000013/data.dat'\n"
     ]
    },
    {
     "name": "stderr",
     "output_type": "stream",
     "text": [
      "  obtained data shape: (10, 1)\n"
     ]
    },
    {
     "name": "stdout",
     "output_type": "stream",
     "text": [
      "............................."
     ]
    },
    {
     "name": "stderr",
     "output_type": "stream",
     "text": [
      "\n",
      "================\n",
      "h = 10.0\n",
      "Initializing MC...\n",
      "Warming up...\n"
     ]
    },
    {
     "name": "stdout",
     "output_type": "stream",
     "text": [
      ".\n",
      "================\n",
      "finish\n",
      "Output results into 'data/magnetism2/t3.0000700000000005_J-0.40000000000000013/data.dat'\n"
     ]
    },
    {
     "name": "stderr",
     "output_type": "stream",
     "text": [
      "  obtained data shape: (10, 1)\n"
     ]
    },
    {
     "name": "stdout",
     "output_type": "stream",
     "text": [
      "............................."
     ]
    },
    {
     "name": "stderr",
     "output_type": "stream",
     "text": [
      "\n",
      "================\n",
      "h = 10.0\n",
      "Initializing MC...\n",
      "Warming up...\n"
     ]
    },
    {
     "name": "stdout",
     "output_type": "stream",
     "text": [
      ".\n",
      "================\n",
      "finish\n",
      "Output results into 'data/magnetism2/t3.2500675000000006_J-0.40000000000000013/data.dat'\n"
     ]
    },
    {
     "name": "stderr",
     "output_type": "stream",
     "text": [
      "  obtained data shape: (10, 1)\n"
     ]
    },
    {
     "name": "stdout",
     "output_type": "stream",
     "text": [
      "............................."
     ]
    },
    {
     "name": "stderr",
     "output_type": "stream",
     "text": [
      "\n",
      "================\n"
     ]
    },
    {
     "name": "stdout",
     "output_type": "stream",
     "text": [
      ".\n",
      "================\n",
      "finish\n",
      "Output results into 'data/magnetism2/t3.500065_J-0.40000000000000013/data.dat'\n"
     ]
    },
    {
     "name": "stderr",
     "output_type": "stream",
     "text": [
      "h = 10.0\n",
      "Initializing MC...\n",
      "Warming up...\n",
      "  obtained data shape: (10, 1)\n"
     ]
    },
    {
     "name": "stdout",
     "output_type": "stream",
     "text": [
      "............................."
     ]
    },
    {
     "name": "stderr",
     "output_type": "stream",
     "text": [
      "\n",
      "================\n",
      "h = 10.0\n",
      "Initializing MC...\n",
      "Warming up...\n"
     ]
    },
    {
     "name": "stdout",
     "output_type": "stream",
     "text": [
      ".\n",
      "================\n",
      "finish\n",
      "Output results into 'data/magnetism2/t3.7500625000000003_J-0.40000000000000013/data.dat'\n"
     ]
    },
    {
     "name": "stderr",
     "output_type": "stream",
     "text": [
      "  obtained data shape: (10, 1)\n"
     ]
    },
    {
     "name": "stdout",
     "output_type": "stream",
     "text": [
      "............................."
     ]
    },
    {
     "name": "stderr",
     "output_type": "stream",
     "text": [
      "\n",
      "================\n",
      "h = 10.0\n",
      "Initializing MC...\n",
      "Warming up...\n"
     ]
    },
    {
     "name": "stdout",
     "output_type": "stream",
     "text": [
      ".\n",
      "================\n",
      "finish\n",
      "Output results into 'data/magnetism2/t4.00006_J-0.40000000000000013/data.dat'\n"
     ]
    },
    {
     "name": "stderr",
     "output_type": "stream",
     "text": [
      "  obtained data shape: (10, 1)\n"
     ]
    },
    {
     "name": "stdout",
     "output_type": "stream",
     "text": [
      "............................."
     ]
    },
    {
     "name": "stderr",
     "output_type": "stream",
     "text": [
      "\n",
      "================\n",
      "h = 10.0\n",
      "Initializing MC...\n",
      "Warming up...\n"
     ]
    },
    {
     "name": "stdout",
     "output_type": "stream",
     "text": [
      ".\n",
      "================\n",
      "finish\n",
      "Output results into 'data/magnetism2/t4.2500575_J-0.40000000000000013/data.dat'\n"
     ]
    },
    {
     "name": "stderr",
     "output_type": "stream",
     "text": [
      "  obtained data shape: (10, 1)\n"
     ]
    },
    {
     "name": "stdout",
     "output_type": "stream",
     "text": [
      "............................."
     ]
    },
    {
     "name": "stderr",
     "output_type": "stream",
     "text": [
      "\n",
      "================\n",
      "h = 10.0\n",
      "Initializing MC...\n",
      "Warming up...\n"
     ]
    },
    {
     "name": "stdout",
     "output_type": "stream",
     "text": [
      ".\n",
      "================\n",
      "finish\n",
      "Output results into 'data/magnetism2/t4.500055_J-0.40000000000000013/data.dat'\n"
     ]
    },
    {
     "name": "stderr",
     "output_type": "stream",
     "text": [
      "  obtained data shape: (10, 1)\n"
     ]
    },
    {
     "name": "stdout",
     "output_type": "stream",
     "text": [
      "............................."
     ]
    },
    {
     "name": "stderr",
     "output_type": "stream",
     "text": [
      "\n",
      "================\n",
      "h = 10.0\n",
      "Initializing MC...\n",
      "Warming up...\n"
     ]
    },
    {
     "name": "stdout",
     "output_type": "stream",
     "text": [
      ".\n",
      "================\n",
      "finish\n",
      "Output results into 'data/magnetism2/t4.7500525_J-0.40000000000000013/data.dat'\n"
     ]
    },
    {
     "name": "stderr",
     "output_type": "stream",
     "text": [
      "  obtained data shape: (10, 1)\n"
     ]
    },
    {
     "name": "stdout",
     "output_type": "stream",
     "text": [
      "............................."
     ]
    },
    {
     "name": "stderr",
     "output_type": "stream",
     "text": [
      "\n",
      "================\n",
      "h = 10.0\n",
      "Initializing MC...\n",
      "Warming up...\n"
     ]
    },
    {
     "name": "stdout",
     "output_type": "stream",
     "text": [
      ".\n",
      "================\n",
      "finish\n",
      "Output results into 'data/magnetism2/t5.00005_J-0.40000000000000013/data.dat'\n"
     ]
    },
    {
     "name": "stderr",
     "output_type": "stream",
     "text": [
      "  obtained data shape: (10, 1)\n"
     ]
    },
    {
     "name": "stdout",
     "output_type": "stream",
     "text": [
      "............................."
     ]
    },
    {
     "name": "stderr",
     "output_type": "stream",
     "text": [
      "\n",
      "================\n",
      "h = 10.0\n",
      "Initializing MC...\n",
      "Warming up...\n"
     ]
    },
    {
     "name": "stdout",
     "output_type": "stream",
     "text": [
      ".\n",
      "================\n",
      "finish\n",
      "Output results into 'data/magnetism2/t5.2500475_J-0.40000000000000013/data.dat'\n"
     ]
    },
    {
     "name": "stderr",
     "output_type": "stream",
     "text": [
      "  obtained data shape: (10, 1)\n"
     ]
    },
    {
     "name": "stdout",
     "output_type": "stream",
     "text": [
      "............................."
     ]
    },
    {
     "name": "stderr",
     "output_type": "stream",
     "text": [
      "\n",
      "================\n",
      "h = 10.0\n",
      "Initializing MC...\n",
      "Warming up...\n"
     ]
    },
    {
     "name": "stdout",
     "output_type": "stream",
     "text": [
      ".\n",
      "================\n",
      "finish\n",
      "Output results into 'data/magnetism2/t5.500045_J-0.40000000000000013/data.dat'\n"
     ]
    },
    {
     "name": "stderr",
     "output_type": "stream",
     "text": [
      "  obtained data shape: (10, 1)\n"
     ]
    },
    {
     "name": "stdout",
     "output_type": "stream",
     "text": [
      "............................."
     ]
    },
    {
     "name": "stderr",
     "output_type": "stream",
     "text": [
      "\n",
      "================\n",
      "h = 10.0\n",
      "Initializing MC...\n",
      "Warming up...\n"
     ]
    },
    {
     "name": "stdout",
     "output_type": "stream",
     "text": [
      ".\n",
      "================\n",
      "finish\n",
      "Output results into 'data/magnetism2/t5.7500425_J-0.40000000000000013/data.dat'\n"
     ]
    },
    {
     "name": "stderr",
     "output_type": "stream",
     "text": [
      "  obtained data shape: (10, 1)\n"
     ]
    },
    {
     "name": "stdout",
     "output_type": "stream",
     "text": [
      "............................."
     ]
    },
    {
     "name": "stderr",
     "output_type": "stream",
     "text": [
      "\n",
      "================\n",
      "h = 10.0\n",
      "Initializing MC...\n",
      "Warming up...\n"
     ]
    },
    {
     "name": "stdout",
     "output_type": "stream",
     "text": [
      ".\n",
      "================\n",
      "finish\n",
      "Output results into 'data/magnetism2/t6.00004_J-0.40000000000000013/data.dat'\n"
     ]
    },
    {
     "name": "stderr",
     "output_type": "stream",
     "text": [
      "  obtained data shape: (10, 1)\n"
     ]
    },
    {
     "name": "stdout",
     "output_type": "stream",
     "text": [
      "............................."
     ]
    },
    {
     "name": "stderr",
     "output_type": "stream",
     "text": [
      "\n",
      "================\n",
      "h = 10.0\n",
      "Initializing MC...\n",
      "Warming up...\n"
     ]
    },
    {
     "name": "stdout",
     "output_type": "stream",
     "text": [
      ".\n",
      "================\n",
      "finish\n",
      "Output results into 'data/magnetism2/t6.2500375_J-0.40000000000000013/data.dat'\n"
     ]
    },
    {
     "name": "stderr",
     "output_type": "stream",
     "text": [
      "  obtained data shape: (10, 1)\n"
     ]
    },
    {
     "name": "stdout",
     "output_type": "stream",
     "text": [
      "............................."
     ]
    },
    {
     "name": "stderr",
     "output_type": "stream",
     "text": [
      "\n",
      "================\n",
      "h = 10.0\n",
      "Initializing MC...\n",
      "Warming up...\n"
     ]
    },
    {
     "name": "stdout",
     "output_type": "stream",
     "text": [
      ".\n",
      "================\n",
      "finish\n",
      "Output results into 'data/magnetism2/t6.5000350000000005_J-0.40000000000000013/data.dat'\n"
     ]
    },
    {
     "name": "stderr",
     "output_type": "stream",
     "text": [
      "  obtained data shape: (10, 1)\n"
     ]
    },
    {
     "name": "stdout",
     "output_type": "stream",
     "text": [
      "............................."
     ]
    },
    {
     "name": "stderr",
     "output_type": "stream",
     "text": [
      "\n",
      "================\n",
      "h = 10.0\n",
      "Initializing MC...\n",
      "Warming up...\n"
     ]
    },
    {
     "name": "stdout",
     "output_type": "stream",
     "text": [
      ".\n",
      "================\n",
      "finish\n",
      "Output results into 'data/magnetism2/t6.7500325_J-0.40000000000000013/data.dat'\n"
     ]
    },
    {
     "name": "stderr",
     "output_type": "stream",
     "text": [
      "  obtained data shape: (10, 1)\n"
     ]
    },
    {
     "name": "stdout",
     "output_type": "stream",
     "text": [
      "............................."
     ]
    },
    {
     "name": "stderr",
     "output_type": "stream",
     "text": [
      "\n",
      "================\n",
      "h = 10.0\n",
      "Initializing MC...\n",
      "Warming up...\n"
     ]
    },
    {
     "name": "stdout",
     "output_type": "stream",
     "text": [
      ".\n",
      "================\n",
      "finish\n",
      "Output results into 'data/magnetism2/t7.00003_J-0.40000000000000013/data.dat'\n"
     ]
    },
    {
     "name": "stderr",
     "output_type": "stream",
     "text": [
      "  obtained data shape: (10, 1)\n"
     ]
    },
    {
     "name": "stdout",
     "output_type": "stream",
     "text": [
      "............................."
     ]
    },
    {
     "name": "stderr",
     "output_type": "stream",
     "text": [
      "\n",
      "================\n",
      "h = 10.0\n",
      "Initializing MC...\n",
      "Warming up...\n"
     ]
    },
    {
     "name": "stdout",
     "output_type": "stream",
     "text": [
      ".\n",
      "================\n",
      "finish\n",
      "Output results into 'data/magnetism2/t7.2500275_J-0.40000000000000013/data.dat'\n"
     ]
    },
    {
     "name": "stderr",
     "output_type": "stream",
     "text": [
      "  obtained data shape: (10, 1)\n"
     ]
    },
    {
     "name": "stdout",
     "output_type": "stream",
     "text": [
      "............................."
     ]
    },
    {
     "name": "stderr",
     "output_type": "stream",
     "text": [
      "\n",
      "================\n",
      "h = 10.0\n",
      "Initializing MC...\n",
      "Warming up...\n"
     ]
    },
    {
     "name": "stdout",
     "output_type": "stream",
     "text": [
      ".\n",
      "================\n",
      "finish\n",
      "Output results into 'data/magnetism2/t7.500025_J-0.40000000000000013/data.dat'\n"
     ]
    },
    {
     "name": "stderr",
     "output_type": "stream",
     "text": [
      "  obtained data shape: (10, 1)\n"
     ]
    },
    {
     "name": "stdout",
     "output_type": "stream",
     "text": [
      "............................."
     ]
    },
    {
     "name": "stderr",
     "output_type": "stream",
     "text": [
      "\n",
      "================\n",
      "h = 10.0\n",
      "Initializing MC...\n",
      "Warming up...\n"
     ]
    },
    {
     "name": "stdout",
     "output_type": "stream",
     "text": [
      ".\n",
      "================\n",
      "finish\n",
      "Output results into 'data/magnetism2/t7.7500225_J-0.40000000000000013/data.dat'\n"
     ]
    },
    {
     "name": "stderr",
     "output_type": "stream",
     "text": [
      "  obtained data shape: (10, 1)\n"
     ]
    },
    {
     "name": "stdout",
     "output_type": "stream",
     "text": [
      "............................."
     ]
    },
    {
     "name": "stderr",
     "output_type": "stream",
     "text": [
      "\n",
      "================\n",
      "h = 10.0\n",
      "Initializing MC...\n",
      "Warming up...\n"
     ]
    },
    {
     "name": "stdout",
     "output_type": "stream",
     "text": [
      ".\n",
      "================\n",
      "finish\n",
      "Output results into 'data/magnetism2/t8.000020000000001_J-0.40000000000000013/data.dat'\n"
     ]
    },
    {
     "name": "stderr",
     "output_type": "stream",
     "text": [
      "  obtained data shape: (10, 1)\n"
     ]
    },
    {
     "name": "stdout",
     "output_type": "stream",
     "text": [
      "............................."
     ]
    },
    {
     "name": "stderr",
     "output_type": "stream",
     "text": [
      "\n",
      "================\n",
      "h = 10.0\n",
      "Initializing MC...\n",
      "Warming up...\n"
     ]
    },
    {
     "name": "stdout",
     "output_type": "stream",
     "text": [
      ".\n",
      "================\n",
      "finish\n",
      "Output results into 'data/magnetism2/t8.2500175_J-0.40000000000000013/data.dat'\n"
     ]
    },
    {
     "name": "stderr",
     "output_type": "stream",
     "text": [
      "  obtained data shape: (10, 1)\n"
     ]
    },
    {
     "name": "stdout",
     "output_type": "stream",
     "text": [
      "............................."
     ]
    },
    {
     "name": "stderr",
     "output_type": "stream",
     "text": [
      "\n",
      "================\n",
      "h = 10.0\n",
      "Initializing MC...\n",
      "Warming up...\n"
     ]
    },
    {
     "name": "stdout",
     "output_type": "stream",
     "text": [
      ".\n",
      "================\n",
      "finish\n",
      "Output results into 'data/magnetism2/t8.500015_J-0.40000000000000013/data.dat'\n"
     ]
    },
    {
     "name": "stderr",
     "output_type": "stream",
     "text": [
      "  obtained data shape: (10, 1)\n"
     ]
    },
    {
     "name": "stdout",
     "output_type": "stream",
     "text": [
      "............................."
     ]
    },
    {
     "name": "stderr",
     "output_type": "stream",
     "text": [
      "\n",
      "================\n",
      "h = 10.0\n",
      "Initializing MC...\n",
      "Warming up...\n"
     ]
    },
    {
     "name": "stdout",
     "output_type": "stream",
     "text": [
      ".\n",
      "================\n",
      "finish\n",
      "Output results into 'data/magnetism2/t8.7500125_J-0.40000000000000013/data.dat'\n"
     ]
    },
    {
     "name": "stderr",
     "output_type": "stream",
     "text": [
      "  obtained data shape: (10, 1)\n"
     ]
    },
    {
     "name": "stdout",
     "output_type": "stream",
     "text": [
      "............................."
     ]
    },
    {
     "name": "stderr",
     "output_type": "stream",
     "text": [
      "\n",
      "================\n",
      "h = 10.0\n",
      "Initializing MC...\n",
      "Warming up...\n"
     ]
    },
    {
     "name": "stdout",
     "output_type": "stream",
     "text": [
      ".\n",
      "================\n",
      "finish\n",
      "Output results into 'data/magnetism2/t9.00001_J-0.40000000000000013/data.dat'\n"
     ]
    },
    {
     "name": "stderr",
     "output_type": "stream",
     "text": [
      "  obtained data shape: (10, 1)\n"
     ]
    },
    {
     "name": "stdout",
     "output_type": "stream",
     "text": [
      "............................."
     ]
    },
    {
     "name": "stderr",
     "output_type": "stream",
     "text": [
      "\n",
      "================\n",
      "h = 10.0\n",
      "Initializing MC...\n",
      "Warming up...\n"
     ]
    },
    {
     "name": "stdout",
     "output_type": "stream",
     "text": [
      ".\n",
      "================\n",
      "finish\n",
      "Output results into 'data/magnetism2/t9.2500075_J-0.40000000000000013/data.dat'\n"
     ]
    },
    {
     "name": "stderr",
     "output_type": "stream",
     "text": [
      "  obtained data shape: (10, 1)\n"
     ]
    },
    {
     "name": "stdout",
     "output_type": "stream",
     "text": [
      "............................."
     ]
    },
    {
     "name": "stderr",
     "output_type": "stream",
     "text": [
      "\n",
      "================\n",
      "h = 10.0\n",
      "Initializing MC...\n",
      "Warming up...\n"
     ]
    },
    {
     "name": "stdout",
     "output_type": "stream",
     "text": [
      ".\n",
      "================\n",
      "finish\n",
      "Output results into 'data/magnetism2/t9.500005_J-0.40000000000000013/data.dat'\n"
     ]
    },
    {
     "name": "stderr",
     "output_type": "stream",
     "text": [
      "  obtained data shape: (10, 1)\n"
     ]
    },
    {
     "name": "stdout",
     "output_type": "stream",
     "text": [
      "............................."
     ]
    },
    {
     "name": "stderr",
     "output_type": "stream",
     "text": [
      "\n",
      "================\n",
      "h = 10.0\n",
      "Initializing MC...\n",
      "Warming up...\n"
     ]
    },
    {
     "name": "stdout",
     "output_type": "stream",
     "text": [
      ".\n",
      "================\n",
      "finish\n",
      "Output results into 'data/magnetism2/t9.7500025_J-0.40000000000000013/data.dat'\n"
     ]
    },
    {
     "name": "stderr",
     "output_type": "stream",
     "text": [
      "  obtained data shape: (10, 1)\n"
     ]
    },
    {
     "name": "stdout",
     "output_type": "stream",
     "text": [
      "............................."
     ]
    },
    {
     "name": "stderr",
     "output_type": "stream",
     "text": [
      "\n",
      "================\n",
      "h = 10.0\n",
      "Initializing MC...\n",
      "/home/yakkuru/computer_physics/report/submit/report3/code/tool/supplement.py:42: RuntimeWarning: overflow encountered in exp\n",
      "  prob_dn.append(np.exp(2 * K * sum_sigma))\n",
      "/home/yakkuru/computer_physics/report/submit/report3/code/tool/supplement.py:41: RuntimeWarning: overflow encountered in exp\n",
      "  prob_up.append(np.exp(-2 * K * sum_sigma))\n",
      "Warming up...\n"
     ]
    },
    {
     "name": "stdout",
     "output_type": "stream",
     "text": [
      ".\n",
      "================\n",
      "finish\n",
      "Output results into 'data/magnetism2/t10.0_J-0.40000000000000013/data.dat'\n"
     ]
    },
    {
     "name": "stderr",
     "output_type": "stream",
     "text": [
      "/home/yakkuru/computer_physics/report/submit/report3/code/tool/measurement.py:46: RuntimeWarning: overflow encountered in exp\n",
      "  prob_field = np.exp(beta * h * measure(_mc))\n",
      "/home/yakkuru/computer_physics/report/submit/report3/code/tool/measurement.py:49: RuntimeWarning: invalid value encountered in multiply\n",
      "  return _mc.prob_up[num_up] * prob_field\n",
      "/home/yakkuru/computer_physics/report/submit/report3/code/tool/measurement.py:51: RuntimeWarning: invalid value encountered in multiply\n",
      "  return _mc.prob_dn[num_up] * prob_field\n",
      "  obtained data shape: (10, 1)\n"
     ]
    },
    {
     "name": "stdout",
     "output_type": "stream",
     "text": [
      "............................."
     ]
    },
    {
     "name": "stderr",
     "output_type": "stream",
     "text": [
      "\n",
      "================\n",
      "h = 10.0\n",
      "Initializing MC...\n",
      "Warming up...\n"
     ]
    },
    {
     "name": "stdout",
     "output_type": "stream",
     "text": [
      ".\n",
      "================\n",
      "finish\n",
      "Output results into 'data/magnetism2/t0.0001_J-0.5/data.dat'\n"
     ]
    },
    {
     "name": "stderr",
     "output_type": "stream",
     "text": [
      "/home/yakkuru/computer_physics/report/submit/report3/code/tool/measurement.py:46: RuntimeWarning: overflow encountered in exp\n",
      "  prob_field = np.exp(beta * h * measure(_mc))\n",
      "  obtained data shape: (10, 1)\n"
     ]
    },
    {
     "name": "stdout",
     "output_type": "stream",
     "text": [
      ".."
     ]
    },
    {
     "name": "stderr",
     "output_type": "stream",
     "text": [
      "/home/yakkuru/computer_physics/report/submit/report3/code/tool/measurement.py:49: RuntimeWarning: overflow encountered in multiply\n",
      "  return _mc.prob_up[num_up] * prob_field\n"
     ]
    },
    {
     "name": "stdout",
     "output_type": "stream",
     "text": [
      "..........................."
     ]
    },
    {
     "name": "stderr",
     "output_type": "stream",
     "text": [
      "\n",
      "================\n",
      "h = 10.0\n",
      "Initializing MC...\n",
      "Warming up...\n"
     ]
    },
    {
     "name": "stdout",
     "output_type": "stream",
     "text": [
      ".\n",
      "================\n",
      "finish\n",
      "Output results into 'data/magnetism2/t0.25009750000000003_J-0.5/data.dat'\n"
     ]
    },
    {
     "name": "stderr",
     "output_type": "stream",
     "text": [
      "  obtained data shape: (10, 1)\n"
     ]
    },
    {
     "name": "stdout",
     "output_type": "stream",
     "text": [
      "............................."
     ]
    },
    {
     "name": "stderr",
     "output_type": "stream",
     "text": [
      "\n",
      "================\n",
      "h = 10.0\n",
      "Initializing MC...\n",
      "Warming up...\n"
     ]
    },
    {
     "name": "stdout",
     "output_type": "stream",
     "text": [
      ".\n",
      "================\n",
      "finish\n",
      "Output results into 'data/magnetism2/t0.5000950000000001_J-0.5/data.dat'\n"
     ]
    },
    {
     "name": "stderr",
     "output_type": "stream",
     "text": [
      "  obtained data shape: (10, 1)\n"
     ]
    },
    {
     "name": "stdout",
     "output_type": "stream",
     "text": [
      "............................."
     ]
    },
    {
     "name": "stderr",
     "output_type": "stream",
     "text": [
      "\n",
      "================\n",
      "h = 10.0\n",
      "Initializing MC...\n",
      "Warming up...\n"
     ]
    },
    {
     "name": "stdout",
     "output_type": "stream",
     "text": [
      ".\n",
      "================\n",
      "finish\n",
      "Output results into 'data/magnetism2/t0.7500925_J-0.5/data.dat'\n"
     ]
    },
    {
     "name": "stderr",
     "output_type": "stream",
     "text": [
      "  obtained data shape: (10, 1)\n"
     ]
    },
    {
     "name": "stdout",
     "output_type": "stream",
     "text": [
      "............................."
     ]
    },
    {
     "name": "stderr",
     "output_type": "stream",
     "text": [
      "\n",
      "================\n",
      "h = 10.0\n",
      "Initializing MC...\n",
      "Warming up...\n"
     ]
    },
    {
     "name": "stdout",
     "output_type": "stream",
     "text": [
      ".\n",
      "================\n",
      "finish\n",
      "Output results into 'data/magnetism2/t1.0000900000000001_J-0.5/data.dat'\n"
     ]
    },
    {
     "name": "stderr",
     "output_type": "stream",
     "text": [
      "  obtained data shape: (10, 1)\n"
     ]
    },
    {
     "name": "stdout",
     "output_type": "stream",
     "text": [
      "............................."
     ]
    },
    {
     "name": "stderr",
     "output_type": "stream",
     "text": [
      "\n",
      "================\n",
      "h = 10.0\n",
      "Initializing MC...\n",
      "Warming up...\n"
     ]
    },
    {
     "name": "stdout",
     "output_type": "stream",
     "text": [
      ".\n",
      "================\n",
      "finish\n",
      "Output results into 'data/magnetism2/t1.2500875_J-0.5/data.dat'\n"
     ]
    },
    {
     "name": "stderr",
     "output_type": "stream",
     "text": [
      "  obtained data shape: (10, 1)\n"
     ]
    },
    {
     "name": "stdout",
     "output_type": "stream",
     "text": [
      "............................."
     ]
    },
    {
     "name": "stderr",
     "output_type": "stream",
     "text": [
      "\n",
      "================\n",
      "h = 10.0\n",
      "Initializing MC...\n",
      "Warming up...\n"
     ]
    },
    {
     "name": "stdout",
     "output_type": "stream",
     "text": [
      ".\n",
      "================\n",
      "finish\n",
      "Output results into 'data/magnetism2/t1.5000850000000001_J-0.5/data.dat'\n"
     ]
    },
    {
     "name": "stderr",
     "output_type": "stream",
     "text": [
      "  obtained data shape: (10, 1)\n"
     ]
    },
    {
     "name": "stdout",
     "output_type": "stream",
     "text": [
      "............................."
     ]
    },
    {
     "name": "stderr",
     "output_type": "stream",
     "text": [
      "\n",
      "================\n",
      "h = 10.0\n",
      "Initializing MC...\n",
      "Warming up...\n"
     ]
    },
    {
     "name": "stdout",
     "output_type": "stream",
     "text": [
      ".\n",
      "================\n",
      "finish\n",
      "Output results into 'data/magnetism2/t1.7500825_J-0.5/data.dat'\n"
     ]
    },
    {
     "name": "stderr",
     "output_type": "stream",
     "text": [
      "  obtained data shape: (10, 1)\n"
     ]
    },
    {
     "name": "stdout",
     "output_type": "stream",
     "text": [
      "............................."
     ]
    },
    {
     "name": "stderr",
     "output_type": "stream",
     "text": [
      "\n",
      "================\n",
      "h = 10.0\n",
      "Initializing MC...\n",
      "Warming up...\n"
     ]
    },
    {
     "name": "stdout",
     "output_type": "stream",
     "text": [
      ".\n",
      "================\n",
      "finish\n",
      "Output results into 'data/magnetism2/t2.00008_J-0.5/data.dat'\n"
     ]
    },
    {
     "name": "stderr",
     "output_type": "stream",
     "text": [
      "  obtained data shape: (10, 1)\n"
     ]
    },
    {
     "name": "stdout",
     "output_type": "stream",
     "text": [
      "............................."
     ]
    },
    {
     "name": "stderr",
     "output_type": "stream",
     "text": [
      "\n",
      "================\n",
      "h = 10.0\n",
      "Initializing MC...\n",
      "Warming up...\n"
     ]
    },
    {
     "name": "stdout",
     "output_type": "stream",
     "text": [
      ".\n",
      "================\n",
      "finish\n",
      "Output results into 'data/magnetism2/t2.2500775_J-0.5/data.dat'\n"
     ]
    },
    {
     "name": "stderr",
     "output_type": "stream",
     "text": [
      "  obtained data shape: (10, 1)\n"
     ]
    },
    {
     "name": "stdout",
     "output_type": "stream",
     "text": [
      "............................."
     ]
    },
    {
     "name": "stderr",
     "output_type": "stream",
     "text": [
      "\n",
      "================\n",
      "h = 10.0\n",
      "Initializing MC...\n",
      "Warming up...\n"
     ]
    },
    {
     "name": "stdout",
     "output_type": "stream",
     "text": [
      ".\n",
      "================\n",
      "finish\n",
      "Output results into 'data/magnetism2/t2.5000750000000003_J-0.5/data.dat'\n"
     ]
    },
    {
     "name": "stderr",
     "output_type": "stream",
     "text": [
      "  obtained data shape: (10, 1)\n"
     ]
    },
    {
     "name": "stdout",
     "output_type": "stream",
     "text": [
      "............................."
     ]
    },
    {
     "name": "stderr",
     "output_type": "stream",
     "text": [
      "\n",
      "================\n",
      "h = 10.0\n",
      "Initializing MC...\n",
      "Warming up...\n"
     ]
    },
    {
     "name": "stdout",
     "output_type": "stream",
     "text": [
      ".\n",
      "================\n",
      "finish\n",
      "Output results into 'data/magnetism2/t2.7500725000000004_J-0.5/data.dat'\n"
     ]
    },
    {
     "name": "stderr",
     "output_type": "stream",
     "text": [
      "  obtained data shape: (10, 1)\n"
     ]
    },
    {
     "name": "stdout",
     "output_type": "stream",
     "text": [
      "............................."
     ]
    },
    {
     "name": "stderr",
     "output_type": "stream",
     "text": [
      "\n",
      "================\n",
      "h = 10.0\n",
      "Initializing MC...\n",
      "Warming up...\n"
     ]
    },
    {
     "name": "stdout",
     "output_type": "stream",
     "text": [
      ".\n",
      "================\n",
      "finish\n",
      "Output results into 'data/magnetism2/t3.0000700000000005_J-0.5/data.dat'\n"
     ]
    },
    {
     "name": "stderr",
     "output_type": "stream",
     "text": [
      "  obtained data shape: (10, 1)\n"
     ]
    },
    {
     "name": "stdout",
     "output_type": "stream",
     "text": [
      "............................."
     ]
    },
    {
     "name": "stderr",
     "output_type": "stream",
     "text": [
      "\n",
      "================\n",
      "h = 10.0\n",
      "Initializing MC...\n",
      "Warming up...\n"
     ]
    },
    {
     "name": "stdout",
     "output_type": "stream",
     "text": [
      ".\n",
      "================\n",
      "finish\n",
      "Output results into 'data/magnetism2/t3.2500675000000006_J-0.5/data.dat'\n"
     ]
    },
    {
     "name": "stderr",
     "output_type": "stream",
     "text": [
      "  obtained data shape: (10, 1)\n"
     ]
    },
    {
     "name": "stdout",
     "output_type": "stream",
     "text": [
      "............................."
     ]
    },
    {
     "name": "stderr",
     "output_type": "stream",
     "text": [
      "\n",
      "================\n",
      "h = 10.0\n",
      "Initializing MC...\n",
      "Warming up...\n"
     ]
    },
    {
     "name": "stdout",
     "output_type": "stream",
     "text": [
      ".\n",
      "================\n",
      "finish\n",
      "Output results into 'data/magnetism2/t3.500065_J-0.5/data.dat'\n"
     ]
    },
    {
     "name": "stderr",
     "output_type": "stream",
     "text": [
      "  obtained data shape: (10, 1)\n"
     ]
    },
    {
     "name": "stdout",
     "output_type": "stream",
     "text": [
      "..............................\n",
      "================\n",
      "finish\n",
      "Output results into 'data/magnetism2/t3.7500625000000003_J-0.5/data.dat'\n"
     ]
    },
    {
     "name": "stderr",
     "output_type": "stream",
     "text": [
      "\n",
      "================\n",
      "h = 10.0\n",
      "Initializing MC...\n",
      "Warming up...\n",
      "  obtained data shape: (10, 1)\n"
     ]
    },
    {
     "name": "stdout",
     "output_type": "stream",
     "text": [
      "............................."
     ]
    },
    {
     "name": "stderr",
     "output_type": "stream",
     "text": [
      "\n",
      "================\n",
      "h = 10.0\n",
      "Initializing MC...\n",
      "Warming up...\n"
     ]
    },
    {
     "name": "stdout",
     "output_type": "stream",
     "text": [
      ".\n",
      "================\n",
      "finish\n",
      "Output results into 'data/magnetism2/t4.00006_J-0.5/data.dat'\n"
     ]
    },
    {
     "name": "stderr",
     "output_type": "stream",
     "text": [
      "  obtained data shape: (10, 1)\n"
     ]
    },
    {
     "name": "stdout",
     "output_type": "stream",
     "text": [
      "............................."
     ]
    },
    {
     "name": "stderr",
     "output_type": "stream",
     "text": [
      "\n",
      "================\n",
      "h = 10.0\n",
      "Initializing MC...\n",
      "Warming up...\n"
     ]
    },
    {
     "name": "stdout",
     "output_type": "stream",
     "text": [
      ".\n",
      "================\n",
      "finish\n",
      "Output results into 'data/magnetism2/t4.2500575_J-0.5/data.dat'\n"
     ]
    },
    {
     "name": "stderr",
     "output_type": "stream",
     "text": [
      "  obtained data shape: (10, 1)\n"
     ]
    },
    {
     "name": "stdout",
     "output_type": "stream",
     "text": [
      "............................."
     ]
    },
    {
     "name": "stderr",
     "output_type": "stream",
     "text": [
      "\n",
      "================\n",
      "h = 10.0\n",
      "Initializing MC...\n",
      "Warming up...\n"
     ]
    },
    {
     "name": "stdout",
     "output_type": "stream",
     "text": [
      ".\n",
      "================\n",
      "finish\n",
      "Output results into 'data/magnetism2/t4.500055_J-0.5/data.dat'\n"
     ]
    },
    {
     "name": "stderr",
     "output_type": "stream",
     "text": [
      "  obtained data shape: (10, 1)\n"
     ]
    },
    {
     "name": "stdout",
     "output_type": "stream",
     "text": [
      "............................."
     ]
    },
    {
     "name": "stderr",
     "output_type": "stream",
     "text": [
      "\n",
      "================\n",
      "h = 10.0\n",
      "Initializing MC...\n",
      "Warming up...\n"
     ]
    },
    {
     "name": "stdout",
     "output_type": "stream",
     "text": [
      ".\n",
      "================\n",
      "finish\n",
      "Output results into 'data/magnetism2/t4.7500525_J-0.5/data.dat'\n"
     ]
    },
    {
     "name": "stderr",
     "output_type": "stream",
     "text": [
      "  obtained data shape: (10, 1)\n"
     ]
    },
    {
     "name": "stdout",
     "output_type": "stream",
     "text": [
      "............................."
     ]
    },
    {
     "name": "stderr",
     "output_type": "stream",
     "text": [
      "\n",
      "================\n",
      "h = 10.0\n",
      "Initializing MC...\n",
      "Warming up...\n"
     ]
    },
    {
     "name": "stdout",
     "output_type": "stream",
     "text": [
      ".\n",
      "================\n",
      "finish\n",
      "Output results into 'data/magnetism2/t5.00005_J-0.5/data.dat'\n"
     ]
    },
    {
     "name": "stderr",
     "output_type": "stream",
     "text": [
      "  obtained data shape: (10, 1)\n"
     ]
    },
    {
     "name": "stdout",
     "output_type": "stream",
     "text": [
      "............................."
     ]
    },
    {
     "name": "stderr",
     "output_type": "stream",
     "text": [
      "\n",
      "================\n",
      "h = 10.0\n",
      "Initializing MC...\n",
      "Warming up...\n"
     ]
    },
    {
     "name": "stdout",
     "output_type": "stream",
     "text": [
      ".\n",
      "================\n",
      "finish\n",
      "Output results into 'data/magnetism2/t5.2500475_J-0.5/data.dat'\n"
     ]
    },
    {
     "name": "stderr",
     "output_type": "stream",
     "text": [
      "  obtained data shape: (10, 1)\n"
     ]
    },
    {
     "name": "stdout",
     "output_type": "stream",
     "text": [
      "............................."
     ]
    },
    {
     "name": "stderr",
     "output_type": "stream",
     "text": [
      "\n",
      "================\n",
      "h = 10.0\n",
      "Initializing MC...\n",
      "Warming up...\n"
     ]
    },
    {
     "name": "stdout",
     "output_type": "stream",
     "text": [
      ".\n",
      "================\n",
      "finish\n",
      "Output results into 'data/magnetism2/t5.500045_J-0.5/data.dat'\n"
     ]
    },
    {
     "name": "stderr",
     "output_type": "stream",
     "text": [
      "  obtained data shape: (10, 1)\n"
     ]
    },
    {
     "name": "stdout",
     "output_type": "stream",
     "text": [
      "............................."
     ]
    },
    {
     "name": "stderr",
     "output_type": "stream",
     "text": [
      "\n",
      "================\n",
      "h = 10.0\n",
      "Initializing MC...\n",
      "Warming up...\n"
     ]
    },
    {
     "name": "stdout",
     "output_type": "stream",
     "text": [
      ".\n",
      "================\n",
      "finish\n",
      "Output results into 'data/magnetism2/t5.7500425_J-0.5/data.dat'\n"
     ]
    },
    {
     "name": "stderr",
     "output_type": "stream",
     "text": [
      "  obtained data shape: (10, 1)\n"
     ]
    },
    {
     "name": "stdout",
     "output_type": "stream",
     "text": [
      "............................."
     ]
    },
    {
     "name": "stderr",
     "output_type": "stream",
     "text": [
      "\n",
      "================\n",
      "h = 10.0\n",
      "Initializing MC...\n",
      "Warming up...\n"
     ]
    },
    {
     "name": "stdout",
     "output_type": "stream",
     "text": [
      ".\n",
      "================\n",
      "finish\n",
      "Output results into 'data/magnetism2/t6.00004_J-0.5/data.dat'\n"
     ]
    },
    {
     "name": "stderr",
     "output_type": "stream",
     "text": [
      "  obtained data shape: (10, 1)\n"
     ]
    },
    {
     "name": "stdout",
     "output_type": "stream",
     "text": [
      "............................."
     ]
    },
    {
     "name": "stderr",
     "output_type": "stream",
     "text": [
      "\n",
      "================\n",
      "h = 10.0\n",
      "Initializing MC...\n",
      "Warming up...\n"
     ]
    },
    {
     "name": "stdout",
     "output_type": "stream",
     "text": [
      ".\n",
      "================\n",
      "finish\n",
      "Output results into 'data/magnetism2/t6.2500375_J-0.5/data.dat'\n"
     ]
    },
    {
     "name": "stderr",
     "output_type": "stream",
     "text": [
      "  obtained data shape: (10, 1)\n"
     ]
    },
    {
     "name": "stdout",
     "output_type": "stream",
     "text": [
      "............................."
     ]
    },
    {
     "name": "stderr",
     "output_type": "stream",
     "text": [
      "\n",
      "================\n",
      "h = 10.0\n",
      "Initializing MC...\n",
      "Warming up...\n"
     ]
    },
    {
     "name": "stdout",
     "output_type": "stream",
     "text": [
      ".\n",
      "================\n",
      "finish\n",
      "Output results into 'data/magnetism2/t6.5000350000000005_J-0.5/data.dat'\n"
     ]
    },
    {
     "name": "stderr",
     "output_type": "stream",
     "text": [
      "  obtained data shape: (10, 1)\n"
     ]
    },
    {
     "name": "stdout",
     "output_type": "stream",
     "text": [
      "............................."
     ]
    },
    {
     "name": "stderr",
     "output_type": "stream",
     "text": [
      "\n",
      "================\n",
      "h = 10.0\n",
      "Initializing MC...\n",
      "Warming up...\n"
     ]
    },
    {
     "name": "stdout",
     "output_type": "stream",
     "text": [
      ".\n",
      "================\n",
      "finish\n",
      "Output results into 'data/magnetism2/t6.7500325_J-0.5/data.dat'\n"
     ]
    },
    {
     "name": "stderr",
     "output_type": "stream",
     "text": [
      "  obtained data shape: (10, 1)\n"
     ]
    },
    {
     "name": "stdout",
     "output_type": "stream",
     "text": [
      "............................."
     ]
    },
    {
     "name": "stderr",
     "output_type": "stream",
     "text": [
      "\n",
      "================\n",
      "h = 10.0\n",
      "Initializing MC...\n",
      "Warming up...\n"
     ]
    },
    {
     "name": "stdout",
     "output_type": "stream",
     "text": [
      ".\n",
      "================\n",
      "finish\n",
      "Output results into 'data/magnetism2/t7.00003_J-0.5/data.dat'\n"
     ]
    },
    {
     "name": "stderr",
     "output_type": "stream",
     "text": [
      "  obtained data shape: (10, 1)\n"
     ]
    },
    {
     "name": "stdout",
     "output_type": "stream",
     "text": [
      "............................."
     ]
    },
    {
     "name": "stderr",
     "output_type": "stream",
     "text": [
      "\n",
      "================\n",
      "h = 10.0\n",
      "Initializing MC...\n",
      "Warming up...\n"
     ]
    },
    {
     "name": "stdout",
     "output_type": "stream",
     "text": [
      ".\n",
      "================\n",
      "finish\n",
      "Output results into 'data/magnetism2/t7.2500275_J-0.5/data.dat'\n"
     ]
    },
    {
     "name": "stderr",
     "output_type": "stream",
     "text": [
      "  obtained data shape: (10, 1)\n"
     ]
    },
    {
     "name": "stdout",
     "output_type": "stream",
     "text": [
      "............................."
     ]
    },
    {
     "name": "stderr",
     "output_type": "stream",
     "text": [
      "\n",
      "================\n",
      "h = 10.0\n",
      "Initializing MC...\n",
      "Warming up...\n"
     ]
    },
    {
     "name": "stdout",
     "output_type": "stream",
     "text": [
      ".\n",
      "================\n",
      "finish\n",
      "Output results into 'data/magnetism2/t7.500025_J-0.5/data.dat'\n"
     ]
    },
    {
     "name": "stderr",
     "output_type": "stream",
     "text": [
      "  obtained data shape: (10, 1)\n"
     ]
    },
    {
     "name": "stdout",
     "output_type": "stream",
     "text": [
      "............................."
     ]
    },
    {
     "name": "stderr",
     "output_type": "stream",
     "text": [
      "\n",
      "================\n",
      "h = 10.0\n",
      "Initializing MC...\n",
      "Warming up...\n"
     ]
    },
    {
     "name": "stdout",
     "output_type": "stream",
     "text": [
      ".\n",
      "================\n",
      "finish\n",
      "Output results into 'data/magnetism2/t7.7500225_J-0.5/data.dat'\n"
     ]
    },
    {
     "name": "stderr",
     "output_type": "stream",
     "text": [
      "  obtained data shape: (10, 1)\n"
     ]
    },
    {
     "name": "stdout",
     "output_type": "stream",
     "text": [
      "............................."
     ]
    },
    {
     "name": "stderr",
     "output_type": "stream",
     "text": [
      "\n",
      "================\n",
      "h = 10.0\n",
      "Initializing MC...\n",
      "Warming up...\n"
     ]
    },
    {
     "name": "stdout",
     "output_type": "stream",
     "text": [
      ".\n",
      "================\n",
      "finish\n",
      "Output results into 'data/magnetism2/t8.000020000000001_J-0.5/data.dat'\n"
     ]
    },
    {
     "name": "stderr",
     "output_type": "stream",
     "text": [
      "  obtained data shape: (10, 1)\n"
     ]
    },
    {
     "name": "stdout",
     "output_type": "stream",
     "text": [
      "............................."
     ]
    },
    {
     "name": "stderr",
     "output_type": "stream",
     "text": [
      "\n",
      "================\n",
      "h = 10.0\n",
      "Initializing MC...\n",
      "Warming up...\n"
     ]
    },
    {
     "name": "stdout",
     "output_type": "stream",
     "text": [
      ".\n",
      "================\n",
      "finish\n",
      "Output results into 'data/magnetism2/t8.2500175_J-0.5/data.dat'\n"
     ]
    },
    {
     "name": "stderr",
     "output_type": "stream",
     "text": [
      "  obtained data shape: (10, 1)\n"
     ]
    },
    {
     "name": "stdout",
     "output_type": "stream",
     "text": [
      "............................."
     ]
    },
    {
     "name": "stderr",
     "output_type": "stream",
     "text": [
      "\n",
      "================\n",
      "h = 10.0\n",
      "Initializing MC...\n",
      "Warming up...\n"
     ]
    },
    {
     "name": "stdout",
     "output_type": "stream",
     "text": [
      ".\n",
      "================\n",
      "finish\n",
      "Output results into 'data/magnetism2/t8.500015_J-0.5/data.dat'\n"
     ]
    },
    {
     "name": "stderr",
     "output_type": "stream",
     "text": [
      "  obtained data shape: (10, 1)\n"
     ]
    },
    {
     "name": "stdout",
     "output_type": "stream",
     "text": [
      "............................."
     ]
    },
    {
     "name": "stderr",
     "output_type": "stream",
     "text": [
      "\n",
      "================\n",
      "h = 10.0\n",
      "Initializing MC...\n",
      "Warming up...\n"
     ]
    },
    {
     "name": "stdout",
     "output_type": "stream",
     "text": [
      ".\n",
      "================\n",
      "finish\n",
      "Output results into 'data/magnetism2/t8.7500125_J-0.5/data.dat'\n"
     ]
    },
    {
     "name": "stderr",
     "output_type": "stream",
     "text": [
      "  obtained data shape: (10, 1)\n"
     ]
    },
    {
     "name": "stdout",
     "output_type": "stream",
     "text": [
      "............................."
     ]
    },
    {
     "name": "stderr",
     "output_type": "stream",
     "text": [
      "\n",
      "================\n",
      "h = 10.0\n",
      "Initializing MC...\n",
      "Warming up...\n"
     ]
    },
    {
     "name": "stdout",
     "output_type": "stream",
     "text": [
      ".\n",
      "================\n",
      "finish\n",
      "Output results into 'data/magnetism2/t9.00001_J-0.5/data.dat'\n"
     ]
    },
    {
     "name": "stderr",
     "output_type": "stream",
     "text": [
      "  obtained data shape: (10, 1)\n"
     ]
    },
    {
     "name": "stdout",
     "output_type": "stream",
     "text": [
      "............................."
     ]
    },
    {
     "name": "stderr",
     "output_type": "stream",
     "text": [
      "\n",
      "================\n",
      "h = 10.0\n",
      "Initializing MC...\n",
      "Warming up...\n"
     ]
    },
    {
     "name": "stdout",
     "output_type": "stream",
     "text": [
      ".\n",
      "================\n",
      "finish\n",
      "Output results into 'data/magnetism2/t9.2500075_J-0.5/data.dat'\n"
     ]
    },
    {
     "name": "stderr",
     "output_type": "stream",
     "text": [
      "  obtained data shape: (10, 1)\n"
     ]
    },
    {
     "name": "stdout",
     "output_type": "stream",
     "text": [
      "............................."
     ]
    },
    {
     "name": "stderr",
     "output_type": "stream",
     "text": [
      "\n",
      "================\n",
      "h = 10.0\n",
      "Initializing MC...\n",
      "Warming up...\n"
     ]
    },
    {
     "name": "stdout",
     "output_type": "stream",
     "text": [
      ".\n",
      "================\n",
      "finish\n",
      "Output results into 'data/magnetism2/t9.500005_J-0.5/data.dat'\n"
     ]
    },
    {
     "name": "stderr",
     "output_type": "stream",
     "text": [
      "  obtained data shape: (10, 1)\n"
     ]
    },
    {
     "name": "stdout",
     "output_type": "stream",
     "text": [
      "............................."
     ]
    },
    {
     "name": "stderr",
     "output_type": "stream",
     "text": [
      "\n",
      "================\n",
      "h = 10.0\n",
      "Initializing MC...\n",
      "Warming up...\n"
     ]
    },
    {
     "name": "stdout",
     "output_type": "stream",
     "text": [
      ".\n",
      "================\n",
      "finish\n",
      "Output results into 'data/magnetism2/t9.7500025_J-0.5/data.dat'\n"
     ]
    },
    {
     "name": "stderr",
     "output_type": "stream",
     "text": [
      "  obtained data shape: (10, 1)\n"
     ]
    },
    {
     "name": "stdout",
     "output_type": "stream",
     "text": [
      "............................."
     ]
    },
    {
     "name": "stderr",
     "output_type": "stream",
     "text": [
      "\n",
      "================\n",
      "h = 10.0\n",
      "Initializing MC...\n",
      "/home/yakkuru/computer_physics/report/submit/report3/code/tool/supplement.py:42: RuntimeWarning: overflow encountered in exp\n",
      "  prob_dn.append(np.exp(2 * K * sum_sigma))\n",
      "/home/yakkuru/computer_physics/report/submit/report3/code/tool/supplement.py:41: RuntimeWarning: overflow encountered in exp\n",
      "  prob_up.append(np.exp(-2 * K * sum_sigma))\n",
      "Warming up...\n"
     ]
    },
    {
     "name": "stdout",
     "output_type": "stream",
     "text": [
      ".\n",
      "================\n",
      "finish\n",
      "Output results into 'data/magnetism2/t10.0_J-0.5/data.dat'\n"
     ]
    },
    {
     "name": "stderr",
     "output_type": "stream",
     "text": [
      "/home/yakkuru/computer_physics/report/submit/report3/code/tool/measurement.py:46: RuntimeWarning: overflow encountered in exp\n",
      "  prob_field = np.exp(beta * h * measure(_mc))\n",
      "/home/yakkuru/computer_physics/report/submit/report3/code/tool/measurement.py:49: RuntimeWarning: invalid value encountered in multiply\n",
      "  return _mc.prob_up[num_up] * prob_field\n",
      "/home/yakkuru/computer_physics/report/submit/report3/code/tool/measurement.py:51: RuntimeWarning: invalid value encountered in multiply\n",
      "  return _mc.prob_dn[num_up] * prob_field\n",
      "  obtained data shape: (10, 1)\n"
     ]
    },
    {
     "name": "stdout",
     "output_type": "stream",
     "text": [
      "............................."
     ]
    },
    {
     "name": "stderr",
     "output_type": "stream",
     "text": [
      "\n",
      "================\n",
      "h = 10.0\n",
      "Initializing MC...\n",
      "Warming up...\n"
     ]
    },
    {
     "name": "stdout",
     "output_type": "stream",
     "text": [
      ".\n",
      "================\n",
      "finish\n",
      "Output results into 'data/magnetism2/t0.0001_J-0.6000000000000001/data.dat'\n"
     ]
    },
    {
     "name": "stderr",
     "output_type": "stream",
     "text": [
      "/home/yakkuru/computer_physics/report/submit/report3/code/tool/measurement.py:46: RuntimeWarning: overflow encountered in exp\n",
      "  prob_field = np.exp(beta * h * measure(_mc))\n",
      "  obtained data shape: (10, 1)\n"
     ]
    },
    {
     "name": "stdout",
     "output_type": "stream",
     "text": [
      ".."
     ]
    },
    {
     "name": "stderr",
     "output_type": "stream",
     "text": [
      "/home/yakkuru/computer_physics/report/submit/report3/code/tool/measurement.py:49: RuntimeWarning: overflow encountered in multiply\n",
      "  return _mc.prob_up[num_up] * prob_field\n"
     ]
    },
    {
     "name": "stdout",
     "output_type": "stream",
     "text": [
      "..........................."
     ]
    },
    {
     "name": "stderr",
     "output_type": "stream",
     "text": [
      "\n",
      "================\n",
      "h = 10.0\n",
      "Initializing MC...\n",
      "Warming up...\n"
     ]
    },
    {
     "name": "stdout",
     "output_type": "stream",
     "text": [
      ".\n",
      "================\n",
      "finish\n",
      "Output results into 'data/magnetism2/t0.25009750000000003_J-0.6000000000000001/data.dat'\n"
     ]
    },
    {
     "name": "stderr",
     "output_type": "stream",
     "text": [
      "  obtained data shape: (10, 1)\n"
     ]
    },
    {
     "name": "stdout",
     "output_type": "stream",
     "text": [
      "............................."
     ]
    },
    {
     "name": "stderr",
     "output_type": "stream",
     "text": [
      "\n",
      "================\n",
      "h = 10.0\n",
      "Initializing MC...\n",
      "Warming up...\n"
     ]
    },
    {
     "name": "stdout",
     "output_type": "stream",
     "text": [
      ".\n",
      "================\n",
      "finish\n",
      "Output results into 'data/magnetism2/t0.5000950000000001_J-0.6000000000000001/data.dat'\n"
     ]
    },
    {
     "name": "stderr",
     "output_type": "stream",
     "text": [
      "  obtained data shape: (10, 1)\n"
     ]
    },
    {
     "name": "stdout",
     "output_type": "stream",
     "text": [
      "............................."
     ]
    },
    {
     "name": "stderr",
     "output_type": "stream",
     "text": [
      "\n",
      "================\n",
      "h = 10.0\n",
      "Initializing MC...\n",
      "Warming up...\n"
     ]
    },
    {
     "name": "stdout",
     "output_type": "stream",
     "text": [
      ".\n",
      "================\n",
      "finish\n",
      "Output results into 'data/magnetism2/t0.7500925_J-0.6000000000000001/data.dat'\n"
     ]
    },
    {
     "name": "stderr",
     "output_type": "stream",
     "text": [
      "  obtained data shape: (10, 1)\n"
     ]
    },
    {
     "name": "stdout",
     "output_type": "stream",
     "text": [
      "............................."
     ]
    },
    {
     "name": "stderr",
     "output_type": "stream",
     "text": [
      "\n",
      "================\n",
      "h = 10.0\n",
      "Initializing MC...\n",
      "Warming up...\n"
     ]
    },
    {
     "name": "stdout",
     "output_type": "stream",
     "text": [
      ".\n",
      "================\n",
      "finish\n",
      "Output results into 'data/magnetism2/t1.0000900000000001_J-0.6000000000000001/data.dat'\n"
     ]
    },
    {
     "name": "stderr",
     "output_type": "stream",
     "text": [
      "  obtained data shape: (10, 1)\n"
     ]
    },
    {
     "name": "stdout",
     "output_type": "stream",
     "text": [
      "............................."
     ]
    },
    {
     "name": "stderr",
     "output_type": "stream",
     "text": [
      "\n",
      "================\n",
      "h = 10.0\n",
      "Initializing MC...\n",
      "Warming up...\n"
     ]
    },
    {
     "name": "stdout",
     "output_type": "stream",
     "text": [
      ".\n",
      "================\n",
      "finish\n",
      "Output results into 'data/magnetism2/t1.2500875_J-0.6000000000000001/data.dat'\n"
     ]
    },
    {
     "name": "stderr",
     "output_type": "stream",
     "text": [
      "  obtained data shape: (10, 1)\n"
     ]
    },
    {
     "name": "stdout",
     "output_type": "stream",
     "text": [
      "............................."
     ]
    },
    {
     "name": "stderr",
     "output_type": "stream",
     "text": [
      "\n",
      "================\n",
      "h = 10.0\n",
      "Initializing MC...\n",
      "Warming up...\n"
     ]
    },
    {
     "name": "stdout",
     "output_type": "stream",
     "text": [
      ".\n",
      "================\n",
      "finish\n",
      "Output results into 'data/magnetism2/t1.5000850000000001_J-0.6000000000000001/data.dat'\n"
     ]
    },
    {
     "name": "stderr",
     "output_type": "stream",
     "text": [
      "  obtained data shape: (10, 1)\n"
     ]
    },
    {
     "name": "stdout",
     "output_type": "stream",
     "text": [
      "............................."
     ]
    },
    {
     "name": "stderr",
     "output_type": "stream",
     "text": [
      "\n",
      "================\n",
      "h = 10.0\n",
      "Initializing MC...\n",
      "Warming up...\n"
     ]
    },
    {
     "name": "stdout",
     "output_type": "stream",
     "text": [
      ".\n",
      "================\n",
      "finish\n",
      "Output results into 'data/magnetism2/t1.7500825_J-0.6000000000000001/data.dat'\n"
     ]
    },
    {
     "name": "stderr",
     "output_type": "stream",
     "text": [
      "  obtained data shape: (10, 1)\n"
     ]
    },
    {
     "name": "stdout",
     "output_type": "stream",
     "text": [
      "............................."
     ]
    },
    {
     "name": "stderr",
     "output_type": "stream",
     "text": [
      "\n",
      "================\n",
      "h = 10.0\n",
      "Initializing MC...\n",
      "Warming up...\n"
     ]
    },
    {
     "name": "stdout",
     "output_type": "stream",
     "text": [
      ".\n",
      "================\n",
      "finish\n",
      "Output results into 'data/magnetism2/t2.00008_J-0.6000000000000001/data.dat'\n"
     ]
    },
    {
     "name": "stderr",
     "output_type": "stream",
     "text": [
      "  obtained data shape: (10, 1)\n"
     ]
    },
    {
     "name": "stdout",
     "output_type": "stream",
     "text": [
      "............................."
     ]
    },
    {
     "name": "stderr",
     "output_type": "stream",
     "text": [
      "\n",
      "================\n",
      "h = 10.0\n",
      "Initializing MC...\n",
      "Warming up...\n"
     ]
    },
    {
     "name": "stdout",
     "output_type": "stream",
     "text": [
      ".\n",
      "================\n",
      "finish\n",
      "Output results into 'data/magnetism2/t2.2500775_J-0.6000000000000001/data.dat'\n"
     ]
    },
    {
     "name": "stderr",
     "output_type": "stream",
     "text": [
      "  obtained data shape: (10, 1)\n"
     ]
    },
    {
     "name": "stdout",
     "output_type": "stream",
     "text": [
      "............................."
     ]
    },
    {
     "name": "stderr",
     "output_type": "stream",
     "text": [
      "\n",
      "================\n",
      "h = 10.0\n",
      "Initializing MC...\n",
      "Warming up...\n"
     ]
    },
    {
     "name": "stdout",
     "output_type": "stream",
     "text": [
      ".\n",
      "================\n",
      "finish\n",
      "Output results into 'data/magnetism2/t2.5000750000000003_J-0.6000000000000001/data.dat'\n"
     ]
    },
    {
     "name": "stderr",
     "output_type": "stream",
     "text": [
      "  obtained data shape: (10, 1)\n"
     ]
    },
    {
     "name": "stdout",
     "output_type": "stream",
     "text": [
      "............................."
     ]
    },
    {
     "name": "stderr",
     "output_type": "stream",
     "text": [
      "\n",
      "================\n",
      "h = 10.0\n",
      "Initializing MC...\n",
      "Warming up...\n"
     ]
    },
    {
     "name": "stdout",
     "output_type": "stream",
     "text": [
      ".\n",
      "================\n",
      "finish\n",
      "Output results into 'data/magnetism2/t2.7500725000000004_J-0.6000000000000001/data.dat'\n"
     ]
    },
    {
     "name": "stderr",
     "output_type": "stream",
     "text": [
      "  obtained data shape: (10, 1)\n"
     ]
    },
    {
     "name": "stdout",
     "output_type": "stream",
     "text": [
      "............................."
     ]
    },
    {
     "name": "stderr",
     "output_type": "stream",
     "text": [
      "\n",
      "================\n",
      "h = 10.0\n",
      "Initializing MC...\n",
      "Warming up...\n"
     ]
    },
    {
     "name": "stdout",
     "output_type": "stream",
     "text": [
      ".\n",
      "================\n",
      "finish\n",
      "Output results into 'data/magnetism2/t3.0000700000000005_J-0.6000000000000001/data.dat'\n"
     ]
    },
    {
     "name": "stderr",
     "output_type": "stream",
     "text": [
      "  obtained data shape: (10, 1)\n"
     ]
    },
    {
     "name": "stdout",
     "output_type": "stream",
     "text": [
      "............................."
     ]
    },
    {
     "name": "stderr",
     "output_type": "stream",
     "text": [
      "\n",
      "================\n",
      "h = 10.0\n",
      "Initializing MC...\n",
      "Warming up...\n"
     ]
    },
    {
     "name": "stdout",
     "output_type": "stream",
     "text": [
      ".\n",
      "================\n",
      "finish\n",
      "Output results into 'data/magnetism2/t3.2500675000000006_J-0.6000000000000001/data.dat'\n"
     ]
    },
    {
     "name": "stderr",
     "output_type": "stream",
     "text": [
      "  obtained data shape: (10, 1)\n"
     ]
    },
    {
     "name": "stdout",
     "output_type": "stream",
     "text": [
      "............................."
     ]
    },
    {
     "name": "stderr",
     "output_type": "stream",
     "text": [
      "\n",
      "================\n",
      "h = 10.0\n",
      "Initializing MC...\n",
      "Warming up...\n"
     ]
    },
    {
     "name": "stdout",
     "output_type": "stream",
     "text": [
      ".\n",
      "================\n",
      "finish\n",
      "Output results into 'data/magnetism2/t3.500065_J-0.6000000000000001/data.dat'\n"
     ]
    },
    {
     "name": "stderr",
     "output_type": "stream",
     "text": [
      "  obtained data shape: (10, 1)\n"
     ]
    },
    {
     "name": "stdout",
     "output_type": "stream",
     "text": [
      "............................."
     ]
    },
    {
     "name": "stderr",
     "output_type": "stream",
     "text": [
      "\n",
      "================\n",
      "h = 10.0\n",
      "Initializing MC...\n",
      "Warming up...\n"
     ]
    },
    {
     "name": "stdout",
     "output_type": "stream",
     "text": [
      ".\n",
      "================\n",
      "finish\n",
      "Output results into 'data/magnetism2/t3.7500625000000003_J-0.6000000000000001/data.dat'\n"
     ]
    },
    {
     "name": "stderr",
     "output_type": "stream",
     "text": [
      "  obtained data shape: (10, 1)\n"
     ]
    },
    {
     "name": "stdout",
     "output_type": "stream",
     "text": [
      "............................."
     ]
    },
    {
     "name": "stderr",
     "output_type": "stream",
     "text": [
      "\n",
      "================\n",
      "h = 10.0\n",
      "Initializing MC...\n",
      "Warming up...\n"
     ]
    },
    {
     "name": "stdout",
     "output_type": "stream",
     "text": [
      ".\n",
      "================\n",
      "finish\n",
      "Output results into 'data/magnetism2/t4.00006_J-0.6000000000000001/data.dat'\n"
     ]
    },
    {
     "name": "stderr",
     "output_type": "stream",
     "text": [
      "  obtained data shape: (10, 1)\n"
     ]
    },
    {
     "name": "stdout",
     "output_type": "stream",
     "text": [
      "............................."
     ]
    },
    {
     "name": "stderr",
     "output_type": "stream",
     "text": [
      "\n",
      "================\n",
      "h = 10.0\n",
      "Initializing MC...\n",
      "Warming up...\n"
     ]
    },
    {
     "name": "stdout",
     "output_type": "stream",
     "text": [
      ".\n",
      "================\n",
      "finish\n",
      "Output results into 'data/magnetism2/t4.2500575_J-0.6000000000000001/data.dat'\n"
     ]
    },
    {
     "name": "stderr",
     "output_type": "stream",
     "text": [
      "  obtained data shape: (10, 1)\n"
     ]
    },
    {
     "name": "stdout",
     "output_type": "stream",
     "text": [
      "............................."
     ]
    },
    {
     "name": "stderr",
     "output_type": "stream",
     "text": [
      "\n",
      "================\n",
      "h = 10.0\n",
      "Initializing MC...\n",
      "Warming up...\n"
     ]
    },
    {
     "name": "stdout",
     "output_type": "stream",
     "text": [
      ".\n",
      "================\n",
      "finish\n",
      "Output results into 'data/magnetism2/t4.500055_J-0.6000000000000001/data.dat'\n"
     ]
    },
    {
     "name": "stderr",
     "output_type": "stream",
     "text": [
      "  obtained data shape: (10, 1)\n"
     ]
    },
    {
     "name": "stdout",
     "output_type": "stream",
     "text": [
      "............................."
     ]
    },
    {
     "name": "stderr",
     "output_type": "stream",
     "text": [
      "\n",
      "================\n",
      "h = 10.0\n",
      "Initializing MC...\n",
      "Warming up...\n"
     ]
    },
    {
     "name": "stdout",
     "output_type": "stream",
     "text": [
      ".\n",
      "================\n",
      "finish\n",
      "Output results into 'data/magnetism2/t4.7500525_J-0.6000000000000001/data.dat'\n"
     ]
    },
    {
     "name": "stderr",
     "output_type": "stream",
     "text": [
      "  obtained data shape: (10, 1)\n"
     ]
    },
    {
     "name": "stdout",
     "output_type": "stream",
     "text": [
      "............................."
     ]
    },
    {
     "name": "stderr",
     "output_type": "stream",
     "text": [
      "\n",
      "================\n",
      "h = 10.0\n",
      "Initializing MC...\n",
      "Warming up...\n"
     ]
    },
    {
     "name": "stdout",
     "output_type": "stream",
     "text": [
      ".\n",
      "================\n",
      "finish\n",
      "Output results into 'data/magnetism2/t5.00005_J-0.6000000000000001/data.dat'\n"
     ]
    },
    {
     "name": "stderr",
     "output_type": "stream",
     "text": [
      "  obtained data shape: (10, 1)\n"
     ]
    },
    {
     "name": "stdout",
     "output_type": "stream",
     "text": [
      "............................."
     ]
    },
    {
     "name": "stderr",
     "output_type": "stream",
     "text": [
      "\n",
      "================\n",
      "h = 10.0\n",
      "Initializing MC...\n",
      "Warming up...\n"
     ]
    },
    {
     "name": "stdout",
     "output_type": "stream",
     "text": [
      ".\n",
      "================\n",
      "finish\n",
      "Output results into 'data/magnetism2/t5.2500475_J-0.6000000000000001/data.dat'\n"
     ]
    },
    {
     "name": "stderr",
     "output_type": "stream",
     "text": [
      "  obtained data shape: (10, 1)\n"
     ]
    },
    {
     "name": "stdout",
     "output_type": "stream",
     "text": [
      "............................."
     ]
    },
    {
     "name": "stderr",
     "output_type": "stream",
     "text": [
      "\n",
      "================\n",
      "h = 10.0\n",
      "Initializing MC...\n",
      "Warming up...\n"
     ]
    },
    {
     "name": "stdout",
     "output_type": "stream",
     "text": [
      ".\n",
      "================\n",
      "finish\n",
      "Output results into 'data/magnetism2/t5.500045_J-0.6000000000000001/data.dat'\n"
     ]
    },
    {
     "name": "stderr",
     "output_type": "stream",
     "text": [
      "  obtained data shape: (10, 1)\n"
     ]
    },
    {
     "name": "stdout",
     "output_type": "stream",
     "text": [
      "............................."
     ]
    },
    {
     "name": "stderr",
     "output_type": "stream",
     "text": [
      "\n",
      "================\n",
      "h = 10.0\n",
      "Initializing MC...\n",
      "Warming up...\n"
     ]
    },
    {
     "name": "stdout",
     "output_type": "stream",
     "text": [
      ".\n",
      "================\n",
      "finish\n",
      "Output results into 'data/magnetism2/t5.7500425_J-0.6000000000000001/data.dat'\n"
     ]
    },
    {
     "name": "stderr",
     "output_type": "stream",
     "text": [
      "  obtained data shape: (10, 1)\n"
     ]
    },
    {
     "name": "stdout",
     "output_type": "stream",
     "text": [
      "............................."
     ]
    },
    {
     "name": "stderr",
     "output_type": "stream",
     "text": [
      "\n",
      "================\n",
      "h = 10.0\n",
      "Initializing MC...\n",
      "Warming up...\n"
     ]
    },
    {
     "name": "stdout",
     "output_type": "stream",
     "text": [
      ".\n",
      "================\n",
      "finish\n",
      "Output results into 'data/magnetism2/t6.00004_J-0.6000000000000001/data.dat'\n"
     ]
    },
    {
     "name": "stderr",
     "output_type": "stream",
     "text": [
      "  obtained data shape: (10, 1)\n"
     ]
    },
    {
     "name": "stdout",
     "output_type": "stream",
     "text": [
      "............................."
     ]
    },
    {
     "name": "stderr",
     "output_type": "stream",
     "text": [
      "\n",
      "================\n",
      "h = 10.0\n",
      "Initializing MC...\n",
      "Warming up...\n"
     ]
    },
    {
     "name": "stdout",
     "output_type": "stream",
     "text": [
      ".\n",
      "================\n",
      "finish\n",
      "Output results into 'data/magnetism2/t6.2500375_J-0.6000000000000001/data.dat'\n"
     ]
    },
    {
     "name": "stderr",
     "output_type": "stream",
     "text": [
      "  obtained data shape: (10, 1)\n"
     ]
    },
    {
     "name": "stdout",
     "output_type": "stream",
     "text": [
      "............................."
     ]
    },
    {
     "name": "stderr",
     "output_type": "stream",
     "text": [
      "\n",
      "================\n",
      "h = 10.0\n",
      "Initializing MC...\n",
      "Warming up...\n"
     ]
    },
    {
     "name": "stdout",
     "output_type": "stream",
     "text": [
      ".\n",
      "================\n",
      "finish\n",
      "Output results into 'data/magnetism2/t6.5000350000000005_J-0.6000000000000001/data.dat'\n"
     ]
    },
    {
     "name": "stderr",
     "output_type": "stream",
     "text": [
      "  obtained data shape: (10, 1)\n"
     ]
    },
    {
     "name": "stdout",
     "output_type": "stream",
     "text": [
      "............................."
     ]
    },
    {
     "name": "stderr",
     "output_type": "stream",
     "text": [
      "\n",
      "================\n",
      "h = 10.0\n",
      "Initializing MC...\n",
      "Warming up...\n"
     ]
    },
    {
     "name": "stdout",
     "output_type": "stream",
     "text": [
      ".\n",
      "================\n",
      "finish\n",
      "Output results into 'data/magnetism2/t6.7500325_J-0.6000000000000001/data.dat'\n"
     ]
    },
    {
     "name": "stderr",
     "output_type": "stream",
     "text": [
      "  obtained data shape: (10, 1)\n"
     ]
    },
    {
     "name": "stdout",
     "output_type": "stream",
     "text": [
      "............................."
     ]
    },
    {
     "name": "stderr",
     "output_type": "stream",
     "text": [
      "\n",
      "================\n",
      "h = 10.0\n",
      "Initializing MC...\n",
      "Warming up...\n"
     ]
    },
    {
     "name": "stdout",
     "output_type": "stream",
     "text": [
      ".\n",
      "================\n",
      "finish\n",
      "Output results into 'data/magnetism2/t7.00003_J-0.6000000000000001/data.dat'\n"
     ]
    },
    {
     "name": "stderr",
     "output_type": "stream",
     "text": [
      "  obtained data shape: (10, 1)\n"
     ]
    },
    {
     "name": "stdout",
     "output_type": "stream",
     "text": [
      "............................."
     ]
    },
    {
     "name": "stderr",
     "output_type": "stream",
     "text": [
      "\n",
      "================\n",
      "h = 10.0\n",
      "Initializing MC...\n",
      "Warming up...\n"
     ]
    },
    {
     "name": "stdout",
     "output_type": "stream",
     "text": [
      ".\n",
      "================\n",
      "finish\n",
      "Output results into 'data/magnetism2/t7.2500275_J-0.6000000000000001/data.dat'\n"
     ]
    },
    {
     "name": "stderr",
     "output_type": "stream",
     "text": [
      "  obtained data shape: (10, 1)\n"
     ]
    },
    {
     "name": "stdout",
     "output_type": "stream",
     "text": [
      "............................."
     ]
    },
    {
     "name": "stderr",
     "output_type": "stream",
     "text": [
      "\n",
      "================\n",
      "h = 10.0\n",
      "Initializing MC...\n",
      "Warming up...\n"
     ]
    },
    {
     "name": "stdout",
     "output_type": "stream",
     "text": [
      ".\n",
      "================\n",
      "finish\n",
      "Output results into 'data/magnetism2/t7.500025_J-0.6000000000000001/data.dat'\n"
     ]
    },
    {
     "name": "stderr",
     "output_type": "stream",
     "text": [
      "  obtained data shape: (10, 1)\n"
     ]
    },
    {
     "name": "stdout",
     "output_type": "stream",
     "text": [
      "............................."
     ]
    },
    {
     "name": "stderr",
     "output_type": "stream",
     "text": [
      "\n",
      "================\n",
      "h = 10.0\n",
      "Initializing MC...\n",
      "Warming up...\n"
     ]
    },
    {
     "name": "stdout",
     "output_type": "stream",
     "text": [
      ".\n",
      "================\n",
      "finish\n",
      "Output results into 'data/magnetism2/t7.7500225_J-0.6000000000000001/data.dat'\n"
     ]
    },
    {
     "name": "stderr",
     "output_type": "stream",
     "text": [
      "  obtained data shape: (10, 1)\n"
     ]
    },
    {
     "name": "stdout",
     "output_type": "stream",
     "text": [
      "............................."
     ]
    },
    {
     "name": "stderr",
     "output_type": "stream",
     "text": [
      "\n",
      "================\n",
      "h = 10.0\n",
      "Initializing MC...\n",
      "Warming up...\n"
     ]
    },
    {
     "name": "stdout",
     "output_type": "stream",
     "text": [
      ".\n",
      "================\n",
      "finish\n",
      "Output results into 'data/magnetism2/t8.000020000000001_J-0.6000000000000001/data.dat'\n"
     ]
    },
    {
     "name": "stderr",
     "output_type": "stream",
     "text": [
      "  obtained data shape: (10, 1)\n"
     ]
    },
    {
     "name": "stdout",
     "output_type": "stream",
     "text": [
      "............................."
     ]
    },
    {
     "name": "stderr",
     "output_type": "stream",
     "text": [
      "\n",
      "================\n",
      "h = 10.0\n",
      "Initializing MC...\n",
      "Warming up...\n"
     ]
    },
    {
     "name": "stdout",
     "output_type": "stream",
     "text": [
      ".\n",
      "================\n",
      "finish\n",
      "Output results into 'data/magnetism2/t8.2500175_J-0.6000000000000001/data.dat'\n"
     ]
    },
    {
     "name": "stderr",
     "output_type": "stream",
     "text": [
      "  obtained data shape: (10, 1)\n"
     ]
    },
    {
     "name": "stdout",
     "output_type": "stream",
     "text": [
      "............................."
     ]
    },
    {
     "name": "stderr",
     "output_type": "stream",
     "text": [
      "\n",
      "================\n",
      "h = 10.0\n",
      "Initializing MC...\n",
      "Warming up...\n"
     ]
    },
    {
     "name": "stdout",
     "output_type": "stream",
     "text": [
      ".\n",
      "================\n",
      "finish\n",
      "Output results into 'data/magnetism2/t8.500015_J-0.6000000000000001/data.dat'\n"
     ]
    },
    {
     "name": "stderr",
     "output_type": "stream",
     "text": [
      "  obtained data shape: (10, 1)\n"
     ]
    },
    {
     "name": "stdout",
     "output_type": "stream",
     "text": [
      "............................."
     ]
    },
    {
     "name": "stderr",
     "output_type": "stream",
     "text": [
      "\n",
      "================\n",
      "h = 10.0\n",
      "Initializing MC...\n",
      "Warming up...\n"
     ]
    },
    {
     "name": "stdout",
     "output_type": "stream",
     "text": [
      ".\n",
      "================\n",
      "finish\n",
      "Output results into 'data/magnetism2/t8.7500125_J-0.6000000000000001/data.dat'\n"
     ]
    },
    {
     "name": "stderr",
     "output_type": "stream",
     "text": [
      "  obtained data shape: (10, 1)\n"
     ]
    },
    {
     "name": "stdout",
     "output_type": "stream",
     "text": [
      "............................."
     ]
    },
    {
     "name": "stderr",
     "output_type": "stream",
     "text": [
      "\n",
      "================\n",
      "h = 10.0\n",
      "Initializing MC...\n",
      "Warming up...\n"
     ]
    },
    {
     "name": "stdout",
     "output_type": "stream",
     "text": [
      ".\n",
      "================\n",
      "finish\n",
      "Output results into 'data/magnetism2/t9.00001_J-0.6000000000000001/data.dat'\n"
     ]
    },
    {
     "name": "stderr",
     "output_type": "stream",
     "text": [
      "  obtained data shape: (10, 1)\n"
     ]
    },
    {
     "name": "stdout",
     "output_type": "stream",
     "text": [
      "............................."
     ]
    },
    {
     "name": "stderr",
     "output_type": "stream",
     "text": [
      "\n",
      "================\n",
      "h = 10.0\n",
      "Initializing MC...\n",
      "Warming up...\n"
     ]
    },
    {
     "name": "stdout",
     "output_type": "stream",
     "text": [
      ".\n",
      "================\n",
      "finish\n",
      "Output results into 'data/magnetism2/t9.2500075_J-0.6000000000000001/data.dat'\n"
     ]
    },
    {
     "name": "stderr",
     "output_type": "stream",
     "text": [
      "  obtained data shape: (10, 1)\n"
     ]
    },
    {
     "name": "stdout",
     "output_type": "stream",
     "text": [
      "............................."
     ]
    },
    {
     "name": "stderr",
     "output_type": "stream",
     "text": [
      "\n",
      "================\n",
      "h = 10.0\n",
      "Initializing MC...\n",
      "Warming up...\n"
     ]
    },
    {
     "name": "stdout",
     "output_type": "stream",
     "text": [
      ".\n",
      "================\n",
      "finish\n",
      "Output results into 'data/magnetism2/t9.500005_J-0.6000000000000001/data.dat'\n"
     ]
    },
    {
     "name": "stderr",
     "output_type": "stream",
     "text": [
      "  obtained data shape: (10, 1)\n"
     ]
    },
    {
     "name": "stdout",
     "output_type": "stream",
     "text": [
      "............................."
     ]
    },
    {
     "name": "stderr",
     "output_type": "stream",
     "text": [
      "\n",
      "================\n",
      "h = 10.0\n",
      "Initializing MC...\n",
      "Warming up...\n"
     ]
    },
    {
     "name": "stdout",
     "output_type": "stream",
     "text": [
      ".\n",
      "================\n",
      "finish\n",
      "Output results into 'data/magnetism2/t9.7500025_J-0.6000000000000001/data.dat'\n"
     ]
    },
    {
     "name": "stderr",
     "output_type": "stream",
     "text": [
      "  obtained data shape: (10, 1)\n"
     ]
    },
    {
     "name": "stdout",
     "output_type": "stream",
     "text": [
      "............................."
     ]
    },
    {
     "name": "stderr",
     "output_type": "stream",
     "text": [
      "\n",
      "================\n",
      "h = 10.0\n",
      "Initializing MC...\n",
      "/home/yakkuru/computer_physics/report/submit/report3/code/tool/supplement.py:42: RuntimeWarning: overflow encountered in exp\n",
      "  prob_dn.append(np.exp(2 * K * sum_sigma))\n",
      "/home/yakkuru/computer_physics/report/submit/report3/code/tool/supplement.py:41: RuntimeWarning: overflow encountered in exp\n",
      "  prob_up.append(np.exp(-2 * K * sum_sigma))\n",
      "Warming up...\n"
     ]
    },
    {
     "name": "stdout",
     "output_type": "stream",
     "text": [
      ".\n",
      "================\n",
      "finish\n",
      "Output results into 'data/magnetism2/t10.0_J-0.6000000000000001/data.dat'\n"
     ]
    },
    {
     "name": "stderr",
     "output_type": "stream",
     "text": [
      "/home/yakkuru/computer_physics/report/submit/report3/code/tool/measurement.py:46: RuntimeWarning: overflow encountered in exp\n",
      "  prob_field = np.exp(beta * h * measure(_mc))\n",
      "/home/yakkuru/computer_physics/report/submit/report3/code/tool/measurement.py:49: RuntimeWarning: invalid value encountered in multiply\n",
      "  return _mc.prob_up[num_up] * prob_field\n",
      "/home/yakkuru/computer_physics/report/submit/report3/code/tool/measurement.py:51: RuntimeWarning: invalid value encountered in multiply\n",
      "  return _mc.prob_dn[num_up] * prob_field\n",
      "  obtained data shape: (10, 1)\n"
     ]
    },
    {
     "name": "stdout",
     "output_type": "stream",
     "text": [
      "............................."
     ]
    },
    {
     "name": "stderr",
     "output_type": "stream",
     "text": [
      "\n",
      "================\n",
      "h = 10.0\n",
      "Initializing MC...\n",
      "Warming up...\n"
     ]
    },
    {
     "name": "stdout",
     "output_type": "stream",
     "text": [
      ".\n",
      "================\n",
      "finish\n",
      "Output results into 'data/magnetism2/t0.0001_J-0.7000000000000002/data.dat'\n"
     ]
    },
    {
     "name": "stderr",
     "output_type": "stream",
     "text": [
      "/home/yakkuru/computer_physics/report/submit/report3/code/tool/measurement.py:46: RuntimeWarning: overflow encountered in exp\n",
      "  prob_field = np.exp(beta * h * measure(_mc))\n",
      "  obtained data shape: (10, 1)\n"
     ]
    },
    {
     "name": "stdout",
     "output_type": "stream",
     "text": [
      ".."
     ]
    },
    {
     "name": "stderr",
     "output_type": "stream",
     "text": [
      "/home/yakkuru/computer_physics/report/submit/report3/code/tool/measurement.py:49: RuntimeWarning: overflow encountered in multiply\n",
      "  return _mc.prob_up[num_up] * prob_field\n"
     ]
    },
    {
     "name": "stdout",
     "output_type": "stream",
     "text": [
      "..........................."
     ]
    },
    {
     "name": "stderr",
     "output_type": "stream",
     "text": [
      "\n",
      "================\n",
      "h = 10.0\n",
      "Initializing MC...\n",
      "Warming up...\n"
     ]
    },
    {
     "name": "stdout",
     "output_type": "stream",
     "text": [
      ".\n",
      "================\n",
      "finish\n",
      "Output results into 'data/magnetism2/t0.25009750000000003_J-0.7000000000000002/data.dat'\n"
     ]
    },
    {
     "name": "stderr",
     "output_type": "stream",
     "text": [
      "  obtained data shape: (10, 1)\n"
     ]
    },
    {
     "name": "stdout",
     "output_type": "stream",
     "text": [
      "............................."
     ]
    },
    {
     "name": "stderr",
     "output_type": "stream",
     "text": [
      "\n",
      "================\n",
      "h = 10.0\n",
      "Initializing MC...\n",
      "Warming up...\n"
     ]
    },
    {
     "name": "stdout",
     "output_type": "stream",
     "text": [
      ".\n",
      "================\n",
      "finish\n",
      "Output results into 'data/magnetism2/t0.5000950000000001_J-0.7000000000000002/data.dat'\n"
     ]
    },
    {
     "name": "stderr",
     "output_type": "stream",
     "text": [
      "  obtained data shape: (10, 1)\n"
     ]
    },
    {
     "name": "stdout",
     "output_type": "stream",
     "text": [
      "............................."
     ]
    },
    {
     "name": "stderr",
     "output_type": "stream",
     "text": [
      "\n",
      "================\n",
      "h = 10.0\n",
      "Initializing MC...\n",
      "Warming up...\n"
     ]
    },
    {
     "name": "stdout",
     "output_type": "stream",
     "text": [
      ".\n",
      "================\n",
      "finish\n",
      "Output results into 'data/magnetism2/t0.7500925_J-0.7000000000000002/data.dat'\n"
     ]
    },
    {
     "name": "stderr",
     "output_type": "stream",
     "text": [
      "  obtained data shape: (10, 1)\n"
     ]
    },
    {
     "name": "stdout",
     "output_type": "stream",
     "text": [
      "............................."
     ]
    },
    {
     "name": "stderr",
     "output_type": "stream",
     "text": [
      "\n",
      "================\n",
      "h = 10.0\n",
      "Initializing MC...\n",
      "Warming up...\n"
     ]
    },
    {
     "name": "stdout",
     "output_type": "stream",
     "text": [
      ".\n",
      "================\n",
      "finish\n",
      "Output results into 'data/magnetism2/t1.0000900000000001_J-0.7000000000000002/data.dat'\n"
     ]
    },
    {
     "name": "stderr",
     "output_type": "stream",
     "text": [
      "  obtained data shape: (10, 1)\n"
     ]
    },
    {
     "name": "stdout",
     "output_type": "stream",
     "text": [
      "............................."
     ]
    },
    {
     "name": "stderr",
     "output_type": "stream",
     "text": [
      "\n",
      "================\n",
      "h = 10.0\n",
      "Initializing MC...\n",
      "Warming up...\n"
     ]
    },
    {
     "name": "stdout",
     "output_type": "stream",
     "text": [
      ".\n",
      "================\n",
      "finish\n",
      "Output results into 'data/magnetism2/t1.2500875_J-0.7000000000000002/data.dat'\n"
     ]
    },
    {
     "name": "stderr",
     "output_type": "stream",
     "text": [
      "  obtained data shape: (10, 1)\n"
     ]
    },
    {
     "name": "stdout",
     "output_type": "stream",
     "text": [
      "............................."
     ]
    },
    {
     "name": "stderr",
     "output_type": "stream",
     "text": [
      "\n",
      "================\n",
      "h = 10.0\n",
      "Initializing MC...\n",
      "Warming up...\n"
     ]
    },
    {
     "name": "stdout",
     "output_type": "stream",
     "text": [
      ".\n",
      "================\n",
      "finish\n",
      "Output results into 'data/magnetism2/t1.5000850000000001_J-0.7000000000000002/data.dat'\n"
     ]
    },
    {
     "name": "stderr",
     "output_type": "stream",
     "text": [
      "  obtained data shape: (10, 1)\n"
     ]
    },
    {
     "name": "stdout",
     "output_type": "stream",
     "text": [
      "............................."
     ]
    },
    {
     "name": "stderr",
     "output_type": "stream",
     "text": [
      "\n",
      "================\n",
      "h = 10.0\n",
      "Initializing MC...\n",
      "Warming up...\n"
     ]
    },
    {
     "name": "stdout",
     "output_type": "stream",
     "text": [
      ".\n",
      "================\n",
      "finish\n",
      "Output results into 'data/magnetism2/t1.7500825_J-0.7000000000000002/data.dat'\n"
     ]
    },
    {
     "name": "stderr",
     "output_type": "stream",
     "text": [
      "  obtained data shape: (10, 1)\n"
     ]
    },
    {
     "name": "stdout",
     "output_type": "stream",
     "text": [
      "............................."
     ]
    },
    {
     "name": "stderr",
     "output_type": "stream",
     "text": [
      "\n",
      "================\n",
      "h = 10.0\n",
      "Initializing MC...\n",
      "Warming up...\n"
     ]
    },
    {
     "name": "stdout",
     "output_type": "stream",
     "text": [
      ".\n",
      "================\n",
      "finish\n",
      "Output results into 'data/magnetism2/t2.00008_J-0.7000000000000002/data.dat'\n"
     ]
    },
    {
     "name": "stderr",
     "output_type": "stream",
     "text": [
      "  obtained data shape: (10, 1)\n"
     ]
    },
    {
     "name": "stdout",
     "output_type": "stream",
     "text": [
      "............................."
     ]
    },
    {
     "name": "stderr",
     "output_type": "stream",
     "text": [
      "\n",
      "================\n",
      "h = 10.0\n",
      "Initializing MC...\n",
      "Warming up...\n"
     ]
    },
    {
     "name": "stdout",
     "output_type": "stream",
     "text": [
      ".\n",
      "================\n",
      "finish\n",
      "Output results into 'data/magnetism2/t2.2500775_J-0.7000000000000002/data.dat'\n"
     ]
    },
    {
     "name": "stderr",
     "output_type": "stream",
     "text": [
      "  obtained data shape: (10, 1)\n"
     ]
    },
    {
     "name": "stdout",
     "output_type": "stream",
     "text": [
      "............................."
     ]
    },
    {
     "name": "stderr",
     "output_type": "stream",
     "text": [
      "\n",
      "================\n",
      "h = 10.0\n",
      "Initializing MC...\n",
      "Warming up...\n"
     ]
    },
    {
     "name": "stdout",
     "output_type": "stream",
     "text": [
      ".\n",
      "================\n",
      "finish\n",
      "Output results into 'data/magnetism2/t2.5000750000000003_J-0.7000000000000002/data.dat'\n"
     ]
    },
    {
     "name": "stderr",
     "output_type": "stream",
     "text": [
      "  obtained data shape: (10, 1)\n"
     ]
    },
    {
     "name": "stdout",
     "output_type": "stream",
     "text": [
      "............................."
     ]
    },
    {
     "name": "stderr",
     "output_type": "stream",
     "text": [
      "\n",
      "================\n",
      "h = 10.0\n",
      "Initializing MC...\n",
      "Warming up...\n"
     ]
    },
    {
     "name": "stdout",
     "output_type": "stream",
     "text": [
      ".\n",
      "================\n",
      "finish\n",
      "Output results into 'data/magnetism2/t2.7500725000000004_J-0.7000000000000002/data.dat'\n"
     ]
    },
    {
     "name": "stderr",
     "output_type": "stream",
     "text": [
      "  obtained data shape: (10, 1)\n"
     ]
    },
    {
     "name": "stdout",
     "output_type": "stream",
     "text": [
      "............................."
     ]
    },
    {
     "name": "stderr",
     "output_type": "stream",
     "text": [
      "\n",
      "================\n",
      "h = 10.0\n",
      "Initializing MC...\n",
      "Warming up...\n"
     ]
    },
    {
     "name": "stdout",
     "output_type": "stream",
     "text": [
      ".\n",
      "================\n",
      "finish\n",
      "Output results into 'data/magnetism2/t3.0000700000000005_J-0.7000000000000002/data.dat'\n"
     ]
    },
    {
     "name": "stderr",
     "output_type": "stream",
     "text": [
      "  obtained data shape: (10, 1)\n"
     ]
    },
    {
     "name": "stdout",
     "output_type": "stream",
     "text": [
      "............................."
     ]
    },
    {
     "name": "stderr",
     "output_type": "stream",
     "text": [
      "\n",
      "================\n",
      "h = 10.0\n",
      "Initializing MC...\n",
      "Warming up...\n"
     ]
    },
    {
     "name": "stdout",
     "output_type": "stream",
     "text": [
      ".\n",
      "================\n",
      "finish\n",
      "Output results into 'data/magnetism2/t3.2500675000000006_J-0.7000000000000002/data.dat'\n"
     ]
    },
    {
     "name": "stderr",
     "output_type": "stream",
     "text": [
      "  obtained data shape: (10, 1)\n"
     ]
    },
    {
     "name": "stdout",
     "output_type": "stream",
     "text": [
      "............................."
     ]
    },
    {
     "name": "stderr",
     "output_type": "stream",
     "text": [
      "\n",
      "================\n",
      "h = 10.0\n",
      "Initializing MC...\n",
      "Warming up...\n"
     ]
    },
    {
     "name": "stdout",
     "output_type": "stream",
     "text": [
      ".\n",
      "================\n",
      "finish\n",
      "Output results into 'data/magnetism2/t3.500065_J-0.7000000000000002/data.dat'\n"
     ]
    },
    {
     "name": "stderr",
     "output_type": "stream",
     "text": [
      "  obtained data shape: (10, 1)\n"
     ]
    },
    {
     "name": "stdout",
     "output_type": "stream",
     "text": [
      "............................."
     ]
    },
    {
     "name": "stderr",
     "output_type": "stream",
     "text": [
      "\n",
      "================\n",
      "h = 10.0\n",
      "Initializing MC...\n",
      "Warming up...\n"
     ]
    },
    {
     "name": "stdout",
     "output_type": "stream",
     "text": [
      ".\n",
      "================\n",
      "finish\n",
      "Output results into 'data/magnetism2/t3.7500625000000003_J-0.7000000000000002/data.dat'\n"
     ]
    },
    {
     "name": "stderr",
     "output_type": "stream",
     "text": [
      "  obtained data shape: (10, 1)\n"
     ]
    },
    {
     "name": "stdout",
     "output_type": "stream",
     "text": [
      "............................."
     ]
    },
    {
     "name": "stderr",
     "output_type": "stream",
     "text": [
      "\n",
      "================\n",
      "h = 10.0\n",
      "Initializing MC...\n",
      "Warming up...\n"
     ]
    },
    {
     "name": "stdout",
     "output_type": "stream",
     "text": [
      ".\n",
      "================\n",
      "finish\n",
      "Output results into 'data/magnetism2/t4.00006_J-0.7000000000000002/data.dat'\n"
     ]
    },
    {
     "name": "stderr",
     "output_type": "stream",
     "text": [
      "  obtained data shape: (10, 1)\n"
     ]
    },
    {
     "name": "stdout",
     "output_type": "stream",
     "text": [
      "............................."
     ]
    },
    {
     "name": "stderr",
     "output_type": "stream",
     "text": [
      "\n",
      "================\n",
      "h = 10.0\n",
      "Initializing MC...\n",
      "Warming up...\n"
     ]
    },
    {
     "name": "stdout",
     "output_type": "stream",
     "text": [
      ".\n",
      "================\n",
      "finish\n",
      "Output results into 'data/magnetism2/t4.2500575_J-0.7000000000000002/data.dat'\n"
     ]
    },
    {
     "name": "stderr",
     "output_type": "stream",
     "text": [
      "  obtained data shape: (10, 1)\n"
     ]
    },
    {
     "name": "stdout",
     "output_type": "stream",
     "text": [
      "............................."
     ]
    },
    {
     "name": "stderr",
     "output_type": "stream",
     "text": [
      "\n",
      "================\n",
      "h = 10.0\n",
      "Initializing MC...\n",
      "Warming up...\n"
     ]
    },
    {
     "name": "stdout",
     "output_type": "stream",
     "text": [
      ".\n",
      "================\n",
      "finish\n",
      "Output results into 'data/magnetism2/t4.500055_J-0.7000000000000002/data.dat'\n"
     ]
    },
    {
     "name": "stderr",
     "output_type": "stream",
     "text": [
      "  obtained data shape: (10, 1)\n"
     ]
    },
    {
     "name": "stdout",
     "output_type": "stream",
     "text": [
      "............................."
     ]
    },
    {
     "name": "stderr",
     "output_type": "stream",
     "text": [
      "\n",
      "================\n",
      "h = 10.0\n",
      "Initializing MC...\n",
      "Warming up...\n"
     ]
    },
    {
     "name": "stdout",
     "output_type": "stream",
     "text": [
      ".\n",
      "================\n",
      "finish\n",
      "Output results into 'data/magnetism2/t4.7500525_J-0.7000000000000002/data.dat'\n"
     ]
    },
    {
     "name": "stderr",
     "output_type": "stream",
     "text": [
      "  obtained data shape: (10, 1)\n"
     ]
    },
    {
     "name": "stdout",
     "output_type": "stream",
     "text": [
      "............................."
     ]
    },
    {
     "name": "stderr",
     "output_type": "stream",
     "text": [
      "\n",
      "================\n",
      "h = 10.0\n",
      "Initializing MC...\n",
      "Warming up...\n"
     ]
    },
    {
     "name": "stdout",
     "output_type": "stream",
     "text": [
      ".\n",
      "================\n",
      "finish\n",
      "Output results into 'data/magnetism2/t5.00005_J-0.7000000000000002/data.dat'\n"
     ]
    },
    {
     "name": "stderr",
     "output_type": "stream",
     "text": [
      "  obtained data shape: (10, 1)\n"
     ]
    },
    {
     "name": "stdout",
     "output_type": "stream",
     "text": [
      "............................."
     ]
    },
    {
     "name": "stderr",
     "output_type": "stream",
     "text": [
      "\n",
      "================\n",
      "h = 10.0\n",
      "Initializing MC...\n",
      "Warming up...\n"
     ]
    },
    {
     "name": "stdout",
     "output_type": "stream",
     "text": [
      ".\n",
      "================\n",
      "finish\n",
      "Output results into 'data/magnetism2/t5.2500475_J-0.7000000000000002/data.dat'\n"
     ]
    },
    {
     "name": "stderr",
     "output_type": "stream",
     "text": [
      "  obtained data shape: (10, 1)\n"
     ]
    },
    {
     "name": "stdout",
     "output_type": "stream",
     "text": [
      "............................."
     ]
    },
    {
     "name": "stderr",
     "output_type": "stream",
     "text": [
      "\n",
      "================\n",
      "h = 10.0\n",
      "Initializing MC...\n",
      "Warming up...\n"
     ]
    },
    {
     "name": "stdout",
     "output_type": "stream",
     "text": [
      ".\n",
      "================\n",
      "finish\n",
      "Output results into 'data/magnetism2/t5.500045_J-0.7000000000000002/data.dat'\n"
     ]
    },
    {
     "name": "stderr",
     "output_type": "stream",
     "text": [
      "  obtained data shape: (10, 1)\n"
     ]
    },
    {
     "name": "stdout",
     "output_type": "stream",
     "text": [
      "............................."
     ]
    },
    {
     "name": "stderr",
     "output_type": "stream",
     "text": [
      "\n",
      "================\n",
      "h = 10.0\n",
      "Initializing MC...\n",
      "Warming up...\n"
     ]
    },
    {
     "name": "stdout",
     "output_type": "stream",
     "text": [
      ".\n",
      "================\n",
      "finish\n",
      "Output results into 'data/magnetism2/t5.7500425_J-0.7000000000000002/data.dat'\n"
     ]
    },
    {
     "name": "stderr",
     "output_type": "stream",
     "text": [
      "  obtained data shape: (10, 1)\n"
     ]
    },
    {
     "name": "stdout",
     "output_type": "stream",
     "text": [
      "............................."
     ]
    },
    {
     "name": "stderr",
     "output_type": "stream",
     "text": [
      "\n",
      "================\n",
      "h = 10.0\n",
      "Initializing MC...\n",
      "Warming up...\n"
     ]
    },
    {
     "name": "stdout",
     "output_type": "stream",
     "text": [
      ".\n",
      "================\n",
      "finish\n",
      "Output results into 'data/magnetism2/t6.00004_J-0.7000000000000002/data.dat'\n"
     ]
    },
    {
     "name": "stderr",
     "output_type": "stream",
     "text": [
      "  obtained data shape: (10, 1)\n"
     ]
    },
    {
     "name": "stdout",
     "output_type": "stream",
     "text": [
      "............................."
     ]
    },
    {
     "name": "stderr",
     "output_type": "stream",
     "text": [
      "\n",
      "================\n",
      "h = 10.0\n",
      "Initializing MC...\n",
      "Warming up...\n"
     ]
    },
    {
     "name": "stdout",
     "output_type": "stream",
     "text": [
      ".\n",
      "================\n",
      "finish\n",
      "Output results into 'data/magnetism2/t6.2500375_J-0.7000000000000002/data.dat'\n"
     ]
    },
    {
     "name": "stderr",
     "output_type": "stream",
     "text": [
      "  obtained data shape: (10, 1)\n"
     ]
    },
    {
     "name": "stdout",
     "output_type": "stream",
     "text": [
      "............................."
     ]
    },
    {
     "name": "stderr",
     "output_type": "stream",
     "text": [
      "\n",
      "================\n",
      "h = 10.0\n",
      "Initializing MC...\n",
      "Warming up...\n"
     ]
    },
    {
     "name": "stdout",
     "output_type": "stream",
     "text": [
      ".\n",
      "================\n",
      "finish\n",
      "Output results into 'data/magnetism2/t6.5000350000000005_J-0.7000000000000002/data.dat'\n"
     ]
    },
    {
     "name": "stderr",
     "output_type": "stream",
     "text": [
      "  obtained data shape: (10, 1)\n"
     ]
    },
    {
     "name": "stdout",
     "output_type": "stream",
     "text": [
      "............................."
     ]
    },
    {
     "name": "stderr",
     "output_type": "stream",
     "text": [
      "\n",
      "================\n",
      "h = 10.0\n",
      "Initializing MC...\n",
      "Warming up...\n"
     ]
    },
    {
     "name": "stdout",
     "output_type": "stream",
     "text": [
      ".\n",
      "================\n",
      "finish\n",
      "Output results into 'data/magnetism2/t6.7500325_J-0.7000000000000002/data.dat'\n"
     ]
    },
    {
     "name": "stderr",
     "output_type": "stream",
     "text": [
      "  obtained data shape: (10, 1)\n"
     ]
    },
    {
     "name": "stdout",
     "output_type": "stream",
     "text": [
      "............................."
     ]
    },
    {
     "name": "stderr",
     "output_type": "stream",
     "text": [
      "\n",
      "================\n",
      "h = 10.0\n",
      "Initializing MC...\n",
      "Warming up...\n"
     ]
    },
    {
     "name": "stdout",
     "output_type": "stream",
     "text": [
      ".\n",
      "================\n",
      "finish\n",
      "Output results into 'data/magnetism2/t7.00003_J-0.7000000000000002/data.dat'\n"
     ]
    },
    {
     "name": "stderr",
     "output_type": "stream",
     "text": [
      "  obtained data shape: (10, 1)\n"
     ]
    },
    {
     "name": "stdout",
     "output_type": "stream",
     "text": [
      "............................."
     ]
    },
    {
     "name": "stderr",
     "output_type": "stream",
     "text": [
      "\n",
      "================\n",
      "h = 10.0\n",
      "Initializing MC...\n",
      "Warming up...\n"
     ]
    },
    {
     "name": "stdout",
     "output_type": "stream",
     "text": [
      ".\n",
      "================\n",
      "finish\n",
      "Output results into 'data/magnetism2/t7.2500275_J-0.7000000000000002/data.dat'\n"
     ]
    },
    {
     "name": "stderr",
     "output_type": "stream",
     "text": [
      "  obtained data shape: (10, 1)\n"
     ]
    },
    {
     "name": "stdout",
     "output_type": "stream",
     "text": [
      "............................."
     ]
    },
    {
     "name": "stderr",
     "output_type": "stream",
     "text": [
      "\n",
      "================\n",
      "h = 10.0\n",
      "Initializing MC...\n",
      "Warming up...\n"
     ]
    },
    {
     "name": "stdout",
     "output_type": "stream",
     "text": [
      ".\n",
      "================\n",
      "finish\n",
      "Output results into 'data/magnetism2/t7.500025_J-0.7000000000000002/data.dat'\n"
     ]
    },
    {
     "name": "stderr",
     "output_type": "stream",
     "text": [
      "  obtained data shape: (10, 1)\n"
     ]
    },
    {
     "name": "stdout",
     "output_type": "stream",
     "text": [
      "............................."
     ]
    },
    {
     "name": "stderr",
     "output_type": "stream",
     "text": [
      "\n",
      "================\n",
      "h = 10.0\n",
      "Initializing MC...\n",
      "Warming up...\n"
     ]
    },
    {
     "name": "stdout",
     "output_type": "stream",
     "text": [
      ".\n",
      "================\n",
      "finish\n",
      "Output results into 'data/magnetism2/t7.7500225_J-0.7000000000000002/data.dat'\n"
     ]
    },
    {
     "name": "stderr",
     "output_type": "stream",
     "text": [
      "  obtained data shape: (10, 1)\n"
     ]
    },
    {
     "name": "stdout",
     "output_type": "stream",
     "text": [
      "............................."
     ]
    },
    {
     "name": "stderr",
     "output_type": "stream",
     "text": [
      "\n",
      "================\n",
      "h = 10.0\n",
      "Initializing MC...\n",
      "Warming up...\n"
     ]
    },
    {
     "name": "stdout",
     "output_type": "stream",
     "text": [
      ".\n",
      "================\n",
      "finish\n",
      "Output results into 'data/magnetism2/t8.000020000000001_J-0.7000000000000002/data.dat'\n"
     ]
    },
    {
     "name": "stderr",
     "output_type": "stream",
     "text": [
      "  obtained data shape: (10, 1)\n"
     ]
    },
    {
     "name": "stdout",
     "output_type": "stream",
     "text": [
      "............................."
     ]
    },
    {
     "name": "stderr",
     "output_type": "stream",
     "text": [
      "\n",
      "================\n",
      "h = 10.0\n",
      "Initializing MC...\n",
      "Warming up...\n"
     ]
    },
    {
     "name": "stdout",
     "output_type": "stream",
     "text": [
      ".\n",
      "================\n",
      "finish\n",
      "Output results into 'data/magnetism2/t8.2500175_J-0.7000000000000002/data.dat'\n"
     ]
    },
    {
     "name": "stderr",
     "output_type": "stream",
     "text": [
      "  obtained data shape: (10, 1)\n"
     ]
    },
    {
     "name": "stdout",
     "output_type": "stream",
     "text": [
      "............................."
     ]
    },
    {
     "name": "stderr",
     "output_type": "stream",
     "text": [
      "\n",
      "================\n",
      "h = 10.0\n",
      "Initializing MC...\n",
      "Warming up...\n"
     ]
    },
    {
     "name": "stdout",
     "output_type": "stream",
     "text": [
      ".\n",
      "================\n",
      "finish\n",
      "Output results into 'data/magnetism2/t8.500015_J-0.7000000000000002/data.dat'\n"
     ]
    },
    {
     "name": "stderr",
     "output_type": "stream",
     "text": [
      "  obtained data shape: (10, 1)\n"
     ]
    },
    {
     "name": "stdout",
     "output_type": "stream",
     "text": [
      "............................."
     ]
    },
    {
     "name": "stderr",
     "output_type": "stream",
     "text": [
      "\n",
      "================\n",
      "h = 10.0\n",
      "Initializing MC...\n",
      "Warming up...\n"
     ]
    },
    {
     "name": "stdout",
     "output_type": "stream",
     "text": [
      ".\n",
      "================\n",
      "finish\n",
      "Output results into 'data/magnetism2/t8.7500125_J-0.7000000000000002/data.dat'\n"
     ]
    },
    {
     "name": "stderr",
     "output_type": "stream",
     "text": [
      "  obtained data shape: (10, 1)\n"
     ]
    },
    {
     "name": "stdout",
     "output_type": "stream",
     "text": [
      "............................."
     ]
    },
    {
     "name": "stderr",
     "output_type": "stream",
     "text": [
      "\n",
      "================\n",
      "h = 10.0\n",
      "Initializing MC...\n",
      "Warming up...\n"
     ]
    },
    {
     "name": "stdout",
     "output_type": "stream",
     "text": [
      ".\n",
      "================\n",
      "finish\n",
      "Output results into 'data/magnetism2/t9.00001_J-0.7000000000000002/data.dat'\n"
     ]
    },
    {
     "name": "stderr",
     "output_type": "stream",
     "text": [
      "  obtained data shape: (10, 1)\n"
     ]
    },
    {
     "name": "stdout",
     "output_type": "stream",
     "text": [
      "............................."
     ]
    },
    {
     "name": "stderr",
     "output_type": "stream",
     "text": [
      "\n",
      "================\n",
      "h = 10.0\n",
      "Initializing MC...\n",
      "Warming up...\n"
     ]
    },
    {
     "name": "stdout",
     "output_type": "stream",
     "text": [
      ".\n",
      "================\n",
      "finish\n",
      "Output results into 'data/magnetism2/t9.2500075_J-0.7000000000000002/data.dat'\n"
     ]
    },
    {
     "name": "stderr",
     "output_type": "stream",
     "text": [
      "  obtained data shape: (10, 1)\n"
     ]
    },
    {
     "name": "stdout",
     "output_type": "stream",
     "text": [
      "............................."
     ]
    },
    {
     "name": "stderr",
     "output_type": "stream",
     "text": [
      "\n",
      "================\n",
      "h = 10.0\n",
      "Initializing MC...\n",
      "Warming up...\n"
     ]
    },
    {
     "name": "stdout",
     "output_type": "stream",
     "text": [
      ".\n",
      "================\n",
      "finish\n",
      "Output results into 'data/magnetism2/t9.500005_J-0.7000000000000002/data.dat'\n"
     ]
    },
    {
     "name": "stderr",
     "output_type": "stream",
     "text": [
      "  obtained data shape: (10, 1)\n"
     ]
    },
    {
     "name": "stdout",
     "output_type": "stream",
     "text": [
      "............................."
     ]
    },
    {
     "name": "stderr",
     "output_type": "stream",
     "text": [
      "\n",
      "================\n",
      "h = 10.0\n",
      "Initializing MC...\n",
      "Warming up...\n"
     ]
    },
    {
     "name": "stdout",
     "output_type": "stream",
     "text": [
      ".\n",
      "================\n",
      "finish\n",
      "Output results into 'data/magnetism2/t9.7500025_J-0.7000000000000002/data.dat'\n"
     ]
    },
    {
     "name": "stderr",
     "output_type": "stream",
     "text": [
      "  obtained data shape: (10, 1)\n"
     ]
    },
    {
     "name": "stdout",
     "output_type": "stream",
     "text": [
      "............................."
     ]
    },
    {
     "name": "stderr",
     "output_type": "stream",
     "text": [
      "\n",
      "================\n",
      "h = 10.0\n",
      "Initializing MC...\n",
      "/home/yakkuru/computer_physics/report/submit/report3/code/tool/supplement.py:42: RuntimeWarning: overflow encountered in exp\n",
      "  prob_dn.append(np.exp(2 * K * sum_sigma))\n",
      "/home/yakkuru/computer_physics/report/submit/report3/code/tool/supplement.py:41: RuntimeWarning: overflow encountered in exp\n",
      "  prob_up.append(np.exp(-2 * K * sum_sigma))\n",
      "Warming up...\n"
     ]
    },
    {
     "name": "stdout",
     "output_type": "stream",
     "text": [
      ".\n",
      "================\n",
      "finish\n",
      "Output results into 'data/magnetism2/t10.0_J-0.7000000000000002/data.dat'\n"
     ]
    },
    {
     "name": "stderr",
     "output_type": "stream",
     "text": [
      "/home/yakkuru/computer_physics/report/submit/report3/code/tool/measurement.py:46: RuntimeWarning: overflow encountered in exp\n",
      "  prob_field = np.exp(beta * h * measure(_mc))\n",
      "/home/yakkuru/computer_physics/report/submit/report3/code/tool/measurement.py:49: RuntimeWarning: invalid value encountered in multiply\n",
      "  return _mc.prob_up[num_up] * prob_field\n",
      "/home/yakkuru/computer_physics/report/submit/report3/code/tool/measurement.py:51: RuntimeWarning: invalid value encountered in multiply\n",
      "  return _mc.prob_dn[num_up] * prob_field\n",
      "  obtained data shape: (10, 1)\n"
     ]
    },
    {
     "name": "stdout",
     "output_type": "stream",
     "text": [
      "............................."
     ]
    },
    {
     "name": "stderr",
     "output_type": "stream",
     "text": [
      "\n",
      "================\n",
      "h = 10.0\n",
      "Initializing MC...\n",
      "Warming up...\n"
     ]
    },
    {
     "name": "stdout",
     "output_type": "stream",
     "text": [
      ".\n",
      "================\n",
      "finish\n",
      "Output results into 'data/magnetism2/t0.0001_J-0.8/data.dat'\n"
     ]
    },
    {
     "name": "stderr",
     "output_type": "stream",
     "text": [
      "/home/yakkuru/computer_physics/report/submit/report3/code/tool/measurement.py:46: RuntimeWarning: overflow encountered in exp\n",
      "  prob_field = np.exp(beta * h * measure(_mc))\n",
      "  obtained data shape: (10, 1)\n"
     ]
    },
    {
     "name": "stdout",
     "output_type": "stream",
     "text": [
      ".."
     ]
    },
    {
     "name": "stderr",
     "output_type": "stream",
     "text": [
      "/home/yakkuru/computer_physics/report/submit/report3/code/tool/measurement.py:49: RuntimeWarning: overflow encountered in multiply\n",
      "  return _mc.prob_up[num_up] * prob_field\n"
     ]
    },
    {
     "name": "stdout",
     "output_type": "stream",
     "text": [
      "..........................."
     ]
    },
    {
     "name": "stderr",
     "output_type": "stream",
     "text": [
      "\n",
      "================\n",
      "h = 10.0\n",
      "Initializing MC...\n",
      "Warming up...\n"
     ]
    },
    {
     "name": "stdout",
     "output_type": "stream",
     "text": [
      ".\n",
      "================\n",
      "finish\n",
      "Output results into 'data/magnetism2/t0.25009750000000003_J-0.8/data.dat'\n"
     ]
    },
    {
     "name": "stderr",
     "output_type": "stream",
     "text": [
      "  obtained data shape: (10, 1)\n"
     ]
    },
    {
     "name": "stdout",
     "output_type": "stream",
     "text": [
      "............................."
     ]
    },
    {
     "name": "stderr",
     "output_type": "stream",
     "text": [
      "\n",
      "================\n",
      "h = 10.0\n",
      "Initializing MC...\n",
      "Warming up...\n"
     ]
    },
    {
     "name": "stdout",
     "output_type": "stream",
     "text": [
      ".\n",
      "================\n",
      "finish\n",
      "Output results into 'data/magnetism2/t0.5000950000000001_J-0.8/data.dat'\n"
     ]
    },
    {
     "name": "stderr",
     "output_type": "stream",
     "text": [
      "  obtained data shape: (10, 1)\n"
     ]
    },
    {
     "name": "stdout",
     "output_type": "stream",
     "text": [
      "............................."
     ]
    },
    {
     "name": "stderr",
     "output_type": "stream",
     "text": [
      "\n",
      "================\n",
      "h = 10.0\n",
      "Initializing MC...\n",
      "Warming up...\n"
     ]
    },
    {
     "name": "stdout",
     "output_type": "stream",
     "text": [
      ".\n",
      "================\n",
      "finish\n",
      "Output results into 'data/magnetism2/t0.7500925_J-0.8/data.dat'\n"
     ]
    },
    {
     "name": "stderr",
     "output_type": "stream",
     "text": [
      "  obtained data shape: (10, 1)\n"
     ]
    },
    {
     "name": "stdout",
     "output_type": "stream",
     "text": [
      "............................."
     ]
    },
    {
     "name": "stderr",
     "output_type": "stream",
     "text": [
      "\n",
      "================\n",
      "h = 10.0\n",
      "Initializing MC...\n",
      "Warming up...\n"
     ]
    },
    {
     "name": "stdout",
     "output_type": "stream",
     "text": [
      ".\n",
      "================\n",
      "finish\n",
      "Output results into 'data/magnetism2/t1.0000900000000001_J-0.8/data.dat'\n"
     ]
    },
    {
     "name": "stderr",
     "output_type": "stream",
     "text": [
      "  obtained data shape: (10, 1)\n"
     ]
    },
    {
     "name": "stdout",
     "output_type": "stream",
     "text": [
      "............................."
     ]
    },
    {
     "name": "stderr",
     "output_type": "stream",
     "text": [
      "\n",
      "================\n",
      "h = 10.0\n",
      "Initializing MC...\n",
      "Warming up...\n"
     ]
    },
    {
     "name": "stdout",
     "output_type": "stream",
     "text": [
      ".\n",
      "================\n",
      "finish\n",
      "Output results into 'data/magnetism2/t1.2500875_J-0.8/data.dat'\n"
     ]
    },
    {
     "name": "stderr",
     "output_type": "stream",
     "text": [
      "  obtained data shape: (10, 1)\n"
     ]
    },
    {
     "name": "stdout",
     "output_type": "stream",
     "text": [
      "............................."
     ]
    },
    {
     "name": "stderr",
     "output_type": "stream",
     "text": [
      "\n",
      "================\n",
      "h = 10.0\n",
      "Initializing MC...\n",
      "Warming up...\n"
     ]
    },
    {
     "name": "stdout",
     "output_type": "stream",
     "text": [
      ".\n",
      "================\n",
      "finish\n",
      "Output results into 'data/magnetism2/t1.5000850000000001_J-0.8/data.dat'\n"
     ]
    },
    {
     "name": "stderr",
     "output_type": "stream",
     "text": [
      "  obtained data shape: (10, 1)\n"
     ]
    },
    {
     "name": "stdout",
     "output_type": "stream",
     "text": [
      "............................."
     ]
    },
    {
     "name": "stderr",
     "output_type": "stream",
     "text": [
      "\n",
      "================\n",
      "h = 10.0\n",
      "Initializing MC...\n",
      "Warming up...\n"
     ]
    },
    {
     "name": "stdout",
     "output_type": "stream",
     "text": [
      ".\n",
      "================\n",
      "finish\n",
      "Output results into 'data/magnetism2/t1.7500825_J-0.8/data.dat'\n"
     ]
    },
    {
     "name": "stderr",
     "output_type": "stream",
     "text": [
      "  obtained data shape: (10, 1)\n"
     ]
    },
    {
     "name": "stdout",
     "output_type": "stream",
     "text": [
      "............................."
     ]
    },
    {
     "name": "stderr",
     "output_type": "stream",
     "text": [
      "\n",
      "================\n",
      "h = 10.0\n",
      "Initializing MC...\n",
      "Warming up...\n"
     ]
    },
    {
     "name": "stdout",
     "output_type": "stream",
     "text": [
      ".\n",
      "================\n",
      "finish\n",
      "Output results into 'data/magnetism2/t2.00008_J-0.8/data.dat'\n"
     ]
    },
    {
     "name": "stderr",
     "output_type": "stream",
     "text": [
      "  obtained data shape: (10, 1)\n"
     ]
    },
    {
     "name": "stdout",
     "output_type": "stream",
     "text": [
      "............................."
     ]
    },
    {
     "name": "stderr",
     "output_type": "stream",
     "text": [
      "\n",
      "================\n",
      "h = 10.0\n",
      "Initializing MC...\n",
      "Warming up...\n"
     ]
    },
    {
     "name": "stdout",
     "output_type": "stream",
     "text": [
      ".\n",
      "================\n",
      "finish\n",
      "Output results into 'data/magnetism2/t2.2500775_J-0.8/data.dat'\n"
     ]
    },
    {
     "name": "stderr",
     "output_type": "stream",
     "text": [
      "  obtained data shape: (10, 1)\n"
     ]
    },
    {
     "name": "stdout",
     "output_type": "stream",
     "text": [
      "............................."
     ]
    },
    {
     "name": "stderr",
     "output_type": "stream",
     "text": [
      "\n",
      "================\n",
      "h = 10.0\n",
      "Initializing MC...\n",
      "Warming up...\n"
     ]
    },
    {
     "name": "stdout",
     "output_type": "stream",
     "text": [
      ".\n",
      "================\n",
      "finish\n",
      "Output results into 'data/magnetism2/t2.5000750000000003_J-0.8/data.dat'\n"
     ]
    },
    {
     "name": "stderr",
     "output_type": "stream",
     "text": [
      "  obtained data shape: (10, 1)\n"
     ]
    },
    {
     "name": "stdout",
     "output_type": "stream",
     "text": [
      "............................."
     ]
    },
    {
     "name": "stderr",
     "output_type": "stream",
     "text": [
      "\n",
      "================\n",
      "h = 10.0\n",
      "Initializing MC...\n",
      "Warming up...\n"
     ]
    },
    {
     "name": "stdout",
     "output_type": "stream",
     "text": [
      ".\n",
      "================\n",
      "finish\n",
      "Output results into 'data/magnetism2/t2.7500725000000004_J-0.8/data.dat'\n"
     ]
    },
    {
     "name": "stderr",
     "output_type": "stream",
     "text": [
      "  obtained data shape: (10, 1)\n"
     ]
    },
    {
     "name": "stdout",
     "output_type": "stream",
     "text": [
      "............................."
     ]
    },
    {
     "name": "stderr",
     "output_type": "stream",
     "text": [
      "\n",
      "================\n",
      "h = 10.0\n",
      "Initializing MC...\n",
      "Warming up...\n"
     ]
    },
    {
     "name": "stdout",
     "output_type": "stream",
     "text": [
      ".\n",
      "================\n",
      "finish\n",
      "Output results into 'data/magnetism2/t3.0000700000000005_J-0.8/data.dat'\n"
     ]
    },
    {
     "name": "stderr",
     "output_type": "stream",
     "text": [
      "  obtained data shape: (10, 1)\n"
     ]
    },
    {
     "name": "stdout",
     "output_type": "stream",
     "text": [
      "............................."
     ]
    },
    {
     "name": "stderr",
     "output_type": "stream",
     "text": [
      "\n",
      "================\n",
      "h = 10.0\n",
      "Initializing MC...\n",
      "Warming up...\n"
     ]
    },
    {
     "name": "stdout",
     "output_type": "stream",
     "text": [
      ".\n",
      "================\n",
      "finish\n",
      "Output results into 'data/magnetism2/t3.2500675000000006_J-0.8/data.dat'\n"
     ]
    },
    {
     "name": "stderr",
     "output_type": "stream",
     "text": [
      "  obtained data shape: (10, 1)\n"
     ]
    },
    {
     "name": "stdout",
     "output_type": "stream",
     "text": [
      "............................."
     ]
    },
    {
     "name": "stderr",
     "output_type": "stream",
     "text": [
      "\n",
      "================\n",
      "h = 10.0\n",
      "Initializing MC...\n",
      "Warming up...\n"
     ]
    },
    {
     "name": "stdout",
     "output_type": "stream",
     "text": [
      ".\n",
      "================\n",
      "finish\n",
      "Output results into 'data/magnetism2/t3.500065_J-0.8/data.dat'\n"
     ]
    },
    {
     "name": "stderr",
     "output_type": "stream",
     "text": [
      "  obtained data shape: (10, 1)\n"
     ]
    },
    {
     "name": "stdout",
     "output_type": "stream",
     "text": [
      "............................."
     ]
    },
    {
     "name": "stderr",
     "output_type": "stream",
     "text": [
      "\n",
      "================\n",
      "h = 10.0\n",
      "Initializing MC...\n",
      "Warming up...\n"
     ]
    },
    {
     "name": "stdout",
     "output_type": "stream",
     "text": [
      ".\n",
      "================\n",
      "finish\n",
      "Output results into 'data/magnetism2/t3.7500625000000003_J-0.8/data.dat'\n"
     ]
    },
    {
     "name": "stderr",
     "output_type": "stream",
     "text": [
      "  obtained data shape: (10, 1)\n"
     ]
    },
    {
     "name": "stdout",
     "output_type": "stream",
     "text": [
      "............................."
     ]
    },
    {
     "name": "stderr",
     "output_type": "stream",
     "text": [
      "\n",
      "================\n",
      "h = 10.0\n",
      "Initializing MC...\n",
      "Warming up...\n"
     ]
    },
    {
     "name": "stdout",
     "output_type": "stream",
     "text": [
      ".\n",
      "================\n",
      "finish\n",
      "Output results into 'data/magnetism2/t4.00006_J-0.8/data.dat'\n"
     ]
    },
    {
     "name": "stderr",
     "output_type": "stream",
     "text": [
      "  obtained data shape: (10, 1)\n"
     ]
    },
    {
     "name": "stdout",
     "output_type": "stream",
     "text": [
      "............................."
     ]
    },
    {
     "name": "stderr",
     "output_type": "stream",
     "text": [
      "\n",
      "================\n",
      "h = 10.0\n",
      "Initializing MC...\n",
      "Warming up...\n"
     ]
    },
    {
     "name": "stdout",
     "output_type": "stream",
     "text": [
      ".\n",
      "================\n",
      "finish\n",
      "Output results into 'data/magnetism2/t4.2500575_J-0.8/data.dat'\n"
     ]
    },
    {
     "name": "stderr",
     "output_type": "stream",
     "text": [
      "  obtained data shape: (10, 1)\n"
     ]
    },
    {
     "name": "stdout",
     "output_type": "stream",
     "text": [
      "............................."
     ]
    },
    {
     "name": "stderr",
     "output_type": "stream",
     "text": [
      "\n",
      "================\n",
      "h = 10.0\n",
      "Initializing MC...\n",
      "Warming up...\n"
     ]
    },
    {
     "name": "stdout",
     "output_type": "stream",
     "text": [
      ".\n",
      "================\n",
      "finish\n",
      "Output results into 'data/magnetism2/t4.500055_J-0.8/data.dat'\n"
     ]
    },
    {
     "name": "stderr",
     "output_type": "stream",
     "text": [
      "  obtained data shape: (10, 1)\n"
     ]
    },
    {
     "name": "stdout",
     "output_type": "stream",
     "text": [
      "............................."
     ]
    },
    {
     "name": "stderr",
     "output_type": "stream",
     "text": [
      "\n",
      "================\n",
      "h = 10.0\n",
      "Initializing MC...\n",
      "Warming up...\n"
     ]
    },
    {
     "name": "stdout",
     "output_type": "stream",
     "text": [
      ".\n",
      "================\n",
      "finish\n",
      "Output results into 'data/magnetism2/t4.7500525_J-0.8/data.dat'\n"
     ]
    },
    {
     "name": "stderr",
     "output_type": "stream",
     "text": [
      "  obtained data shape: (10, 1)\n"
     ]
    },
    {
     "name": "stdout",
     "output_type": "stream",
     "text": [
      "............................."
     ]
    },
    {
     "name": "stderr",
     "output_type": "stream",
     "text": [
      "\n",
      "================\n",
      "h = 10.0\n",
      "Initializing MC...\n",
      "Warming up...\n"
     ]
    },
    {
     "name": "stdout",
     "output_type": "stream",
     "text": [
      ".\n",
      "================\n",
      "finish\n",
      "Output results into 'data/magnetism2/t5.00005_J-0.8/data.dat'\n"
     ]
    },
    {
     "name": "stderr",
     "output_type": "stream",
     "text": [
      "  obtained data shape: (10, 1)\n"
     ]
    },
    {
     "name": "stdout",
     "output_type": "stream",
     "text": [
      "............................."
     ]
    },
    {
     "name": "stderr",
     "output_type": "stream",
     "text": [
      "\n",
      "================\n",
      "h = 10.0\n",
      "Initializing MC...\n",
      "Warming up...\n"
     ]
    },
    {
     "name": "stdout",
     "output_type": "stream",
     "text": [
      ".\n",
      "================\n",
      "finish\n",
      "Output results into 'data/magnetism2/t5.2500475_J-0.8/data.dat'\n"
     ]
    },
    {
     "name": "stderr",
     "output_type": "stream",
     "text": [
      "  obtained data shape: (10, 1)\n"
     ]
    },
    {
     "name": "stdout",
     "output_type": "stream",
     "text": [
      "............................."
     ]
    },
    {
     "name": "stderr",
     "output_type": "stream",
     "text": [
      "\n",
      "================\n",
      "h = 10.0\n",
      "Initializing MC...\n",
      "Warming up...\n"
     ]
    },
    {
     "name": "stdout",
     "output_type": "stream",
     "text": [
      ".\n",
      "================\n",
      "finish\n",
      "Output results into 'data/magnetism2/t5.500045_J-0.8/data.dat'\n"
     ]
    },
    {
     "name": "stderr",
     "output_type": "stream",
     "text": [
      "  obtained data shape: (10, 1)\n"
     ]
    },
    {
     "name": "stdout",
     "output_type": "stream",
     "text": [
      "............................."
     ]
    },
    {
     "name": "stderr",
     "output_type": "stream",
     "text": [
      "\n",
      "================\n",
      "h = 10.0\n",
      "Initializing MC...\n",
      "Warming up...\n"
     ]
    },
    {
     "name": "stdout",
     "output_type": "stream",
     "text": [
      ".\n",
      "================\n",
      "finish\n",
      "Output results into 'data/magnetism2/t5.7500425_J-0.8/data.dat'\n"
     ]
    },
    {
     "name": "stderr",
     "output_type": "stream",
     "text": [
      "  obtained data shape: (10, 1)\n"
     ]
    },
    {
     "name": "stdout",
     "output_type": "stream",
     "text": [
      "............................."
     ]
    },
    {
     "name": "stderr",
     "output_type": "stream",
     "text": [
      "\n",
      "================\n",
      "h = 10.0\n",
      "Initializing MC...\n",
      "Warming up...\n"
     ]
    },
    {
     "name": "stdout",
     "output_type": "stream",
     "text": [
      ".\n",
      "================\n",
      "finish\n",
      "Output results into 'data/magnetism2/t6.00004_J-0.8/data.dat'\n"
     ]
    },
    {
     "name": "stderr",
     "output_type": "stream",
     "text": [
      "  obtained data shape: (10, 1)\n"
     ]
    },
    {
     "name": "stdout",
     "output_type": "stream",
     "text": [
      "............................."
     ]
    },
    {
     "name": "stderr",
     "output_type": "stream",
     "text": [
      "\n",
      "================\n",
      "h = 10.0\n",
      "Initializing MC...\n",
      "Warming up...\n"
     ]
    },
    {
     "name": "stdout",
     "output_type": "stream",
     "text": [
      ".\n",
      "================\n",
      "finish\n",
      "Output results into 'data/magnetism2/t6.2500375_J-0.8/data.dat'\n"
     ]
    },
    {
     "name": "stderr",
     "output_type": "stream",
     "text": [
      "  obtained data shape: (10, 1)\n"
     ]
    },
    {
     "name": "stdout",
     "output_type": "stream",
     "text": [
      "............................."
     ]
    },
    {
     "name": "stderr",
     "output_type": "stream",
     "text": [
      "\n",
      "================\n",
      "h = 10.0\n",
      "Initializing MC...\n",
      "Warming up...\n"
     ]
    },
    {
     "name": "stdout",
     "output_type": "stream",
     "text": [
      ".\n",
      "================\n",
      "finish\n",
      "Output results into 'data/magnetism2/t6.5000350000000005_J-0.8/data.dat'\n"
     ]
    },
    {
     "name": "stderr",
     "output_type": "stream",
     "text": [
      "  obtained data shape: (10, 1)\n"
     ]
    },
    {
     "name": "stdout",
     "output_type": "stream",
     "text": [
      "............................."
     ]
    },
    {
     "name": "stderr",
     "output_type": "stream",
     "text": [
      "\n",
      "================\n",
      "h = 10.0\n",
      "Initializing MC...\n",
      "Warming up...\n"
     ]
    },
    {
     "name": "stdout",
     "output_type": "stream",
     "text": [
      ".\n",
      "================\n",
      "finish\n",
      "Output results into 'data/magnetism2/t6.7500325_J-0.8/data.dat'\n"
     ]
    },
    {
     "name": "stderr",
     "output_type": "stream",
     "text": [
      "  obtained data shape: (10, 1)\n"
     ]
    },
    {
     "name": "stdout",
     "output_type": "stream",
     "text": [
      "............................."
     ]
    },
    {
     "name": "stderr",
     "output_type": "stream",
     "text": [
      "\n",
      "================\n",
      "h = 10.0\n",
      "Initializing MC...\n",
      "Warming up...\n"
     ]
    },
    {
     "name": "stdout",
     "output_type": "stream",
     "text": [
      ".\n",
      "================\n",
      "finish\n",
      "Output results into 'data/magnetism2/t7.00003_J-0.8/data.dat'\n"
     ]
    },
    {
     "name": "stderr",
     "output_type": "stream",
     "text": [
      "  obtained data shape: (10, 1)\n"
     ]
    },
    {
     "name": "stdout",
     "output_type": "stream",
     "text": [
      "............................."
     ]
    },
    {
     "name": "stderr",
     "output_type": "stream",
     "text": [
      "\n",
      "================\n",
      "h = 10.0\n",
      "Initializing MC...\n",
      "Warming up...\n"
     ]
    },
    {
     "name": "stdout",
     "output_type": "stream",
     "text": [
      ".\n",
      "================\n",
      "finish\n",
      "Output results into 'data/magnetism2/t7.2500275_J-0.8/data.dat'\n"
     ]
    },
    {
     "name": "stderr",
     "output_type": "stream",
     "text": [
      "  obtained data shape: (10, 1)\n"
     ]
    },
    {
     "name": "stdout",
     "output_type": "stream",
     "text": [
      "............................."
     ]
    },
    {
     "name": "stderr",
     "output_type": "stream",
     "text": [
      "\n",
      "================\n",
      "h = 10.0\n",
      "Initializing MC...\n",
      "Warming up...\n"
     ]
    },
    {
     "name": "stdout",
     "output_type": "stream",
     "text": [
      ".\n",
      "================\n",
      "finish\n",
      "Output results into 'data/magnetism2/t7.500025_J-0.8/data.dat'\n"
     ]
    },
    {
     "name": "stderr",
     "output_type": "stream",
     "text": [
      "  obtained data shape: (10, 1)\n"
     ]
    },
    {
     "name": "stdout",
     "output_type": "stream",
     "text": [
      "............................."
     ]
    },
    {
     "name": "stderr",
     "output_type": "stream",
     "text": [
      "\n",
      "================\n",
      "h = 10.0\n",
      "Initializing MC...\n",
      "Warming up...\n"
     ]
    },
    {
     "name": "stdout",
     "output_type": "stream",
     "text": [
      ".\n",
      "================\n",
      "finish\n",
      "Output results into 'data/magnetism2/t7.7500225_J-0.8/data.dat'\n"
     ]
    },
    {
     "name": "stderr",
     "output_type": "stream",
     "text": [
      "  obtained data shape: (10, 1)\n"
     ]
    },
    {
     "name": "stdout",
     "output_type": "stream",
     "text": [
      "............................."
     ]
    },
    {
     "name": "stderr",
     "output_type": "stream",
     "text": [
      "\n",
      "================\n",
      "h = 10.0\n",
      "Initializing MC...\n",
      "Warming up...\n"
     ]
    },
    {
     "name": "stdout",
     "output_type": "stream",
     "text": [
      ".\n",
      "================\n",
      "finish\n",
      "Output results into 'data/magnetism2/t8.000020000000001_J-0.8/data.dat'\n"
     ]
    },
    {
     "name": "stderr",
     "output_type": "stream",
     "text": [
      "  obtained data shape: (10, 1)\n"
     ]
    },
    {
     "name": "stdout",
     "output_type": "stream",
     "text": [
      "............................."
     ]
    },
    {
     "name": "stderr",
     "output_type": "stream",
     "text": [
      "\n",
      "================\n",
      "h = 10.0\n",
      "Initializing MC...\n",
      "Warming up...\n"
     ]
    },
    {
     "name": "stdout",
     "output_type": "stream",
     "text": [
      ".\n",
      "================\n",
      "finish\n",
      "Output results into 'data/magnetism2/t8.2500175_J-0.8/data.dat'\n"
     ]
    },
    {
     "name": "stderr",
     "output_type": "stream",
     "text": [
      "  obtained data shape: (10, 1)\n"
     ]
    },
    {
     "name": "stdout",
     "output_type": "stream",
     "text": [
      "............................."
     ]
    },
    {
     "name": "stderr",
     "output_type": "stream",
     "text": [
      "\n",
      "================\n",
      "h = 10.0\n",
      "Initializing MC...\n",
      "Warming up...\n"
     ]
    },
    {
     "name": "stdout",
     "output_type": "stream",
     "text": [
      ".\n",
      "================\n",
      "finish\n",
      "Output results into 'data/magnetism2/t8.500015_J-0.8/data.dat'\n"
     ]
    },
    {
     "name": "stderr",
     "output_type": "stream",
     "text": [
      "  obtained data shape: (10, 1)\n"
     ]
    },
    {
     "name": "stdout",
     "output_type": "stream",
     "text": [
      "............................."
     ]
    },
    {
     "name": "stderr",
     "output_type": "stream",
     "text": [
      "\n",
      "================\n",
      "h = 10.0\n",
      "Initializing MC...\n",
      "Warming up...\n"
     ]
    },
    {
     "name": "stdout",
     "output_type": "stream",
     "text": [
      ".\n",
      "================\n",
      "finish\n",
      "Output results into 'data/magnetism2/t8.7500125_J-0.8/data.dat'\n"
     ]
    },
    {
     "name": "stderr",
     "output_type": "stream",
     "text": [
      "  obtained data shape: (10, 1)\n"
     ]
    },
    {
     "name": "stdout",
     "output_type": "stream",
     "text": [
      "............................."
     ]
    },
    {
     "name": "stderr",
     "output_type": "stream",
     "text": [
      "\n",
      "================\n",
      "h = 10.0\n",
      "Initializing MC...\n",
      "Warming up...\n"
     ]
    },
    {
     "name": "stdout",
     "output_type": "stream",
     "text": [
      ".\n",
      "================\n",
      "finish\n",
      "Output results into 'data/magnetism2/t9.00001_J-0.8/data.dat'\n"
     ]
    },
    {
     "name": "stderr",
     "output_type": "stream",
     "text": [
      "  obtained data shape: (10, 1)\n"
     ]
    },
    {
     "name": "stdout",
     "output_type": "stream",
     "text": [
      "............................."
     ]
    },
    {
     "name": "stderr",
     "output_type": "stream",
     "text": [
      "\n",
      "================\n",
      "h = 10.0\n",
      "Initializing MC...\n",
      "Warming up...\n"
     ]
    },
    {
     "name": "stdout",
     "output_type": "stream",
     "text": [
      ".\n",
      "================\n",
      "finish\n",
      "Output results into 'data/magnetism2/t9.2500075_J-0.8/data.dat'\n"
     ]
    },
    {
     "name": "stderr",
     "output_type": "stream",
     "text": [
      "  obtained data shape: (10, 1)\n"
     ]
    },
    {
     "name": "stdout",
     "output_type": "stream",
     "text": [
      "............................."
     ]
    },
    {
     "name": "stderr",
     "output_type": "stream",
     "text": [
      "\n",
      "================\n",
      "h = 10.0\n",
      "Initializing MC...\n",
      "Warming up...\n"
     ]
    },
    {
     "name": "stdout",
     "output_type": "stream",
     "text": [
      ".\n",
      "================\n",
      "finish\n",
      "Output results into 'data/magnetism2/t9.500005_J-0.8/data.dat'\n"
     ]
    },
    {
     "name": "stderr",
     "output_type": "stream",
     "text": [
      "  obtained data shape: (10, 1)\n"
     ]
    },
    {
     "name": "stdout",
     "output_type": "stream",
     "text": [
      "............................."
     ]
    },
    {
     "name": "stderr",
     "output_type": "stream",
     "text": [
      "\n",
      "================\n",
      "h = 10.0\n",
      "Initializing MC...\n",
      "Warming up...\n"
     ]
    },
    {
     "name": "stdout",
     "output_type": "stream",
     "text": [
      ".\n",
      "================\n",
      "finish\n",
      "Output results into 'data/magnetism2/t9.7500025_J-0.8/data.dat'\n"
     ]
    },
    {
     "name": "stderr",
     "output_type": "stream",
     "text": [
      "  obtained data shape: (10, 1)\n"
     ]
    },
    {
     "name": "stdout",
     "output_type": "stream",
     "text": [
      "............................."
     ]
    },
    {
     "name": "stderr",
     "output_type": "stream",
     "text": [
      "\n",
      "================\n",
      "h = 10.0\n",
      "Initializing MC...\n",
      "/home/yakkuru/computer_physics/report/submit/report3/code/tool/supplement.py:42: RuntimeWarning: overflow encountered in exp\n",
      "  prob_dn.append(np.exp(2 * K * sum_sigma))\n",
      "/home/yakkuru/computer_physics/report/submit/report3/code/tool/supplement.py:41: RuntimeWarning: overflow encountered in exp\n",
      "  prob_up.append(np.exp(-2 * K * sum_sigma))\n",
      "Warming up...\n"
     ]
    },
    {
     "name": "stdout",
     "output_type": "stream",
     "text": [
      ".\n",
      "================\n",
      "finish\n",
      "Output results into 'data/magnetism2/t10.0_J-0.8/data.dat'\n"
     ]
    },
    {
     "name": "stderr",
     "output_type": "stream",
     "text": [
      "/home/yakkuru/computer_physics/report/submit/report3/code/tool/measurement.py:46: RuntimeWarning: overflow encountered in exp\n",
      "  prob_field = np.exp(beta * h * measure(_mc))\n",
      "/home/yakkuru/computer_physics/report/submit/report3/code/tool/measurement.py:49: RuntimeWarning: invalid value encountered in multiply\n",
      "  return _mc.prob_up[num_up] * prob_field\n",
      "/home/yakkuru/computer_physics/report/submit/report3/code/tool/measurement.py:51: RuntimeWarning: invalid value encountered in multiply\n",
      "  return _mc.prob_dn[num_up] * prob_field\n",
      "  obtained data shape: (10, 1)\n"
     ]
    },
    {
     "name": "stdout",
     "output_type": "stream",
     "text": [
      "............................."
     ]
    },
    {
     "name": "stderr",
     "output_type": "stream",
     "text": [
      "\n",
      "================\n",
      "h = 10.0\n",
      "Initializing MC...\n",
      "Warming up...\n"
     ]
    },
    {
     "name": "stdout",
     "output_type": "stream",
     "text": [
      ".\n",
      "================\n",
      "finish\n",
      "Output results into 'data/magnetism2/t0.0001_J-0.9000000000000001/data.dat'\n"
     ]
    },
    {
     "name": "stderr",
     "output_type": "stream",
     "text": [
      "/home/yakkuru/computer_physics/report/submit/report3/code/tool/measurement.py:46: RuntimeWarning: overflow encountered in exp\n",
      "  prob_field = np.exp(beta * h * measure(_mc))\n",
      "  obtained data shape: (10, 1)\n"
     ]
    },
    {
     "name": "stdout",
     "output_type": "stream",
     "text": [
      ".."
     ]
    },
    {
     "name": "stderr",
     "output_type": "stream",
     "text": [
      "/home/yakkuru/computer_physics/report/submit/report3/code/tool/measurement.py:49: RuntimeWarning: overflow encountered in multiply\n",
      "  return _mc.prob_up[num_up] * prob_field\n"
     ]
    },
    {
     "name": "stdout",
     "output_type": "stream",
     "text": [
      "..........................."
     ]
    },
    {
     "name": "stderr",
     "output_type": "stream",
     "text": [
      "\n",
      "================\n",
      "h = 10.0\n",
      "Initializing MC...\n",
      "Warming up...\n"
     ]
    },
    {
     "name": "stdout",
     "output_type": "stream",
     "text": [
      ".\n",
      "================\n",
      "finish\n",
      "Output results into 'data/magnetism2/t0.25009750000000003_J-0.9000000000000001/data.dat'\n"
     ]
    },
    {
     "name": "stderr",
     "output_type": "stream",
     "text": [
      "  obtained data shape: (10, 1)\n"
     ]
    },
    {
     "name": "stdout",
     "output_type": "stream",
     "text": [
      "............................."
     ]
    },
    {
     "name": "stderr",
     "output_type": "stream",
     "text": [
      "\n",
      "================\n",
      "h = 10.0\n",
      "Initializing MC...\n",
      "Warming up...\n"
     ]
    },
    {
     "name": "stdout",
     "output_type": "stream",
     "text": [
      ".\n",
      "================\n",
      "finish\n",
      "Output results into 'data/magnetism2/t0.5000950000000001_J-0.9000000000000001/data.dat'\n"
     ]
    },
    {
     "name": "stderr",
     "output_type": "stream",
     "text": [
      "  obtained data shape: (10, 1)\n"
     ]
    },
    {
     "name": "stdout",
     "output_type": "stream",
     "text": [
      "............................."
     ]
    },
    {
     "name": "stderr",
     "output_type": "stream",
     "text": [
      "\n",
      "================\n",
      "h = 10.0\n",
      "Initializing MC...\n",
      "Warming up...\n"
     ]
    },
    {
     "name": "stdout",
     "output_type": "stream",
     "text": [
      ".\n",
      "================\n",
      "finish\n",
      "Output results into 'data/magnetism2/t0.7500925_J-0.9000000000000001/data.dat'\n"
     ]
    },
    {
     "name": "stderr",
     "output_type": "stream",
     "text": [
      "  obtained data shape: (10, 1)\n"
     ]
    },
    {
     "name": "stdout",
     "output_type": "stream",
     "text": [
      "............................."
     ]
    },
    {
     "name": "stderr",
     "output_type": "stream",
     "text": [
      "\n",
      "================\n",
      "h = 10.0\n",
      "Initializing MC...\n",
      "Warming up...\n"
     ]
    },
    {
     "name": "stdout",
     "output_type": "stream",
     "text": [
      ".\n",
      "================\n",
      "finish\n",
      "Output results into 'data/magnetism2/t1.0000900000000001_J-0.9000000000000001/data.dat'\n"
     ]
    },
    {
     "name": "stderr",
     "output_type": "stream",
     "text": [
      "  obtained data shape: (10, 1)\n"
     ]
    },
    {
     "name": "stdout",
     "output_type": "stream",
     "text": [
      "............................."
     ]
    },
    {
     "name": "stderr",
     "output_type": "stream",
     "text": [
      "\n",
      "================\n",
      "h = 10.0\n",
      "Initializing MC...\n",
      "Warming up...\n"
     ]
    },
    {
     "name": "stdout",
     "output_type": "stream",
     "text": [
      ".\n",
      "================\n",
      "finish\n",
      "Output results into 'data/magnetism2/t1.2500875_J-0.9000000000000001/data.dat'\n"
     ]
    },
    {
     "name": "stderr",
     "output_type": "stream",
     "text": [
      "  obtained data shape: (10, 1)\n"
     ]
    },
    {
     "name": "stdout",
     "output_type": "stream",
     "text": [
      "............................."
     ]
    },
    {
     "name": "stderr",
     "output_type": "stream",
     "text": [
      "\n",
      "================\n",
      "h = 10.0\n",
      "Initializing MC...\n",
      "Warming up...\n"
     ]
    },
    {
     "name": "stdout",
     "output_type": "stream",
     "text": [
      ".\n",
      "================\n",
      "finish\n",
      "Output results into 'data/magnetism2/t1.5000850000000001_J-0.9000000000000001/data.dat'\n"
     ]
    },
    {
     "name": "stderr",
     "output_type": "stream",
     "text": [
      "  obtained data shape: (10, 1)\n"
     ]
    },
    {
     "name": "stdout",
     "output_type": "stream",
     "text": [
      "............................."
     ]
    },
    {
     "name": "stderr",
     "output_type": "stream",
     "text": [
      "\n",
      "================\n",
      "h = 10.0\n",
      "Initializing MC...\n",
      "Warming up...\n"
     ]
    },
    {
     "name": "stdout",
     "output_type": "stream",
     "text": [
      ".\n",
      "================\n",
      "finish\n",
      "Output results into 'data/magnetism2/t1.7500825_J-0.9000000000000001/data.dat'\n"
     ]
    },
    {
     "name": "stderr",
     "output_type": "stream",
     "text": [
      "  obtained data shape: (10, 1)\n"
     ]
    },
    {
     "name": "stdout",
     "output_type": "stream",
     "text": [
      "............................."
     ]
    },
    {
     "name": "stderr",
     "output_type": "stream",
     "text": [
      "\n",
      "================\n",
      "h = 10.0\n",
      "Initializing MC...\n",
      "Warming up...\n"
     ]
    },
    {
     "name": "stdout",
     "output_type": "stream",
     "text": [
      ".\n",
      "================\n",
      "finish\n",
      "Output results into 'data/magnetism2/t2.00008_J-0.9000000000000001/data.dat'\n"
     ]
    },
    {
     "name": "stderr",
     "output_type": "stream",
     "text": [
      "  obtained data shape: (10, 1)\n"
     ]
    },
    {
     "name": "stdout",
     "output_type": "stream",
     "text": [
      "............................."
     ]
    },
    {
     "name": "stderr",
     "output_type": "stream",
     "text": [
      "\n",
      "================\n",
      "h = 10.0\n",
      "Initializing MC...\n",
      "Warming up...\n"
     ]
    },
    {
     "name": "stdout",
     "output_type": "stream",
     "text": [
      ".\n",
      "================\n",
      "finish\n",
      "Output results into 'data/magnetism2/t2.2500775_J-0.9000000000000001/data.dat'\n"
     ]
    },
    {
     "name": "stderr",
     "output_type": "stream",
     "text": [
      "  obtained data shape: (10, 1)\n"
     ]
    },
    {
     "name": "stdout",
     "output_type": "stream",
     "text": [
      "............................."
     ]
    },
    {
     "name": "stderr",
     "output_type": "stream",
     "text": [
      "\n",
      "================\n",
      "h = 10.0\n",
      "Initializing MC...\n",
      "Warming up...\n"
     ]
    },
    {
     "name": "stdout",
     "output_type": "stream",
     "text": [
      ".\n",
      "================\n",
      "finish\n",
      "Output results into 'data/magnetism2/t2.5000750000000003_J-0.9000000000000001/data.dat'\n"
     ]
    },
    {
     "name": "stderr",
     "output_type": "stream",
     "text": [
      "  obtained data shape: (10, 1)\n"
     ]
    },
    {
     "name": "stdout",
     "output_type": "stream",
     "text": [
      "............................."
     ]
    },
    {
     "name": "stderr",
     "output_type": "stream",
     "text": [
      "\n",
      "================\n",
      "h = 10.0\n",
      "Initializing MC...\n",
      "Warming up...\n"
     ]
    },
    {
     "name": "stdout",
     "output_type": "stream",
     "text": [
      ".\n",
      "================\n",
      "finish\n",
      "Output results into 'data/magnetism2/t2.7500725000000004_J-0.9000000000000001/data.dat'\n"
     ]
    },
    {
     "name": "stderr",
     "output_type": "stream",
     "text": [
      "  obtained data shape: (10, 1)\n"
     ]
    },
    {
     "name": "stdout",
     "output_type": "stream",
     "text": [
      "............................."
     ]
    },
    {
     "name": "stderr",
     "output_type": "stream",
     "text": [
      "\n",
      "================\n",
      "h = 10.0\n",
      "Initializing MC...\n",
      "Warming up...\n"
     ]
    },
    {
     "name": "stdout",
     "output_type": "stream",
     "text": [
      ".\n",
      "================\n",
      "finish\n",
      "Output results into 'data/magnetism2/t3.0000700000000005_J-0.9000000000000001/data.dat'\n"
     ]
    },
    {
     "name": "stderr",
     "output_type": "stream",
     "text": [
      "  obtained data shape: (10, 1)\n"
     ]
    },
    {
     "name": "stdout",
     "output_type": "stream",
     "text": [
      "............................."
     ]
    },
    {
     "name": "stderr",
     "output_type": "stream",
     "text": [
      "\n",
      "================\n",
      "h = 10.0\n",
      "Initializing MC...\n",
      "Warming up...\n"
     ]
    },
    {
     "name": "stdout",
     "output_type": "stream",
     "text": [
      ".\n",
      "================\n",
      "finish\n",
      "Output results into 'data/magnetism2/t3.2500675000000006_J-0.9000000000000001/data.dat'\n"
     ]
    },
    {
     "name": "stderr",
     "output_type": "stream",
     "text": [
      "  obtained data shape: (10, 1)\n"
     ]
    },
    {
     "name": "stdout",
     "output_type": "stream",
     "text": [
      "............................."
     ]
    },
    {
     "name": "stderr",
     "output_type": "stream",
     "text": [
      "\n",
      "================\n",
      "h = 10.0\n",
      "Initializing MC...\n",
      "Warming up...\n"
     ]
    },
    {
     "name": "stdout",
     "output_type": "stream",
     "text": [
      ".\n",
      "================\n",
      "finish\n",
      "Output results into 'data/magnetism2/t3.500065_J-0.9000000000000001/data.dat'\n"
     ]
    },
    {
     "name": "stderr",
     "output_type": "stream",
     "text": [
      "  obtained data shape: (10, 1)\n"
     ]
    },
    {
     "name": "stdout",
     "output_type": "stream",
     "text": [
      "............................."
     ]
    },
    {
     "name": "stderr",
     "output_type": "stream",
     "text": [
      "\n",
      "================\n",
      "h = 10.0\n",
      "Initializing MC...\n",
      "Warming up...\n"
     ]
    },
    {
     "name": "stdout",
     "output_type": "stream",
     "text": [
      ".\n",
      "================\n",
      "finish\n",
      "Output results into 'data/magnetism2/t3.7500625000000003_J-0.9000000000000001/data.dat'\n"
     ]
    },
    {
     "name": "stderr",
     "output_type": "stream",
     "text": [
      "  obtained data shape: (10, 1)\n"
     ]
    },
    {
     "name": "stdout",
     "output_type": "stream",
     "text": [
      "..............................\n",
      "================\n",
      "finish\n",
      "Output results into 'data/magnetism2/t4.00006_J-0.9000000000000001/data.dat'\n"
     ]
    },
    {
     "name": "stderr",
     "output_type": "stream",
     "text": [
      "\n",
      "================\n",
      "h = 10.0\n",
      "Initializing MC...\n",
      "Warming up...\n",
      "  obtained data shape: (10, 1)\n"
     ]
    },
    {
     "name": "stdout",
     "output_type": "stream",
     "text": [
      "............................."
     ]
    },
    {
     "name": "stderr",
     "output_type": "stream",
     "text": [
      "\n",
      "================\n",
      "h = 10.0\n",
      "Initializing MC...\n",
      "Warming up...\n"
     ]
    },
    {
     "name": "stdout",
     "output_type": "stream",
     "text": [
      ".\n",
      "================\n",
      "finish\n",
      "Output results into 'data/magnetism2/t4.2500575_J-0.9000000000000001/data.dat'\n"
     ]
    },
    {
     "name": "stderr",
     "output_type": "stream",
     "text": [
      "  obtained data shape: (10, 1)\n"
     ]
    },
    {
     "name": "stdout",
     "output_type": "stream",
     "text": [
      "............................."
     ]
    },
    {
     "name": "stderr",
     "output_type": "stream",
     "text": [
      "\n",
      "================\n",
      "h = 10.0\n",
      "Initializing MC...\n",
      "Warming up...\n"
     ]
    },
    {
     "name": "stdout",
     "output_type": "stream",
     "text": [
      ".\n",
      "================\n",
      "finish\n",
      "Output results into 'data/magnetism2/t4.500055_J-0.9000000000000001/data.dat'\n"
     ]
    },
    {
     "name": "stderr",
     "output_type": "stream",
     "text": [
      "  obtained data shape: (10, 1)\n"
     ]
    },
    {
     "name": "stdout",
     "output_type": "stream",
     "text": [
      "............................."
     ]
    },
    {
     "name": "stderr",
     "output_type": "stream",
     "text": [
      "\n",
      "================\n",
      "h = 10.0\n",
      "Initializing MC...\n",
      "Warming up...\n"
     ]
    },
    {
     "name": "stdout",
     "output_type": "stream",
     "text": [
      ".\n",
      "================\n",
      "finish\n",
      "Output results into 'data/magnetism2/t4.7500525_J-0.9000000000000001/data.dat'\n"
     ]
    },
    {
     "name": "stderr",
     "output_type": "stream",
     "text": [
      "  obtained data shape: (10, 1)\n"
     ]
    },
    {
     "name": "stdout",
     "output_type": "stream",
     "text": [
      "............................."
     ]
    },
    {
     "name": "stderr",
     "output_type": "stream",
     "text": [
      "\n",
      "================\n",
      "h = 10.0\n",
      "Initializing MC...\n",
      "Warming up...\n"
     ]
    },
    {
     "name": "stdout",
     "output_type": "stream",
     "text": [
      ".\n",
      "================\n",
      "finish\n",
      "Output results into 'data/magnetism2/t5.00005_J-0.9000000000000001/data.dat'\n"
     ]
    },
    {
     "name": "stderr",
     "output_type": "stream",
     "text": [
      "  obtained data shape: (10, 1)\n"
     ]
    },
    {
     "name": "stdout",
     "output_type": "stream",
     "text": [
      "............................."
     ]
    },
    {
     "name": "stderr",
     "output_type": "stream",
     "text": [
      "\n",
      "================\n",
      "h = 10.0\n",
      "Initializing MC...\n",
      "Warming up...\n"
     ]
    },
    {
     "name": "stdout",
     "output_type": "stream",
     "text": [
      ".\n",
      "================\n",
      "finish\n",
      "Output results into 'data/magnetism2/t5.2500475_J-0.9000000000000001/data.dat'\n"
     ]
    },
    {
     "name": "stderr",
     "output_type": "stream",
     "text": [
      "  obtained data shape: (10, 1)\n"
     ]
    },
    {
     "name": "stdout",
     "output_type": "stream",
     "text": [
      "............................."
     ]
    },
    {
     "name": "stderr",
     "output_type": "stream",
     "text": [
      "\n",
      "================\n",
      "h = 10.0\n",
      "Initializing MC...\n",
      "Warming up...\n"
     ]
    },
    {
     "name": "stdout",
     "output_type": "stream",
     "text": [
      ".\n",
      "================\n",
      "finish\n",
      "Output results into 'data/magnetism2/t5.500045_J-0.9000000000000001/data.dat'\n"
     ]
    },
    {
     "name": "stderr",
     "output_type": "stream",
     "text": [
      "  obtained data shape: (10, 1)\n"
     ]
    },
    {
     "name": "stdout",
     "output_type": "stream",
     "text": [
      "............................."
     ]
    },
    {
     "name": "stderr",
     "output_type": "stream",
     "text": [
      "\n",
      "================\n",
      "h = 10.0\n",
      "Initializing MC...\n",
      "Warming up...\n"
     ]
    },
    {
     "name": "stdout",
     "output_type": "stream",
     "text": [
      ".\n",
      "================\n",
      "finish\n",
      "Output results into 'data/magnetism2/t5.7500425_J-0.9000000000000001/data.dat'\n"
     ]
    },
    {
     "name": "stderr",
     "output_type": "stream",
     "text": [
      "  obtained data shape: (10, 1)\n"
     ]
    },
    {
     "name": "stdout",
     "output_type": "stream",
     "text": [
      "............................."
     ]
    },
    {
     "name": "stderr",
     "output_type": "stream",
     "text": [
      "\n",
      "================\n",
      "h = 10.0\n",
      "Initializing MC...\n",
      "Warming up...\n"
     ]
    },
    {
     "name": "stdout",
     "output_type": "stream",
     "text": [
      ".\n",
      "================\n",
      "finish\n",
      "Output results into 'data/magnetism2/t6.00004_J-0.9000000000000001/data.dat'\n"
     ]
    },
    {
     "name": "stderr",
     "output_type": "stream",
     "text": [
      "  obtained data shape: (10, 1)\n"
     ]
    },
    {
     "name": "stdout",
     "output_type": "stream",
     "text": [
      "............................."
     ]
    },
    {
     "name": "stderr",
     "output_type": "stream",
     "text": [
      "\n",
      "================\n",
      "h = 10.0\n",
      "Initializing MC...\n",
      "Warming up...\n"
     ]
    },
    {
     "name": "stdout",
     "output_type": "stream",
     "text": [
      ".\n",
      "================\n",
      "finish\n",
      "Output results into 'data/magnetism2/t6.2500375_J-0.9000000000000001/data.dat'\n"
     ]
    },
    {
     "name": "stderr",
     "output_type": "stream",
     "text": [
      "  obtained data shape: (10, 1)\n"
     ]
    },
    {
     "name": "stdout",
     "output_type": "stream",
     "text": [
      "............................."
     ]
    },
    {
     "name": "stderr",
     "output_type": "stream",
     "text": [
      "\n",
      "================\n",
      "h = 10.0\n",
      "Initializing MC...\n",
      "Warming up...\n"
     ]
    },
    {
     "name": "stdout",
     "output_type": "stream",
     "text": [
      ".\n",
      "================\n",
      "finish\n",
      "Output results into 'data/magnetism2/t6.5000350000000005_J-0.9000000000000001/data.dat'\n"
     ]
    },
    {
     "name": "stderr",
     "output_type": "stream",
     "text": [
      "  obtained data shape: (10, 1)\n"
     ]
    },
    {
     "name": "stdout",
     "output_type": "stream",
     "text": [
      "............................."
     ]
    },
    {
     "name": "stderr",
     "output_type": "stream",
     "text": [
      "\n",
      "================\n",
      "h = 10.0\n",
      "Initializing MC...\n",
      "Warming up...\n"
     ]
    },
    {
     "name": "stdout",
     "output_type": "stream",
     "text": [
      ".\n",
      "================\n",
      "finish\n",
      "Output results into 'data/magnetism2/t6.7500325_J-0.9000000000000001/data.dat'\n"
     ]
    },
    {
     "name": "stderr",
     "output_type": "stream",
     "text": [
      "  obtained data shape: (10, 1)\n"
     ]
    },
    {
     "name": "stdout",
     "output_type": "stream",
     "text": [
      "............................."
     ]
    },
    {
     "name": "stderr",
     "output_type": "stream",
     "text": [
      "\n",
      "================\n",
      "h = 10.0\n",
      "Initializing MC...\n",
      "Warming up...\n"
     ]
    },
    {
     "name": "stdout",
     "output_type": "stream",
     "text": [
      ".\n",
      "================\n",
      "finish\n",
      "Output results into 'data/magnetism2/t7.00003_J-0.9000000000000001/data.dat'\n"
     ]
    },
    {
     "name": "stderr",
     "output_type": "stream",
     "text": [
      "  obtained data shape: (10, 1)\n"
     ]
    },
    {
     "name": "stdout",
     "output_type": "stream",
     "text": [
      "............................."
     ]
    },
    {
     "name": "stderr",
     "output_type": "stream",
     "text": [
      "\n",
      "================\n",
      "h = 10.0\n",
      "Initializing MC...\n",
      "Warming up...\n"
     ]
    },
    {
     "name": "stdout",
     "output_type": "stream",
     "text": [
      ".\n",
      "================\n",
      "finish\n",
      "Output results into 'data/magnetism2/t7.2500275_J-0.9000000000000001/data.dat'\n"
     ]
    },
    {
     "name": "stderr",
     "output_type": "stream",
     "text": [
      "  obtained data shape: (10, 1)\n"
     ]
    },
    {
     "name": "stdout",
     "output_type": "stream",
     "text": [
      "............................."
     ]
    },
    {
     "name": "stderr",
     "output_type": "stream",
     "text": [
      "\n",
      "================\n",
      "h = 10.0\n",
      "Initializing MC...\n",
      "Warming up...\n"
     ]
    },
    {
     "name": "stdout",
     "output_type": "stream",
     "text": [
      ".\n",
      "================\n",
      "finish\n",
      "Output results into 'data/magnetism2/t7.500025_J-0.9000000000000001/data.dat'\n"
     ]
    },
    {
     "name": "stderr",
     "output_type": "stream",
     "text": [
      "  obtained data shape: (10, 1)\n"
     ]
    },
    {
     "name": "stdout",
     "output_type": "stream",
     "text": [
      "............................."
     ]
    },
    {
     "name": "stderr",
     "output_type": "stream",
     "text": [
      "\n",
      "================\n",
      "h = 10.0\n",
      "Initializing MC...\n",
      "Warming up...\n"
     ]
    },
    {
     "name": "stdout",
     "output_type": "stream",
     "text": [
      ".\n",
      "================\n",
      "finish\n",
      "Output results into 'data/magnetism2/t7.7500225_J-0.9000000000000001/data.dat'\n"
     ]
    },
    {
     "name": "stderr",
     "output_type": "stream",
     "text": [
      "  obtained data shape: (10, 1)\n"
     ]
    },
    {
     "name": "stdout",
     "output_type": "stream",
     "text": [
      "............................."
     ]
    },
    {
     "name": "stderr",
     "output_type": "stream",
     "text": [
      "\n",
      "================\n",
      "h = 10.0\n",
      "Initializing MC...\n",
      "Warming up...\n"
     ]
    },
    {
     "name": "stdout",
     "output_type": "stream",
     "text": [
      ".\n",
      "================\n",
      "finish\n",
      "Output results into 'data/magnetism2/t8.000020000000001_J-0.9000000000000001/data.dat'\n"
     ]
    },
    {
     "name": "stderr",
     "output_type": "stream",
     "text": [
      "  obtained data shape: (10, 1)\n"
     ]
    },
    {
     "name": "stdout",
     "output_type": "stream",
     "text": [
      "............................."
     ]
    },
    {
     "name": "stderr",
     "output_type": "stream",
     "text": [
      "\n",
      "================\n",
      "h = 10.0\n",
      "Initializing MC...\n",
      "Warming up...\n"
     ]
    },
    {
     "name": "stdout",
     "output_type": "stream",
     "text": [
      ".\n",
      "================\n",
      "finish\n",
      "Output results into 'data/magnetism2/t8.2500175_J-0.9000000000000001/data.dat'\n"
     ]
    },
    {
     "name": "stderr",
     "output_type": "stream",
     "text": [
      "  obtained data shape: (10, 1)\n"
     ]
    },
    {
     "name": "stdout",
     "output_type": "stream",
     "text": [
      "............................."
     ]
    },
    {
     "name": "stderr",
     "output_type": "stream",
     "text": [
      "\n",
      "================\n",
      "h = 10.0\n",
      "Initializing MC...\n",
      "Warming up...\n"
     ]
    },
    {
     "name": "stdout",
     "output_type": "stream",
     "text": [
      ".\n",
      "================\n",
      "finish\n",
      "Output results into 'data/magnetism2/t8.500015_J-0.9000000000000001/data.dat'\n"
     ]
    },
    {
     "name": "stderr",
     "output_type": "stream",
     "text": [
      "  obtained data shape: (10, 1)\n"
     ]
    },
    {
     "name": "stdout",
     "output_type": "stream",
     "text": [
      "............................."
     ]
    },
    {
     "name": "stderr",
     "output_type": "stream",
     "text": [
      "\n",
      "================\n",
      "h = 10.0\n",
      "Initializing MC...\n",
      "Warming up...\n"
     ]
    },
    {
     "name": "stdout",
     "output_type": "stream",
     "text": [
      ".\n",
      "================\n",
      "finish\n",
      "Output results into 'data/magnetism2/t8.7500125_J-0.9000000000000001/data.dat'\n"
     ]
    },
    {
     "name": "stderr",
     "output_type": "stream",
     "text": [
      "  obtained data shape: (10, 1)\n"
     ]
    },
    {
     "name": "stdout",
     "output_type": "stream",
     "text": [
      "............................."
     ]
    },
    {
     "name": "stderr",
     "output_type": "stream",
     "text": [
      "\n",
      "================\n",
      "h = 10.0\n",
      "Initializing MC...\n",
      "Warming up...\n"
     ]
    },
    {
     "name": "stdout",
     "output_type": "stream",
     "text": [
      ".\n",
      "================\n",
      "finish\n",
      "Output results into 'data/magnetism2/t9.00001_J-0.9000000000000001/data.dat'\n"
     ]
    },
    {
     "name": "stderr",
     "output_type": "stream",
     "text": [
      "  obtained data shape: (10, 1)\n"
     ]
    },
    {
     "name": "stdout",
     "output_type": "stream",
     "text": [
      "............................."
     ]
    },
    {
     "name": "stderr",
     "output_type": "stream",
     "text": [
      "\n",
      "================\n",
      "h = 10.0\n",
      "Initializing MC...\n",
      "Warming up...\n"
     ]
    },
    {
     "name": "stdout",
     "output_type": "stream",
     "text": [
      ".\n",
      "================\n",
      "finish\n",
      "Output results into 'data/magnetism2/t9.2500075_J-0.9000000000000001/data.dat'\n"
     ]
    },
    {
     "name": "stderr",
     "output_type": "stream",
     "text": [
      "  obtained data shape: (10, 1)\n"
     ]
    },
    {
     "name": "stdout",
     "output_type": "stream",
     "text": [
      "............................."
     ]
    },
    {
     "name": "stderr",
     "output_type": "stream",
     "text": [
      "\n",
      "================\n",
      "h = 10.0\n",
      "Initializing MC...\n",
      "Warming up...\n"
     ]
    },
    {
     "name": "stdout",
     "output_type": "stream",
     "text": [
      ".\n",
      "================\n",
      "finish\n",
      "Output results into 'data/magnetism2/t9.500005_J-0.9000000000000001/data.dat'\n"
     ]
    },
    {
     "name": "stderr",
     "output_type": "stream",
     "text": [
      "  obtained data shape: (10, 1)\n"
     ]
    },
    {
     "name": "stdout",
     "output_type": "stream",
     "text": [
      "............................."
     ]
    },
    {
     "name": "stderr",
     "output_type": "stream",
     "text": [
      "\n",
      "================\n",
      "h = 10.0\n",
      "Initializing MC...\n",
      "Warming up...\n"
     ]
    },
    {
     "name": "stdout",
     "output_type": "stream",
     "text": [
      ".\n",
      "================\n",
      "finish\n",
      "Output results into 'data/magnetism2/t9.7500025_J-0.9000000000000001/data.dat'\n"
     ]
    },
    {
     "name": "stderr",
     "output_type": "stream",
     "text": [
      "  obtained data shape: (10, 1)\n"
     ]
    },
    {
     "name": "stdout",
     "output_type": "stream",
     "text": [
      "............................."
     ]
    },
    {
     "name": "stderr",
     "output_type": "stream",
     "text": [
      "\n",
      "================\n",
      "h = 10.0\n",
      "Initializing MC...\n",
      "/home/yakkuru/computer_physics/report/submit/report3/code/tool/supplement.py:42: RuntimeWarning: overflow encountered in exp\n",
      "  prob_dn.append(np.exp(2 * K * sum_sigma))\n",
      "/home/yakkuru/computer_physics/report/submit/report3/code/tool/supplement.py:41: RuntimeWarning: overflow encountered in exp\n",
      "  prob_up.append(np.exp(-2 * K * sum_sigma))\n",
      "Warming up...\n"
     ]
    },
    {
     "name": "stdout",
     "output_type": "stream",
     "text": [
      ".\n",
      "================\n",
      "finish\n",
      "Output results into 'data/magnetism2/t10.0_J-0.9000000000000001/data.dat'\n"
     ]
    },
    {
     "name": "stderr",
     "output_type": "stream",
     "text": [
      "/home/yakkuru/computer_physics/report/submit/report3/code/tool/measurement.py:46: RuntimeWarning: overflow encountered in exp\n",
      "  prob_field = np.exp(beta * h * measure(_mc))\n",
      "/home/yakkuru/computer_physics/report/submit/report3/code/tool/measurement.py:49: RuntimeWarning: invalid value encountered in multiply\n",
      "  return _mc.prob_up[num_up] * prob_field\n",
      "/home/yakkuru/computer_physics/report/submit/report3/code/tool/measurement.py:51: RuntimeWarning: invalid value encountered in multiply\n",
      "  return _mc.prob_dn[num_up] * prob_field\n",
      "  obtained data shape: (10, 1)\n"
     ]
    },
    {
     "name": "stdout",
     "output_type": "stream",
     "text": [
      "............................."
     ]
    },
    {
     "name": "stderr",
     "output_type": "stream",
     "text": [
      "\n",
      "================\n",
      "h = 10.0\n",
      "Initializing MC...\n",
      "Warming up...\n"
     ]
    },
    {
     "name": "stdout",
     "output_type": "stream",
     "text": [
      ".\n",
      "================\n",
      "finish\n",
      "Output results into 'data/magnetism2/t0.0001_J-1.0/data.dat'\n"
     ]
    },
    {
     "name": "stderr",
     "output_type": "stream",
     "text": [
      "/home/yakkuru/computer_physics/report/submit/report3/code/tool/measurement.py:46: RuntimeWarning: overflow encountered in exp\n",
      "  prob_field = np.exp(beta * h * measure(_mc))\n",
      "  obtained data shape: (10, 1)\n"
     ]
    },
    {
     "name": "stdout",
     "output_type": "stream",
     "text": [
      ".."
     ]
    },
    {
     "name": "stderr",
     "output_type": "stream",
     "text": [
      "/home/yakkuru/computer_physics/report/submit/report3/code/tool/measurement.py:49: RuntimeWarning: overflow encountered in multiply\n",
      "  return _mc.prob_up[num_up] * prob_field\n"
     ]
    },
    {
     "name": "stdout",
     "output_type": "stream",
     "text": [
      "..........................."
     ]
    },
    {
     "name": "stderr",
     "output_type": "stream",
     "text": [
      "\n",
      "================\n",
      "h = 10.0\n",
      "Initializing MC...\n",
      "Warming up...\n"
     ]
    },
    {
     "name": "stdout",
     "output_type": "stream",
     "text": [
      ".\n",
      "================\n",
      "finish\n",
      "Output results into 'data/magnetism2/t0.25009750000000003_J-1.0/data.dat'\n"
     ]
    },
    {
     "name": "stderr",
     "output_type": "stream",
     "text": [
      "  obtained data shape: (10, 1)\n"
     ]
    },
    {
     "name": "stdout",
     "output_type": "stream",
     "text": [
      "............................."
     ]
    },
    {
     "name": "stderr",
     "output_type": "stream",
     "text": [
      "\n",
      "================\n",
      "h = 10.0\n",
      "Initializing MC...\n",
      "Warming up...\n"
     ]
    },
    {
     "name": "stdout",
     "output_type": "stream",
     "text": [
      ".\n",
      "================\n",
      "finish\n",
      "Output results into 'data/magnetism2/t0.5000950000000001_J-1.0/data.dat'\n"
     ]
    },
    {
     "name": "stderr",
     "output_type": "stream",
     "text": [
      "  obtained data shape: (10, 1)\n"
     ]
    },
    {
     "name": "stdout",
     "output_type": "stream",
     "text": [
      "............................."
     ]
    },
    {
     "name": "stderr",
     "output_type": "stream",
     "text": [
      "\n",
      "================\n",
      "h = 10.0\n",
      "Initializing MC...\n",
      "Warming up...\n"
     ]
    },
    {
     "name": "stdout",
     "output_type": "stream",
     "text": [
      ".\n",
      "================\n",
      "finish\n",
      "Output results into 'data/magnetism2/t0.7500925_J-1.0/data.dat'\n"
     ]
    },
    {
     "name": "stderr",
     "output_type": "stream",
     "text": [
      "  obtained data shape: (10, 1)\n"
     ]
    },
    {
     "name": "stdout",
     "output_type": "stream",
     "text": [
      "............................."
     ]
    },
    {
     "name": "stderr",
     "output_type": "stream",
     "text": [
      "\n",
      "================\n",
      "h = 10.0\n",
      "Initializing MC...\n",
      "Warming up...\n"
     ]
    },
    {
     "name": "stdout",
     "output_type": "stream",
     "text": [
      ".\n",
      "================\n",
      "finish\n",
      "Output results into 'data/magnetism2/t1.0000900000000001_J-1.0/data.dat'\n"
     ]
    },
    {
     "name": "stderr",
     "output_type": "stream",
     "text": [
      "  obtained data shape: (10, 1)\n"
     ]
    },
    {
     "name": "stdout",
     "output_type": "stream",
     "text": [
      "............................."
     ]
    },
    {
     "name": "stderr",
     "output_type": "stream",
     "text": [
      "\n",
      "================\n",
      "h = 10.0\n",
      "Initializing MC...\n",
      "Warming up...\n"
     ]
    },
    {
     "name": "stdout",
     "output_type": "stream",
     "text": [
      ".\n",
      "================\n",
      "finish\n",
      "Output results into 'data/magnetism2/t1.2500875_J-1.0/data.dat'\n"
     ]
    },
    {
     "name": "stderr",
     "output_type": "stream",
     "text": [
      "  obtained data shape: (10, 1)\n"
     ]
    },
    {
     "name": "stdout",
     "output_type": "stream",
     "text": [
      "............................."
     ]
    },
    {
     "name": "stderr",
     "output_type": "stream",
     "text": [
      "\n",
      "================\n",
      "h = 10.0\n",
      "Initializing MC...\n",
      "Warming up...\n"
     ]
    },
    {
     "name": "stdout",
     "output_type": "stream",
     "text": [
      ".\n",
      "================\n",
      "finish\n",
      "Output results into 'data/magnetism2/t1.5000850000000001_J-1.0/data.dat'\n"
     ]
    },
    {
     "name": "stderr",
     "output_type": "stream",
     "text": [
      "  obtained data shape: (10, 1)\n"
     ]
    },
    {
     "name": "stdout",
     "output_type": "stream",
     "text": [
      "............................."
     ]
    },
    {
     "name": "stderr",
     "output_type": "stream",
     "text": [
      "\n",
      "================\n",
      "h = 10.0\n",
      "Initializing MC...\n",
      "Warming up...\n"
     ]
    },
    {
     "name": "stdout",
     "output_type": "stream",
     "text": [
      ".\n",
      "================\n",
      "finish\n",
      "Output results into 'data/magnetism2/t1.7500825_J-1.0/data.dat'\n"
     ]
    },
    {
     "name": "stderr",
     "output_type": "stream",
     "text": [
      "  obtained data shape: (10, 1)\n"
     ]
    },
    {
     "name": "stdout",
     "output_type": "stream",
     "text": [
      "............................."
     ]
    },
    {
     "name": "stderr",
     "output_type": "stream",
     "text": [
      "\n",
      "================\n",
      "h = 10.0\n",
      "Initializing MC...\n",
      "Warming up...\n"
     ]
    },
    {
     "name": "stdout",
     "output_type": "stream",
     "text": [
      ".\n",
      "================\n",
      "finish\n",
      "Output results into 'data/magnetism2/t2.00008_J-1.0/data.dat'\n"
     ]
    },
    {
     "name": "stderr",
     "output_type": "stream",
     "text": [
      "  obtained data shape: (10, 1)\n"
     ]
    },
    {
     "name": "stdout",
     "output_type": "stream",
     "text": [
      "............................."
     ]
    },
    {
     "name": "stderr",
     "output_type": "stream",
     "text": [
      "\n",
      "================\n",
      "h = 10.0\n",
      "Initializing MC...\n",
      "Warming up...\n"
     ]
    },
    {
     "name": "stdout",
     "output_type": "stream",
     "text": [
      ".\n",
      "================\n",
      "finish\n",
      "Output results into 'data/magnetism2/t2.2500775_J-1.0/data.dat'\n"
     ]
    },
    {
     "name": "stderr",
     "output_type": "stream",
     "text": [
      "  obtained data shape: (10, 1)\n"
     ]
    },
    {
     "name": "stdout",
     "output_type": "stream",
     "text": [
      "............................."
     ]
    },
    {
     "name": "stderr",
     "output_type": "stream",
     "text": [
      "\n",
      "================\n",
      "h = 10.0\n",
      "Initializing MC...\n",
      "Warming up...\n"
     ]
    },
    {
     "name": "stdout",
     "output_type": "stream",
     "text": [
      ".\n",
      "================\n",
      "finish\n",
      "Output results into 'data/magnetism2/t2.5000750000000003_J-1.0/data.dat'\n"
     ]
    },
    {
     "name": "stderr",
     "output_type": "stream",
     "text": [
      "  obtained data shape: (10, 1)\n"
     ]
    },
    {
     "name": "stdout",
     "output_type": "stream",
     "text": [
      "............................."
     ]
    },
    {
     "name": "stderr",
     "output_type": "stream",
     "text": [
      "\n",
      "================\n",
      "h = 10.0\n",
      "Initializing MC...\n",
      "Warming up...\n"
     ]
    },
    {
     "name": "stdout",
     "output_type": "stream",
     "text": [
      ".\n",
      "================\n",
      "finish\n",
      "Output results into 'data/magnetism2/t2.7500725000000004_J-1.0/data.dat'\n"
     ]
    },
    {
     "name": "stderr",
     "output_type": "stream",
     "text": [
      "  obtained data shape: (10, 1)\n"
     ]
    },
    {
     "name": "stdout",
     "output_type": "stream",
     "text": [
      "............................."
     ]
    },
    {
     "name": "stderr",
     "output_type": "stream",
     "text": [
      "\n",
      "================\n",
      "h = 10.0\n",
      "Initializing MC...\n",
      "Warming up...\n"
     ]
    },
    {
     "name": "stdout",
     "output_type": "stream",
     "text": [
      ".\n",
      "================\n",
      "finish\n",
      "Output results into 'data/magnetism2/t3.0000700000000005_J-1.0/data.dat'\n"
     ]
    },
    {
     "name": "stderr",
     "output_type": "stream",
     "text": [
      "  obtained data shape: (10, 1)\n"
     ]
    },
    {
     "name": "stdout",
     "output_type": "stream",
     "text": [
      "............................."
     ]
    },
    {
     "name": "stderr",
     "output_type": "stream",
     "text": [
      "\n",
      "================\n",
      "h = 10.0\n",
      "Initializing MC...\n",
      "Warming up...\n"
     ]
    },
    {
     "name": "stdout",
     "output_type": "stream",
     "text": [
      ".\n",
      "================\n",
      "finish\n",
      "Output results into 'data/magnetism2/t3.2500675000000006_J-1.0/data.dat'\n"
     ]
    },
    {
     "name": "stderr",
     "output_type": "stream",
     "text": [
      "  obtained data shape: (10, 1)\n"
     ]
    },
    {
     "name": "stdout",
     "output_type": "stream",
     "text": [
      "............................."
     ]
    },
    {
     "name": "stderr",
     "output_type": "stream",
     "text": [
      "\n",
      "================\n",
      "h = 10.0\n",
      "Initializing MC...\n",
      "Warming up...\n"
     ]
    },
    {
     "name": "stdout",
     "output_type": "stream",
     "text": [
      ".\n",
      "================\n",
      "finish\n",
      "Output results into 'data/magnetism2/t3.500065_J-1.0/data.dat'\n"
     ]
    },
    {
     "name": "stderr",
     "output_type": "stream",
     "text": [
      "  obtained data shape: (10, 1)\n"
     ]
    },
    {
     "name": "stdout",
     "output_type": "stream",
     "text": [
      "............................."
     ]
    },
    {
     "name": "stderr",
     "output_type": "stream",
     "text": [
      "\n",
      "================\n",
      "h = 10.0\n",
      "Initializing MC...\n",
      "Warming up...\n"
     ]
    },
    {
     "name": "stdout",
     "output_type": "stream",
     "text": [
      ".\n",
      "================\n",
      "finish\n",
      "Output results into 'data/magnetism2/t3.7500625000000003_J-1.0/data.dat'\n"
     ]
    },
    {
     "name": "stderr",
     "output_type": "stream",
     "text": [
      "  obtained data shape: (10, 1)\n"
     ]
    },
    {
     "name": "stdout",
     "output_type": "stream",
     "text": [
      "............................."
     ]
    },
    {
     "name": "stderr",
     "output_type": "stream",
     "text": [
      "\n",
      "================\n",
      "h = 10.0\n",
      "Initializing MC...\n",
      "Warming up...\n"
     ]
    },
    {
     "name": "stdout",
     "output_type": "stream",
     "text": [
      ".\n",
      "================\n",
      "finish\n",
      "Output results into 'data/magnetism2/t4.00006_J-1.0/data.dat'\n"
     ]
    },
    {
     "name": "stderr",
     "output_type": "stream",
     "text": [
      "  obtained data shape: (10, 1)\n"
     ]
    },
    {
     "name": "stdout",
     "output_type": "stream",
     "text": [
      "............................."
     ]
    },
    {
     "name": "stderr",
     "output_type": "stream",
     "text": [
      "\n",
      "================\n",
      "h = 10.0\n",
      "Initializing MC...\n",
      "Warming up...\n"
     ]
    },
    {
     "name": "stdout",
     "output_type": "stream",
     "text": [
      ".\n",
      "================\n",
      "finish\n",
      "Output results into 'data/magnetism2/t4.2500575_J-1.0/data.dat'\n"
     ]
    },
    {
     "name": "stderr",
     "output_type": "stream",
     "text": [
      "  obtained data shape: (10, 1)\n"
     ]
    },
    {
     "name": "stdout",
     "output_type": "stream",
     "text": [
      "............................."
     ]
    },
    {
     "name": "stderr",
     "output_type": "stream",
     "text": [
      "\n",
      "================\n",
      "h = 10.0\n",
      "Initializing MC...\n",
      "Warming up...\n"
     ]
    },
    {
     "name": "stdout",
     "output_type": "stream",
     "text": [
      ".\n",
      "================\n",
      "finish\n",
      "Output results into 'data/magnetism2/t4.500055_J-1.0/data.dat'\n"
     ]
    },
    {
     "name": "stderr",
     "output_type": "stream",
     "text": [
      "  obtained data shape: (10, 1)\n"
     ]
    },
    {
     "name": "stdout",
     "output_type": "stream",
     "text": [
      "............................."
     ]
    },
    {
     "name": "stderr",
     "output_type": "stream",
     "text": [
      "\n",
      "================\n",
      "h = 10.0\n",
      "Initializing MC...\n",
      "Warming up...\n"
     ]
    },
    {
     "name": "stdout",
     "output_type": "stream",
     "text": [
      ".\n",
      "================\n",
      "finish\n",
      "Output results into 'data/magnetism2/t4.7500525_J-1.0/data.dat'\n"
     ]
    },
    {
     "name": "stderr",
     "output_type": "stream",
     "text": [
      "  obtained data shape: (10, 1)\n"
     ]
    },
    {
     "name": "stdout",
     "output_type": "stream",
     "text": [
      "............................."
     ]
    },
    {
     "name": "stderr",
     "output_type": "stream",
     "text": [
      "\n",
      "================\n",
      "h = 10.0\n",
      "Initializing MC...\n",
      "Warming up...\n"
     ]
    },
    {
     "name": "stdout",
     "output_type": "stream",
     "text": [
      ".\n",
      "================\n",
      "finish\n",
      "Output results into 'data/magnetism2/t5.00005_J-1.0/data.dat'\n"
     ]
    },
    {
     "name": "stderr",
     "output_type": "stream",
     "text": [
      "  obtained data shape: (10, 1)\n"
     ]
    },
    {
     "name": "stdout",
     "output_type": "stream",
     "text": [
      "............................."
     ]
    },
    {
     "name": "stderr",
     "output_type": "stream",
     "text": [
      "\n",
      "================\n",
      "h = 10.0\n",
      "Initializing MC...\n",
      "Warming up...\n"
     ]
    },
    {
     "name": "stdout",
     "output_type": "stream",
     "text": [
      ".\n",
      "================\n",
      "finish\n",
      "Output results into 'data/magnetism2/t5.2500475_J-1.0/data.dat'\n"
     ]
    },
    {
     "name": "stderr",
     "output_type": "stream",
     "text": [
      "  obtained data shape: (10, 1)\n"
     ]
    },
    {
     "name": "stdout",
     "output_type": "stream",
     "text": [
      "............................."
     ]
    },
    {
     "name": "stderr",
     "output_type": "stream",
     "text": [
      "\n",
      "================\n",
      "h = 10.0\n",
      "Initializing MC...\n",
      "Warming up...\n"
     ]
    },
    {
     "name": "stdout",
     "output_type": "stream",
     "text": [
      ".\n",
      "================\n",
      "finish\n",
      "Output results into 'data/magnetism2/t5.500045_J-1.0/data.dat'\n"
     ]
    },
    {
     "name": "stderr",
     "output_type": "stream",
     "text": [
      "  obtained data shape: (10, 1)\n"
     ]
    },
    {
     "name": "stdout",
     "output_type": "stream",
     "text": [
      "............................."
     ]
    },
    {
     "name": "stderr",
     "output_type": "stream",
     "text": [
      "\n",
      "================\n",
      "h = 10.0\n",
      "Initializing MC...\n",
      "Warming up...\n"
     ]
    },
    {
     "name": "stdout",
     "output_type": "stream",
     "text": [
      ".\n",
      "================\n",
      "finish\n",
      "Output results into 'data/magnetism2/t5.7500425_J-1.0/data.dat'\n"
     ]
    },
    {
     "name": "stderr",
     "output_type": "stream",
     "text": [
      "  obtained data shape: (10, 1)\n"
     ]
    },
    {
     "name": "stdout",
     "output_type": "stream",
     "text": [
      "............................."
     ]
    },
    {
     "name": "stderr",
     "output_type": "stream",
     "text": [
      "\n",
      "================\n",
      "h = 10.0\n",
      "Initializing MC...\n",
      "Warming up...\n"
     ]
    },
    {
     "name": "stdout",
     "output_type": "stream",
     "text": [
      ".\n",
      "================\n",
      "finish\n",
      "Output results into 'data/magnetism2/t6.00004_J-1.0/data.dat'\n"
     ]
    },
    {
     "name": "stderr",
     "output_type": "stream",
     "text": [
      "  obtained data shape: (10, 1)\n"
     ]
    },
    {
     "name": "stdout",
     "output_type": "stream",
     "text": [
      "............................."
     ]
    },
    {
     "name": "stderr",
     "output_type": "stream",
     "text": [
      "\n",
      "================\n",
      "h = 10.0\n",
      "Initializing MC...\n",
      "Warming up...\n"
     ]
    },
    {
     "name": "stdout",
     "output_type": "stream",
     "text": [
      ".\n",
      "================\n",
      "finish\n",
      "Output results into 'data/magnetism2/t6.2500375_J-1.0/data.dat'\n"
     ]
    },
    {
     "name": "stderr",
     "output_type": "stream",
     "text": [
      "  obtained data shape: (10, 1)\n"
     ]
    },
    {
     "name": "stdout",
     "output_type": "stream",
     "text": [
      "............................."
     ]
    },
    {
     "name": "stderr",
     "output_type": "stream",
     "text": [
      "\n",
      "================\n",
      "h = 10.0\n",
      "Initializing MC...\n",
      "Warming up...\n"
     ]
    },
    {
     "name": "stdout",
     "output_type": "stream",
     "text": [
      ".\n",
      "================\n",
      "finish\n",
      "Output results into 'data/magnetism2/t6.5000350000000005_J-1.0/data.dat'\n"
     ]
    },
    {
     "name": "stderr",
     "output_type": "stream",
     "text": [
      "  obtained data shape: (10, 1)\n"
     ]
    },
    {
     "name": "stdout",
     "output_type": "stream",
     "text": [
      "............................."
     ]
    },
    {
     "name": "stderr",
     "output_type": "stream",
     "text": [
      "\n",
      "================\n",
      "h = 10.0\n",
      "Initializing MC...\n",
      "Warming up...\n"
     ]
    },
    {
     "name": "stdout",
     "output_type": "stream",
     "text": [
      ".\n",
      "================\n",
      "finish\n",
      "Output results into 'data/magnetism2/t6.7500325_J-1.0/data.dat'\n"
     ]
    },
    {
     "name": "stderr",
     "output_type": "stream",
     "text": [
      "  obtained data shape: (10, 1)\n"
     ]
    },
    {
     "name": "stdout",
     "output_type": "stream",
     "text": [
      "............................."
     ]
    },
    {
     "name": "stderr",
     "output_type": "stream",
     "text": [
      "\n",
      "================\n",
      "h = 10.0\n",
      "Initializing MC...\n",
      "Warming up...\n"
     ]
    },
    {
     "name": "stdout",
     "output_type": "stream",
     "text": [
      ".\n",
      "================\n",
      "finish\n",
      "Output results into 'data/magnetism2/t7.00003_J-1.0/data.dat'\n"
     ]
    },
    {
     "name": "stderr",
     "output_type": "stream",
     "text": [
      "  obtained data shape: (10, 1)\n"
     ]
    },
    {
     "name": "stdout",
     "output_type": "stream",
     "text": [
      "............................."
     ]
    },
    {
     "name": "stderr",
     "output_type": "stream",
     "text": [
      "\n",
      "================\n",
      "h = 10.0\n",
      "Initializing MC...\n",
      "Warming up...\n"
     ]
    },
    {
     "name": "stdout",
     "output_type": "stream",
     "text": [
      ".\n",
      "================\n",
      "finish\n",
      "Output results into 'data/magnetism2/t7.2500275_J-1.0/data.dat'\n"
     ]
    },
    {
     "name": "stderr",
     "output_type": "stream",
     "text": [
      "  obtained data shape: (10, 1)\n"
     ]
    },
    {
     "name": "stdout",
     "output_type": "stream",
     "text": [
      "............................."
     ]
    },
    {
     "name": "stderr",
     "output_type": "stream",
     "text": [
      "\n",
      "================\n",
      "h = 10.0\n",
      "Initializing MC...\n",
      "Warming up...\n"
     ]
    },
    {
     "name": "stdout",
     "output_type": "stream",
     "text": [
      ".\n",
      "================\n",
      "finish\n",
      "Output results into 'data/magnetism2/t7.500025_J-1.0/data.dat'\n"
     ]
    },
    {
     "name": "stderr",
     "output_type": "stream",
     "text": [
      "  obtained data shape: (10, 1)\n"
     ]
    },
    {
     "name": "stdout",
     "output_type": "stream",
     "text": [
      "............................."
     ]
    },
    {
     "name": "stderr",
     "output_type": "stream",
     "text": [
      "\n",
      "================\n",
      "h = 10.0\n",
      "Initializing MC...\n",
      "Warming up...\n"
     ]
    },
    {
     "name": "stdout",
     "output_type": "stream",
     "text": [
      ".\n",
      "================\n",
      "finish\n",
      "Output results into 'data/magnetism2/t7.7500225_J-1.0/data.dat'\n"
     ]
    },
    {
     "name": "stderr",
     "output_type": "stream",
     "text": [
      "  obtained data shape: (10, 1)\n"
     ]
    },
    {
     "name": "stdout",
     "output_type": "stream",
     "text": [
      "............................."
     ]
    },
    {
     "name": "stderr",
     "output_type": "stream",
     "text": [
      "\n",
      "================\n",
      "h = 10.0\n",
      "Initializing MC...\n",
      "Warming up...\n"
     ]
    },
    {
     "name": "stdout",
     "output_type": "stream",
     "text": [
      ".\n",
      "================\n",
      "finish\n",
      "Output results into 'data/magnetism2/t8.000020000000001_J-1.0/data.dat'\n"
     ]
    },
    {
     "name": "stderr",
     "output_type": "stream",
     "text": [
      "  obtained data shape: (10, 1)\n"
     ]
    },
    {
     "name": "stdout",
     "output_type": "stream",
     "text": [
      "............................."
     ]
    },
    {
     "name": "stderr",
     "output_type": "stream",
     "text": [
      "\n",
      "================\n",
      "h = 10.0\n",
      "Initializing MC...\n",
      "Warming up...\n"
     ]
    },
    {
     "name": "stdout",
     "output_type": "stream",
     "text": [
      ".\n",
      "================\n",
      "finish\n",
      "Output results into 'data/magnetism2/t8.2500175_J-1.0/data.dat'\n"
     ]
    },
    {
     "name": "stderr",
     "output_type": "stream",
     "text": [
      "  obtained data shape: (10, 1)\n"
     ]
    },
    {
     "name": "stdout",
     "output_type": "stream",
     "text": [
      "............................."
     ]
    },
    {
     "name": "stderr",
     "output_type": "stream",
     "text": [
      "\n",
      "================\n",
      "h = 10.0\n",
      "Initializing MC...\n",
      "Warming up...\n"
     ]
    },
    {
     "name": "stdout",
     "output_type": "stream",
     "text": [
      ".\n",
      "================\n",
      "finish\n",
      "Output results into 'data/magnetism2/t8.500015_J-1.0/data.dat'\n"
     ]
    },
    {
     "name": "stderr",
     "output_type": "stream",
     "text": [
      "  obtained data shape: (10, 1)\n"
     ]
    },
    {
     "name": "stdout",
     "output_type": "stream",
     "text": [
      "............................."
     ]
    },
    {
     "name": "stderr",
     "output_type": "stream",
     "text": [
      "\n",
      "================\n",
      "h = 10.0\n",
      "Initializing MC...\n",
      "Warming up...\n"
     ]
    },
    {
     "name": "stdout",
     "output_type": "stream",
     "text": [
      ".\n",
      "================\n",
      "finish\n",
      "Output results into 'data/magnetism2/t8.7500125_J-1.0/data.dat'\n"
     ]
    },
    {
     "name": "stderr",
     "output_type": "stream",
     "text": [
      "  obtained data shape: (10, 1)\n"
     ]
    },
    {
     "name": "stdout",
     "output_type": "stream",
     "text": [
      "............................."
     ]
    },
    {
     "name": "stderr",
     "output_type": "stream",
     "text": [
      "\n",
      "================\n",
      "h = 10.0\n",
      "Initializing MC...\n",
      "Warming up...\n"
     ]
    },
    {
     "name": "stdout",
     "output_type": "stream",
     "text": [
      ".\n",
      "================\n",
      "finish\n",
      "Output results into 'data/magnetism2/t9.00001_J-1.0/data.dat'\n"
     ]
    },
    {
     "name": "stderr",
     "output_type": "stream",
     "text": [
      "  obtained data shape: (10, 1)\n"
     ]
    },
    {
     "name": "stdout",
     "output_type": "stream",
     "text": [
      "............................."
     ]
    },
    {
     "name": "stderr",
     "output_type": "stream",
     "text": [
      "\n",
      "================\n",
      "h = 10.0\n",
      "Initializing MC...\n",
      "Warming up...\n"
     ]
    },
    {
     "name": "stdout",
     "output_type": "stream",
     "text": [
      ".\n",
      "================\n",
      "finish\n",
      "Output results into 'data/magnetism2/t9.2500075_J-1.0/data.dat'\n"
     ]
    },
    {
     "name": "stderr",
     "output_type": "stream",
     "text": [
      "  obtained data shape: (10, 1)\n"
     ]
    },
    {
     "name": "stdout",
     "output_type": "stream",
     "text": [
      "............................."
     ]
    },
    {
     "name": "stderr",
     "output_type": "stream",
     "text": [
      "\n",
      "================\n",
      "h = 10.0\n",
      "Initializing MC...\n",
      "Warming up...\n"
     ]
    },
    {
     "name": "stdout",
     "output_type": "stream",
     "text": [
      ".\n",
      "================\n",
      "finish\n",
      "Output results into 'data/magnetism2/t9.500005_J-1.0/data.dat'\n"
     ]
    },
    {
     "name": "stderr",
     "output_type": "stream",
     "text": [
      "  obtained data shape: (10, 1)\n"
     ]
    },
    {
     "name": "stdout",
     "output_type": "stream",
     "text": [
      "............................."
     ]
    },
    {
     "name": "stderr",
     "output_type": "stream",
     "text": [
      "\n",
      "================\n",
      "h = 10.0\n",
      "Initializing MC...\n",
      "Warming up...\n"
     ]
    },
    {
     "name": "stdout",
     "output_type": "stream",
     "text": [
      ".\n",
      "================\n",
      "finish\n",
      "Output results into 'data/magnetism2/t9.7500025_J-1.0/data.dat'\n"
     ]
    },
    {
     "name": "stderr",
     "output_type": "stream",
     "text": [
      "  obtained data shape: (10, 1)\n"
     ]
    },
    {
     "name": "stdout",
     "output_type": "stream",
     "text": [
      "..............................\n",
      "================\n",
      "finish\n",
      "Output results into 'data/magnetism2/t10.0_J-1.0/data.dat'\n"
     ]
    }
   ],
   "source": [
    "J = np.linspace(1, -1, 21)\n",
    "T = np.linspace(0.0001, 10, 41)\n",
    "\n",
    "for j in J:\n",
    "    for t in T:\n",
    "        folder = Path(f\"./data/magnetism2/t{t}_J{j}/\")\n",
    "        os.makedirs(folder, exist_ok=True)\n",
    "        file = str(folder / \"data\")\n",
    "        param = {\n",
    "            \"system\": (3, 3, 3), \n",
    "            \"filename\": f\"{file}.dat\", \n",
    "            \"nh\": 30, \n",
    "            \"h_max\": 10., \n",
    "            \"h_min\": -3.,\n",
    "            \"t\": t,\n",
    "            \"J\": j\n",
    "            }\n",
    "        magnetic(**param)\n",
    "        mc_plot_m(f\"{file}.dat\", f\"{file}.pdf\")\n",
    "        plt.close()"
   ]
  }
 ],
 "metadata": {
  "kernelspec": {
   "display_name": "Python 3",
   "language": "python",
   "name": "python3"
  },
  "language_info": {
   "codemirror_mode": {
    "name": "ipython",
    "version": 3
   },
   "file_extension": ".py",
   "mimetype": "text/x-python",
   "name": "python",
   "nbconvert_exporter": "python",
   "pygments_lexer": "ipython3",
   "version": "3.10.8"
  },
  "orig_nbformat": 4,
  "vscode": {
   "interpreter": {
    "hash": "e7370f93d1d0cde622a1f8e1c04877d8463912d04d973331ad4851f04de6915a"
   }
  }
 },
 "nbformat": 4,
 "nbformat_minor": 2
}
